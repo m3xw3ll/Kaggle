{
 "cells": [
  {
   "cell_type": "markdown",
   "id": "7314db45",
   "metadata": {
    "_cell_guid": "b1076dfc-b9ad-4769-8c92-a6c4dae69d19",
    "_uuid": "8f2839f25d086af736a60e9eeb907d3b93b6e0e5",
    "papermill": {
     "duration": 0.008075,
     "end_time": "2025-04-19T17:36:36.155198",
     "exception": false,
     "start_time": "2025-04-19T17:36:36.147123",
     "status": "completed"
    },
    "tags": []
   },
   "source": [
    "# Introduction\n",
    "\n",
    "The history of mazes is a fascinating journey through mythology, art, and human curiosity. While often confused with labyrinths, mazes are distinct in having branching paths, choices, and dead ends—designed to challenge and confuse. Their origins can be traced to the mythical Labyrinth of ancient Crete, built by Daedalus to imprison the Minotaur, though that was technically a labyrinth. True mazes as puzzles emerged more prominently in the Renaissance, particularly in the grand gardens of European nobility, where hedge mazes became fashionable amusements symbolizing power and intellect. The famous Hampton Court Maze in England, created around 1700, is a classic example. In modern times, mazes have expanded into the realms of mathematics, computer science, and psychology—used in studies of problem-solving, AI, and human behavior. Whether crafted from hedges, printed on paper, or rendered in code, mazes continue to captivate as both playful puzzles and metaphors for life's complexities."
   ]
  },
  {
   "cell_type": "markdown",
   "id": "306c4f52",
   "metadata": {
    "papermill": {
     "duration": 0.007521,
     "end_time": "2025-04-19T17:36:36.169785",
     "exception": false,
     "start_time": "2025-04-19T17:36:36.162264",
     "status": "completed"
    },
    "tags": []
   },
   "source": [
    "# Shortest Path Algorithms\n",
    "Shortest path algorithms are fundamental tools in computer science and artificial intelligence, used to determine the most efficient way to move from a starting point to a destination within a structured space like a maze. These algorithms evaluate possible paths based on specific criteria—such as distance, cost, or number of steps—to identify the optimal route. In maze-solving, they are particularly valuable because mazes provide a clear and visual environment for testing algorithmic logic and performance.\n",
    "\n",
    "Some of the most well-known algorithms used to solve mazes include **Dijkstra’s algorithm**, **(A-star)**, **Breadth-First Search (BFS)**, **Depth-First Search (DFS)**, **Bellman-Ford**, **Greedy Best-First Search**, and **Bidirectional Search**.\n",
    "\n",
    "In this notebook we will use some of those algorithms to quickly solve a maze."
   ]
  },
  {
   "cell_type": "markdown",
   "id": "c0a6e886",
   "metadata": {
    "papermill": {
     "duration": 0.006374,
     "end_time": "2025-04-19T17:36:36.182751",
     "exception": false,
     "start_time": "2025-04-19T17:36:36.176377",
     "status": "completed"
    },
    "tags": []
   },
   "source": [
    "# Visualize the unsolved maze\n",
    "Which maze we should choose? The dataset contains **perfect** and **imperfect** mazes. What´s the difference?\n",
    "\n",
    "A perfect maze is a maze in which there is exactly one unique path between any two points — it is essentially a spanning tree over a grid, containing no loops or cycles and ensuring full connectivity without ambiguity. In contrast, an imperfect maze introduces complexity by allowing multiple paths between locations; this is achieved by adding loops or redundant connections, which create cycles in the maze. The distinction is crucial when applying shortest path algorithms: in a perfect maze, all algorithms like BFS, Dijkstra, and A* will typically return the same result, because there is only one possible path — which is by default also the shortest. However, in an imperfect maze, the presence of multiple routes introduces the possibility of both longer and shorter paths between points. This variability is essential for realistically evaluating and comparing the performance of shortest path algorithms, as they are designed to explore trade-offs and select the optimal path based on different strategies (e.g., cost, heuristic, or traversal order). Without such complexity, these algorithms cannot demonstrate their strengths or differences in behavior.\n",
    "\n",
    "\n",
    "Let´s choose an unsolved imperfect maze and visulize it. Each maze is a grid where **\"1\"s** \n",
    "represents walls and **\"0\"s** cells. \n",
    "\n",
    "**Note:** For all mazes, the entrypoint is in the upper left corner and the exit in the lower right. "
   ]
  },
  {
   "cell_type": "code",
   "execution_count": 1,
   "id": "df9608c5",
   "metadata": {
    "execution": {
     "iopub.execute_input": "2025-04-19T17:36:36.197556Z",
     "iopub.status.busy": "2025-04-19T17:36:36.197128Z",
     "iopub.status.idle": "2025-04-19T17:36:36.219438Z",
     "shell.execute_reply": "2025-04-19T17:36:36.217892Z"
    },
    "papermill": {
     "duration": 0.032117,
     "end_time": "2025-04-19T17:36:36.221481",
     "exception": false,
     "start_time": "2025-04-19T17:36:36.189364",
     "status": "completed"
    },
    "tags": []
   },
   "outputs": [
    {
     "name": "stdout",
     "output_type": "stream",
     "text": [
      "[[1 1 1 ... 1 1 1]\n",
      " [0 0 0 ... 0 0 1]\n",
      " [1 1 1 ... 1 0 1]\n",
      " ...\n",
      " [1 0 0 ... 1 0 1]\n",
      " [1 0 0 ... 0 0 0]\n",
      " [1 1 1 ... 1 1 1]]\n"
     ]
    }
   ],
   "source": [
    "import numpy as np\n",
    "\n",
    "array = np.loadtxt('/kaggle/input/maze-dataset/imperfect_maze/maze0_dim52.txt', dtype=int)\n",
    "print(array)"
   ]
  },
  {
   "cell_type": "code",
   "execution_count": 2,
   "id": "a6c52e64",
   "metadata": {
    "execution": {
     "iopub.execute_input": "2025-04-19T17:36:36.236816Z",
     "iopub.status.busy": "2025-04-19T17:36:36.236483Z",
     "iopub.status.idle": "2025-04-19T17:36:36.243221Z",
     "shell.execute_reply": "2025-04-19T17:36:36.242391Z"
    },
    "papermill": {
     "duration": 0.016441,
     "end_time": "2025-04-19T17:36:36.245018",
     "exception": false,
     "start_time": "2025-04-19T17:36:36.228577",
     "status": "completed"
    },
    "tags": []
   },
   "outputs": [],
   "source": [
    "import matplotlib.pyplot as plt\n",
    "\n",
    "def draw_maze(maze, path=None):\n",
    "    fig, ax = plt.subplots(figsize=(10,10))\n",
    "    \n",
    "    # Set the border color to white\n",
    "    fig.patch.set_edgecolor('white')\n",
    "    fig.patch.set_linewidth(0)\n",
    "\n",
    "    ax.imshow(maze, cmap=plt.cm.binary, interpolation='nearest')\n",
    "    \n",
    "    # Draw the solution path if it exists\n",
    "    if path is not None:\n",
    "        x_coords = [x[1] for x in path]\n",
    "        y_coords = [y[0] for y in path]\n",
    "        ax.plot(x_coords, y_coords, color='red', linewidth=2)\n",
    "    \n",
    "    ax.set_xticks([])\n",
    "    ax.set_yticks([])    \n",
    "    plt.show()"
   ]
  },
  {
   "cell_type": "code",
   "execution_count": 3,
   "id": "f0948c89",
   "metadata": {
    "execution": {
     "iopub.execute_input": "2025-04-19T17:36:36.260628Z",
     "iopub.status.busy": "2025-04-19T17:36:36.260294Z",
     "iopub.status.idle": "2025-04-19T17:36:36.550260Z",
     "shell.execute_reply": "2025-04-19T17:36:36.549390Z"
    },
    "papermill": {
     "duration": 0.29979,
     "end_time": "2025-04-19T17:36:36.551983",
     "exception": false,
     "start_time": "2025-04-19T17:36:36.252193",
     "status": "completed"
    },
    "tags": []
   },
   "outputs": [
    {
     "data": {
      "image/png": "[encoded data removed]",
      "text/plain": [
       "<Figure size 1000x1000 with 1 Axes>"
      ]
     },
     "metadata": {},
     "output_type": "display_data"
    }
   ],
   "source": [
    "draw_maze(array)"
   ]
  },
  {
   "cell_type": "markdown",
   "id": "8ccd6b7e",
   "metadata": {
    "papermill": {
     "duration": 0.006819,
     "end_time": "2025-04-19T17:36:36.566223",
     "exception": false,
     "start_time": "2025-04-19T17:36:36.559404",
     "status": "completed"
    },
    "tags": []
   },
   "source": [
    "# DFS (Depth-First Search)\n",
    "Depth-First Search (DFS) is a fundamental algorithm used to traverse or search through structures like graphs and trees, and it can be effectively applied to solve mazes. The core idea behind DFS is to start at a given point—in the case of a maze, typically the entrance—and explore as far as possible along one path before backtracking. This means DFS goes “deep” into one direction until it can’t go further, either because it hits a wall, a visited cell, or reaches the edge of the maze. At that point, it backtracks to the previous step and tries a different direction. This process continues until the algorithm either finds the exit or exhausts all possible paths.\n",
    "\n",
    "In a maze modeled as a 2D grid, each cell represents a node and the open paths between them are edges. DFS can be implemented recursively or with a stack, and it involves marking each visited cell to avoid revisiting and getting caught in loops. The algorithm explores in one direction (up, down, left, or right), recursively diving into paths until it finds the goal or determines that a dead-end has been reached. Although DFS is not guaranteed to find the shortest path to the exit, it is a relatively simple and memory-efficient approach—especially in recursive form—since it only keeps track of the current path being explored.\n",
    "\n",
    "There are several advantages to using DFS for solving mazes. It is easy to implement, requires minimal memory, and is often fast when the path to the goal is deep rather than broad. Additionally, it's straightforward to adapt DFS to record the actual path taken to the goal. However, DFS also comes with some limitations. It does not guarantee the shortest path, can spend a lot of time exploring deep dead-ends, and may risk stack overflow in very large or complex mazes if implemented recursively. Also, without careful handling (such as maintaining a visited set), DFS might waste time revisiting the same nodes."
   ]
  },
  {
   "cell_type": "markdown",
   "id": "ea95d357",
   "metadata": {
    "papermill": {
     "duration": 0.006881,
     "end_time": "2025-04-19T17:36:36.580211",
     "exception": false,
     "start_time": "2025-04-19T17:36:36.573330",
     "status": "completed"
    },
    "tags": []
   },
   "source": [
    "## Implementation"
   ]
  },
  {
   "cell_type": "code",
   "execution_count": 4,
   "id": "524036f1",
   "metadata": {
    "execution": {
     "iopub.execute_input": "2025-04-19T17:36:36.595988Z",
     "iopub.status.busy": "2025-04-19T17:36:36.595666Z",
     "iopub.status.idle": "2025-04-19T17:36:36.603371Z",
     "shell.execute_reply": "2025-04-19T17:36:36.602531Z"
    },
    "papermill": {
     "duration": 0.017432,
     "end_time": "2025-04-19T17:36:36.604938",
     "exception": false,
     "start_time": "2025-04-19T17:36:36.587506",
     "status": "completed"
    },
    "tags": []
   },
   "outputs": [],
   "source": [
    "def dfs_maze_solver(maze, start, goal):\n",
    "    rows, cols = len(maze), len(maze[0])\n",
    "    visited = [[False] * cols for _ in range(rows)]\n",
    "    path = []\n",
    "\n",
    "    def in_bounds(x, y):\n",
    "        return 0 <= x < rows and 0 <= y < cols\n",
    "\n",
    "    \n",
    "    def dfs(x, y):\n",
    "        if not in_bounds(x, y) or maze[x][y] == 1 or visited[x][y]:\n",
    "            return False\n",
    "\n",
    "        visited[x][y] = True\n",
    "        path.append((x, y))\n",
    "\n",
    "        if (x, y) == goal:\n",
    "            return True\n",
    "        for dx, dy in [(-1,0), (1,0), (0,-1), (0,1)]:\n",
    "            if dfs(x + dx, y + dy):\n",
    "                return True\n",
    "        path.pop()\n",
    "        return False\n",
    "\n",
    "    if dfs(*start):\n",
    "        return path  # Successful path\n",
    "    else:\n",
    "        return None  # No path found"
   ]
  },
  {
   "cell_type": "markdown",
   "id": "a70bf21c",
   "metadata": {
    "papermill": {
     "duration": 0.007215,
     "end_time": "2025-04-19T17:36:36.619296",
     "exception": false,
     "start_time": "2025-04-19T17:36:36.612081",
     "status": "completed"
    },
    "tags": []
   },
   "source": [
    "The function `dfs_maze_solver` takes the maze, the start coordinate, and the goal coordinate as input. It initializes a `visited` matrix of the same size as the maze to keep track of which cells have already been explored, and a path list to store the sequence of cells from the start to the goal.\n",
    "\n",
    "Inside the function, a helper method `in_bounds` ensures that any cell being accessed is within the maze boundaries. The core of the search is handled by the nested `dfs` function, which performs the recursive depth-first search. It first checks whether the current cell is within bounds, not a wall, and not already visited. If the current cell is the goal or exitpoint, it returns True, indicating that the path has been found. Otherwise, it marks the cell as visited, adds it to the path, and recursively explores the four possible directions (up, down, left, right). If a direction leads to a successful path, the function returns True. If none of the directions work, it backtracks by removing the current cell from the path and continues searching."
   ]
  },
  {
   "cell_type": "code",
   "execution_count": 5,
   "id": "6dc4780c",
   "metadata": {
    "execution": {
     "iopub.execute_input": "2025-04-19T17:36:36.635585Z",
     "iopub.status.busy": "2025-04-19T17:36:36.635220Z",
     "iopub.status.idle": "2025-04-19T17:36:36.659418Z",
     "shell.execute_reply": "2025-04-19T17:36:36.658298Z"
    },
    "papermill": {
     "duration": 0.034746,
     "end_time": "2025-04-19T17:36:36.661279",
     "exception": false,
     "start_time": "2025-04-19T17:36:36.626533",
     "status": "completed"
    },
    "tags": []
   },
   "outputs": [],
   "source": [
    "start = (1, 1)  # We start in the upper left corner\n",
    "end = (array.shape[0]-2, array.shape[1]-2)  # The exit is in the lower right corner\n",
    "\n",
    "recursive_path = dfs_maze_solver(array, start, end)"
   ]
  },
  {
   "cell_type": "markdown",
   "id": "4c2d59b5",
   "metadata": {
    "papermill": {
     "duration": 0.007002,
     "end_time": "2025-04-19T17:36:36.675797",
     "exception": false,
     "start_time": "2025-04-19T17:36:36.668795",
     "status": "completed"
    },
    "tags": []
   },
   "source": [
    "Of course we can create an iterative DFS. "
   ]
  },
  {
   "cell_type": "code",
   "execution_count": 6,
   "id": "176433f5",
   "metadata": {
    "execution": {
     "iopub.execute_input": "2025-04-19T17:36:36.692029Z",
     "iopub.status.busy": "2025-04-19T17:36:36.691392Z",
     "iopub.status.idle": "2025-04-19T17:36:36.699492Z",
     "shell.execute_reply": "2025-04-19T17:36:36.698542Z"
    },
    "papermill": {
     "duration": 0.018201,
     "end_time": "2025-04-19T17:36:36.701249",
     "exception": false,
     "start_time": "2025-04-19T17:36:36.683048",
     "status": "completed"
    },
    "tags": []
   },
   "outputs": [],
   "source": [
    "def dfs_maze_solver_iterative(maze, start, goal):\n",
    "    rows, cols = len(maze), len(maze[0])\n",
    "    visited = [[False for _ in range(cols)] for _ in range(rows)]\n",
    "    stack = [(start, [start])]  # stack holds tuples of (current_cell, path_so_far)\n",
    "\n",
    "    def in_bounds(x, y):\n",
    "        return 0 <= x < rows and 0 <= y < cols\n",
    "\n",
    "    while stack:\n",
    "        (x, y), path = stack.pop()\n",
    "\n",
    "        if not in_bounds(x, y) or maze[x][y] == 1 or visited[x][y]:\n",
    "            continue\n",
    "\n",
    "        visited[x][y] = True\n",
    "\n",
    "        if (x, y) == goal:\n",
    "            return path  # Found the goal\n",
    "\n",
    "        # Explore directions: up, down, left, right\n",
    "        for dx, dy in [(-1, 0), (1, 0), (0, -1), (0, 1)]:\n",
    "            nx, ny = x + dx, y + dy\n",
    "            if in_bounds(nx, ny) and not visited[nx][ny] and maze[nx][ny] == 0:\n",
    "                stack.append(((nx, ny), path + [(nx, ny)]))\n",
    "\n",
    "    return None"
   ]
  },
  {
   "cell_type": "code",
   "execution_count": 7,
   "id": "1998ff9d",
   "metadata": {
    "execution": {
     "iopub.execute_input": "2025-04-19T17:36:36.717111Z",
     "iopub.status.busy": "2025-04-19T17:36:36.716789Z",
     "iopub.status.idle": "2025-04-19T17:36:36.723603Z",
     "shell.execute_reply": "2025-04-19T17:36:36.722694Z"
    },
    "papermill": {
     "duration": 0.016911,
     "end_time": "2025-04-19T17:36:36.725336",
     "exception": false,
     "start_time": "2025-04-19T17:36:36.708425",
     "status": "completed"
    },
    "tags": []
   },
   "outputs": [],
   "source": [
    "iterative_path = dfs_maze_solver_iterative(array, start, end)"
   ]
  },
  {
   "cell_type": "code",
   "execution_count": 8,
   "id": "3e4bddc0",
   "metadata": {
    "execution": {
     "iopub.execute_input": "2025-04-19T17:36:36.741488Z",
     "iopub.status.busy": "2025-04-19T17:36:36.741113Z",
     "iopub.status.idle": "2025-04-19T17:36:36.908748Z",
     "shell.execute_reply": "2025-04-19T17:36:36.907513Z"
    },
    "papermill": {
     "duration": 0.177603,
     "end_time": "2025-04-19T17:36:36.910343",
     "exception": false,
     "start_time": "2025-04-19T17:36:36.732740",
     "status": "completed"
    },
    "tags": []
   },
   "outputs": [
    {
     "data": {
      "image/png": "[encoded data removed]",
      "text/plain": [
       "<Figure size 1000x1000 with 1 Axes>"
      ]
     },
     "metadata": {},
     "output_type": "display_data"
    }
   ],
   "source": [
    "draw_maze(array, path=iterative_path)"
   ]
  },
  {
   "cell_type": "code",
   "execution_count": 9,
   "id": "6219f8a5",
   "metadata": {
    "execution": {
     "iopub.execute_input": "2025-04-19T17:36:36.926957Z",
     "iopub.status.busy": "2025-04-19T17:36:36.926652Z",
     "iopub.status.idle": "2025-04-19T17:36:36.932257Z",
     "shell.execute_reply": "2025-04-19T17:36:36.930901Z"
    },
    "papermill": {
     "duration": 0.015679,
     "end_time": "2025-04-19T17:36:36.933742",
     "exception": false,
     "start_time": "2025-04-19T17:36:36.918063",
     "status": "completed"
    },
    "tags": []
   },
   "outputs": [
    {
     "name": "stdout",
     "output_type": "stream",
     "text": [
      "Path-Length: 393\n"
     ]
    }
   ],
   "source": [
    "print(f'Path-Length: {len(iterative_path)}')"
   ]
  },
  {
   "cell_type": "markdown",
   "id": "5a3b226d",
   "metadata": {
    "papermill": {
     "duration": 0.007287,
     "end_time": "2025-04-19T17:36:36.948655",
     "exception": false,
     "start_time": "2025-04-19T17:36:36.941368",
     "status": "completed"
    },
    "tags": []
   },
   "source": [
    "## Conclusion\n",
    "\n",
    "Depth-First Search (DFS) is a classic and elegant algorithm that works well for exploring paths in mazes. It's particularly valued for its simplicity and efficiency in memory usage. Whether implemented recursively or with a stack, DFS dives deep into one path before trying alternatives, which can quickly lead to a solution in some maze layouts.\n",
    "\n",
    "However, DFS doesn't always guarantee the shortest path, and it can be inefficient in mazes with many long, misleading branches often going deep into dead-ends before backtracking. In large or complex mazes, a recursive DFS may also run into stack overflow issues, making the iterative version more robust.\n",
    "\n",
    "**✅ Pros:**\n",
    "- Simple to implement (recursive or iterative)\n",
    "- Uses less memory than breadth-first search\n",
    "- Quickly finds a path in many cases\n",
    "- Can be modified to record and return the full path\n",
    "\n",
    "**❌ Cons:**\n",
    "- Doesn't guarantee the shortest path\n",
    "- Can waste time exploring deep dead-ends\n",
    "- Recursive version can hit stack limits in large mazes\n",
    "- Needs careful handling of visited cells to avoid loops"
   ]
  },
  {
   "cell_type": "markdown",
   "id": "df2ef012",
   "metadata": {
    "papermill": {
     "duration": 0.007619,
     "end_time": "2025-04-19T17:36:36.963790",
     "exception": false,
     "start_time": "2025-04-19T17:36:36.956171",
     "status": "completed"
    },
    "tags": []
   },
   "source": [
    "# BFS (Breadth-First Search)\n",
    "Breadth-First Search (BFS) is a graph traversal algorithm that is particularly well-suited for solving mazes when the goal is to find the shortest possible path from a starting point to a destination. Unlike Depth-First Search (DFS), which explores one path deeply before trying others, BFS explores all neighboring cells level-by-level. It uses a queue to manage the order of exploration, ensuring that the closest unvisited cells are always processed first. Starting from the entry point, BFS adds each walkable, unvisited neighbor to the queue and marks them as visited to prevent loops. Each cell in the queue is also associated with the path taken to reach it, so when the goal is eventually found, BFS can return the exact sequence of steps from start to finish. The main advantage of BFS is that it always finds the shortest path in an unweighted maze. However, it can be memory-intensive, especially in wide or open mazes, because it needs to track all possible frontiers at each level. Still, BFS is a robust and reliable choice when path optimality is important or when the maze has multiple branching paths that need to be evaluated evenly."
   ]
  },
  {
   "cell_type": "markdown",
   "id": "147651e4",
   "metadata": {
    "papermill": {
     "duration": 0.007171,
     "end_time": "2025-04-19T17:36:36.978325",
     "exception": false,
     "start_time": "2025-04-19T17:36:36.971154",
     "status": "completed"
    },
    "tags": []
   },
   "source": [
    "## Implementation"
   ]
  },
  {
   "cell_type": "code",
   "execution_count": 10,
   "id": "3163beb7",
   "metadata": {
    "execution": {
     "iopub.execute_input": "2025-04-19T17:36:36.994477Z",
     "iopub.status.busy": "2025-04-19T17:36:36.994150Z",
     "iopub.status.idle": "2025-04-19T17:36:37.003067Z",
     "shell.execute_reply": "2025-04-19T17:36:37.002070Z"
    },
    "papermill": {
     "duration": 0.019226,
     "end_time": "2025-04-19T17:36:37.004814",
     "exception": false,
     "start_time": "2025-04-19T17:36:36.985588",
     "status": "completed"
    },
    "tags": []
   },
   "outputs": [],
   "source": [
    "from collections import deque\n",
    "\n",
    "def bfs_maze_solver(maze, start, goal):\n",
    "    rows, cols = len(maze), len(maze[0])\n",
    "    visited = [[False for _ in range(cols)] for _ in range(rows)]\n",
    "    queue = deque([(start, [start])])  # queue holds (cell, path_so_far)\n",
    "\n",
    "    def in_bounds(x, y):\n",
    "        return 0 <= x < rows and 0 <= y < cols\n",
    "\n",
    "    while queue:\n",
    "        (x, y), path = queue.popleft()\n",
    "\n",
    "        if not in_bounds(x, y) or maze[x][y] == 1 or visited[x][y]:\n",
    "            continue\n",
    "\n",
    "        visited[x][y] = True\n",
    "\n",
    "        if (x, y) == goal:\n",
    "            return path\n",
    "\n",
    "        for dx, dy in [(-1, 0), (1, 0), (0, -1), (0, 1)]:\n",
    "            nx, ny = x + dx, y + dy\n",
    "            if in_bounds(nx, ny) and not visited[nx][ny] and maze[nx][ny] == 0:\n",
    "                queue.append(((nx, ny), path + [(nx, ny)]))\n",
    "\n",
    "    return None"
   ]
  },
  {
   "cell_type": "markdown",
   "id": "ad0c25c9",
   "metadata": {
    "papermill": {
     "duration": 0.007986,
     "end_time": "2025-04-19T17:36:37.021107",
     "exception": false,
     "start_time": "2025-04-19T17:36:37.013121",
     "status": "completed"
    },
    "tags": []
   },
   "source": [
    "The BFS maze solver code uses an iterative approach with a queue to explore the maze level by level. The function `bfs_maze_solver` takes three inputs: the maze (a 2D grid where 0 indicates walkable paths and 1 represents walls), a starting coordinate, and a goal coordinate. It initializes a `visited` matrix to keep track of already-explored cells and a queue using deque. Each entry in the queue is a tuple containing the current cell position and the path taken to reach it. The algorithm enters a loop where it dequeues the first item, checks if the current position is within the maze bounds, not a wall, and not previously visited. If it’s valid, the cell is marked as visited. If the current cell is the goal, the function immediately returns the full path. Otherwise, it looks in all four directions (up, down, left, right), and for each unvisited, walkable neighbor, it appends a new tuple to the queue with the neighbor’s position and the updated path. This process continues until either the goal is found—ensuring it’s the shortest path due to BFS’s nature—or the queue is empty, in which case no valid path exists. This implementation guarantees optimal pathfinding and is structured to avoid infinite loops and unnecessary processing."
   ]
  },
  {
   "cell_type": "code",
   "execution_count": 11,
   "id": "0260ae01",
   "metadata": {
    "execution": {
     "iopub.execute_input": "2025-04-19T17:36:37.038544Z",
     "iopub.status.busy": "2025-04-19T17:36:37.038191Z",
     "iopub.status.idle": "2025-04-19T17:36:37.239407Z",
     "shell.execute_reply": "2025-04-19T17:36:37.238416Z"
    },
    "papermill": {
     "duration": 0.211713,
     "end_time": "2025-04-19T17:36:37.241236",
     "exception": false,
     "start_time": "2025-04-19T17:36:37.029523",
     "status": "completed"
    },
    "tags": []
   },
   "outputs": [
    {
     "data": {
      "image/png": "[encoded data removed]",
      "text/plain": [
       "<Figure size 1000x1000 with 1 Axes>"
      ]
     },
     "metadata": {},
     "output_type": "display_data"
    }
   ],
   "source": [
    "shortest_path = bfs_maze_solver(array, start, end)\n",
    "draw_maze(array, path=shortest_path)"
   ]
  },
  {
   "cell_type": "code",
   "execution_count": 12,
   "id": "64fdac29",
   "metadata": {
    "execution": {
     "iopub.execute_input": "2025-04-19T17:36:37.340077Z",
     "iopub.status.busy": "2025-04-19T17:36:37.339734Z",
     "iopub.status.idle": "2025-04-19T17:36:37.345265Z",
     "shell.execute_reply": "2025-04-19T17:36:37.343946Z"
    },
    "papermill": {
     "duration": 0.098968,
     "end_time": "2025-04-19T17:36:37.348165",
     "exception": false,
     "start_time": "2025-04-19T17:36:37.249197",
     "status": "completed"
    },
    "tags": []
   },
   "outputs": [
    {
     "name": "stdout",
     "output_type": "stream",
     "text": [
      "Path-Length: 227\n"
     ]
    }
   ],
   "source": [
    "print(f'Path-Length: {len(shortest_path)}')"
   ]
  },
  {
   "cell_type": "markdown",
   "id": "d8701b28",
   "metadata": {
    "papermill": {
     "duration": 0.016061,
     "end_time": "2025-04-19T17:36:37.382600",
     "exception": false,
     "start_time": "2025-04-19T17:36:37.366539",
     "status": "completed"
    },
    "tags": []
   },
   "source": [
    "Compared to the path-length of the DFS algorithm, the path calculated by the BFS is much more shorter. "
   ]
  },
  {
   "cell_type": "markdown",
   "id": "ea8405c6",
   "metadata": {
    "papermill": {
     "duration": 0.011515,
     "end_time": "2025-04-19T17:36:37.405204",
     "exception": false,
     "start_time": "2025-04-19T17:36:37.393689",
     "status": "completed"
    },
    "tags": []
   },
   "source": [
    "## Conclusion\n",
    "\n",
    "Breadth-First Search (BFS) is one of the most reliable algorithms when it comes to finding the shortest path in a maze. It systematically explores all possible directions step by step, ensuring that the first time it reaches the goal, it has taken the minimum number of moves. This makes it particularly suitable for mazes where path optimality matters. BFS is also safe for large mazes because it doesn’t rely on recursion and avoids stack overflow issues. It’s deterministic, meaning it always returns the same result for the same maze, which adds to its reliability.\n",
    "\n",
    "However, BFS does come with some trade-offs. It generally uses more memory than DFS, especially in open or very large mazes, because it needs to store all frontier nodes (i.e., all reachable positions at the current level of depth). It may also take longer than DFS to reach a goal if that goal is buried deep in a narrow path, as BFS explores all paths evenly. Despite this, the guaranteed shortest path and consistent behavior make BFS a strong choice for many practical applications.\n",
    "\n",
    "**✅ Pros:**\n",
    "- Always finds the shortest path in unweighted mazes\n",
    "- Safe for large mazes (no recursion)\n",
    "- Easy to understand and implement\n",
    "- Deterministic and reliable\n",
    "\n",
    "**❌ Cons:**\n",
    "- Can use a lot of memory for wide/open mazes\n",
    "- May be slower in deep or sparse mazes\n",
    "- Slightly more complex data structure (queue with path tracking)"
   ]
  },
  {
   "cell_type": "markdown",
   "id": "749fe22d",
   "metadata": {
    "papermill": {
     "duration": 0.016903,
     "end_time": "2025-04-19T17:36:37.435109",
     "exception": false,
     "start_time": "2025-04-19T17:36:37.418206",
     "status": "completed"
    },
    "tags": []
   },
   "source": [
    "# Dijkstra’s Algorithm\n",
    "Dijkstra’s algorithm is a well-known and reliable method for finding the shortest path in a graph or maze, especially when different paths have different costs. In the context of a maze, each cell is treated as a node, and movement between walkable cells (usually represented by 0) can have an associated cost. Dijkstra’s algorithm starts at the source cell and assigns it a distance of zero, while all other cells are initialized with an infinite distance. It uses a priority queue to always explore the cell with the currently smallest known cost. For each cell it processes, the algorithm looks at its neighbors and updates their distance if a shorter path through the current cell is found. This process continues until the goal is reached or all reachable paths have been checked. One of the key strengths of Dijkstra’s algorithm is that it guarantees the shortest path, even in mazes with uneven terrain or movement penalties. While it’s more computationally intensive than simpler algorithms like BFS when all movements cost the same, its ability to handle weighted paths makes it ideal for more complex maze scenarios. However, it doesn't support negative weights and may use more memory and processing time compared to unweighted alternatives."
   ]
  },
  {
   "cell_type": "markdown",
   "id": "cf2c9ece",
   "metadata": {
    "papermill": {
     "duration": 0.009605,
     "end_time": "2025-04-19T17:36:37.458226",
     "exception": false,
     "start_time": "2025-04-19T17:36:37.448621",
     "status": "completed"
    },
    "tags": []
   },
   "source": [
    "## Implementation"
   ]
  },
  {
   "cell_type": "code",
   "execution_count": 13,
   "id": "77ff9e6c",
   "metadata": {
    "execution": {
     "iopub.execute_input": "2025-04-19T17:36:37.492397Z",
     "iopub.status.busy": "2025-04-19T17:36:37.492068Z",
     "iopub.status.idle": "2025-04-19T17:36:37.504003Z",
     "shell.execute_reply": "2025-04-19T17:36:37.502485Z"
    },
    "papermill": {
     "duration": 0.034263,
     "end_time": "2025-04-19T17:36:37.506329",
     "exception": false,
     "start_time": "2025-04-19T17:36:37.472066",
     "status": "completed"
    },
    "tags": []
   },
   "outputs": [],
   "source": [
    "import heapq\n",
    "\n",
    "def dijkstra_maze_solver(maze, start, goal):\n",
    "    rows, cols = len(maze), len(maze[0])\n",
    "    distances = [[float('inf')] * cols for _ in range(rows)]\n",
    "    distances[start[0]][start[1]] = 0\n",
    "    visited = [[False] * cols for _ in range(rows)]\n",
    "    heap = [(0, start, [start])]  # (cost, (x, y), path)\n",
    "\n",
    "    def in_bounds(x, y):\n",
    "        return 0 <= x < rows and 0 <= y < cols\n",
    "\n",
    "    while heap:\n",
    "        cost, (x, y), path = heapq.heappop(heap)\n",
    "\n",
    "        if visited[x][y]:\n",
    "            continue\n",
    "        visited[x][y] = True\n",
    "\n",
    "        if (x, y) == goal:\n",
    "            return path\n",
    "\n",
    "        for dx, dy in [(-1, 0), (1, 0), (0, -1), (0, 1)]:\n",
    "            nx, ny = x + dx, y + dy\n",
    "            if in_bounds(nx, ny) and maze[nx][ny] == 0 and not visited[nx][ny]:\n",
    "                new_cost = cost + 1 \n",
    "                if new_cost < distances[nx][ny]:\n",
    "                    distances[nx][ny] = new_cost\n",
    "                    heapq.heappush(heap, (new_cost, (nx, ny), path + [(nx, ny)]))\n",
    "\n",
    "    return None"
   ]
  },
  {
   "cell_type": "markdown",
   "id": "39e7fa51",
   "metadata": {
    "papermill": {
     "duration": 0.008314,
     "end_time": "2025-04-19T17:36:37.524157",
     "exception": false,
     "start_time": "2025-04-19T17:36:37.515843",
     "status": "completed"
    },
    "tags": []
   },
   "source": [
    "The Dijkstra maze solver uses a priority queue to ensure that the algorithm always explores the path with the lowest accumulated cost first. It begins by initializing a 2D `distances` grid with infinity values, representing the shortest known distances to each cell, and sets the distance to the start cell as zero. A separate `visited` matrix keeps track of which cells have already been finalized, ensuring that the algorithm doesn't revisit them. The algorithm uses a min-heap (priority queue) to manage which cell to explore next, always choosing the one with the smallest current cost. Each entry in the queue includes the current cost, cell coordinates, and the path taken so far. As the algorithm processes each cell, it checks whether it's the goal and, if not, explores its neighbors in the four cardinal directions. For each valid neighbor (within bounds, walkable, and unvisited), it calculates a new cost and updates the distance if it's lower than any previously recorded cost. The neighbor is then added to the heap for further exploration. This process repeats until the goal is reached, at which point the algorithm returns the shortest path. If no path exists, it returns None. This implementation ensures that the first time the goal is reached, it’s through the most efficient path possible, making Dijkstra’s algorithm ideal for solving mazes with uniform or variable movement costs."
   ]
  },
  {
   "cell_type": "code",
   "execution_count": 14,
   "id": "34ad52f7",
   "metadata": {
    "execution": {
     "iopub.execute_input": "2025-04-19T17:36:37.544361Z",
     "iopub.status.busy": "2025-04-19T17:36:37.543867Z",
     "iopub.status.idle": "2025-04-19T17:36:37.769745Z",
     "shell.execute_reply": "2025-04-19T17:36:37.768333Z"
    },
    "papermill": {
     "duration": 0.239083,
     "end_time": "2025-04-19T17:36:37.772142",
     "exception": false,
     "start_time": "2025-04-19T17:36:37.533059",
     "status": "completed"
    },
    "tags": []
   },
   "outputs": [
    {
     "data": {
      "image/png": "[encoded data removed]",
      "text/plain": [
       "<Figure size 1000x1000 with 1 Axes>"
      ]
     },
     "metadata": {},
     "output_type": "display_data"
    }
   ],
   "source": [
    "shortest_path = dijkstra_maze_solver(array, start, end)\n",
    "draw_maze(array, path=shortest_path)"
   ]
  },
  {
   "cell_type": "code",
   "execution_count": 15,
   "id": "5e3621ae",
   "metadata": {
    "execution": {
     "iopub.execute_input": "2025-04-19T17:36:37.793657Z",
     "iopub.status.busy": "2025-04-19T17:36:37.793292Z",
     "iopub.status.idle": "2025-04-19T17:36:37.799426Z",
     "shell.execute_reply": "2025-04-19T17:36:37.798389Z"
    },
    "papermill": {
     "duration": 0.019188,
     "end_time": "2025-04-19T17:36:37.801554",
     "exception": false,
     "start_time": "2025-04-19T17:36:37.782366",
     "status": "completed"
    },
    "tags": []
   },
   "outputs": [
    {
     "name": "stdout",
     "output_type": "stream",
     "text": [
      "Path-Length: 227\n"
     ]
    }
   ],
   "source": [
    "print(f'Path-Length: {len(shortest_path)}')"
   ]
  },
  {
   "cell_type": "markdown",
   "id": "b9617aa8",
   "metadata": {
    "papermill": {
     "duration": 0.009655,
     "end_time": "2025-04-19T17:36:37.820525",
     "exception": false,
     "start_time": "2025-04-19T17:36:37.810870",
     "status": "completed"
    },
    "tags": []
   },
   "source": [
    "# Conclusion\n",
    "Dijkstra’s algorithm is one of the most dependable and precise methods for finding the shortest path in a maze, especially when movement costs can vary. It guarantees that the path it returns is not just any valid path, but the most efficient one based on accumulated cost. While it behaves similarly to Breadth-First Search (BFS) in mazes where all movements cost the same, Dijkstra becomes invaluable when different cells have different traversal costs — such as terrains, penalties, or obstacles that slow down movement.\n",
    "\n",
    "The algorithm’s use of a priority queue ensures that the lowest-cost paths are always explored first, which is key to its correctness. It’s suitable for complex environments, reliable under a variety of conditions, and well-suited for real-world navigation tasks. However, this precision comes at a price: Dijkstra’s algorithm is more computationally intensive than simpler approaches like DFS or BFS. It can consume more memory and processing time, particularly in large or dense mazes. Moreover, it does not handle negative weights, though that's rarely an issue in physical maze-like settings.\n",
    "\n",
    "**✅ Pros:**\n",
    "- Guaranteed shortest path in mazes with uniform or weighted costs\n",
    "- Handles variable movement costs seamlessly\n",
    "- No recursion issues, safe for large mazes\n",
    "- Widely applicable, even beyond mazes (e.g. maps, networks)\n",
    "\n",
    "**❌ Cons:**\n",
    "- Slower than BFS in simple unweighted mazes\n",
    "- Higher memory usage due to distance and queue tracking\n",
    "- Doesn’t support negative weights\n",
    "- Overhead can be unnecessary in mazes where all paths have equal cost"
   ]
  },
  {
   "cell_type": "markdown",
   "id": "9d2dfbfe",
   "metadata": {
    "papermill": {
     "duration": 0.009375,
     "end_time": "2025-04-19T17:36:37.839902",
     "exception": false,
     "start_time": "2025-04-19T17:36:37.830527",
     "status": "completed"
    },
    "tags": []
   },
   "source": [
    "# A* (A-Star) Algorithm\n",
    "The A* (A-star) algorithm is an advanced pathfinding and graph traversal algorithm that builds on the foundation of Dijkstra’s algorithm by incorporating a heuristic function. Like Dijkstra, it calculates the actual cost from the start node to a given node, known as `g(n)`, but it also estimates the cost from that node to the goal using a heuristic, called `h(n)`. The total estimated cost of a path through a node is `f(n) = g(n) + h(n)`, and A* always chooses the next node to explore based on the lowest `f(n)`. This makes the algorithm much more efficient than Dijkstra in many cases, as it actively guides the search toward the goal instead of blindly exploring all options. The heuristic must be admissible, meaning it never overestimates the actual cost to the goal, in order to guarantee that the algorithm still finds the shortest possible path. A common heuristic for grid-based mazes is the Manhattan distance, which measures the total number of horizontal and vertical steps to the goal. A* maintains a priority queue of nodes to explore, updating costs and tracking the path as it progresses. When the goal is reached, the algorithm reconstructs and returns the optimal path. A* is especially effective in scenarios where the search space is large, as it reduces unnecessary exploration by focusing only on the most promising paths. It is widely used in applications such as GPS navigation, game AI, and robotics due to its accuracy, speed, and flexibility in handling different movement costs."
   ]
  },
  {
   "cell_type": "markdown",
   "id": "0de75714",
   "metadata": {
    "papermill": {
     "duration": 0.008769,
     "end_time": "2025-04-19T17:36:37.857347",
     "exception": false,
     "start_time": "2025-04-19T17:36:37.848578",
     "status": "completed"
    },
    "tags": []
   },
   "source": [
    "## Implementation"
   ]
  },
  {
   "cell_type": "code",
   "execution_count": 16,
   "id": "baca2fd3",
   "metadata": {
    "execution": {
     "iopub.execute_input": "2025-04-19T17:36:37.882434Z",
     "iopub.status.busy": "2025-04-19T17:36:37.881836Z",
     "iopub.status.idle": "2025-04-19T17:36:37.895655Z",
     "shell.execute_reply": "2025-04-19T17:36:37.894522Z"
    },
    "papermill": {
     "duration": 0.029071,
     "end_time": "2025-04-19T17:36:37.898013",
     "exception": false,
     "start_time": "2025-04-19T17:36:37.868942",
     "status": "completed"
    },
    "tags": []
   },
   "outputs": [],
   "source": [
    "import heapq\n",
    "\n",
    "def manhattan(a, b):\n",
    "    \"\"\"Heuristic: Manhattan distance between two points.\"\"\"\n",
    "    return abs(a[0] - b[0]) + abs(a[1] - b[1])\n",
    "\n",
    "def a_star_maze_solver(maze, start, goal):\n",
    "    rows, cols = len(maze), len(maze[0])\n",
    "    open_set = []\n",
    "    heapq.heappush(open_set, (0 + manhattan(start, goal), 0, start, [start]))  # (f, g, cell, path)\n",
    "\n",
    "    g_scores = [[float('inf')] * cols for _ in range(rows)]\n",
    "    g_scores[start[0]][start[1]] = 0\n",
    "\n",
    "    visited = [[False] * cols for _ in range(rows)]\n",
    "\n",
    "    def in_bounds(x, y):\n",
    "        return 0 <= x < rows and 0 <= y < cols\n",
    "\n",
    "    while open_set:\n",
    "        f, g, current, path = heapq.heappop(open_set)\n",
    "        x, y = current\n",
    "\n",
    "        if visited[x][y]:\n",
    "            continue\n",
    "        visited[x][y] = True\n",
    "\n",
    "        if current == goal:\n",
    "            return path\n",
    "\n",
    "        for dx, dy in [(-1, 0), (1, 0), (0, -1), (0, 1)]:\n",
    "            nx, ny = x + dx, y + dy\n",
    "\n",
    "            if in_bounds(nx, ny) and maze[nx][ny] == 0:\n",
    "                tentative_g = g + 1  # uniform cost\n",
    "                if tentative_g < g_scores[nx][ny]:\n",
    "                    g_scores[nx][ny] = tentative_g\n",
    "                    f_score = tentative_g + manhattan((nx, ny), goal)\n",
    "                    heapq.heappush(open_set, (f_score, tentative_g, (nx, ny), path + [(nx, ny)]))\n",
    "\n",
    "    return None \n"
   ]
  },
  {
   "cell_type": "markdown",
   "id": "fdfbb651",
   "metadata": {
    "papermill": {
     "duration": 0.008798,
     "end_time": "2025-04-19T17:36:37.915874",
     "exception": false,
     "start_time": "2025-04-19T17:36:37.907076",
     "status": "completed"
    },
    "tags": []
   },
   "source": [
    "The algorithm begins by defining a heuristic function, `manhattan`, which estimates the distance from any given cell to the goal based on the sum of horizontal and vertical steps—ideal for grid-based movement without diagonals. The main function, `a_star_maze_solver`, initializes a priority queue (min-heap) with the starting cell, combining the actual cost to reach the cell `(g)` and the estimated cost to the goal `(h)` into a total cost `(f = g + h)`. It also creates a 2D list `called g_scores` to track the shortest known distance from the start to each cell, and a `visited` grid to prevent revisiting already processed cells. During each iteration, the algorithm selects the cell with the lowest `f` value from the queue. If that cell is the goal, the path is returned immediately. Otherwise, the algorithm explores all valid neighboring cells (up, down, left, right), calculates a tentative new `g` score for each, and if it’s lower than any previously recorded cost, it updates the score and pushes the neighbor into the queue along with the updated path. This process continues until the goal is reached or the queue is empty, in which case no path exists. By combining actual cost with an intelligent guess, this implementation of A* efficiently finds the optimal path while avoiding unnecessary exploration."
   ]
  },
  {
   "cell_type": "code",
   "execution_count": 17,
   "id": "a1f0bac8",
   "metadata": {
    "execution": {
     "iopub.execute_input": "2025-04-19T17:36:37.934660Z",
     "iopub.status.busy": "2025-04-19T17:36:37.934311Z",
     "iopub.status.idle": "2025-04-19T17:36:38.108982Z",
     "shell.execute_reply": "2025-04-19T17:36:38.107815Z"
    },
    "papermill": {
     "duration": 0.186083,
     "end_time": "2025-04-19T17:36:38.110896",
     "exception": false,
     "start_time": "2025-04-19T17:36:37.924813",
     "status": "completed"
    },
    "tags": []
   },
   "outputs": [
    {
     "data": {
      "image/png": "[encoded data removed]",
      "text/plain": [
       "<Figure size 1000x1000 with 1 Axes>"
      ]
     },
     "metadata": {},
     "output_type": "display_data"
    }
   ],
   "source": [
    "shortest_path = a_star_maze_solver(array, start, end)\n",
    "draw_maze(array, path=shortest_path)"
   ]
  },
  {
   "cell_type": "code",
   "execution_count": 18,
   "id": "88ef9885",
   "metadata": {
    "execution": {
     "iopub.execute_input": "2025-04-19T17:36:38.131263Z",
     "iopub.status.busy": "2025-04-19T17:36:38.130917Z",
     "iopub.status.idle": "2025-04-19T17:36:38.137215Z",
     "shell.execute_reply": "2025-04-19T17:36:38.136070Z"
    },
    "papermill": {
     "duration": 0.018751,
     "end_time": "2025-04-19T17:36:38.138971",
     "exception": false,
     "start_time": "2025-04-19T17:36:38.120220",
     "status": "completed"
    },
    "tags": []
   },
   "outputs": [
    {
     "name": "stdout",
     "output_type": "stream",
     "text": [
      "Path-Length: 227\n"
     ]
    }
   ],
   "source": [
    "print(f'Path-Length: {len(shortest_path)}')"
   ]
  },
  {
   "cell_type": "markdown",
   "id": "25687b6f",
   "metadata": {
    "papermill": {
     "duration": 0.009074,
     "end_time": "2025-04-19T17:36:38.159585",
     "exception": false,
     "start_time": "2025-04-19T17:36:38.150511",
     "status": "completed"
    },
    "tags": []
   },
   "source": [
    "## Conclusion\n",
    "The A* algorithm is one of the most effective and intelligent pathfinding algorithms available. It builds on the reliability of Dijkstra’s algorithm by introducing a heuristic that helps guide the search toward the goal, making it faster and more efficient in most practical cases. A* doesn’t just blindly explore every possible path; instead, it balances the cost of reaching a cell with an estimate of how close that cell is to the target. This makes A* particularly powerful in large mazes or maps, where an uninformed search could waste time exploring irrelevant areas. As long as the heuristic used is admissible (i.e., it never overestimates the actual cost to the goal), A* guarantees that the path it finds is the shortest possible. It is the go-to algorithm in many real-world applications, from GPS navigation systems and robotics to video game AI.\n",
    "\n",
    "**✅ Pros:**\n",
    "- Guaranteed shortest path (if heuristic is admissible)\n",
    "- Faster than Dijkstra in most cases due to heuristic guidance\n",
    "- Highly flexible — works with weighted, unweighted, or complex maps\n",
    "- Widely used in real-world and AI-based applications\n",
    "- Smart exploration — focuses search near the goal\n",
    "\n",
    "**❌ Cons:**\n",
    "- More complex to implement than BFS or DFS\n",
    "- Higher memory usage due to open set and score tracking\n",
    "- Performance depends on the quality of the heuristic\n",
    "- Can be slower than simpler methods in small or trivial mazes"
   ]
  },
  {
   "cell_type": "markdown",
   "id": "5ab65fcc",
   "metadata": {
    "papermill": {
     "duration": 0.008539,
     "end_time": "2025-04-19T17:36:38.176955",
     "exception": false,
     "start_time": "2025-04-19T17:36:38.168416",
     "status": "completed"
    },
    "tags": []
   },
   "source": [
    "# Solve the Hardest Maze"
   ]
  },
  {
   "cell_type": "code",
   "execution_count": 19,
   "id": "14ddfca2",
   "metadata": {
    "_kg_hide-input": true,
    "execution": {
     "iopub.execute_input": "2025-04-19T17:36:38.195798Z",
     "iopub.status.busy": "2025-04-19T17:36:38.195513Z",
     "iopub.status.idle": "2025-04-19T17:36:38.375764Z",
     "shell.execute_reply": "2025-04-19T17:36:38.374647Z"
    },
    "papermill": {
     "duration": 0.192062,
     "end_time": "2025-04-19T17:36:38.377934",
     "exception": false,
     "start_time": "2025-04-19T17:36:38.185872",
     "status": "completed"
    },
    "tags": []
   },
   "outputs": [],
   "source": [
    "hard_maze = np.loadtxt('/kaggle/input/maze-dataset/imperfect_maze/maze1000_dim83.txt', dtype=int)\n",
    "hard_maze_start = (1, 1) \n",
    "hard_maze_end = (hard_maze.shape[0]-2, hard_maze.shape[1]-2)\n",
    "\n",
    "dfs_path = dfs_maze_solver_iterative(hard_maze, hard_maze_start, hard_maze_end)\n",
    "bfs_path = bfs_maze_solver(hard_maze, hard_maze_start, hard_maze_end)\n",
    "dijkstra_path = dijkstra_maze_solver(hard_maze, hard_maze_start, hard_maze_end)\n",
    "astar_path = a_star_maze_solver(hard_maze, hard_maze_start, hard_maze_end)"
   ]
  },
  {
   "cell_type": "code",
   "execution_count": 20,
   "id": "227267f2",
   "metadata": {
    "execution": {
     "iopub.execute_input": "2025-04-19T17:36:38.397081Z",
     "iopub.status.busy": "2025-04-19T17:36:38.396777Z",
     "iopub.status.idle": "2025-04-19T17:36:38.406371Z",
     "shell.execute_reply": "2025-04-19T17:36:38.405339Z"
    },
    "papermill": {
     "duration": 0.021083,
     "end_time": "2025-04-19T17:36:38.408141",
     "exception": false,
     "start_time": "2025-04-19T17:36:38.387058",
     "status": "completed"
    },
    "tags": []
   },
   "outputs": [],
   "source": [
    "def draw_maze_subplot(ax, maze, path, title, path_color):\n",
    "    ax.imshow(maze, cmap=plt.cm.binary, interpolation='nearest')\n",
    "    \n",
    "    if path is not None:\n",
    "        x_coords = [x[1] for x in path]\n",
    "        y_coords = [x[0] for x in path]\n",
    "        ax.plot(x_coords, y_coords, color=path_color, linewidth=2)\n",
    "    \n",
    "    ax.set_title(title)\n",
    "    ax.set_xticks([])\n",
    "    ax.set_yticks([])\n",
    "    \n",
    "    # Entry and exit arrows\n",
    "    ax.arrow(0, 1, .4, 0, fc='green', ec='green', head_width=0.3, head_length=0.3)\n",
    "    ax.arrow(maze.shape[1] - 1, maze.shape[0] - 2, 0.4, 0, fc='blue', ec='blue', head_width=0.3, head_length=0.3)\n",
    "\n",
    "\n",
    "def compare_algorithms(maze, dfs_path, bfs_path, dijkstra_path, astar_path):\n",
    "    fig, axs = plt.subplots(2, 2, figsize=(12, 12))\n",
    "    fig.suptitle('Comparison of Shortest Path Algorithms', fontsize=16)\n",
    "    \n",
    "    draw_maze_subplot(axs[0, 0], maze, dfs_path, 'DFS', 'red')\n",
    "    draw_maze_subplot(axs[0, 1], maze, bfs_path, 'BFS', 'orange')\n",
    "    draw_maze_subplot(axs[1, 0], maze, dijkstra_path, 'Dijkstra', 'blue')\n",
    "    draw_maze_subplot(axs[1, 1], maze, astar_path, 'A* Search', 'purple')\n",
    "    \n",
    "    plt.subplots_adjust(hspace=0.15, top=0.92)\n",
    "    plt.show()\n"
   ]
  },
  {
   "cell_type": "code",
   "execution_count": 21,
   "id": "0158e93a",
   "metadata": {
    "execution": {
     "iopub.execute_input": "2025-04-19T17:36:38.427584Z",
     "iopub.status.busy": "2025-04-19T17:36:38.427232Z",
     "iopub.status.idle": "2025-04-19T17:36:38.775920Z",
     "shell.execute_reply": "2025-04-19T17:36:38.774858Z"
    },
    "papermill": {
     "duration": 0.36119,
     "end_time": "2025-04-19T17:36:38.778286",
     "exception": false,
     "start_time": "2025-04-19T17:36:38.417096",
     "status": "completed"
    },
    "tags": []
   },
   "outputs": [
    {
     "data": {
      "image/png": "[encoded data removed]",
      "text/plain": [
       "<Figure size 1200x1200 with 4 Axes>"
      ]
     },
     "metadata": {},
     "output_type": "display_data"
    }
   ],
   "source": [
    "compare_algorithms(hard_maze, dfs_path, bfs_path, dijkstra_path, astar_path)"
   ]
  },
  {
   "cell_type": "markdown",
   "id": "b714190f",
   "metadata": {
    "papermill": {
     "duration": 0.011517,
     "end_time": "2025-04-19T17:36:38.801472",
     "exception": false,
     "start_time": "2025-04-19T17:36:38.789955",
     "status": "completed"
    },
    "tags": []
   },
   "source": [
    "# Final Words\n",
    "In this notebook, we explored four fundamental pathfinding algorithms - DFS, BFS, Dijkstra, and A-Star - to solve the problem of finding the shortest path in a maze with dimensions smaller than 150x150. Each algorithm has its strengths and ideal use cases, which became evident through this comparative analysis. DFS, while simple and memory-efficient, is not suitable for finding the shortest path, especially in large or complex mazes, as it explores deeply and can easily get trapped in suboptimal branches. BFS, on the other hand, is excellent for unweighted mazes where all moves have equal cost, as it guarantees the shortest path and performs reliably in smaller grids. Dijkstra’s algorithm is a robust choice when dealing with weighted mazes, as it accounts for varying movement costs, though it tends to be slower than BFS in uniform-cost scenarios due to its lack of heuristic guidance. A-Star, which builds upon Dijkstra by adding a heuristic, offers the best of both worlds: it maintains optimality while significantly improving performance by focusing the search in the direction of the goal. For small mazes like those used in this notebook, BFS is often the most efficient for unweighted problems, while A-Star is ideal when performance matters and especially when dealing with weighted or more complex environments. Dijkstra remains a solid fallback for any weighted case where heuristic design is difficult, and DFS, although educational, is best reserved for simple use cases where finding any path is sufficient."
   ]
  },
  {
   "cell_type": "markdown",
   "id": "0da710da",
   "metadata": {
    "papermill": {
     "duration": 0.011085,
     "end_time": "2025-04-19T17:36:38.823981",
     "exception": false,
     "start_time": "2025-04-19T17:36:38.812896",
     "status": "completed"
    },
    "tags": []
   },
   "source": [
    "# Thank you for reading this notebook \n",
    "I appreciate your time and interest. If you found it helpful or insightful, feel free to build upon it, share it, or reach out with questions or ideas. Happy coding!"
   ]
  }
 ],
 "metadata": {
  "kaggle": {
   "accelerator": "none",
   "dataSources": [
    {
     "datasetId": 7181017,
     "sourceId": 11464423,
     "sourceType": "datasetVersion"
    }
   ],
   "dockerImageVersionId": 31012,
   "isGpuEnabled": false,
   "isInternetEnabled": true,
   "language": "python",
   "sourceType": "notebook"
  },
  "kernelspec": {
   "display_name": "Python 3",
   "language": "python",
   "name": "python3"
  },
  "language_info": {
   "codemirror_mode": {
    "name": "ipython",
    "version": 3
   },
   "file_extension": ".py",
   "mimetype": "text/x-python",
   "name": "python",
   "nbconvert_exporter": "python",
   "pygments_lexer": "ipython3",
   "version": "3.11.11"
  },
  "papermill": {
   "default_parameters": {},
   "duration": 8.734442,
   "end_time": "2025-04-19T17:36:39.256499",
   "environment_variables": {},
   "exception": null,
   "input_path": "__notebook__.ipynb",
   "output_path": "__notebook__.ipynb",
   "parameters": {},
   "start_time": "2025-04-19T17:36:30.522057",
   "version": "2.6.0"
  }
 },
 "nbformat": 4,
 "nbformat_minor": 5
}
