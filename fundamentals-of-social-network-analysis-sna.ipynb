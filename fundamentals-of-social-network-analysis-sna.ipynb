{
 "cells": [
  {
   "cell_type": "markdown",
   "id": "397c017d",
   "metadata": {
    "_cell_guid": "b1076dfc-b9ad-4769-8c92-a6c4dae69d19",
    "_uuid": "8f2839f25d086af736a60e9eeb907d3b93b6e0e5",
    "papermill": {
     "duration": 0.019789,
     "end_time": "2024-08-07T11:51:32.818340",
     "exception": false,
     "start_time": "2024-08-07T11:51:32.798551",
     "status": "completed"
    },
    "tags": []
   },
   "source": [
    "<p style=\"font-family: Verdana; letter-spacing: 2px; color:#000000; font-size:300%; padding: 0px; text-align:center;\">\n",
    "    <b>Fundamentals of Social Network Analysis (SNA)</b>\n",
    "\n",
    "Network analysis is a multifaceted discipline that delves into the structure, dynamics, and behaviors of networks, which are composed of interconnected nodes and links. In the realm of social media, platforms like Facebook and Twitter use network analysis to understand user interactions, track the spread of information, and identify influential users who can drive trends. In biology, it aids in mapping complex protein interactions and understanding the intricate web of metabolic pathways in cells. Similarly, in epidemiology, network analysis models the spread of diseases like COVID-19, helping to predict outbreaks and evaluate the effectiveness of intervention strategies. Financial institutions leverage it to analyze interbank transactions and assess systemic risks in the financial system. By employing mathematical and computational techniques, network analysis facilitates the understanding of how nodes interact within a network, the identification of influential nodes, the discovery of community structures, and the prediction of network evolution. This analytical approach not only illuminates the underlying patterns and properties of networks but also aids in solving real-world problems by providing insights into the resilience, efficiency, and functionality of interconnected systems.\n",
    "\n",
    "![](https://upload.wikimedia.org/wikipedia/commons/9/9b/Social_Network_Analysis_Visualization.png)\n",
    "\n",
    "*A complex network by [Martin Grandjean](https://commons.wikimedia.org/wiki/User:SlvrKy) via Wikimedia Commons*\n",
    "    \n",
    "In this notebook I will give a quick overview about the most important concepts in terms of SNA.\n",
    "    \n",
    "```python\n",
    "if helpful:\n",
    "    print('Please upvote ❤️')\n",
    "```"
   ]
  },
  {
   "cell_type": "code",
   "execution_count": 1,
   "id": "37cb0ec6",
   "metadata": {
    "_kg_hide-input": true,
    "_kg_hide-output": true,
    "collapsed": true,
    "execution": {
     "iopub.execute_input": "2024-08-07T11:51:32.859191Z",
     "iopub.status.busy": "2024-08-07T11:51:32.858732Z",
     "iopub.status.idle": "2024-08-07T11:53:31.824993Z",
     "shell.execute_reply": "2024-08-07T11:53:31.823757Z"
    },
    "jupyter": {
     "outputs_hidden": true,
     "source_hidden": true
    },
    "papermill": {
     "duration": 118.989936,
     "end_time": "2024-08-07T11:53:31.827801",
     "exception": false,
     "start_time": "2024-08-07T11:51:32.837865",
     "status": "completed"
    },
    "tags": []
   },
   "outputs": [
    {
     "name": "stdout",
     "output_type": "stream",
     "text": [
      "Collecting pyvis\r\n",
      "  Downloading pyvis-0.3.2-py3-none-any.whl.metadata (1.7 kB)\r\n",
      "Requirement already satisfied: ipython>=5.3.0 in /opt/conda/lib/python3.10/site-packages (from pyvis) (8.20.0)\r\n",
      "Requirement already satisfied: jinja2>=2.9.6 in /opt/conda/lib/python3.10/site-packages (from pyvis) (3.1.2)\r\n",
      "Collecting jsonpickle>=1.4.1 (from pyvis)\r\n",
      "  Downloading jsonpickle-3.2.2-py3-none-any.whl.metadata (7.2 kB)\r\n",
      "Requirement already satisfied: networkx>=1.11 in /opt/conda/lib/python3.10/site-packages (from pyvis) (3.2.1)\r\n",
      "Requirement already satisfied: decorator in /opt/conda/lib/python3.10/site-packages (from ipython>=5.3.0->pyvis) (5.1.1)\r\n",
      "Requirement already satisfied: jedi>=0.16 in /opt/conda/lib/python3.10/site-packages (from ipython>=5.3.0->pyvis) (0.19.1)\r\n",
      "Requirement already satisfied: matplotlib-inline in /opt/conda/lib/python3.10/site-packages (from ipython>=5.3.0->pyvis) (0.1.6)\r\n",
      "Requirement already satisfied: prompt-toolkit<3.1.0,>=3.0.41 in /opt/conda/lib/python3.10/site-packages (from ipython>=5.3.0->pyvis) (3.0.42)\r\n",
      "Requirement already satisfied: pygments>=2.4.0 in /opt/conda/lib/python3.10/site-packages (from ipython>=5.3.0->pyvis) (2.17.2)\r\n",
      "Requirement already satisfied: stack-data in /opt/conda/lib/python3.10/site-packages (from ipython>=5.3.0->pyvis) (0.6.2)\r\n",
      "Requirement already satisfied: traitlets>=5 in /opt/conda/lib/python3.10/site-packages (from ipython>=5.3.0->pyvis) (5.9.0)\r\n",
      "Requirement already satisfied: exceptiongroup in /opt/conda/lib/python3.10/site-packages (from ipython>=5.3.0->pyvis) (1.2.0)\r\n",
      "Requirement already satisfied: pexpect>4.3 in /opt/conda/lib/python3.10/site-packages (from ipython>=5.3.0->pyvis) (4.8.0)\r\n",
      "Requirement already satisfied: MarkupSafe>=2.0 in /opt/conda/lib/python3.10/site-packages (from jinja2>=2.9.6->pyvis) (2.1.3)\r\n",
      "Requirement already satisfied: parso<0.9.0,>=0.8.3 in /opt/conda/lib/python3.10/site-packages (from jedi>=0.16->ipython>=5.3.0->pyvis) (0.8.3)\r\n",
      "Requirement already satisfied: ptyprocess>=0.5 in /opt/conda/lib/python3.10/site-packages (from pexpect>4.3->ipython>=5.3.0->pyvis) (0.7.0)\r\n",
      "Requirement already satisfied: wcwidth in /opt/conda/lib/python3.10/site-packages (from prompt-toolkit<3.1.0,>=3.0.41->ipython>=5.3.0->pyvis) (0.2.13)\r\n",
      "Requirement already satisfied: executing>=1.2.0 in /opt/conda/lib/python3.10/site-packages (from stack-data->ipython>=5.3.0->pyvis) (2.0.1)\r\n",
      "Requirement already satisfied: asttokens>=2.1.0 in /opt/conda/lib/python3.10/site-packages (from stack-data->ipython>=5.3.0->pyvis) (2.4.1)\r\n",
      "Requirement already satisfied: pure-eval in /opt/conda/lib/python3.10/site-packages (from stack-data->ipython>=5.3.0->pyvis) (0.2.2)\r\n",
      "Requirement already satisfied: six>=1.12.0 in /opt/conda/lib/python3.10/site-packages (from asttokens>=2.1.0->stack-data->ipython>=5.3.0->pyvis) (1.16.0)\r\n",
      "Downloading pyvis-0.3.2-py3-none-any.whl (756 kB)\r\n",
      "\u001b[2K   \u001b[90m━━━━━━━━━━━━━━━━━━━━━━━━━━━━━━━━━━━━━━━━\u001b[0m \u001b[32m756.0/756.0 kB\u001b[0m \u001b[31m9.4 MB/s\u001b[0m eta \u001b[36m0:00:00\u001b[0m\r\n",
      "\u001b[?25hDownloading jsonpickle-3.2.2-py3-none-any.whl (41 kB)\r\n",
      "\u001b[2K   \u001b[90m━━━━━━━━━━━━━━━━━━━━━━━━━━━━━━━━━━━━━━━━\u001b[0m \u001b[32m41.8/41.8 kB\u001b[0m \u001b[31m1.7 MB/s\u001b[0m eta \u001b[36m0:00:00\u001b[0m\r\n",
      "\u001b[?25hInstalling collected packages: jsonpickle, pyvis\r\n",
      "Successfully installed jsonpickle-3.2.2 pyvis-0.3.2\r\n",
      "Collecting infomap\r\n",
      "  Downloading infomap-2.8.0.tar.gz (264 kB)\r\n",
      "\u001b[2K     \u001b[90m━━━━━━━━━━━━━━━━━━━━━━━━━━━━━━━━━━━━━━━\u001b[0m \u001b[32m264.8/264.8 kB\u001b[0m \u001b[31m4.4 MB/s\u001b[0m eta \u001b[36m0:00:00\u001b[0m\r\n",
      "\u001b[?25h  Preparing metadata (setup.py) ... \u001b[?25l-\b \b\\\b \bdone\r\n",
      "\u001b[?25hBuilding wheels for collected packages: infomap\r\n",
      "  Building wheel for infomap (setup.py) ... \u001b[?25l-\b \b\\\b \b|\b \b/\b \bdone\r\n",
      "\u001b[?25h  Created wheel for infomap: filename=infomap-2.8.0-cp310-cp310-linux_x86_64.whl size=769539 sha256=e67498ca54af58d8286261d59d0454e95221e7e40220b8097b044d14565f28c9\r\n",
      "  Stored in directory: /root/.cache/pip/wheels/b5/0c/9b/9816a0207b931219a0c5b2edc14d84099ddd57f7097f926b16\r\n",
      "Successfully built infomap\r\n",
      "Installing collected packages: infomap\r\n",
      "Successfully installed infomap-2.8.0\r\n"
     ]
    }
   ],
   "source": [
    "!pip install pyvis\n",
    "!pip install infomap"
   ]
  },
  {
   "cell_type": "code",
   "execution_count": 2,
   "id": "dbb6a5cf",
   "metadata": {
    "execution": {
     "iopub.execute_input": "2024-08-07T11:53:31.875082Z",
     "iopub.status.busy": "2024-08-07T11:53:31.874577Z",
     "iopub.status.idle": "2024-08-07T11:53:35.819592Z",
     "shell.execute_reply": "2024-08-07T11:53:35.818385Z"
    },
    "jupyter": {
     "source_hidden": true
    },
    "papermill": {
     "duration": 3.972555,
     "end_time": "2024-08-07T11:53:35.822668",
     "exception": false,
     "start_time": "2024-08-07T11:53:31.850113",
     "status": "completed"
    },
    "tags": []
   },
   "outputs": [],
   "source": [
    "import networkx as nx\n",
    "import matplotlib.pyplot as plt\n",
    "import numpy as np\n",
    "import random\n",
    "from pyvis.network import Network\n",
    "import community as community_louvain\n",
    "import matplotlib.pyplot as plt\n",
    "import matplotlib.colors as mcolors\n",
    "from sklearn.cluster import SpectralClustering\n",
    "from networkx.algorithms.community import girvan_newman\n",
    "from networkx.algorithms.community import label_propagation_communities\n",
    "from infomap import Infomap\n",
    "\n",
    "import warnings\n",
    "warnings.filterwarnings('ignore')"
   ]
  },
  {
   "cell_type": "markdown",
   "id": "40294796",
   "metadata": {
    "papermill": {
     "duration": 0.022265,
     "end_time": "2024-08-07T11:53:35.866633",
     "exception": false,
     "start_time": "2024-08-07T11:53:35.844368",
     "status": "completed"
    },
    "tags": []
   },
   "source": [
    "# Into Network Graphs\n",
    "\n",
    "Let´s start very simple and create a very basic example. I will use `NetworkX` to create the network. "
   ]
  },
  {
   "cell_type": "code",
   "execution_count": 3,
   "id": "baffaa03",
   "metadata": {
    "execution": {
     "iopub.execute_input": "2024-08-07T11:53:35.913045Z",
     "iopub.status.busy": "2024-08-07T11:53:35.911543Z",
     "iopub.status.idle": "2024-08-07T11:53:35.920385Z",
     "shell.execute_reply": "2024-08-07T11:53:35.919139Z"
    },
    "papermill": {
     "duration": 0.034654,
     "end_time": "2024-08-07T11:53:35.922974",
     "exception": false,
     "start_time": "2024-08-07T11:53:35.888320",
     "status": "completed"
    },
    "tags": []
   },
   "outputs": [],
   "source": [
    "random.seed(1702)\n",
    "np.random.seed(1702)\n",
    "\n",
    "def create_graph():\n",
    "    G = nx.Graph()\n",
    "    nodes = range(40)\n",
    "    G.add_nodes_from(nodes)\n",
    "\n",
    "    for i in range(40):\n",
    "        for j in range(i+1, 40):\n",
    "            if random.random() < 0.2:\n",
    "                weight = random.randint(1, 10)\n",
    "                G.add_edge(i, j, weight=weight)\n",
    "    return G"
   ]
  },
  {
   "cell_type": "code",
   "execution_count": 4,
   "id": "460b9390",
   "metadata": {
    "execution": {
     "iopub.execute_input": "2024-08-07T11:53:35.967711Z",
     "iopub.status.busy": "2024-08-07T11:53:35.967277Z",
     "iopub.status.idle": "2024-08-07T11:53:35.973596Z",
     "shell.execute_reply": "2024-08-07T11:53:35.972283Z"
    },
    "papermill": {
     "duration": 0.03193,
     "end_time": "2024-08-07T11:53:35.976313",
     "exception": false,
     "start_time": "2024-08-07T11:53:35.944383",
     "status": "completed"
    },
    "tags": []
   },
   "outputs": [],
   "source": [
    "G = create_graph()"
   ]
  },
  {
   "cell_type": "code",
   "execution_count": 5,
   "id": "c99b0042",
   "metadata": {
    "_kg_hide-input": true,
    "execution": {
     "iopub.execute_input": "2024-08-07T11:53:36.023668Z",
     "iopub.status.busy": "2024-08-07T11:53:36.022690Z",
     "iopub.status.idle": "2024-08-07T11:53:36.364950Z",
     "shell.execute_reply": "2024-08-07T11:53:36.363790Z"
    },
    "papermill": {
     "duration": 0.369835,
     "end_time": "2024-08-07T11:53:36.367907",
     "exception": false,
     "start_time": "2024-08-07T11:53:35.998072",
     "status": "completed"
    },
    "tags": []
   },
   "outputs": [
    {
     "name": "stdout",
     "output_type": "stream",
     "text": [
      "network.html\n"
     ]
    },
    {
     "data": {
      "text/html": [
       "\n",
       "        <iframe\n",
       "            width=\"800px\"\n",
       "            height=\"700px\"\n",
       "            src=\"network.html\"\n",
       "            frameborder=\"0\"\n",
       "            allowfullscreen\n",
       "            \n",
       "        ></iframe>\n",
       "        "
      ],
      "text/plain": [
       "<IPython.lib.display.IFrame at 0x7d6237f1aa40>"
      ]
     },
     "execution_count": 5,
     "metadata": {},
     "output_type": "execute_result"
    }
   ],
   "source": [
    "degrees = np.array([G.degree[node] for node in G.nodes()])\n",
    "min_degree, max_degree = degrees.min(), degrees.max()\n",
    "\n",
    "cmap = plt.cm.get_cmap('coolwarm')\n",
    "node_colors = {\n",
    "    node: mcolors.to_hex(\n",
    "        cmap((G.degree[node] - min_degree) / (max_degree - min_degree))\n",
    "    )\n",
    "    for node in G.nodes()\n",
    "}\n",
    "\n",
    "net = Network(height=\"700px\", width=\"800px\", bgcolor=\"#ffffff\", font_color=\"black\", notebook=True, cdn_resources='in_line')\n",
    "node_size = 15\n",
    "\n",
    "for node in G.nodes():\n",
    "    degree = G.degree[node]\n",
    "    net.add_node(node, label=f\"Node: {node}\", size=node_size, color=node_colors[node])\n",
    "\n",
    "for edge in G.edges():\n",
    "    net.add_edge(edge[0], edge[1])\n",
    "\n",
    "net.set_options(\"\"\"\n",
    "var options = {\n",
    "  \"physics\": {\n",
    "    \"enabled\": true\n",
    "  }\n",
    "}\n",
    "\"\"\")\n",
    "\n",
    "net.show('network.html')"
   ]
  },
  {
   "cell_type": "markdown",
   "id": "8514f860",
   "metadata": {
    "papermill": {
     "duration": 0.022134,
     "end_time": "2024-08-07T11:53:36.411934",
     "exception": false,
     "start_time": "2024-08-07T11:53:36.389800",
     "status": "completed"
    },
    "tags": []
   },
   "source": [
    "A graph in this context is made up of vertices (also called nodes or points) which are connected by edges (also called arcs, links or lines). A distinction is made between undirect graphs, where edges link two vertices symmetrically, and direct graphs, where edges link two vertices asymmetrically. I randomly created 40 nodes with random edge weights. You can see that the nodes are different sizes. This is to show a visual representation of the importance of the note. The more connections a node has, the larger it is. More on this in the course of the notebook. "
   ]
  },
  {
   "cell_type": "markdown",
   "id": "ff646314",
   "metadata": {
    "papermill": {
     "duration": 0.021484,
     "end_time": "2024-08-07T11:53:36.455119",
     "exception": false,
     "start_time": "2024-08-07T11:53:36.433635",
     "status": "completed"
    },
    "tags": []
   },
   "source": [
    "# Metrics\n",
    "In Social Network Analysis (SNA), the two main metrics often focused on are centrality and communities. These metrics provide insights into the importance of nodes (individuals or entities) and the overall structure of the network.\n",
    "\n",
    "## Centrality\n",
    "Not all nodes are equally important. Some nodes play an outsized role in the network, e.g. if they have many connections. Centrality measures the importance or influence of a node within a network. \n",
    "Let´s look at a simpler graph. From my example graph above, the importance of certain nodes cannot be determined with the naked eye. Not yet 😉\n",
    "\n",
    "![](https://upload.wikimedia.org/wikipedia/commons/4/45/Srep17095-f1.jpg)\n",
    "\n",
    "*By <a href=\"//commons.wikimedia.org/w/index.php?title=User:Ajalvare&amp;action=edit&amp;redlink=1\" class=\"new\" title=\"User:Ajalvare (page does not exist)\">Ajalvare</a> - <span class=\"int-own-work\" lang=\"en\">Own work</span>, <a href=\"https://creativecommons.org/licenses/by-sa/4.0\" title=\"Creative Commons Attribution-Share Alike 4.0\">CC BY-SA 4.0</a>, <a href=\"https://commons.wikimedia.org/w/index.php?curid=45967327\">Link</a>*\n",
    "\n",
    "In the illustrated network, green and red nodes are the most dissimilar because they do not share neighbors between them. So, the green one contributes more to the centrality of the red one than the gray ones, because the red one can access to the blue ones only through the green, and the gray nodes are redundant for the red one, because it can access directly to each gray node without any intermediary.\n",
    "\n",
    "There are several types of centrality, let´s go through each of them. "
   ]
  },
  {
   "cell_type": "code",
   "execution_count": 6,
   "id": "2e39ff6d",
   "metadata": {
    "_kg_hide-input": true,
    "execution": {
     "iopub.execute_input": "2024-08-07T11:53:36.502925Z",
     "iopub.status.busy": "2024-08-07T11:53:36.502480Z",
     "iopub.status.idle": "2024-08-07T11:53:36.517962Z",
     "shell.execute_reply": "2024-08-07T11:53:36.516834Z"
    },
    "jupyter": {
     "source_hidden": true
    },
    "papermill": {
     "duration": 0.041822,
     "end_time": "2024-08-07T11:53:36.520653",
     "exception": false,
     "start_time": "2024-08-07T11:53:36.478831",
     "status": "completed"
    },
    "tags": []
   },
   "outputs": [],
   "source": [
    "def create_network_with_centrality(G, centrality_measure):\n",
    "    # Compute the centrality\n",
    "    if centrality_measure == \"degree\":\n",
    "        centrality = nx.degree_centrality(G)\n",
    "    elif centrality_measure == \"weighted_degree\":\n",
    "        centrality = {node: sum(data['weight'] for _, _, data in G.edges(node, data=True)) for node in G.nodes()}\n",
    "    elif centrality_measure == \"betweenness\":\n",
    "        centrality = nx.betweenness_centrality(G, weight='weight')\n",
    "    elif centrality_measure == \"closeness\":\n",
    "        centrality = nx.closeness_centrality(G)\n",
    "    elif centrality_measure == \"eigenvector\":\n",
    "        centrality = nx.eigenvector_centrality(G, max_iter=1000)\n",
    "    elif centrality_measure == \"pagerank\":\n",
    "        centrality = nx.pagerank(G, weight='weight')\n",
    "    else:\n",
    "        raise ValueError(\"Invalid centrality measure\")\n",
    "\n",
    "    min_cent = min(centrality.values())\n",
    "    max_cent = max(centrality.values())\n",
    "\n",
    "    cmap = plt.cm.get_cmap('coolwarm')\n",
    "    node_colors = {\n",
    "        node: mcolors.to_hex(\n",
    "            cmap((centrality[node] - min_cent) / (max_cent - min_cent))\n",
    "        )\n",
    "        for node in G.nodes()\n",
    "    }\n",
    "\n",
    "    net = Network(height=\"700px\", width=\"1000px\", bgcolor=\"#ffffff\", font_color=\"black\", notebook=True, cdn_resources='in_line')\n",
    "    node_size = 15\n",
    "    for node in G.nodes():\n",
    "        net.add_node(node, label=f\"{centrality[node]:.2f}\", size=node_size, color=node_colors[node])\n",
    "    \n",
    "    # Normalize edge thickness based on weight\n",
    "    min_weight = min(nx.get_edge_attributes(G, 'weight').values())\n",
    "    max_weight = max(nx.get_edge_attributes(G, 'weight').values())\n",
    "    \n",
    "    for edge in G.edges(data=True):\n",
    "        u, v, data = edge\n",
    "        weight = data['weight']\n",
    "        thickness = ((weight - min_weight) / (max_weight - min_weight)) * 3 + 0.5\n",
    "        net.add_edge(u, v, width=thickness)\n",
    "        \n",
    "    #for edge in G.edges():\n",
    "    #    net.add_edge(edge[0], edge[1])\n",
    "    net.set_options(\"\"\"\n",
    "    var options = {\n",
    "      \"physics\": {\n",
    "        \"enabled\": true\n",
    "      }\n",
    "    }\n",
    "    \"\"\")\n",
    "    \n",
    "    return net"
   ]
  },
  {
   "cell_type": "markdown",
   "id": "2d8a6b51",
   "metadata": {
    "papermill": {
     "duration": 0.021929,
     "end_time": "2024-08-07T11:53:36.565032",
     "exception": false,
     "start_time": "2024-08-07T11:53:36.543103",
     "status": "completed"
    },
    "tags": []
   },
   "source": [
    "### Degree Centrality\n",
    "\n",
    "Degree centrality is a fundamental measure in network analysis that quantifies the importance of a node based on the number of direct connections it has. It is one of the simplest forms of centrality and can provide valuable insights into the structure and dynamics of a network.\n",
    "\n",
    "Degree centrality for a node is essentially the count of its direct connections, also known as edges. For a given node, the degree centrality is defined as the number of edges that connect to it. In directed networks, degree centrality can be split into two types: in-degree, which counts the number of incoming edges, and out-degree, which counts the number of outgoing edges."
   ]
  },
  {
   "cell_type": "code",
   "execution_count": 7,
   "id": "2cee2075",
   "metadata": {
    "execution": {
     "iopub.execute_input": "2024-08-07T11:53:36.611875Z",
     "iopub.status.busy": "2024-08-07T11:53:36.610797Z",
     "iopub.status.idle": "2024-08-07T11:53:36.934745Z",
     "shell.execute_reply": "2024-08-07T11:53:36.933550Z"
    },
    "papermill": {
     "duration": 0.350333,
     "end_time": "2024-08-07T11:53:36.937720",
     "exception": false,
     "start_time": "2024-08-07T11:53:36.587387",
     "status": "completed"
    },
    "tags": []
   },
   "outputs": [
    {
     "name": "stdout",
     "output_type": "stream",
     "text": [
      "degree_centrality_graph.html\n"
     ]
    },
    {
     "data": {
      "text/html": [
       "\n",
       "        <iframe\n",
       "            width=\"1000px\"\n",
       "            height=\"700px\"\n",
       "            src=\"degree_centrality_graph.html\"\n",
       "            frameborder=\"0\"\n",
       "            allowfullscreen\n",
       "            \n",
       "        ></iframe>\n",
       "        "
      ],
      "text/plain": [
       "<IPython.lib.display.IFrame at 0x7d6237f3dcc0>"
      ]
     },
     "execution_count": 7,
     "metadata": {},
     "output_type": "execute_result"
    }
   ],
   "source": [
    "degree_net = create_network_with_centrality(G, \"degree\")\n",
    "degree_net.show(\"degree_centrality_graph.html\")"
   ]
  },
  {
   "cell_type": "markdown",
   "id": "09908dd1",
   "metadata": {
    "papermill": {
     "duration": 0.021827,
     "end_time": "2024-08-07T11:53:36.981724",
     "exception": false,
     "start_time": "2024-08-07T11:53:36.959897",
     "status": "completed"
    },
    "tags": []
   },
   "source": [
    "### Weighted Degree Centrality\n",
    "Weighted degree centrality extends the concept of degree centrality by considering the weights of edges. While degree centrality counts the number of direct connections a node has, weighted degree centrality sums the weights of those connections, providing a more nuanced measure of a node's importance. In networks where connections have varying strengths or capacities, weighted degree centrality gives a better indication of the total \"influence\" or \"activity\" of a node. This is particularly useful in networks where not all connections are equal, such as social networks where relationships have different levels of interaction or transportation networks where routes have different capacities."
   ]
  },
  {
   "cell_type": "code",
   "execution_count": 8,
   "id": "dcb5b6cf",
   "metadata": {
    "execution": {
     "iopub.execute_input": "2024-08-07T11:53:37.028032Z",
     "iopub.status.busy": "2024-08-07T11:53:37.027572Z",
     "iopub.status.idle": "2024-08-07T11:53:37.353495Z",
     "shell.execute_reply": "2024-08-07T11:53:37.352369Z"
    },
    "papermill": {
     "duration": 0.352017,
     "end_time": "2024-08-07T11:53:37.356194",
     "exception": false,
     "start_time": "2024-08-07T11:53:37.004177",
     "status": "completed"
    },
    "tags": []
   },
   "outputs": [
    {
     "name": "stdout",
     "output_type": "stream",
     "text": [
      "weighted_degree_centrality_graph.html\n"
     ]
    },
    {
     "data": {
      "text/html": [
       "\n",
       "        <iframe\n",
       "            width=\"1000px\"\n",
       "            height=\"700px\"\n",
       "            src=\"weighted_degree_centrality_graph.html\"\n",
       "            frameborder=\"0\"\n",
       "            allowfullscreen\n",
       "            \n",
       "        ></iframe>\n",
       "        "
      ],
      "text/plain": [
       "<IPython.lib.display.IFrame at 0x7d623805b760>"
      ]
     },
     "execution_count": 8,
     "metadata": {},
     "output_type": "execute_result"
    }
   ],
   "source": [
    "weighted_degree_net = create_network_with_centrality(G, \"weighted_degree\")\n",
    "weighted_degree_net.show(\"weighted_degree_centrality_graph.html\")"
   ]
  },
  {
   "cell_type": "markdown",
   "id": "0c49ba7c",
   "metadata": {
    "papermill": {
     "duration": 0.021874,
     "end_time": "2024-08-07T11:53:37.400788",
     "exception": false,
     "start_time": "2024-08-07T11:53:37.378914",
     "status": "completed"
    },
    "tags": []
   },
   "source": [
    "### Betweenness Centrality\n",
    "Betweenness centrality is a measure that quantifies the importance of a node based on its role as a bridge in the network. It is defined as the number of times a node acts as a bridge along the shortest path between two other nodes. Nodes with high betweenness centrality often control the flow of information or resources in the network, as they lie on many of the shortest paths connecting different pairs of nodes. This measure is particularly useful for identifying influential nodes that facilitate communication or flow in networks such as transportation systems, social networks, and communication networks."
   ]
  },
  {
   "cell_type": "code",
   "execution_count": 9,
   "id": "1bae4c5b",
   "metadata": {
    "execution": {
     "iopub.execute_input": "2024-08-07T11:53:37.447382Z",
     "iopub.status.busy": "2024-08-07T11:53:37.446890Z",
     "iopub.status.idle": "2024-08-07T11:53:37.797582Z",
     "shell.execute_reply": "2024-08-07T11:53:37.796486Z"
    },
    "papermill": {
     "duration": 0.376932,
     "end_time": "2024-08-07T11:53:37.800025",
     "exception": false,
     "start_time": "2024-08-07T11:53:37.423093",
     "status": "completed"
    },
    "tags": []
   },
   "outputs": [
    {
     "name": "stdout",
     "output_type": "stream",
     "text": [
      "betweenness_centrality_graph.html\n"
     ]
    },
    {
     "data": {
      "text/html": [
       "\n",
       "        <iframe\n",
       "            width=\"1000px\"\n",
       "            height=\"700px\"\n",
       "            src=\"betweenness_centrality_graph.html\"\n",
       "            frameborder=\"0\"\n",
       "            allowfullscreen\n",
       "            \n",
       "        ></iframe>\n",
       "        "
      ],
      "text/plain": [
       "<IPython.lib.display.IFrame at 0x7d6237f6e170>"
      ]
     },
     "execution_count": 9,
     "metadata": {},
     "output_type": "execute_result"
    }
   ],
   "source": [
    "betweenness_net = create_network_with_centrality(G, \"betweenness\")\n",
    "betweenness_net.show(\"betweenness_centrality_graph.html\")"
   ]
  },
  {
   "cell_type": "markdown",
   "id": "dc26911f",
   "metadata": {
    "papermill": {
     "duration": 0.022375,
     "end_time": "2024-08-07T11:53:37.844843",
     "exception": false,
     "start_time": "2024-08-07T11:53:37.822468",
     "status": "completed"
    },
    "tags": []
   },
   "source": [
    "### Closeness Centrality\n",
    "Closeness centrality measures how quickly a node can access other nodes in a network. It is defined as the reciprocal of the average shortest path distance from a node to all other nodes in the network. A node with high closeness centrality can reach other nodes more quickly and efficiently than a node with lower closeness centrality. This centrality measure is useful in scenarios where the speed of reaching other nodes is crucial, such as in communication networks or organizational hierarchies where the efficiency of information dissemination is important."
   ]
  },
  {
   "cell_type": "code",
   "execution_count": 10,
   "id": "c38b7321",
   "metadata": {
    "execution": {
     "iopub.execute_input": "2024-08-07T11:53:37.892603Z",
     "iopub.status.busy": "2024-08-07T11:53:37.892186Z",
     "iopub.status.idle": "2024-08-07T11:53:38.235284Z",
     "shell.execute_reply": "2024-08-07T11:53:38.234161Z"
    },
    "papermill": {
     "duration": 0.369686,
     "end_time": "2024-08-07T11:53:38.237783",
     "exception": false,
     "start_time": "2024-08-07T11:53:37.868097",
     "status": "completed"
    },
    "tags": []
   },
   "outputs": [
    {
     "name": "stdout",
     "output_type": "stream",
     "text": [
      "closeness_centrality_graph.html\n"
     ]
    },
    {
     "data": {
      "text/html": [
       "\n",
       "        <iframe\n",
       "            width=\"1000px\"\n",
       "            height=\"700px\"\n",
       "            src=\"closeness_centrality_graph.html\"\n",
       "            frameborder=\"0\"\n",
       "            allowfullscreen\n",
       "            \n",
       "        ></iframe>\n",
       "        "
      ],
      "text/plain": [
       "<IPython.lib.display.IFrame at 0x7d6237f8b010>"
      ]
     },
     "execution_count": 10,
     "metadata": {},
     "output_type": "execute_result"
    }
   ],
   "source": [
    "closeness_net = create_network_with_centrality(G, \"closeness\")\n",
    "closeness_net.show(\"closeness_centrality_graph.html\")"
   ]
  },
  {
   "cell_type": "markdown",
   "id": "9ae97abf",
   "metadata": {
    "papermill": {
     "duration": 0.022971,
     "end_time": "2024-08-07T11:53:38.283637",
     "exception": false,
     "start_time": "2024-08-07T11:53:38.260666",
     "status": "completed"
    },
    "tags": []
   },
   "source": [
    "### Eigenvector Centrality\n",
    "Eigenvector centrality extends the idea of degree centrality by considering not just the quantity but also the quality of connections. It assigns relative scores to all nodes in the network based on the principle that connections to high-scoring nodes contribute more to the node's score than equal connections to low-scoring nodes. Eigenvector centrality identifies nodes that are not only well-connected but are connected to other well-connected nodes. It is particularly useful in social networks where influence and prestige are key, as it helps identify nodes that are influential by association with other influential nodes."
   ]
  },
  {
   "cell_type": "code",
   "execution_count": 11,
   "id": "7fc35634",
   "metadata": {
    "execution": {
     "iopub.execute_input": "2024-08-07T11:53:38.333597Z",
     "iopub.status.busy": "2024-08-07T11:53:38.333189Z",
     "iopub.status.idle": "2024-08-07T11:53:38.658108Z",
     "shell.execute_reply": "2024-08-07T11:53:38.656777Z"
    },
    "papermill": {
     "duration": 0.352296,
     "end_time": "2024-08-07T11:53:38.660874",
     "exception": false,
     "start_time": "2024-08-07T11:53:38.308578",
     "status": "completed"
    },
    "tags": []
   },
   "outputs": [
    {
     "name": "stdout",
     "output_type": "stream",
     "text": [
      "eigenvector_centrality_graph.html\n"
     ]
    },
    {
     "data": {
      "text/html": [
       "\n",
       "        <iframe\n",
       "            width=\"1000px\"\n",
       "            height=\"700px\"\n",
       "            src=\"eigenvector_centrality_graph.html\"\n",
       "            frameborder=\"0\"\n",
       "            allowfullscreen\n",
       "            \n",
       "        ></iframe>\n",
       "        "
      ],
      "text/plain": [
       "<IPython.lib.display.IFrame at 0x7d6237f9b6a0>"
      ]
     },
     "execution_count": 11,
     "metadata": {},
     "output_type": "execute_result"
    }
   ],
   "source": [
    "eigenvector_net = create_network_with_centrality(G, \"eigenvector\")\n",
    "eigenvector_net.show(\"eigenvector_centrality_graph.html\")"
   ]
  },
  {
   "cell_type": "markdown",
   "id": "a63a834d",
   "metadata": {
    "papermill": {
     "duration": 0.023054,
     "end_time": "2024-08-07T11:53:38.707256",
     "exception": false,
     "start_time": "2024-08-07T11:53:38.684202",
     "status": "completed"
    },
    "tags": []
   },
   "source": [
    "### Page Rank\n",
    "PageRank is a variant of eigenvector centrality that was originally developed by Google to rank web pages in search results. It measures the importance of a node based on the structure of the network and the concept of link \"voting\" or \"recommendation.\" A node receives a high PageRank if it is linked to by many nodes, especially if those nodes themselves have high PageRank. Unlike eigenvector centrality, PageRank also introduces a damping factor that allows the centrality to capture the probability of randomly arriving at a node by following links. This centrality measure is valuable in web networks, citation networks, and any system where the notion of \"endorsed importance\" is relevant."
   ]
  },
  {
   "cell_type": "code",
   "execution_count": 12,
   "id": "0232fac0",
   "metadata": {
    "execution": {
     "iopub.execute_input": "2024-08-07T11:53:38.825747Z",
     "iopub.status.busy": "2024-08-07T11:53:38.825306Z",
     "iopub.status.idle": "2024-08-07T11:53:39.154873Z",
     "shell.execute_reply": "2024-08-07T11:53:39.153571Z"
    },
    "papermill": {
     "duration": 0.357792,
     "end_time": "2024-08-07T11:53:39.157812",
     "exception": false,
     "start_time": "2024-08-07T11:53:38.800020",
     "status": "completed"
    },
    "tags": []
   },
   "outputs": [
    {
     "name": "stdout",
     "output_type": "stream",
     "text": [
      "pagerank_centrality_graph.html\n"
     ]
    },
    {
     "data": {
      "text/html": [
       "\n",
       "        <iframe\n",
       "            width=\"1000px\"\n",
       "            height=\"700px\"\n",
       "            src=\"pagerank_centrality_graph.html\"\n",
       "            frameborder=\"0\"\n",
       "            allowfullscreen\n",
       "            \n",
       "        ></iframe>\n",
       "        "
      ],
      "text/plain": [
       "<IPython.lib.display.IFrame at 0x7d623805ba90>"
      ]
     },
     "execution_count": 12,
     "metadata": {},
     "output_type": "execute_result"
    }
   ],
   "source": [
    "pagerank_net = create_network_with_centrality(G, \"pagerank\")\n",
    "pagerank_net.show(\"pagerank_centrality_graph.html\")"
   ]
  },
  {
   "cell_type": "markdown",
   "id": "c271958a",
   "metadata": {
    "papermill": {
     "duration": 0.023344,
     "end_time": "2024-08-07T11:53:39.205544",
     "exception": false,
     "start_time": "2024-08-07T11:53:39.182200",
     "status": "completed"
    },
    "tags": []
   },
   "source": [
    "## Centrality Summary\n",
    "The various centrality defintions can be overwhelming. Actually they can described much easier with just one question. \n",
    "\n",
    "1. **Degree Centrality:** Do you have many connections?\n",
    "2. **Weighted Degree Centrality:** Do you have many interactions?\n",
    "3. **Betweenness Centrality:** Do you help to connect different parts of the network?\n",
    "4. **Closeness Centrality:** How quickly can you reach all other nodes in the network?\n",
    "5. **Eigenvector Centrality:** Do you have many connections to important people?\n",
    "6. **PageRank:** Do you have many interactions with important people?"
   ]
  },
  {
   "cell_type": "markdown",
   "id": "f067a8f7",
   "metadata": {
    "papermill": {
     "duration": 0.023747,
     "end_time": "2024-08-07T11:53:39.254032",
     "exception": false,
     "start_time": "2024-08-07T11:53:39.230285",
     "status": "completed"
    },
    "tags": []
   },
   "source": [
    "## Communities\n",
    "Communities in networks are subsets of nodes that are more densely connected internally than with the rest of the network. This concept stems from the observation that in many real-world networks, such as social, biological, and technological networks, nodes tend to form tightly-knit groups with strong internal connections. These groups often represent functional or logical units within the network. For example, in a social network, communities might correspond to groups of friends or colleagues who interact frequently. In a biological network, they could represent protein complexes or metabolic pathways.\n",
    "\n",
    "The existence of communities is a key feature of complex networks, distinguishing them from random networks. Communities are often characterized by a high clustering coefficient, which is a measure of the degree to which nodes in a graph tend to cluster together. This clustering is typically much higher in real-world networks than in random graphs of the same size and density.\n",
    "\n",
    "The theoretical foundation of community detection is built upon the concept of modularity, introduced by Newman and Girvan. Modularity is a measure used to quantify the strength of division of a network into communities. It is defined as the fraction of the edges that fall within the given groups minus the expected fraction if edges were distributed at random. A high modularity score indicates a strong community structure, where many edges fall within communities rather than between them."
   ]
  },
  {
   "cell_type": "code",
   "execution_count": 13,
   "id": "097c3cd8",
   "metadata": {
    "execution": {
     "iopub.execute_input": "2024-08-07T11:53:39.303996Z",
     "iopub.status.busy": "2024-08-07T11:53:39.303533Z",
     "iopub.status.idle": "2024-08-07T11:53:39.315829Z",
     "shell.execute_reply": "2024-08-07T11:53:39.314422Z"
    },
    "jupyter": {
     "source_hidden": true
    },
    "papermill": {
     "duration": 0.04068,
     "end_time": "2024-08-07T11:53:39.318719",
     "exception": false,
     "start_time": "2024-08-07T11:53:39.278039",
     "status": "completed"
    },
    "tags": []
   },
   "outputs": [],
   "source": [
    "def create_network_with_communities(G, communities):\n",
    "    distinct_colors = ['#FF0000', '#0000FF', '#008000', '#000000', '#FFA500', \n",
    "                       '#800080', '#00FFFF', '#FFD700', '#FF00FF', '#C0C0C0']\n",
    "\n",
    "    community_colors = {\n",
    "        community: distinct_colors[i % len(distinct_colors)]\n",
    "        for i, community in enumerate(set(communities.values()))\n",
    "    }\n",
    "\n",
    "    net = Network(height=\"700px\", width=\"1000px\", bgcolor=\"#ffffff\", font_color=\"black\", notebook=True, cdn_resources='in_line')\n",
    "\n",
    "    node_size = 15\n",
    "    for node in G.nodes():\n",
    "        community = communities[node]\n",
    "        net.add_node(node, label=str(node), size=node_size, color=community_colors[community])\n",
    "\n",
    "    min_weight = min(nx.get_edge_attributes(G, 'weight').values())\n",
    "    max_weight = max(nx.get_edge_attributes(G, 'weight').values())\n",
    "\n",
    "    for edge in G.edges(data=True):\n",
    "        u, v, data = edge\n",
    "        weight = data['weight']\n",
    "        thickness = ((weight - min_weight) / (max_weight - min_weight)) * 3 + 0.5\n",
    "        net.add_edge(u, v, width=thickness)\n",
    "\n",
    "    net.set_options(\"\"\"\n",
    "    var options = {\n",
    "      \"physics\": {\n",
    "        \"enabled\": true\n",
    "      }\n",
    "    }\n",
    "    \"\"\")\n",
    "\n",
    "    return net"
   ]
  },
  {
   "cell_type": "markdown",
   "id": "f69e6e72",
   "metadata": {
    "papermill": {
     "duration": 0.023203,
     "end_time": "2024-08-07T11:53:39.366149",
     "exception": false,
     "start_time": "2024-08-07T11:53:39.342946",
     "status": "completed"
    },
    "tags": []
   },
   "source": [
    "### Louvain Method\n",
    "The Louvain method is one of the most popular algorithms due to its efficiency and scalability. It works by iteratively optimizing the modularity of the network. Initially, each node is assigned to its own community. The algorithm then repeatedly merges communities in a way that maximizes the overall modularity until no further improvements can be made. The result is a hierarchy of communities, from fine to coarse granularity."
   ]
  },
  {
   "cell_type": "code",
   "execution_count": 14,
   "id": "a97f5e1e",
   "metadata": {
    "execution": {
     "iopub.execute_input": "2024-08-07T11:53:39.415319Z",
     "iopub.status.busy": "2024-08-07T11:53:39.414888Z",
     "iopub.status.idle": "2024-08-07T11:53:39.420426Z",
     "shell.execute_reply": "2024-08-07T11:53:39.419231Z"
    },
    "papermill": {
     "duration": 0.033332,
     "end_time": "2024-08-07T11:53:39.422990",
     "exception": false,
     "start_time": "2024-08-07T11:53:39.389658",
     "status": "completed"
    },
    "tags": []
   },
   "outputs": [],
   "source": [
    "def louvain_communities(G):\n",
    "    partition = community_louvain.best_partition(G, weight='weight')\n",
    "    return partition"
   ]
  },
  {
   "cell_type": "code",
   "execution_count": 15,
   "id": "2ca2b40e",
   "metadata": {
    "execution": {
     "iopub.execute_input": "2024-08-07T11:53:39.472487Z",
     "iopub.status.busy": "2024-08-07T11:53:39.472075Z",
     "iopub.status.idle": "2024-08-07T11:53:39.805331Z",
     "shell.execute_reply": "2024-08-07T11:53:39.804027Z"
    },
    "papermill": {
     "duration": 0.361297,
     "end_time": "2024-08-07T11:53:39.808182",
     "exception": false,
     "start_time": "2024-08-07T11:53:39.446885",
     "status": "completed"
    },
    "tags": []
   },
   "outputs": [
    {
     "name": "stdout",
     "output_type": "stream",
     "text": [
      "Louvain_communities_graph.html\n"
     ]
    },
    {
     "data": {
      "text/html": [
       "\n",
       "        <iframe\n",
       "            width=\"1000px\"\n",
       "            height=\"700px\"\n",
       "            src=\"Louvain_communities_graph.html\"\n",
       "            frameborder=\"0\"\n",
       "            allowfullscreen\n",
       "            \n",
       "        ></iframe>\n",
       "        "
      ],
      "text/plain": [
       "<IPython.lib.display.IFrame at 0x7d6257082e90>"
      ]
     },
     "execution_count": 15,
     "metadata": {},
     "output_type": "execute_result"
    }
   ],
   "source": [
    "louvain_communities = louvain_communities(G)\n",
    "louvain_net = create_network_with_communities(G, louvain_communities)\n",
    "louvain_net.show(\"Louvain_communities_graph.html\")"
   ]
  },
  {
   "cell_type": "markdown",
   "id": "c3699dcb",
   "metadata": {
    "papermill": {
     "duration": 0.023906,
     "end_time": "2024-08-07T11:53:39.856160",
     "exception": false,
     "start_time": "2024-08-07T11:53:39.832254",
     "status": "completed"
    },
    "tags": []
   },
   "source": [
    "### Girvan-Newman Algorithm\n",
    "The Girvan-Newman algorithm focuses on edge betweenness centrality, which measures the number of shortest paths that pass through an edge. By iteratively removing edges with the highest betweenness centrality, the algorithm isolates communities by progressively breaking the network apart. This approach is computationally intensive and better suited for smaller networks."
   ]
  },
  {
   "cell_type": "code",
   "execution_count": 16,
   "id": "98998635",
   "metadata": {
    "execution": {
     "iopub.execute_input": "2024-08-07T11:53:39.907887Z",
     "iopub.status.busy": "2024-08-07T11:53:39.907412Z",
     "iopub.status.idle": "2024-08-07T11:53:39.914428Z",
     "shell.execute_reply": "2024-08-07T11:53:39.913003Z"
    },
    "papermill": {
     "duration": 0.035616,
     "end_time": "2024-08-07T11:53:39.916928",
     "exception": false,
     "start_time": "2024-08-07T11:53:39.881312",
     "status": "completed"
    },
    "tags": []
   },
   "outputs": [],
   "source": [
    "def girvan_newman_communities(G):\n",
    "    comp = girvan_newman(G)\n",
    "    limited = tuple(sorted(c) for c in next(comp))\n",
    "    community_map = {}\n",
    "    for idx, community in enumerate(limited):\n",
    "        for node in community:\n",
    "            community_map[node] = idx\n",
    "    return community_map"
   ]
  },
  {
   "cell_type": "code",
   "execution_count": 17,
   "id": "e29b2886",
   "metadata": {
    "execution": {
     "iopub.execute_input": "2024-08-07T11:53:39.966862Z",
     "iopub.status.busy": "2024-08-07T11:53:39.966145Z",
     "iopub.status.idle": "2024-08-07T11:53:40.355579Z",
     "shell.execute_reply": "2024-08-07T11:53:40.354149Z"
    },
    "papermill": {
     "duration": 0.417544,
     "end_time": "2024-08-07T11:53:40.358467",
     "exception": false,
     "start_time": "2024-08-07T11:53:39.940923",
     "status": "completed"
    },
    "tags": []
   },
   "outputs": [
    {
     "name": "stdout",
     "output_type": "stream",
     "text": [
      "Girvan-Newman_communities_graph.html\n"
     ]
    },
    {
     "data": {
      "text/html": [
       "\n",
       "        <iframe\n",
       "            width=\"1000px\"\n",
       "            height=\"700px\"\n",
       "            src=\"Girvan-Newman_communities_graph.html\"\n",
       "            frameborder=\"0\"\n",
       "            allowfullscreen\n",
       "            \n",
       "        ></iframe>\n",
       "        "
      ],
      "text/plain": [
       "<IPython.lib.display.IFrame at 0x7d6237e10eb0>"
      ]
     },
     "execution_count": 17,
     "metadata": {},
     "output_type": "execute_result"
    }
   ],
   "source": [
    "gn_communities = girvan_newman_communities(G)\n",
    "gn_net = create_network_with_communities(G, gn_communities)\n",
    "gn_net.show(\"Girvan-Newman_communities_graph.html\")"
   ]
  },
  {
   "cell_type": "markdown",
   "id": "5cebb2ae",
   "metadata": {
    "papermill": {
     "duration": 0.024475,
     "end_time": "2024-08-07T11:53:40.406931",
     "exception": false,
     "start_time": "2024-08-07T11:53:40.382456",
     "status": "completed"
    },
    "tags": []
   },
   "source": [
    "### Spectral Clustering\n",
    "Spectral clustering leverages the eigenvectors of matrices associated with the graph, such as the Laplacian matrix. By examining the top eigenvectors, the algorithm partitions the graph into communities. This method is effective for identifying well-separated clusters but can be sensitive to noise and outliers."
   ]
  },
  {
   "cell_type": "code",
   "execution_count": 18,
   "id": "e56281fa",
   "metadata": {
    "execution": {
     "iopub.execute_input": "2024-08-07T11:53:40.457240Z",
     "iopub.status.busy": "2024-08-07T11:53:40.456836Z",
     "iopub.status.idle": "2024-08-07T11:53:40.464055Z",
     "shell.execute_reply": "2024-08-07T11:53:40.462858Z"
    },
    "papermill": {
     "duration": 0.035566,
     "end_time": "2024-08-07T11:53:40.466710",
     "exception": false,
     "start_time": "2024-08-07T11:53:40.431144",
     "status": "completed"
    },
    "tags": []
   },
   "outputs": [],
   "source": [
    "def spectral_clustering_communities(G, n_clusters=4):\n",
    "    adjacency_matrix = nx.to_numpy_array(G)\n",
    "    sc = SpectralClustering(n_clusters=n_clusters, affinity='precomputed', random_state=42)\n",
    "    labels = sc.fit_predict(adjacency_matrix)\n",
    "    community_map = {node: labels[i] for i, node in enumerate(G.nodes())}\n",
    "    return community_map"
   ]
  },
  {
   "cell_type": "code",
   "execution_count": 19,
   "id": "b3d509fb",
   "metadata": {
    "execution": {
     "iopub.execute_input": "2024-08-07T11:53:40.518821Z",
     "iopub.status.busy": "2024-08-07T11:53:40.518346Z",
     "iopub.status.idle": "2024-08-07T11:53:41.583612Z",
     "shell.execute_reply": "2024-08-07T11:53:41.582463Z"
    },
    "papermill": {
     "duration": 1.093902,
     "end_time": "2024-08-07T11:53:41.586533",
     "exception": false,
     "start_time": "2024-08-07T11:53:40.492631",
     "status": "completed"
    },
    "tags": []
   },
   "outputs": [
    {
     "name": "stdout",
     "output_type": "stream",
     "text": [
      "Spectral_Clustering_communities_graph.html\n"
     ]
    },
    {
     "data": {
      "text/html": [
       "\n",
       "        <iframe\n",
       "            width=\"1000px\"\n",
       "            height=\"700px\"\n",
       "            src=\"Spectral_Clustering_communities_graph.html\"\n",
       "            frameborder=\"0\"\n",
       "            allowfullscreen\n",
       "            \n",
       "        ></iframe>\n",
       "        "
      ],
      "text/plain": [
       "<IPython.lib.display.IFrame at 0x7d6237f988b0>"
      ]
     },
     "execution_count": 19,
     "metadata": {},
     "output_type": "execute_result"
    }
   ],
   "source": [
    "spectral_communities = spectral_clustering_communities(G)\n",
    "spectral_net = create_network_with_communities(G, spectral_communities)\n",
    "spectral_net.show(\"Spectral_Clustering_communities_graph.html\")"
   ]
  },
  {
   "cell_type": "markdown",
   "id": "f81f8196",
   "metadata": {
    "papermill": {
     "duration": 0.024243,
     "end_time": "2024-08-07T11:53:41.635637",
     "exception": false,
     "start_time": "2024-08-07T11:53:41.611394",
     "status": "completed"
    },
    "tags": []
   },
   "source": [
    "### Label Propagation\n",
    "Label propagation is a simple yet effective algorithm that assigns labels to nodes, which are then propagated through the network based on the labels of neighboring nodes. This process continues iteratively until a stable state is reached. Although fast and scalable, label propagation may yield different results on different runs due to its random initialization."
   ]
  },
  {
   "cell_type": "code",
   "execution_count": 20,
   "id": "c35a1c13",
   "metadata": {
    "execution": {
     "iopub.execute_input": "2024-08-07T11:53:41.686738Z",
     "iopub.status.busy": "2024-08-07T11:53:41.686307Z",
     "iopub.status.idle": "2024-08-07T11:53:41.694208Z",
     "shell.execute_reply": "2024-08-07T11:53:41.693110Z"
    },
    "papermill": {
     "duration": 0.03649,
     "end_time": "2024-08-07T11:53:41.696979",
     "exception": false,
     "start_time": "2024-08-07T11:53:41.660489",
     "status": "completed"
    },
    "tags": []
   },
   "outputs": [],
   "source": [
    "def label_propagation_communities_map(G):\n",
    "    communities = list(label_propagation_communities(G))\n",
    "    community_map = {}\n",
    "    for idx, community in enumerate(communities):\n",
    "        for node in community:\n",
    "            community_map[node] = idx\n",
    "    return community_map"
   ]
  },
  {
   "cell_type": "code",
   "execution_count": 21,
   "id": "4172af36",
   "metadata": {
    "execution": {
     "iopub.execute_input": "2024-08-07T11:53:41.749483Z",
     "iopub.status.busy": "2024-08-07T11:53:41.749045Z",
     "iopub.status.idle": "2024-08-07T11:53:42.069054Z",
     "shell.execute_reply": "2024-08-07T11:53:42.067778Z"
    },
    "papermill": {
     "duration": 0.349601,
     "end_time": "2024-08-07T11:53:42.071828",
     "exception": false,
     "start_time": "2024-08-07T11:53:41.722227",
     "status": "completed"
    },
    "tags": []
   },
   "outputs": [
    {
     "name": "stdout",
     "output_type": "stream",
     "text": [
      "Label_Propagation_communities_graph.html\n"
     ]
    },
    {
     "data": {
      "text/html": [
       "\n",
       "        <iframe\n",
       "            width=\"1000px\"\n",
       "            height=\"700px\"\n",
       "            src=\"Label_Propagation_communities_graph.html\"\n",
       "            frameborder=\"0\"\n",
       "            allowfullscreen\n",
       "            \n",
       "        ></iframe>\n",
       "        "
      ],
      "text/plain": [
       "<IPython.lib.display.IFrame at 0x7d6237e103a0>"
      ]
     },
     "execution_count": 21,
     "metadata": {},
     "output_type": "execute_result"
    }
   ],
   "source": [
    "lp_communities = label_propagation_communities_map(G)\n",
    "lp_net = create_network_with_communities(G, lp_communities)\n",
    "lp_net.show(\"Label_Propagation_communities_graph.html\")"
   ]
  },
  {
   "cell_type": "markdown",
   "id": "37411b03",
   "metadata": {
    "papermill": {
     "duration": 0.024305,
     "end_time": "2024-08-07T11:53:42.121205",
     "exception": false,
     "start_time": "2024-08-07T11:53:42.096900",
     "status": "completed"
    },
    "tags": []
   },
   "source": [
    "### Infomap\n",
    "Infomap uses an information-theoretic approach to community detection by modeling the network as a flow of random walks. It identifies communities by finding the best compression of this flow, which corresponds to densely connected regions. Infomap is particularly effective in networks where the flow of information is of interest, such as communication networks."
   ]
  },
  {
   "cell_type": "code",
   "execution_count": 22,
   "id": "450358e9",
   "metadata": {
    "execution": {
     "iopub.execute_input": "2024-08-07T11:53:42.172877Z",
     "iopub.status.busy": "2024-08-07T11:53:42.172428Z",
     "iopub.status.idle": "2024-08-07T11:53:42.179670Z",
     "shell.execute_reply": "2024-08-07T11:53:42.178360Z"
    },
    "papermill": {
     "duration": 0.036192,
     "end_time": "2024-08-07T11:53:42.182387",
     "exception": false,
     "start_time": "2024-08-07T11:53:42.146195",
     "status": "completed"
    },
    "tags": []
   },
   "outputs": [],
   "source": [
    "def infomap_communities(G):\n",
    "    infomap = Infomap()\n",
    "    for edge in G.edges(data=True):\n",
    "        infomap.addLink(edge[0], edge[1], edge[2]['weight'])\n",
    "    infomap.run()\n",
    "    community_map = {node.node_id: node.module_id for node in infomap.iterLeafNodes()}\n",
    "    return community_map"
   ]
  },
  {
   "cell_type": "code",
   "execution_count": 23,
   "id": "f56e94a8",
   "metadata": {
    "execution": {
     "iopub.execute_input": "2024-08-07T11:53:42.236351Z",
     "iopub.status.busy": "2024-08-07T11:53:42.235056Z",
     "iopub.status.idle": "2024-08-07T11:53:42.559723Z",
     "shell.execute_reply": "2024-08-07T11:53:42.558511Z"
    },
    "papermill": {
     "duration": 0.354647,
     "end_time": "2024-08-07T11:53:42.562580",
     "exception": false,
     "start_time": "2024-08-07T11:53:42.207933",
     "status": "completed"
    },
    "tags": []
   },
   "outputs": [
    {
     "name": "stdout",
     "output_type": "stream",
     "text": [
      "=======================================================\n",
      "  Infomap v2.8.0 starts at 2024-08-07 11:53:42\n",
      "  -> Input network: \n",
      "  -> No file output!\n",
      "=======================================================\n",
      "  OpenMP 201511 detected with 4 threads...\n",
      "  -> Ordinary network input, using the Map Equation for first order network flows\n",
      "Calculating global network flow using flow model 'undirected'... \n",
      "  -> Using undirected links.\n",
      "  => Sum node flow: 1, sum link flow: 1\n",
      "Build internal network with 40 nodes and 138 links...\n",
      "  -> One-level codelength: 5.2137009\n",
      "\n",
      "================================================\n",
      "Trial 1/1 starting at 2024-08-07 11:53:42\n",
      "================================================\n",
      "Two-level compression: -1.9% 0.43% Infomap_communities_graph.html\n"
     ]
    },
    {
     "data": {
      "text/html": [
       "\n",
       "        <iframe\n",
       "            width=\"1000px\"\n",
       "            height=\"700px\"\n",
       "            src=\"Infomap_communities_graph.html\"\n",
       "            frameborder=\"0\"\n",
       "            allowfullscreen\n",
       "            \n",
       "        ></iframe>\n",
       "        "
      ],
      "text/plain": [
       "<IPython.lib.display.IFrame at 0x7d6257083130>"
      ]
     },
     "execution_count": 23,
     "metadata": {},
     "output_type": "execute_result"
    }
   ],
   "source": [
    "infomap_communities = infomap_communities(G)\n",
    "infomap_net = create_network_with_communities(G, infomap_communities)\n",
    "infomap_net.show(\"Infomap_communities_graph.html\")"
   ]
  },
  {
   "cell_type": "markdown",
   "id": "61fd900f",
   "metadata": {
    "papermill": {
     "duration": 0.025413,
     "end_time": "2024-08-07T11:53:42.613047",
     "exception": false,
     "start_time": "2024-08-07T11:53:42.587634",
     "status": "completed"
    },
    "tags": []
   },
   "source": [
    "# Additional Information\n",
    "In addition to communities and centralities, there are several other important concepts and techniques in Social Network Analysis that can provide deeper insights into network structures and dynamtics. Let´s go throw a few ones. "
   ]
  },
  {
   "cell_type": "markdown",
   "id": "f765ad53",
   "metadata": {
    "papermill": {
     "duration": 0.02476,
     "end_time": "2024-08-07T11:53:42.664244",
     "exception": false,
     "start_time": "2024-08-07T11:53:42.639484",
     "status": "completed"
    },
    "tags": []
   },
   "source": [
    "## Network Topology and Properties\n",
    "### Network Density\n",
    "This measures how closely the network is to being complete. It is the ratio of the number of edges in the network to the number of possible edges. A dense network has many connections between nodes, whereas a sparse network has few. For example, our network has 40 nodes, each node could potentially connect to 39 other nodes. A density of 100% (40/40) is the greatest density in the system. In our case the network density of 0.18 suggests a relatively low to moderate level of interconnectedness among the nodes within the network. This can imply that the network is sparse, with many potential relationships not being actualized. "
   ]
  },
  {
   "cell_type": "code",
   "execution_count": 24,
   "id": "d79eb8c8",
   "metadata": {
    "execution": {
     "iopub.execute_input": "2024-08-07T11:53:42.718393Z",
     "iopub.status.busy": "2024-08-07T11:53:42.717901Z",
     "iopub.status.idle": "2024-08-07T11:53:42.724520Z",
     "shell.execute_reply": "2024-08-07T11:53:42.723450Z"
    },
    "papermill": {
     "duration": 0.036299,
     "end_time": "2024-08-07T11:53:42.727152",
     "exception": false,
     "start_time": "2024-08-07T11:53:42.690853",
     "status": "completed"
    },
    "tags": []
   },
   "outputs": [
    {
     "name": "stdout",
     "output_type": "stream",
     "text": [
      "Network Density: 0.18\n"
     ]
    }
   ],
   "source": [
    "density = nx.density(G)\n",
    "print(f\"Network Density: {density:.2f}\")"
   ]
  },
  {
   "cell_type": "markdown",
   "id": "1500690d",
   "metadata": {
    "papermill": {
     "duration": 0.024785,
     "end_time": "2024-08-07T11:53:42.777338",
     "exception": false,
     "start_time": "2024-08-07T11:53:42.752553",
     "status": "completed"
    },
    "tags": []
   },
   "source": [
    "### Diameter and Average Path Length\n",
    "The diameter of a network is the longest shortest path between any two nodes in the network. A diameter of 3 means:\n",
    "- Shortest Longest Path: The maximum distance you would have to travel between the most distant pair of nodes in the network is 3 edges. This is relatively short, indicating that even the most remote nodes are not very far from each other.\n",
    "- Cohesion and Compactness: The network is fairly cohesive and compact, suggesting that it has a relatively efficient structure where information or resources can spread quickly from one node to any other in a few steps.\n",
    "\n",
    "The average path length is the average number of steps along the shortest paths for all possible pairs of network nodes. An average path length of 2.06 indicates:\n",
    "- Quick Connectivity: On average, any node is about 2 steps away from any other node. This further supports the idea of a tightly connected network.\n",
    "- Efficiency in Communication or Flow: This short average path length implies that the network can facilitate quick and efficient communication or transfer of information, resources, or influence among its members."
   ]
  },
  {
   "cell_type": "code",
   "execution_count": 25,
   "id": "27bf631f",
   "metadata": {
    "execution": {
     "iopub.execute_input": "2024-08-07T11:53:42.829821Z",
     "iopub.status.busy": "2024-08-07T11:53:42.829341Z",
     "iopub.status.idle": "2024-08-07T11:53:42.841088Z",
     "shell.execute_reply": "2024-08-07T11:53:42.839797Z"
    },
    "papermill": {
     "duration": 0.04103,
     "end_time": "2024-08-07T11:53:42.843768",
     "exception": false,
     "start_time": "2024-08-07T11:53:42.802738",
     "status": "completed"
    },
    "tags": []
   },
   "outputs": [
    {
     "name": "stdout",
     "output_type": "stream",
     "text": [
      "Diameter: 3\n",
      "Average Path Length: 2.06\n"
     ]
    }
   ],
   "source": [
    "if nx.is_connected(G):\n",
    "    diameter = nx.diameter(G)\n",
    "    print(f\"Diameter: {diameter}\")\n",
    "else:\n",
    "    print(\"Graph is not connected; diameter is undefined.\")\n",
    "\n",
    "if nx.is_connected(G):\n",
    "    avg_path_length = nx.average_shortest_path_length(G)\n",
    "    print(f\"Average Path Length: {avg_path_length:.2f}\")\n",
    "else:\n",
    "    print(\"Graph is not connected; average path length is undefined.\")"
   ]
  },
  {
   "cell_type": "markdown",
   "id": "916b1476",
   "metadata": {
    "papermill": {
     "duration": 0.026586,
     "end_time": "2024-08-07T11:53:42.895791",
     "exception": false,
     "start_time": "2024-08-07T11:53:42.869205",
     "status": "completed"
    },
    "tags": []
   },
   "source": [
    "### Clustering Coefficient\n",
    "This metric measures the degree to which nodes in a network tend to cluster together. A high clustering coefficient indicates a high likelihood of forming tightly knit groups.\n",
    "A clustering coefficient of 0.17 suggests:\n",
    "- Moderate Clustering: Nodes in the network on average have about 17% of the maximum possible connections among their immediate neighbors. This indicates a moderate level of clustering within the network.\n",
    "- Local Connectivity: The relatively low value (since it is closer to 0 than to 1) implies that while there are some tightly knit groups or cliques within the network, they are not the norm across the entire network. Most nodes do not form tightly connected groups.\n",
    "- Network Structure: The network likely has a mix of some densely connected subgroups and many nodes with looser connections to their neighbors. This suggests variability in how groups within the network are structured."
   ]
  },
  {
   "cell_type": "code",
   "execution_count": 26,
   "id": "323c3867",
   "metadata": {
    "execution": {
     "iopub.execute_input": "2024-08-07T11:53:42.949727Z",
     "iopub.status.busy": "2024-08-07T11:53:42.948495Z",
     "iopub.status.idle": "2024-08-07T11:53:42.959991Z",
     "shell.execute_reply": "2024-08-07T11:53:42.958781Z"
    },
    "papermill": {
     "duration": 0.040943,
     "end_time": "2024-08-07T11:53:42.962801",
     "exception": false,
     "start_time": "2024-08-07T11:53:42.921858",
     "status": "completed"
    },
    "tags": []
   },
   "outputs": [
    {
     "name": "stdout",
     "output_type": "stream",
     "text": [
      "Average Clustering Coefficient: 0.17\n"
     ]
    }
   ],
   "source": [
    "clustering_coefficient = nx.average_clustering(G)\n",
    "print(f\"Average Clustering Coefficient: {clustering_coefficient:.2f}\")"
   ]
  },
  {
   "cell_type": "markdown",
   "id": "348464e4",
   "metadata": {
    "papermill": {
     "duration": 0.025222,
     "end_time": "2024-08-07T11:53:43.013387",
     "exception": false,
     "start_time": "2024-08-07T11:53:42.988165",
     "status": "completed"
    },
    "tags": []
   },
   "source": [
    "### Network Components\n",
    "Identifying connected components can reveal isolated sub-networks within a larger network. This is useful for understanding disconnected groups.\n",
    "In our network we only have one connected component in the graph. "
   ]
  },
  {
   "cell_type": "code",
   "execution_count": 27,
   "id": "8f0ed957",
   "metadata": {
    "execution": {
     "iopub.execute_input": "2024-08-07T11:53:43.066952Z",
     "iopub.status.busy": "2024-08-07T11:53:43.066514Z",
     "iopub.status.idle": "2024-08-07T11:53:43.073524Z",
     "shell.execute_reply": "2024-08-07T11:53:43.072266Z"
    },
    "papermill": {
     "duration": 0.037475,
     "end_time": "2024-08-07T11:53:43.076845",
     "exception": false,
     "start_time": "2024-08-07T11:53:43.039370",
     "status": "completed"
    },
    "tags": []
   },
   "outputs": [
    {
     "name": "stdout",
     "output_type": "stream",
     "text": [
      "Number of connected components: 1\n",
      "Component 1: {0, 1, 2, 3, 4, 5, 6, 7, 8, 9, 10, 11, 12, 13, 14, 15, 16, 17, 18, 19, 20, 21, 22, 23, 24, 25, 26, 27, 28, 29, 30, 31, 32, 33, 34, 35, 36, 37, 38, 39}\n"
     ]
    }
   ],
   "source": [
    "components = list(nx.connected_components(G))\n",
    "print(f\"Number of connected components: {len(components)}\")\n",
    "\n",
    "for i, component in enumerate(components):\n",
    "    print(f\"Component {i + 1}: {component}\")"
   ]
  },
  {
   "cell_type": "markdown",
   "id": "1c2bc925",
   "metadata": {
    "papermill": {
     "duration": 0.025006,
     "end_time": "2024-08-07T11:53:43.127542",
     "exception": false,
     "start_time": "2024-08-07T11:53:43.102536",
     "status": "completed"
    },
    "tags": []
   },
   "source": [
    "## Node-Level Metrics\n",
    "### K-core Decomposition\n",
    "This identifies subgraphs where each node is connected to at least k other nodes. K-core decomposition can help identify central, tightly-knit regions of a network. A k-core is a subgraph in which each node has at least k connections within that subgraph. The core number of a node is the highest value k for which that node is part of a k-core. This metric is used to identify highly interconnected groups of nodes and the relative influence of centralitiy nodes within the network. \n",
    "\n",
    "Most of our nodes (almost all except two) have a core number of 4. This indicates that these nodes are part of a subgraph where each node has at least four connections to other nodes within this subgraph. It suggests that the majority of the network is very well-connected. \n",
    "\n",
    "Therefore we can make some implications:\n",
    "- Network Cohesion: The high core numbers across most nodes suggest a strong cohesion and robustness in the network. Nodes within a high k-core are generally more central to the network and can influence it significantly.\n",
    "- Resilience and Stability: Networks with high k-core values are generally more resilient to random failures or attacks. Because nodes in high k-cores are interconnected, the removal of one node often doesn't isolate others.\n",
    "- Focus Areas for Analysis or Intervention: Nodes with lower core numbers might either represent peripheral areas of the network or potential points of vulnerability. These could be the focus for strategies aimed at increasing connectivity or safeguarding the network."
   ]
  },
  {
   "cell_type": "code",
   "execution_count": 28,
   "id": "75e7576e",
   "metadata": {
    "execution": {
     "iopub.execute_input": "2024-08-07T11:53:43.182201Z",
     "iopub.status.busy": "2024-08-07T11:53:43.181773Z",
     "iopub.status.idle": "2024-08-07T11:53:43.189505Z",
     "shell.execute_reply": "2024-08-07T11:53:43.188091Z"
    },
    "papermill": {
     "duration": 0.038515,
     "end_time": "2024-08-07T11:53:43.192583",
     "exception": false,
     "start_time": "2024-08-07T11:53:43.154068",
     "status": "completed"
    },
    "tags": []
   },
   "outputs": [
    {
     "name": "stdout",
     "output_type": "stream",
     "text": [
      "Core number for each node:\n",
      "Node 0: Core 4\n",
      "Node 1: Core 4\n",
      "Node 2: Core 4\n",
      "Node 3: Core 3\n",
      "Node 4: Core 4\n",
      "Node 5: Core 4\n",
      "Node 6: Core 4\n",
      "Node 7: Core 4\n",
      "Node 8: Core 4\n",
      "Node 9: Core 4\n",
      "Node 10: Core 4\n",
      "Node 11: Core 4\n",
      "Node 12: Core 4\n",
      "Node 13: Core 4\n",
      "Node 14: Core 4\n",
      "Node 15: Core 4\n",
      "Node 16: Core 4\n",
      "Node 17: Core 4\n",
      "Node 18: Core 4\n",
      "Node 19: Core 4\n",
      "Node 20: Core 4\n",
      "Node 21: Core 3\n",
      "Node 22: Core 4\n",
      "Node 23: Core 4\n",
      "Node 24: Core 4\n",
      "Node 25: Core 4\n",
      "Node 26: Core 4\n",
      "Node 27: Core 4\n",
      "Node 28: Core 4\n",
      "Node 29: Core 4\n",
      "Node 30: Core 4\n",
      "Node 31: Core 4\n",
      "Node 32: Core 4\n",
      "Node 33: Core 4\n",
      "Node 34: Core 4\n",
      "Node 35: Core 4\n",
      "Node 36: Core 4\n",
      "Node 37: Core 4\n",
      "Node 38: Core 4\n",
      "Node 39: Core 4\n"
     ]
    }
   ],
   "source": [
    "core_number = nx.core_number(G)\n",
    "print(\"Core number for each node:\")\n",
    "for node, core in core_number.items():\n",
    "    print(f\"Node {node}: Core {core}\")"
   ]
  },
  {
   "cell_type": "markdown",
   "id": "745a8707",
   "metadata": {
    "papermill": {
     "duration": 0.024976,
     "end_time": "2024-08-07T11:53:43.243131",
     "exception": false,
     "start_time": "2024-08-07T11:53:43.218155",
     "status": "completed"
    },
    "tags": []
   },
   "source": [
    "### Bridges and Cut Points\n",
    "Bridges are edges whose removal increases the number of connected components, while cut points (or articulation points) are nodes whose removal increases the number of components. Identifying these can highlight critical connections or nodes. We have no bridges and cut points in our network graph. This implies that no single edge is critial to maintaining the network´s connectivity. Since we do not have any cutting points the network can withstand the removal of any single node without fragmenting into disconnected parts. "
   ]
  },
  {
   "cell_type": "code",
   "execution_count": 29,
   "id": "8313925e",
   "metadata": {
    "execution": {
     "iopub.execute_input": "2024-08-07T11:53:43.296555Z",
     "iopub.status.busy": "2024-08-07T11:53:43.295600Z",
     "iopub.status.idle": "2024-08-07T11:53:43.306739Z",
     "shell.execute_reply": "2024-08-07T11:53:43.305458Z"
    },
    "papermill": {
     "duration": 0.04084,
     "end_time": "2024-08-07T11:53:43.309439",
     "exception": false,
     "start_time": "2024-08-07T11:53:43.268599",
     "status": "completed"
    },
    "tags": []
   },
   "outputs": [
    {
     "name": "stdout",
     "output_type": "stream",
     "text": [
      "Bridges: []\n",
      "Cut Points: []\n"
     ]
    }
   ],
   "source": [
    "bridges = list(nx.bridges(G))\n",
    "print(f\"Bridges: {bridges}\")\n",
    "\n",
    "cut_points = list(nx.articulation_points(G))\n",
    "print(f\"Cut Points: {cut_points}\")"
   ]
  },
  {
   "cell_type": "markdown",
   "id": "13425e0a",
   "metadata": {
    "papermill": {
     "duration": 0.026018,
     "end_time": "2024-08-07T11:53:43.361260",
     "exception": false,
     "start_time": "2024-08-07T11:53:43.335242",
     "status": "completed"
    },
    "tags": []
   },
   "source": [
    "## Edge-Level Metrics\n",
    "### Edge Betweenness Centrality\n",
    "Similar to node betweenness centrality, this metric measures the number of shortest paths that pass through an edge, indicating its importance in connecting different parts of the network.\n",
    "\n",
    "Edges with higher betweenness centrality values are more frequently involved in the shortest paths between pairs of nodes. Conversely, edges with lower betweenness centrality scores are less critical in connecting distant parts of the network. Most of the edge centrality values range from 0.01 to 0.02. This suggests that while there is some variation in how critical different edges are, the network likely does not have extremely dominant pathways that significantly outstrip others in importance. This can be indicative of a network with a fairly distributed connectivity, where no single edge is overwhelmingly more critical than others.\n",
    "\n",
    "The edges with the highest betweenness centrality (close to 0.02) are the most strategic for maintaining connectivity and should be prioritized in network maintenance or when planning improvements. "
   ]
  },
  {
   "cell_type": "code",
   "execution_count": 30,
   "id": "ff2fd75f",
   "metadata": {
    "execution": {
     "iopub.execute_input": "2024-08-07T11:53:43.415940Z",
     "iopub.status.busy": "2024-08-07T11:53:43.414835Z",
     "iopub.status.idle": "2024-08-07T11:53:43.434660Z",
     "shell.execute_reply": "2024-08-07T11:53:43.433285Z"
    },
    "papermill": {
     "duration": 0.051829,
     "end_time": "2024-08-07T11:53:43.438980",
     "exception": false,
     "start_time": "2024-08-07T11:53:43.387151",
     "status": "completed"
    },
    "tags": []
   },
   "outputs": [
    {
     "name": "stdout",
     "output_type": "stream",
     "text": [
      "Edge Betweenness Centrality:\n",
      "Edge (0, 4): 0.02\n",
      "Edge (0, 5): 0.02\n",
      "Edge (0, 12): 0.01\n",
      "Edge (0, 15): 0.01\n",
      "Edge (0, 17): 0.02\n",
      "Edge (0, 23): 0.01\n",
      "Edge (0, 25): 0.02\n",
      "Edge (0, 28): 0.01\n",
      "Edge (0, 34): 0.02\n",
      "Edge (1, 3): 0.01\n",
      "Edge (1, 4): 0.02\n",
      "Edge (1, 8): 0.01\n",
      "Edge (1, 36): 0.02\n",
      "Edge (1, 38): 0.01\n",
      "Edge (2, 23): 0.01\n",
      "Edge (2, 24): 0.02\n",
      "Edge (2, 25): 0.02\n",
      "Edge (2, 38): 0.01\n",
      "Edge (3, 4): 0.02\n",
      "Edge (3, 18): 0.02\n",
      "Edge (4, 6): 0.02\n",
      "Edge (4, 7): 0.02\n",
      "Edge (4, 10): 0.02\n",
      "Edge (4, 11): 0.02\n",
      "Edge (4, 15): 0.01\n",
      "Edge (4, 22): 0.01\n",
      "Edge (4, 23): 0.02\n",
      "Edge (4, 35): 0.02\n",
      "Edge (4, 38): 0.01\n",
      "Edge (5, 10): 0.01\n",
      "Edge (5, 11): 0.02\n",
      "Edge (5, 13): 0.01\n",
      "Edge (5, 27): 0.01\n",
      "Edge (5, 30): 0.01\n",
      "Edge (5, 32): 0.02\n",
      "Edge (5, 35): 0.01\n",
      "Edge (6, 8): 0.01\n",
      "Edge (6, 18): 0.01\n",
      "Edge (6, 20): 0.01\n",
      "Edge (6, 24): 0.01\n",
      "Edge (6, 33): 0.02\n",
      "Edge (6, 36): 0.01\n",
      "Edge (7, 15): 0.01\n",
      "Edge (7, 21): 0.02\n",
      "Edge (7, 26): 0.01\n",
      "Edge (7, 33): 0.02\n",
      "Edge (8, 10): 0.01\n",
      "Edge (8, 18): 0.01\n",
      "Edge (8, 20): 0.01\n",
      "Edge (8, 25): 0.02\n",
      "Edge (8, 37): 0.01\n",
      "Edge (9, 10): 0.02\n",
      "Edge (9, 19): 0.01\n",
      "Edge (9, 33): 0.02\n",
      "Edge (9, 36): 0.01\n",
      "Edge (9, 39): 0.01\n",
      "Edge (10, 22): 0.01\n",
      "Edge (10, 24): 0.02\n",
      "Edge (10, 27): 0.01\n",
      "Edge (11, 14): 0.01\n",
      "Edge (11, 15): 0.01\n",
      "Edge (11, 16): 0.02\n",
      "Edge (11, 22): 0.01\n",
      "Edge (11, 24): 0.01\n",
      "Edge (11, 25): 0.01\n",
      "Edge (11, 31): 0.01\n",
      "Edge (12, 18): 0.02\n",
      "Edge (12, 19): 0.01\n",
      "Edge (12, 22): 0.01\n",
      "Edge (12, 24): 0.02\n",
      "Edge (12, 25): 0.01\n",
      "Edge (12, 30): 0.01\n",
      "Edge (12, 31): 0.01\n",
      "Edge (12, 38): 0.01\n",
      "Edge (13, 17): 0.01\n",
      "Edge (13, 24): 0.01\n",
      "Edge (13, 29): 0.02\n",
      "Edge (13, 32): 0.01\n",
      "Edge (13, 33): 0.01\n",
      "Edge (13, 36): 0.01\n",
      "Edge (14, 15): 0.01\n",
      "Edge (14, 25): 0.02\n",
      "Edge (14, 26): 0.01\n",
      "Edge (14, 39): 0.01\n",
      "Edge (15, 23): 0.01\n",
      "Edge (15, 25): 0.01\n",
      "Edge (15, 29): 0.02\n",
      "Edge (16, 17): 0.01\n",
      "Edge (16, 29): 0.02\n",
      "Edge (16, 32): 0.01\n",
      "Edge (16, 39): 0.01\n",
      "Edge (17, 31): 0.01\n",
      "Edge (17, 33): 0.02\n",
      "Edge (18, 21): 0.02\n",
      "Edge (18, 22): 0.01\n",
      "Edge (18, 25): 0.02\n",
      "Edge (18, 27): 0.02\n",
      "Edge (18, 29): 0.02\n",
      "Edge (18, 32): 0.02\n",
      "Edge (18, 38): 0.02\n",
      "Edge (19, 20): 0.01\n",
      "Edge (19, 25): 0.02\n",
      "Edge (19, 33): 0.01\n",
      "Edge (19, 34): 0.01\n",
      "Edge (20, 23): 0.02\n",
      "Edge (20, 25): 0.01\n",
      "Edge (20, 29): 0.01\n",
      "Edge (20, 32): 0.01\n",
      "Edge (21, 29): 0.02\n",
      "Edge (22, 25): 0.01\n",
      "Edge (22, 28): 0.02\n",
      "Edge (22, 29): 0.02\n",
      "Edge (23, 30): 0.02\n",
      "Edge (23, 31): 0.01\n",
      "Edge (23, 38): 0.01\n",
      "Edge (24, 29): 0.02\n",
      "Edge (24, 31): 0.01\n",
      "Edge (24, 35): 0.02\n",
      "Edge (25, 32): 0.02\n",
      "Edge (25, 33): 0.02\n",
      "Edge (25, 39): 0.02\n",
      "Edge (26, 29): 0.02\n",
      "Edge (26, 31): 0.01\n",
      "Edge (26, 33): 0.02\n",
      "Edge (26, 34): 0.02\n",
      "Edge (27, 28): 0.02\n",
      "Edge (27, 35): 0.01\n",
      "Edge (27, 36): 0.02\n",
      "Edge (27, 39): 0.02\n",
      "Edge (28, 30): 0.01\n",
      "Edge (28, 34): 0.01\n",
      "Edge (29, 37): 0.02\n",
      "Edge (30, 33): 0.02\n",
      "Edge (30, 36): 0.01\n",
      "Edge (31, 33): 0.01\n",
      "Edge (32, 37): 0.01\n",
      "Edge (33, 36): 0.02\n",
      "Edge (36, 37): 0.02\n"
     ]
    }
   ],
   "source": [
    "edge_betweenness = nx.edge_betweenness_centrality(G)\n",
    "print(\"Edge Betweenness Centrality:\")\n",
    "for edge, centrality in edge_betweenness.items():\n",
    "    print(f\"Edge {edge}: {centrality:.2f}\")"
   ]
  },
  {
   "cell_type": "markdown",
   "id": "d2f68b8e",
   "metadata": {
    "papermill": {
     "duration": 0.025639,
     "end_time": "2024-08-07T11:53:43.490861",
     "exception": false,
     "start_time": "2024-08-07T11:53:43.465222",
     "status": "completed"
    },
    "tags": []
   },
   "source": [
    "## Roles and Positions\n",
    "### Structural Equivalence\n",
    "Nodes are structurally equivalent if they have identical connections to other nodes. This does not necessarily mean that they are connected to each other, but rather that they share the same pattern of connection to other nodes. This concept helps in identifying nodes with similar roles or functions within the network. \n",
    "\n",
    "We have no pairs in the network, this tells us the following:\n",
    "- Unique Connectivity Patterns: Every node in the network has a unique set of connections to other nodes. This uniqueness can suggest a diversity in the roles or positions that each node plays within the network. For example, in a social network, it could mean that no two individuals interact with exactly the same group of other people.\n",
    "- Implications for Network Dynamics:\n",
    "    - Different Influence or Roles: Since no two nodes are structurally equivalent, each node may exert influence or fulfill roles that are distinct from others within the network. This can have implications for the flow of information or resources, as different nodes might control access to different parts of the network.\n",
    "    - Network Resilience and Redundancy: The absence of structurally equivalent nodes might mean that the network lacks redundancy in its connectivity patterns, which could affect its resilience. In some contexts, if each node has a unique connectivity pattern, the removal of any single node could potentially disrupt unique aspects of the network's functionality.\n",
    "- Analytical Considerations:\n",
    "    - Node Centrality and Clustering: Further analysis might focus on other aspects, such as centrality measures to understand which nodes are most critical in terms of their unique positions, or clustering analysis to identify how nodes group based on similar (though not identical) connection patterns.\n",
    "    - Potential for Role Analysis: Without structural equivalence, role analysis could shift towards understanding similar but not identical roles, possibly using concepts like regular equivalence where nodes have similar patterns of connections but not necessarily identical ones.\n"
   ]
  },
  {
   "cell_type": "code",
   "execution_count": 31,
   "id": "f488fef0",
   "metadata": {
    "execution": {
     "iopub.execute_input": "2024-08-07T11:53:43.548493Z",
     "iopub.status.busy": "2024-08-07T11:53:43.548062Z",
     "iopub.status.idle": "2024-08-07T11:53:43.558317Z",
     "shell.execute_reply": "2024-08-07T11:53:43.557183Z"
    },
    "papermill": {
     "duration": 0.041627,
     "end_time": "2024-08-07T11:53:43.560931",
     "exception": false,
     "start_time": "2024-08-07T11:53:43.519304",
     "status": "completed"
    },
    "tags": []
   },
   "outputs": [
    {
     "name": "stdout",
     "output_type": "stream",
     "text": [
      "Structurally Equivalent Pairs: []\n"
     ]
    }
   ],
   "source": [
    "def structurally_equivalent_pairs(G):\n",
    "    eq_pairs = []\n",
    "    nodes = list(G.nodes())\n",
    "    for i in range(len(nodes)):\n",
    "        for j in range(i + 1, len(nodes)):\n",
    "            if set(G.neighbors(nodes[i])) == set(G.neighbors(nodes[j])):\n",
    "                eq_pairs.append((nodes[i], nodes[j]))\n",
    "    return eq_pairs\n",
    "\n",
    "eq_pairs = structurally_equivalent_pairs(G)\n",
    "print(\"Structurally Equivalent Pairs:\", eq_pairs)"
   ]
  },
  {
   "cell_type": "markdown",
   "id": "9862171c",
   "metadata": {
    "papermill": {
     "duration": 0.026196,
     "end_time": "2024-08-07T11:53:43.613388",
     "exception": false,
     "start_time": "2024-08-07T11:53:43.587192",
     "status": "completed"
    },
    "tags": []
   },
   "source": [
    "### Blockmodeling\n",
    "This technique groups nodes into blocks or positions based on their structural similarity or roles, simplifying the analysis of large networks by focusing on the interactions between groups rather than individual nodes.\n",
    "\n",
    "For blockmodeling, we need to cluster nodes based on some structural similarity. NetworkX doesn't directly support blockmodeling, but here's a basic example using clustering coefficients or degree as a proxy."
   ]
  },
  {
   "cell_type": "code",
   "execution_count": 32,
   "id": "f48019ab",
   "metadata": {
    "_kg_hide-input": true,
    "execution": {
     "iopub.execute_input": "2024-08-07T11:53:43.668131Z",
     "iopub.status.busy": "2024-08-07T11:53:43.666990Z",
     "iopub.status.idle": "2024-08-07T11:53:44.004044Z",
     "shell.execute_reply": "2024-08-07T11:53:44.002748Z"
    },
    "jupyter": {
     "source_hidden": true
    },
    "papermill": {
     "duration": 0.367249,
     "end_time": "2024-08-07T11:53:44.006821",
     "exception": false,
     "start_time": "2024-08-07T11:53:43.639572",
     "status": "completed"
    },
    "tags": []
   },
   "outputs": [
    {
     "name": "stdout",
     "output_type": "stream",
     "text": [
      "blockmodeling_interactive.html\n"
     ]
    },
    {
     "data": {
      "text/html": [
       "\n",
       "        <iframe\n",
       "            width=\"100%\"\n",
       "            height=\"750px\"\n",
       "            src=\"blockmodeling_interactive.html\"\n",
       "            frameborder=\"0\"\n",
       "            allowfullscreen\n",
       "            \n",
       "        ></iframe>\n",
       "        "
      ],
      "text/plain": [
       "<IPython.lib.display.IFrame at 0x7d6237e13640>"
      ]
     },
     "execution_count": 32,
     "metadata": {},
     "output_type": "execute_result"
    }
   ],
   "source": [
    "from sklearn.cluster import KMeans\n",
    "\n",
    "features = np.array([nx.clustering(G, node) for node in G.nodes()]).reshape(-1, 1)\n",
    "kmeans = KMeans(n_clusters=3, random_state=42).fit(features)\n",
    "labels = kmeans.labels_\n",
    "\n",
    "net = Network(notebook=True, height=\"750px\", width=\"100%\", bgcolor=\"#ffffff\", font_color=\"black\", cdn_resources='in_line')\n",
    "\n",
    "colors = ['red', 'blue', 'green', 'orange', 'purple', 'yellow']\n",
    "for node, label in enumerate(labels):\n",
    "    net.add_node(node, label=str(node), color=colors[label])\n",
    "\n",
    "\n",
    "for u, v in G.edges():\n",
    "    net.add_edge(u, v, width=0.5) \n",
    "\n",
    "net.set_options(\"\"\"\n",
    "var options = {\n",
    "  \"physics\": {\n",
    "    \"enabled\": true\n",
    "  }\n",
    "}\n",
    "\"\"\")\n",
    "net.show(\"blockmodeling_interactive.html\")"
   ]
  },
  {
   "cell_type": "markdown",
   "id": "5556c185",
   "metadata": {
    "papermill": {
     "duration": 0.025751,
     "end_time": "2024-08-07T11:53:44.059396",
     "exception": false,
     "start_time": "2024-08-07T11:53:44.033645",
     "status": "completed"
    },
    "tags": []
   },
   "source": [
    "## Homophily and Assortativity\n",
    "### Homophily\n",
    "This principle states that similar nodes tend to connect with each other. Measuring homophily can help understand the extent to which attributes like age, gender, or interests influence network formation. If the network has node attributes, you can calculate homophily. Here, let's assume nodes have a binary attribute.\n",
    "\n",
    "The calculated homophily value is 0.49. This indicates that 49% of the edges in the network connect nodes with the same attribute (making random assignment expected to yield a homophily of about 0.5 purely by chance). "
   ]
  },
  {
   "cell_type": "code",
   "execution_count": 33,
   "id": "4455679e",
   "metadata": {
    "execution": {
     "iopub.execute_input": "2024-08-07T11:53:44.113548Z",
     "iopub.status.busy": "2024-08-07T11:53:44.113130Z",
     "iopub.status.idle": "2024-08-07T11:53:44.122344Z",
     "shell.execute_reply": "2024-08-07T11:53:44.121063Z"
    },
    "papermill": {
     "duration": 0.040043,
     "end_time": "2024-08-07T11:53:44.125592",
     "exception": false,
     "start_time": "2024-08-07T11:53:44.085549",
     "status": "completed"
    },
    "tags": []
   },
   "outputs": [
    {
     "name": "stdout",
     "output_type": "stream",
     "text": [
      "Homophily: 0.49\n"
     ]
    }
   ],
   "source": [
    "# Assume nodes have a binary attribute\n",
    "attributes = {node: random.choice(['A', 'B']) for node in G.nodes()}\n",
    "nx.set_node_attributes(G, attributes, 'attribute')\n",
    "\n",
    "# Calculate homophily\n",
    "def calculate_homophily(G, attribute_name):\n",
    "    same_attribute_edges = 0\n",
    "    for u, v in G.edges():\n",
    "        if G.nodes[u][attribute_name] == G.nodes[v][attribute_name]:\n",
    "            same_attribute_edges += 1\n",
    "    return same_attribute_edges / G.number_of_edges()\n",
    "\n",
    "homophily = calculate_homophily(G, 'attribute')\n",
    "print(f\"Homophily: {homophily:.2f}\")"
   ]
  },
  {
   "cell_type": "markdown",
   "id": "bce4dae6",
   "metadata": {
    "papermill": {
     "duration": 0.025846,
     "end_time": "2024-08-07T11:53:44.177517",
     "exception": false,
     "start_time": "2024-08-07T11:53:44.151671",
     "status": "completed"
    },
    "tags": []
   },
   "source": [
    "### Assortativity\n",
    "Both metrics provide insights into the correlation patterns of nodes within the network based on their connections and attributes. \n",
    "\n",
    "**Degree assortativity** measures the similarity of connections in the network with respect to node degree. A positive value indicates a tendency of nodes to connect with others that have a similar degree (assortative mixing), while a negative value suggests a tendency to connect with nodes of differing degrees (disassortative mixing). A degree assortativity of -0.10 indicates a slight disassortative mixing by degree. This means that nodes in the network tend to connect with others that have different degrees. For example, nodes with many connections (high degree) might be more likely to connect with nodes that have fewer connections (low degree), and vice versa. This can be common in networks like social networks where popular individuals (hubs) interact with less popular individuals, or in biological networks like protein interaction networks.\n",
    "\n",
    "**Attribute assortativity** measures how much the nodes in a network tend to connect with others that have similar attributes. Similar to degree assortativity, a positive value indicates assortative mixing by the attribute, and a negative value indicates disassortative mixing. An attribute assortativity of -0.03 suggests a very slight tendency towards disassortative mixing based on the binary attribute ('A' or 'B'). Nodes are slightly more likely to connect with others that have a different attribute. However, the value is very close to zero, indicating that there is almost no strong pattern of attribute-based mixing in the network. Given that the attributes were randomly assigned, this result suggests that the attribute itself does not significantly influence the formation of links in the network."
   ]
  },
  {
   "cell_type": "code",
   "execution_count": 34,
   "id": "5a49f173",
   "metadata": {
    "execution": {
     "iopub.execute_input": "2024-08-07T11:53:44.231854Z",
     "iopub.status.busy": "2024-08-07T11:53:44.231408Z",
     "iopub.status.idle": "2024-08-07T11:53:44.240668Z",
     "shell.execute_reply": "2024-08-07T11:53:44.239446Z"
    },
    "papermill": {
     "duration": 0.040599,
     "end_time": "2024-08-07T11:53:44.244241",
     "exception": false,
     "start_time": "2024-08-07T11:53:44.203642",
     "status": "completed"
    },
    "tags": []
   },
   "outputs": [
    {
     "name": "stdout",
     "output_type": "stream",
     "text": [
      "Degree Assortativity: -0.10\n",
      "Attribute Assortativity: -0.03\n"
     ]
    }
   ],
   "source": [
    "# Degree assortativity\n",
    "degree_assortativity = nx.degree_assortativity_coefficient(G)\n",
    "print(f\"Degree Assortativity: {degree_assortativity:.2f}\")\n",
    "\n",
    "# Attribute assortativity\n",
    "attribute_assortativity = nx.attribute_assortativity_coefficient(G, 'attribute')\n",
    "print(f\"Attribute Assortativity: {attribute_assortativity:.2f}\")"
   ]
  },
  {
   "cell_type": "markdown",
   "id": "6a77a582",
   "metadata": {
    "papermill": {
     "duration": 0.026351,
     "end_time": "2024-08-07T11:53:44.297681",
     "exception": false,
     "start_time": "2024-08-07T11:53:44.271330",
     "status": "completed"
    },
    "tags": []
   },
   "source": [
    "## Influence and Power\n",
    "### Influence Models\n",
    "These models assess the potential impact of nodes based on their position and connections, helping identify key influencers in social networks.\n",
    "The code will calculate the PageRank score for each node in the graph. \n",
    "\n",
    "Nodes with higher scores, such as nodes 4, 18, and 25 with scores of 0.042, 0.041, and 0.056 respectively, are likely central nodes in the network. These nodes are potentially critical for the flow of information or resources through the network because they act as hubs or important connectors. Nodes with lower scores, like nodes 2 and 21 with scores of 0.014 and 0.013, have fewer or less influential connections. These nodes might be more peripheral within the network's structure. Nodes with scores around the average (like nodes 0, 5, 11, and 23 with scores around 0.030) still play significant roles but are not as central as the highest scoring nodes.\n"
   ]
  },
  {
   "cell_type": "code",
   "execution_count": 35,
   "id": "2a4c8df5",
   "metadata": {
    "execution": {
     "iopub.execute_input": "2024-08-07T11:53:44.352604Z",
     "iopub.status.busy": "2024-08-07T11:53:44.352186Z",
     "iopub.status.idle": "2024-08-07T11:53:44.363666Z",
     "shell.execute_reply": "2024-08-07T11:53:44.362325Z"
    },
    "papermill": {
     "duration": 0.042782,
     "end_time": "2024-08-07T11:53:44.366976",
     "exception": false,
     "start_time": "2024-08-07T11:53:44.324194",
     "status": "completed"
    },
    "tags": []
   },
   "outputs": [
    {
     "name": "stdout",
     "output_type": "stream",
     "text": [
      "PageRank (Influence):\n",
      "Node 0: 0.030\n",
      "Node 1: 0.021\n",
      "Node 2: 0.014\n",
      "Node 3: 0.016\n",
      "Node 4: 0.042\n",
      "Node 5: 0.030\n",
      "Node 6: 0.031\n",
      "Node 7: 0.018\n",
      "Node 8: 0.028\n",
      "Node 9: 0.016\n",
      "Node 10: 0.027\n",
      "Node 11: 0.030\n",
      "Node 12: 0.027\n",
      "Node 13: 0.025\n",
      "Node 14: 0.020\n",
      "Node 15: 0.028\n",
      "Node 16: 0.020\n",
      "Node 17: 0.020\n",
      "Node 18: 0.041\n",
      "Node 19: 0.029\n",
      "Node 20: 0.025\n",
      "Node 21: 0.013\n",
      "Node 22: 0.024\n",
      "Node 23: 0.030\n",
      "Node 24: 0.031\n",
      "Node 25: 0.056\n",
      "Node 26: 0.020\n",
      "Node 27: 0.023\n",
      "Node 28: 0.017\n",
      "Node 29: 0.029\n",
      "Node 30: 0.021\n",
      "Node 31: 0.032\n",
      "Node 32: 0.022\n",
      "Node 33: 0.032\n",
      "Node 34: 0.016\n",
      "Node 35: 0.017\n",
      "Node 36: 0.026\n",
      "Node 37: 0.014\n",
      "Node 38: 0.022\n",
      "Node 39: 0.017\n"
     ]
    }
   ],
   "source": [
    "# Using PageRank as an influence measure\n",
    "pagerank = nx.pagerank(G)\n",
    "print(\"PageRank (Influence):\")\n",
    "for node, score in pagerank.items():\n",
    "    print(f\"Node {node}: {score:.3f}\")"
   ]
  },
  {
   "cell_type": "markdown",
   "id": "421eba3e",
   "metadata": {
    "papermill": {
     "duration": 0.026241,
     "end_time": "2024-08-07T11:53:44.420544",
     "exception": false,
     "start_time": "2024-08-07T11:53:44.394303",
     "status": "completed"
    },
    "tags": []
   },
   "source": [
    "### Power and Control\n",
    "Understanding how power is distributed in a network can be crucial for analyzing hierarchies or dominance structures, especially in organizational or political networks.\n",
    "\n",
    "In the follwoing code we calculate the betweenness centrality scores for each node in the network. We already talked about it earlier in the notebook. Let´s interpret the scores:\n",
    "- High Scores: Nodes like 4, 18, 25, and 33 with relatively high betweenness centrality scores (0.091, 0.074, 0.105, 0.070 respectively) indicate that these nodes play a critical role in facilitating the flow of information or resources across the network. They act as significant bridges or junctions within the network, connecting different parts or clusters.\n",
    "- Low Scores: Nodes such as 2, 3, 21, 34, and 35 with low scores (0.004, 0.002, 0.004, 0.007, 0.006) are less involved in connecting different parts of the network. These nodes may be more peripheral or located within densely connected subregions where pathways don't need to pass through them to reach other nodes.\n",
    "- Medium Scores: Nodes with moderate betweenness centrality values serve as intermediate connectors within the network, facilitating some connectivity but not to the extent of the highest centrality nodes."
   ]
  },
  {
   "cell_type": "code",
   "execution_count": 36,
   "id": "7f4f8beb",
   "metadata": {
    "execution": {
     "iopub.execute_input": "2024-08-07T11:53:44.475654Z",
     "iopub.status.busy": "2024-08-07T11:53:44.475255Z",
     "iopub.status.idle": "2024-08-07T11:53:44.495147Z",
     "shell.execute_reply": "2024-08-07T11:53:44.494036Z"
    },
    "papermill": {
     "duration": 0.05061,
     "end_time": "2024-08-07T11:53:44.497824",
     "exception": false,
     "start_time": "2024-08-07T11:53:44.447214",
     "status": "completed"
    },
    "tags": []
   },
   "outputs": [
    {
     "name": "stdout",
     "output_type": "stream",
     "text": [
      "Betweenness Centrality (Power):\n",
      "Node 0: 0.051\n",
      "Node 1: 0.012\n",
      "Node 2: 0.004\n",
      "Node 3: 0.002\n",
      "Node 4: 0.091\n",
      "Node 5: 0.032\n",
      "Node 6: 0.019\n",
      "Node 7: 0.018\n",
      "Node 8: 0.021\n",
      "Node 9: 0.013\n",
      "Node 10: 0.027\n",
      "Node 11: 0.037\n",
      "Node 12: 0.036\n",
      "Node 13: 0.022\n",
      "Node 14: 0.008\n",
      "Node 15: 0.024\n",
      "Node 16: 0.013\n",
      "Node 17: 0.011\n",
      "Node 18: 0.074\n",
      "Node 19: 0.018\n",
      "Node 20: 0.020\n",
      "Node 21: 0.004\n",
      "Node 22: 0.025\n",
      "Node 23: 0.028\n",
      "Node 24: 0.044\n",
      "Node 25: 0.105\n",
      "Node 26: 0.023\n",
      "Node 27: 0.032\n",
      "Node 28: 0.011\n",
      "Node 29: 0.069\n",
      "Node 30: 0.019\n",
      "Node 31: 0.019\n",
      "Node 32: 0.025\n",
      "Node 33: 0.070\n",
      "Node 34: 0.007\n",
      "Node 35: 0.006\n",
      "Node 36: 0.042\n",
      "Node 37: 0.006\n",
      "Node 38: 0.013\n",
      "Node 39: 0.016\n"
     ]
    }
   ],
   "source": [
    "# Betweenness centrality\n",
    "betweenness_centrality = nx.betweenness_centrality(G)\n",
    "print(\"Betweenness Centrality (Power):\")\n",
    "for node, centrality in betweenness_centrality.items():\n",
    "    print(f\"Node {node}: {centrality:.3f}\")"
   ]
  },
  {
   "cell_type": "markdown",
   "id": "827299a7",
   "metadata": {
    "papermill": {
     "duration": 0.027059,
     "end_time": "2024-08-07T11:53:44.553722",
     "exception": false,
     "start_time": "2024-08-07T11:53:44.526663",
     "status": "completed"
    },
    "tags": []
   },
   "source": [
    "# Final Words\n",
    "Social network analysis (SNA) provides powerful tools to understand the structures and dynamics of networks, ranging from interpersonal relationships within organizations to global digital communication networks. By leveraging various measures and techniques such as centralities, communities, and assortativity, you can glean deep insights into how networks function and how information or influence flows within them.\n",
    "By combining these analytical tools, social network analysis allows researchers, policymakers, and practitioners to not only map and measure but also to predict and enhance interactions within various types of networks. The insights garnered can drive more informed decisions, tailored interventions, and ultimately, more effective outcomes across numerous fields.\n",
    "\n",
    ">Networks are not merely sets of isolated components, but systems of interdependent pieces whose complex interactions determine their dynamical behavior.\n",
    "\n",
    "*Duncan J. Watts* \n",
    "\n",
    "This quote, from his work on the dynamics of networks, underscores the complexity and interconnectivity within networks. It highlights how understanding these interdependencies is crucial to comprehending how networks function and evolve. This perspective is foundational in social network analysis, where the focus is often on how individual nodes and their connections influence the broader network behavior and outcomes."
   ]
  }
 ],
 "metadata": {
  "kaggle": {
   "accelerator": "none",
   "dataSources": [],
   "dockerImageVersionId": 30746,
   "isGpuEnabled": false,
   "isInternetEnabled": true,
   "language": "python",
   "sourceType": "notebook"
  },
  "kernelspec": {
   "display_name": "Python 3",
   "language": "python",
   "name": "python3"
  },
  "language_info": {
   "codemirror_mode": {
    "name": "ipython",
    "version": 3
   },
   "file_extension": ".py",
   "mimetype": "text/x-python",
   "name": "python",
   "nbconvert_exporter": "python",
   "pygments_lexer": "ipython3",
   "version": "3.10.13"
  },
  "papermill": {
   "default_parameters": {},
   "duration": 135.732837,
   "end_time": "2024-08-07T11:53:45.303177",
   "environment_variables": {},
   "exception": null,
   "input_path": "__notebook__.ipynb",
   "output_path": "__notebook__.ipynb",
   "parameters": {},
   "start_time": "2024-08-07T11:51:29.570340",
   "version": "2.5.0"
  }
 },
 "nbformat": 4,
 "nbformat_minor": 5
}
