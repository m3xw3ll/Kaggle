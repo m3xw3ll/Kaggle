{
 "cells": [
  {
   "cell_type": "code",
   "execution_count": 1,
   "id": "064196ac",
   "metadata": {
    "_cell_guid": "b1076dfc-b9ad-4769-8c92-a6c4dae69d19",
    "_kg_hide-input": true,
    "_uuid": "8f2839f25d086af736a60e9eeb907d3b93b6e0e5",
    "execution": {
     "iopub.execute_input": "2024-07-29T13:30:46.104443Z",
     "iopub.status.busy": "2024-07-29T13:30:46.103942Z",
     "iopub.status.idle": "2024-07-29T13:30:51.616495Z",
     "shell.execute_reply": "2024-07-29T13:30:51.615227Z"
    },
    "jupyter": {
     "source_hidden": true
    },
    "papermill": {
     "duration": 5.530332,
     "end_time": "2024-07-29T13:30:51.619707",
     "exception": false,
     "start_time": "2024-07-29T13:30:46.089375",
     "status": "completed"
    },
    "tags": []
   },
   "outputs": [],
   "source": [
    "import pandas as pd\n",
    "import numpy as np\n",
    "import matplotlib.pyplot as plt\n",
    "import seaborn as sns\n",
    "from prettytable import PrettyTable\n",
    "from category_encoders import OneHotEncoder, MEstimateEncoder, CatBoostEncoder\n",
    "from sklearn import set_config\n",
    "from sklearn.model_selection import StratifiedKFold\n",
    "from sklearn.ensemble import RandomForestRegressor\n",
    "from sklearn.metrics import roc_auc_score, roc_curve\n",
    "from sklearn.pipeline import make_pipeline\n",
    "from category_encoders import OneHotEncoder\n",
    "from sklearn.model_selection import train_test_split\n",
    "from sklearn.base import clone\n",
    "from sklearn.preprocessing import FunctionTransformer, StandardScaler, PowerTransformer, LabelEncoder\n",
    "from sklearn.compose import ColumnTransformer\n",
    "from sklearn.ensemble import RandomForestRegressor, ExtraTreesRegressor\n",
    "from sklearn.ensemble import HistGradientBoostingRegressor, GradientBoostingRegressor\n",
    "from sklearn.ensemble import VotingRegressor\n",
    "from sklearn.ensemble import AdaBoostRegressor\n",
    "from sklearn.linear_model import LinearRegression\n",
    "from sklearn.discriminant_analysis import LinearDiscriminantAnalysis\n",
    "from scipy.cluster.hierarchy import dendrogram, linkage\n",
    "from scipy.spatial.distance import squareform\n",
    "from xgboost import XGBRegressor\n",
    "from sklearn.linear_model import LogisticRegression\n",
    "from lightgbm import LGBMRegressor\n",
    "from catboost import CatBoostRegressor\n",
    "import numpy as np\n",
    "import pandas as pd\n",
    "import seaborn as sns\n",
    "from sklearn.feature_extraction.text import TfidfVectorizer\n",
    "from sklearn.decomposition import TruncatedSVD\n",
    "from sklearn.metrics import mean_absolute_percentage_error\n",
    "import matplotlib.pyplot as plt\n",
    "from sklearn.metrics import accuracy_score, classification_report, roc_curve, confusion_matrix, log_loss, mean_absolute_error, mean_absolute_percentage_error\n",
    "from sklearn.metrics import mean_squared_error\n",
    "import warnings\n",
    "\n",
    "import warnings\n",
    "warnings.filterwarnings(\"ignore\")\n",
    "pd.pandas.set_option('display.max_columns',None)"
   ]
  },
  {
   "cell_type": "markdown",
   "id": "5895ddf1",
   "metadata": {
    "papermill": {
     "duration": 0.012065,
     "end_time": "2024-07-29T13:30:51.644416",
     "exception": false,
     "start_time": "2024-07-29T13:30:51.632351",
     "status": "completed"
    },
    "tags": []
   },
   "source": [
    "# Preprocessing"
   ]
  },
  {
   "cell_type": "code",
   "execution_count": 2,
   "id": "c2269d77",
   "metadata": {
    "execution": {
     "iopub.execute_input": "2024-07-29T13:30:51.672703Z",
     "iopub.status.busy": "2024-07-29T13:30:51.671888Z",
     "iopub.status.idle": "2024-07-29T13:30:51.679163Z",
     "shell.execute_reply": "2024-07-29T13:30:51.677645Z"
    },
    "papermill": {
     "duration": 0.024612,
     "end_time": "2024-07-29T13:30:51.682134",
     "exception": false,
     "start_time": "2024-07-29T13:30:51.657522",
     "status": "completed"
    },
    "tags": []
   },
   "outputs": [],
   "source": [
    "plt.style.use('ggplot')"
   ]
  },
  {
   "cell_type": "code",
   "execution_count": 3,
   "id": "efa81754",
   "metadata": {
    "execution": {
     "iopub.execute_input": "2024-07-29T13:30:51.708784Z",
     "iopub.status.busy": "2024-07-29T13:30:51.707787Z",
     "iopub.status.idle": "2024-07-29T13:30:51.782310Z",
     "shell.execute_reply": "2024-07-29T13:30:51.781076Z"
    },
    "papermill": {
     "duration": 0.091043,
     "end_time": "2024-07-29T13:30:51.785620",
     "exception": false,
     "start_time": "2024-07-29T13:30:51.694577",
     "status": "completed"
    },
    "tags": []
   },
   "outputs": [],
   "source": [
    "train = pd.read_csv('/kaggle/input/rohlik-orders-forecasting-challenge/train.csv', index_col='id')\n",
    "test = pd.read_csv('/kaggle/input/rohlik-orders-forecasting-challenge/test.csv', index_col = 'id')"
   ]
  },
  {
   "cell_type": "code",
   "execution_count": 4,
   "id": "d9032672",
   "metadata": {
    "execution": {
     "iopub.execute_input": "2024-07-29T13:30:51.812051Z",
     "iopub.status.busy": "2024-07-29T13:30:51.811485Z",
     "iopub.status.idle": "2024-07-29T13:30:51.822476Z",
     "shell.execute_reply": "2024-07-29T13:30:51.820915Z"
    },
    "papermill": {
     "duration": 0.02751,
     "end_time": "2024-07-29T13:30:51.825296",
     "exception": false,
     "start_time": "2024-07-29T13:30:51.797786",
     "status": "completed"
    },
    "tags": []
   },
   "outputs": [],
   "source": [
    "data = pd.concat([train, test], axis=0)"
   ]
  },
  {
   "cell_type": "code",
   "execution_count": 5,
   "id": "6f0680d9",
   "metadata": {
    "execution": {
     "iopub.execute_input": "2024-07-29T13:30:51.850313Z",
     "iopub.status.busy": "2024-07-29T13:30:51.849807Z",
     "iopub.status.idle": "2024-07-29T13:30:51.887304Z",
     "shell.execute_reply": "2024-07-29T13:30:51.885880Z"
    },
    "papermill": {
     "duration": 0.053257,
     "end_time": "2024-07-29T13:30:51.890045",
     "exception": false,
     "start_time": "2024-07-29T13:30:51.836788",
     "status": "completed"
    },
    "tags": []
   },
   "outputs": [
    {
     "data": {
      "text/html": [
       "<div>\n",
       "<style scoped>\n",
       "    .dataframe tbody tr th:only-of-type {\n",
       "        vertical-align: middle;\n",
       "    }\n",
       "\n",
       "    .dataframe tbody tr th {\n",
       "        vertical-align: top;\n",
       "    }\n",
       "\n",
       "    .dataframe thead th {\n",
       "        text-align: right;\n",
       "    }\n",
       "</style>\n",
       "<table border=\"1\" class=\"dataframe\">\n",
       "  <thead>\n",
       "    <tr style=\"text-align: right;\">\n",
       "      <th></th>\n",
       "      <th>warehouse</th>\n",
       "      <th>date</th>\n",
       "      <th>orders</th>\n",
       "      <th>holiday_name</th>\n",
       "      <th>holiday</th>\n",
       "      <th>shutdown</th>\n",
       "      <th>mini_shutdown</th>\n",
       "      <th>shops_closed</th>\n",
       "      <th>winter_school_holidays</th>\n",
       "      <th>school_holidays</th>\n",
       "      <th>blackout</th>\n",
       "      <th>mov_change</th>\n",
       "      <th>frankfurt_shutdown</th>\n",
       "      <th>precipitation</th>\n",
       "      <th>snow</th>\n",
       "      <th>user_activity_1</th>\n",
       "      <th>user_activity_2</th>\n",
       "    </tr>\n",
       "    <tr>\n",
       "      <th>id</th>\n",
       "      <th></th>\n",
       "      <th></th>\n",
       "      <th></th>\n",
       "      <th></th>\n",
       "      <th></th>\n",
       "      <th></th>\n",
       "      <th></th>\n",
       "      <th></th>\n",
       "      <th></th>\n",
       "      <th></th>\n",
       "      <th></th>\n",
       "      <th></th>\n",
       "      <th></th>\n",
       "      <th></th>\n",
       "      <th></th>\n",
       "      <th></th>\n",
       "      <th></th>\n",
       "    </tr>\n",
       "  </thead>\n",
       "  <tbody>\n",
       "    <tr>\n",
       "      <th>Prague_1_2020-12-05</th>\n",
       "      <td>Prague_1</td>\n",
       "      <td>2020-12-05</td>\n",
       "      <td>6895.0</td>\n",
       "      <td>NaN</td>\n",
       "      <td>0</td>\n",
       "      <td>0.0</td>\n",
       "      <td>0.0</td>\n",
       "      <td>0</td>\n",
       "      <td>0</td>\n",
       "      <td>0</td>\n",
       "      <td>0.0</td>\n",
       "      <td>0.0</td>\n",
       "      <td>0.0</td>\n",
       "      <td>0.0</td>\n",
       "      <td>0.0</td>\n",
       "      <td>1722.0</td>\n",
       "      <td>32575.0</td>\n",
       "    </tr>\n",
       "    <tr>\n",
       "      <th>Prague_1_2020-12-06</th>\n",
       "      <td>Prague_1</td>\n",
       "      <td>2020-12-06</td>\n",
       "      <td>6584.0</td>\n",
       "      <td>NaN</td>\n",
       "      <td>0</td>\n",
       "      <td>0.0</td>\n",
       "      <td>0.0</td>\n",
       "      <td>0</td>\n",
       "      <td>0</td>\n",
       "      <td>0</td>\n",
       "      <td>0.0</td>\n",
       "      <td>0.0</td>\n",
       "      <td>0.0</td>\n",
       "      <td>0.0</td>\n",
       "      <td>0.0</td>\n",
       "      <td>1688.0</td>\n",
       "      <td>32507.0</td>\n",
       "    </tr>\n",
       "    <tr>\n",
       "      <th>Prague_1_2020-12-07</th>\n",
       "      <td>Prague_1</td>\n",
       "      <td>2020-12-07</td>\n",
       "      <td>7030.0</td>\n",
       "      <td>NaN</td>\n",
       "      <td>0</td>\n",
       "      <td>0.0</td>\n",
       "      <td>0.0</td>\n",
       "      <td>0</td>\n",
       "      <td>0</td>\n",
       "      <td>0</td>\n",
       "      <td>0.0</td>\n",
       "      <td>0.0</td>\n",
       "      <td>0.0</td>\n",
       "      <td>0.0</td>\n",
       "      <td>0.0</td>\n",
       "      <td>1696.0</td>\n",
       "      <td>32552.0</td>\n",
       "    </tr>\n",
       "    <tr>\n",
       "      <th>Prague_1_2020-12-08</th>\n",
       "      <td>Prague_1</td>\n",
       "      <td>2020-12-08</td>\n",
       "      <td>6550.0</td>\n",
       "      <td>NaN</td>\n",
       "      <td>0</td>\n",
       "      <td>0.0</td>\n",
       "      <td>0.0</td>\n",
       "      <td>0</td>\n",
       "      <td>0</td>\n",
       "      <td>0</td>\n",
       "      <td>0.0</td>\n",
       "      <td>0.0</td>\n",
       "      <td>0.0</td>\n",
       "      <td>0.8</td>\n",
       "      <td>0.0</td>\n",
       "      <td>1681.0</td>\n",
       "      <td>32423.0</td>\n",
       "    </tr>\n",
       "    <tr>\n",
       "      <th>Prague_1_2020-12-09</th>\n",
       "      <td>Prague_1</td>\n",
       "      <td>2020-12-09</td>\n",
       "      <td>6910.0</td>\n",
       "      <td>NaN</td>\n",
       "      <td>0</td>\n",
       "      <td>0.0</td>\n",
       "      <td>0.0</td>\n",
       "      <td>0</td>\n",
       "      <td>0</td>\n",
       "      <td>0</td>\n",
       "      <td>0.0</td>\n",
       "      <td>0.0</td>\n",
       "      <td>0.0</td>\n",
       "      <td>0.5</td>\n",
       "      <td>0.0</td>\n",
       "      <td>1704.0</td>\n",
       "      <td>32410.0</td>\n",
       "    </tr>\n",
       "  </tbody>\n",
       "</table>\n",
       "</div>"
      ],
      "text/plain": [
       "                    warehouse        date  orders holiday_name  holiday  \\\n",
       "id                                                                        \n",
       "Prague_1_2020-12-05  Prague_1  2020-12-05  6895.0          NaN        0   \n",
       "Prague_1_2020-12-06  Prague_1  2020-12-06  6584.0          NaN        0   \n",
       "Prague_1_2020-12-07  Prague_1  2020-12-07  7030.0          NaN        0   \n",
       "Prague_1_2020-12-08  Prague_1  2020-12-08  6550.0          NaN        0   \n",
       "Prague_1_2020-12-09  Prague_1  2020-12-09  6910.0          NaN        0   \n",
       "\n",
       "                     shutdown  mini_shutdown  shops_closed  \\\n",
       "id                                                           \n",
       "Prague_1_2020-12-05       0.0            0.0             0   \n",
       "Prague_1_2020-12-06       0.0            0.0             0   \n",
       "Prague_1_2020-12-07       0.0            0.0             0   \n",
       "Prague_1_2020-12-08       0.0            0.0             0   \n",
       "Prague_1_2020-12-09       0.0            0.0             0   \n",
       "\n",
       "                     winter_school_holidays  school_holidays  blackout  \\\n",
       "id                                                                       \n",
       "Prague_1_2020-12-05                       0                0       0.0   \n",
       "Prague_1_2020-12-06                       0                0       0.0   \n",
       "Prague_1_2020-12-07                       0                0       0.0   \n",
       "Prague_1_2020-12-08                       0                0       0.0   \n",
       "Prague_1_2020-12-09                       0                0       0.0   \n",
       "\n",
       "                     mov_change  frankfurt_shutdown  precipitation  snow  \\\n",
       "id                                                                         \n",
       "Prague_1_2020-12-05         0.0                 0.0            0.0   0.0   \n",
       "Prague_1_2020-12-06         0.0                 0.0            0.0   0.0   \n",
       "Prague_1_2020-12-07         0.0                 0.0            0.0   0.0   \n",
       "Prague_1_2020-12-08         0.0                 0.0            0.8   0.0   \n",
       "Prague_1_2020-12-09         0.0                 0.0            0.5   0.0   \n",
       "\n",
       "                     user_activity_1  user_activity_2  \n",
       "id                                                     \n",
       "Prague_1_2020-12-05           1722.0          32575.0  \n",
       "Prague_1_2020-12-06           1688.0          32507.0  \n",
       "Prague_1_2020-12-07           1696.0          32552.0  \n",
       "Prague_1_2020-12-08           1681.0          32423.0  \n",
       "Prague_1_2020-12-09           1704.0          32410.0  "
      ]
     },
     "execution_count": 5,
     "metadata": {},
     "output_type": "execute_result"
    }
   ],
   "source": [
    "data.head()"
   ]
  },
  {
   "cell_type": "code",
   "execution_count": 6,
   "id": "5bc7431a",
   "metadata": {
    "execution": {
     "iopub.execute_input": "2024-07-29T13:30:51.917313Z",
     "iopub.status.busy": "2024-07-29T13:30:51.916395Z",
     "iopub.status.idle": "2024-07-29T13:30:51.925278Z",
     "shell.execute_reply": "2024-07-29T13:30:51.924006Z"
    },
    "papermill": {
     "duration": 0.025535,
     "end_time": "2024-07-29T13:30:51.928096",
     "exception": false,
     "start_time": "2024-07-29T13:30:51.902561",
     "status": "completed"
    },
    "tags": []
   },
   "outputs": [],
   "source": [
    "data['holiday_name'] = data['holiday_name'].fillna('None')"
   ]
  },
  {
   "cell_type": "code",
   "execution_count": 7,
   "id": "10e5bb44",
   "metadata": {
    "execution": {
     "iopub.execute_input": "2024-07-29T13:30:51.955493Z",
     "iopub.status.busy": "2024-07-29T13:30:51.955001Z",
     "iopub.status.idle": "2024-07-29T13:30:51.965779Z",
     "shell.execute_reply": "2024-07-29T13:30:51.964350Z"
    },
    "papermill": {
     "duration": 0.027805,
     "end_time": "2024-07-29T13:30:51.968738",
     "exception": false,
     "start_time": "2024-07-29T13:30:51.940933",
     "status": "completed"
    },
    "tags": []
   },
   "outputs": [],
   "source": [
    "# Dictionary mapping cities to their countries\n",
    "city_to_country = {\n",
    "    'Munich_1': 'Germany',\n",
    "    'Frankfurt_1': 'Germany',\n",
    "    'Budapest_1': 'Hungary',\n",
    "    'Brno_1': 'Czech Republic',\n",
    "    'Prague_1': 'Czech Republic',\n",
    "    'Prague_2': 'Czech Republic',\n",
    "    'Prague_3': 'Czech Republic'\n",
    "}\n",
    "\n",
    "data['country'] = data['warehouse'].map(city_to_country)"
   ]
  },
  {
   "cell_type": "markdown",
   "id": "dd2b31fd",
   "metadata": {
    "papermill": {
     "duration": 0.012365,
     "end_time": "2024-07-29T13:30:51.992983",
     "exception": false,
     "start_time": "2024-07-29T13:30:51.980618",
     "status": "completed"
    },
    "tags": []
   },
   "source": [
    "Credit goes to [Sheikh Muhammad Abdullah](https://www.kaggle.com/abdmental01) in his [notebook](https://www.kaggle.com/code/abdmental01/rohlik-starter-v1) for the following function"
   ]
  },
  {
   "cell_type": "code",
   "execution_count": 8,
   "id": "3ef65fe8",
   "metadata": {
    "execution": {
     "iopub.execute_input": "2024-07-29T13:30:52.019401Z",
     "iopub.status.busy": "2024-07-29T13:30:52.018912Z",
     "iopub.status.idle": "2024-07-29T13:30:52.035551Z",
     "shell.execute_reply": "2024-07-29T13:30:52.034071Z"
    },
    "papermill": {
     "duration": 0.033539,
     "end_time": "2024-07-29T13:30:52.038542",
     "exception": false,
     "start_time": "2024-07-29T13:30:52.005003",
     "status": "completed"
    },
    "tags": []
   },
   "outputs": [],
   "source": [
    "def Process_Date(Df):\n",
    "    Df['date'] = pd.to_datetime(Df['date'])\n",
    "    Df['year'] = Df['date'].dt.year\n",
    "    Df['day'] = Df['date'].dt.day\n",
    "    Df['month'] = Df['date'].dt.month\n",
    "    Df['quarter'] = Df['date'].dt.quarter\n",
    "    Df['month_name'] = Df['date'].dt.month_name()\n",
    "    Df['day_of_week'] = Df['date'].dt.day_name()\n",
    "    Df['week'] = Df['date'].dt.isocalendar().week\n",
    "    \n",
    "    Df['year_sin'] = np.sin(2 * np.pi * Df['year'])\n",
    "    Df['year_cos'] = np.cos(2 * np.pi * Df['year'])\n",
    "    Df['month_sin'] = np.sin(2 * np.pi * Df['month'] / 12) \n",
    "    Df['month_cos'] = np.cos(2 * np.pi * Df['month'] / 12)\n",
    "    Df['day_sin'] = np.sin(2 * np.pi * Df['day'] / 31)  \n",
    "    Df['day_cos'] = np.cos(2 * np.pi * Df['day'] / 31)\n",
    "    Df['quarter_sin'] = np.sin(2 * np.pi * Df['quarter'] / 4)\n",
    "    Df['quarter_cos'] = np.cos(2 * np.pi * Df['quarter'] / 4)\n",
    "    \n",
    "    Df['group']=(Df['year']-2020)*48+Df['month']*4+Df['day']//7\n",
    "    Df['total_holidays_month'] = Df.groupby(['year', 'month'])['holiday'].transform('sum')\n",
    "    Df['total_shops_closed_week'] = Df.groupby(['year', 'week'])['shops_closed'].transform('sum')\n",
    "    Df['group_sin'] = np.sin(2 * np.pi * Df['group'] / Df['group'].max())\n",
    "    Df['group_cos'] = np.cos(2 * np.pi * Df['group'] / Df['group'].max())\n",
    "    return Df"
   ]
  },
  {
   "cell_type": "code",
   "execution_count": 9,
   "id": "eedb38e2",
   "metadata": {
    "execution": {
     "iopub.execute_input": "2024-07-29T13:30:52.066172Z",
     "iopub.status.busy": "2024-07-29T13:30:52.065666Z",
     "iopub.status.idle": "2024-07-29T13:30:52.115958Z",
     "shell.execute_reply": "2024-07-29T13:30:52.114604Z"
    },
    "papermill": {
     "duration": 0.066883,
     "end_time": "2024-07-29T13:30:52.118942",
     "exception": false,
     "start_time": "2024-07-29T13:30:52.052059",
     "status": "completed"
    },
    "tags": []
   },
   "outputs": [],
   "source": [
    "data = Process_Date(data)"
   ]
  },
  {
   "cell_type": "code",
   "execution_count": 10,
   "id": "f21c300a",
   "metadata": {
    "execution": {
     "iopub.execute_input": "2024-07-29T13:30:52.145429Z",
     "iopub.status.busy": "2024-07-29T13:30:52.144942Z",
     "iopub.status.idle": "2024-07-29T13:30:52.158868Z",
     "shell.execute_reply": "2024-07-29T13:30:52.157417Z"
    },
    "papermill": {
     "duration": 0.03068,
     "end_time": "2024-07-29T13:30:52.161647",
     "exception": false,
     "start_time": "2024-07-29T13:30:52.130967",
     "status": "completed"
    },
    "tags": []
   },
   "outputs": [],
   "source": [
    "# Use only columns we have also in test set\n",
    "data = data[['warehouse', 'date', 'holiday_name', 'holiday', 'shops_closed',\n",
    "       'winter_school_holidays', 'school_holidays', 'year', 'day', 'month',\n",
    "       'month_name', 'day_of_week', 'week', 'year_sin', 'year_cos',\n",
    "       'month_sin', 'month_cos', 'day_sin', 'day_cos', 'group',\n",
    "       'total_holidays_month', 'total_shops_closed_week',\n",
    "       'group_sin', 'group_cos', 'country',\n",
    "       'orders']]"
   ]
  },
  {
   "cell_type": "code",
   "execution_count": 11,
   "id": "be45bc13",
   "metadata": {
    "execution": {
     "iopub.execute_input": "2024-07-29T13:30:52.187428Z",
     "iopub.status.busy": "2024-07-29T13:30:52.186940Z",
     "iopub.status.idle": "2024-07-29T13:30:52.196132Z",
     "shell.execute_reply": "2024-07-29T13:30:52.194883Z"
    },
    "papermill": {
     "duration": 0.02545,
     "end_time": "2024-07-29T13:30:52.198966",
     "exception": false,
     "start_time": "2024-07-29T13:30:52.173516",
     "status": "completed"
    },
    "tags": []
   },
   "outputs": [],
   "source": [
    "def apply_tfidf_svd(df, text_column, max_features=1000, n_components=10):\n",
    "    vectorizer = TfidfVectorizer(max_features=max_features, stop_words='english')\n",
    "    vectors = vectorizer.fit_transform(df[text_column])\n",
    "    svd = TruncatedSVD(n_components)\n",
    "    x_sv = svd.fit_transform(vectors)\n",
    "    tfidf_df = pd.DataFrame(x_sv)\n",
    "    cols = [(text_column + \"_tfidf_\" + str(f)) for f in tfidf_df.columns.to_list()]\n",
    "    tfidf_df.columns = cols\n",
    "    df = df.reset_index(drop=True)\n",
    "    df = pd.concat([df, tfidf_df], axis=\"columns\")\n",
    "    return df"
   ]
  },
  {
   "cell_type": "code",
   "execution_count": 12,
   "id": "f0bc100f",
   "metadata": {
    "execution": {
     "iopub.execute_input": "2024-07-29T13:30:52.225344Z",
     "iopub.status.busy": "2024-07-29T13:30:52.224864Z",
     "iopub.status.idle": "2024-07-29T13:30:52.394767Z",
     "shell.execute_reply": "2024-07-29T13:30:52.392897Z"
    },
    "papermill": {
     "duration": 0.187796,
     "end_time": "2024-07-29T13:30:52.399156",
     "exception": false,
     "start_time": "2024-07-29T13:30:52.211360",
     "status": "completed"
    },
    "tags": []
   },
   "outputs": [],
   "source": [
    "data = apply_tfidf_svd(data,'holiday_name')\n",
    "data = data.drop(columns=['holiday_name', 'date'])"
   ]
  },
  {
   "cell_type": "code",
   "execution_count": 13,
   "id": "87c3beb2",
   "metadata": {
    "execution": {
     "iopub.execute_input": "2024-07-29T13:30:52.468435Z",
     "iopub.status.busy": "2024-07-29T13:30:52.467672Z",
     "iopub.status.idle": "2024-07-29T13:30:52.478869Z",
     "shell.execute_reply": "2024-07-29T13:30:52.477616Z"
    },
    "papermill": {
     "duration": 0.044214,
     "end_time": "2024-07-29T13:30:52.481466",
     "exception": false,
     "start_time": "2024-07-29T13:30:52.437252",
     "status": "completed"
    },
    "tags": []
   },
   "outputs": [],
   "source": [
    "# Source: https://www.kaggle.com/code/gkanamoto/ensemble-stacking-modified\n",
    "data['holiday_before'] = data['holiday'].shift(1).fillna(0).astype(int)\n",
    "data['holiday_after'] = data['holiday'].shift(-1).fillna(0).astype(int)"
   ]
  },
  {
   "cell_type": "code",
   "execution_count": 14,
   "id": "af6ce0aa",
   "metadata": {
    "execution": {
     "iopub.execute_input": "2024-07-29T13:30:52.507861Z",
     "iopub.status.busy": "2024-07-29T13:30:52.506478Z",
     "iopub.status.idle": "2024-07-29T13:30:52.518221Z",
     "shell.execute_reply": "2024-07-29T13:30:52.517051Z"
    },
    "papermill": {
     "duration": 0.028009,
     "end_time": "2024-07-29T13:30:52.521271",
     "exception": false,
     "start_time": "2024-07-29T13:30:52.493262",
     "status": "completed"
    },
    "tags": []
   },
   "outputs": [],
   "source": [
    "# Convert some columns to categorical\n",
    "categorical_columns = ['holiday', 'shops_closed', 'winter_school_holidays', 'school_holidays']\n",
    "data[categorical_columns] = data[categorical_columns].astype('category')"
   ]
  },
  {
   "cell_type": "code",
   "execution_count": 15,
   "id": "fa2aa38d",
   "metadata": {
    "execution": {
     "iopub.execute_input": "2024-07-29T13:30:52.548785Z",
     "iopub.status.busy": "2024-07-29T13:30:52.547472Z",
     "iopub.status.idle": "2024-07-29T13:30:52.570509Z",
     "shell.execute_reply": "2024-07-29T13:30:52.569119Z"
    },
    "papermill": {
     "duration": 0.039627,
     "end_time": "2024-07-29T13:30:52.573367",
     "exception": false,
     "start_time": "2024-07-29T13:30:52.533740",
     "status": "completed"
    },
    "tags": []
   },
   "outputs": [],
   "source": [
    "# Create dummy features\n",
    "data = pd.get_dummies(data)"
   ]
  },
  {
   "cell_type": "code",
   "execution_count": 16,
   "id": "724beae9",
   "metadata": {
    "execution": {
     "iopub.execute_input": "2024-07-29T13:30:52.599408Z",
     "iopub.status.busy": "2024-07-29T13:30:52.598911Z",
     "iopub.status.idle": "2024-07-29T13:30:52.612181Z",
     "shell.execute_reply": "2024-07-29T13:30:52.611043Z"
    },
    "papermill": {
     "duration": 0.029917,
     "end_time": "2024-07-29T13:30:52.615168",
     "exception": false,
     "start_time": "2024-07-29T13:30:52.585251",
     "status": "completed"
    },
    "tags": []
   },
   "outputs": [],
   "source": [
    "# Rebuild train and test\n",
    "train = data[~data['orders'].isnull()]\n",
    "test = data[data['orders'].isnull()]\n",
    "test = test.drop(columns=['orders'])"
   ]
  },
  {
   "cell_type": "code",
   "execution_count": 17,
   "id": "bfc9178b",
   "metadata": {
    "execution": {
     "iopub.execute_input": "2024-07-29T13:30:52.640977Z",
     "iopub.status.busy": "2024-07-29T13:30:52.640470Z",
     "iopub.status.idle": "2024-07-29T13:30:52.647159Z",
     "shell.execute_reply": "2024-07-29T13:30:52.645934Z"
    },
    "papermill": {
     "duration": 0.023483,
     "end_time": "2024-07-29T13:30:52.650417",
     "exception": false,
     "start_time": "2024-07-29T13:30:52.626934",
     "status": "completed"
    },
    "tags": []
   },
   "outputs": [
    {
     "name": "stdout",
     "output_type": "stream",
     "text": [
      "Train Shape: (7340, 65)\n",
      "Test Shape: (397, 64)\n"
     ]
    }
   ],
   "source": [
    "print(f'Train Shape: {train.shape}')\n",
    "print(f'Test Shape: {test.shape}')"
   ]
  },
  {
   "cell_type": "code",
   "execution_count": 18,
   "id": "d8ee1ab0",
   "metadata": {
    "execution": {
     "iopub.execute_input": "2024-07-29T13:30:52.676714Z",
     "iopub.status.busy": "2024-07-29T13:30:52.676237Z",
     "iopub.status.idle": "2024-07-29T13:30:52.684833Z",
     "shell.execute_reply": "2024-07-29T13:30:52.683806Z"
    },
    "papermill": {
     "duration": 0.024733,
     "end_time": "2024-07-29T13:30:52.687381",
     "exception": false,
     "start_time": "2024-07-29T13:30:52.662648",
     "status": "completed"
    },
    "tags": []
   },
   "outputs": [],
   "source": [
    "y = train['orders']\n",
    "X = train.drop(columns=['orders'])"
   ]
  },
  {
   "cell_type": "code",
   "execution_count": 19,
   "id": "d7445be9",
   "metadata": {
    "execution": {
     "iopub.execute_input": "2024-07-29T13:30:52.714737Z",
     "iopub.status.busy": "2024-07-29T13:30:52.713414Z",
     "iopub.status.idle": "2024-07-29T13:30:52.720077Z",
     "shell.execute_reply": "2024-07-29T13:30:52.718919Z"
    },
    "papermill": {
     "duration": 0.023532,
     "end_time": "2024-07-29T13:30:52.723027",
     "exception": false,
     "start_time": "2024-07-29T13:30:52.699495",
     "status": "completed"
    },
    "tags": []
   },
   "outputs": [],
   "source": [
    "seed = 1702\n",
    "np.random.seed(seed)\n",
    "skf = StratifiedKFold(random_state=seed, shuffle=True)"
   ]
  },
  {
   "cell_type": "markdown",
   "id": "96351f62",
   "metadata": {
    "papermill": {
     "duration": 0.011635,
     "end_time": "2024-07-29T13:30:52.746656",
     "exception": false,
     "start_time": "2024-07-29T13:30:52.735021",
     "status": "completed"
    },
    "tags": []
   },
   "source": [
    "# Cross Validation"
   ]
  },
  {
   "cell_type": "code",
   "execution_count": 20,
   "id": "6ae25217",
   "metadata": {
    "execution": {
     "iopub.execute_input": "2024-07-29T13:30:52.772269Z",
     "iopub.status.busy": "2024-07-29T13:30:52.771859Z",
     "iopub.status.idle": "2024-07-29T13:30:52.782709Z",
     "shell.execute_reply": "2024-07-29T13:30:52.781235Z"
    },
    "papermill": {
     "duration": 0.026939,
     "end_time": "2024-07-29T13:30:52.785506",
     "exception": false,
     "start_time": "2024-07-29T13:30:52.758567",
     "status": "completed"
    },
    "tags": []
   },
   "outputs": [],
   "source": [
    "def cross_validation_score(estimator, cv, label=''):\n",
    "    X = train.copy()\n",
    "    y = X.pop('orders')\n",
    "    train_scores, val_scores = [], []\n",
    "    \n",
    "    for fold, (train_idx, val_idx) in enumerate(cv.split(X, y)):\n",
    "        model = clone(estimator)\n",
    "        \n",
    "        X_train = X.iloc[train_idx].reset_index(drop = True)\n",
    "        y_train = y[train_idx]\n",
    "        X_val = X.iloc[val_idx].reset_index(drop = True)\n",
    "        y_val = y[val_idx]\n",
    "        \n",
    "        model.fit(X_train, y_train)\n",
    "        \n",
    "        train_preds = model.predict(X_train)\n",
    "        val_preds = model.predict(X_val)\n",
    "        \n",
    "        \n",
    "        train_score = mean_absolute_percentage_error(y_train, train_preds)\n",
    "        val_score = mean_absolute_percentage_error(y_val, val_preds)\n",
    "        \n",
    "        train_scores.append(train_score)\n",
    "        val_scores.append(val_score)\n",
    "    print(f'Val Score: {np.mean(val_scores):.5f} ± {np.std(val_scores):.5f} | Train Score: {np.mean(train_scores):.5f} ± {np.std(train_scores):.5f} | {label}')\n",
    "    return val_scores"
   ]
  },
  {
   "cell_type": "code",
   "execution_count": 21,
   "id": "a3fc0316",
   "metadata": {
    "execution": {
     "iopub.execute_input": "2024-07-29T13:30:52.811646Z",
     "iopub.status.busy": "2024-07-29T13:30:52.811184Z",
     "iopub.status.idle": "2024-07-29T13:30:52.823229Z",
     "shell.execute_reply": "2024-07-29T13:30:52.822022Z"
    },
    "papermill": {
     "duration": 0.028002,
     "end_time": "2024-07-29T13:30:52.825721",
     "exception": false,
     "start_time": "2024-07-29T13:30:52.797719",
     "status": "completed"
    },
    "tags": []
   },
   "outputs": [],
   "source": [
    "score_list, oof_list = pd.DataFrame(), pd.DataFrame()\n",
    "\n",
    "models = [\n",
    "    ('rf', RandomForestRegressor(random_state = seed)),\n",
    "    ('xgb', XGBRegressor(random_state = seed)),\n",
    "    ('lgb', LGBMRegressor(random_state = seed)),\n",
    "    ('cb', CatBoostRegressor(random_state = seed, verbose = 0)),\n",
    "    ('ad', AdaBoostRegressor(random_state = seed)),\n",
    "    ('ex', ExtraTreesRegressor(random_state = seed)),\n",
    "    ('gb', GradientBoostingRegressor(random_state = seed)),\n",
    "    ('hgb', HistGradientBoostingRegressor(random_state = seed)),\n",
    "    ('lir', LinearRegression())\n",
    "]"
   ]
  },
  {
   "cell_type": "code",
   "execution_count": 22,
   "id": "d2235c1c",
   "metadata": {
    "execution": {
     "iopub.execute_input": "2024-07-29T13:30:52.852475Z",
     "iopub.status.busy": "2024-07-29T13:30:52.851361Z",
     "iopub.status.idle": "2024-07-29T13:32:22.775951Z",
     "shell.execute_reply": "2024-07-29T13:32:22.774305Z"
    },
    "papermill": {
     "duration": 89.94299,
     "end_time": "2024-07-29T13:32:22.780861",
     "exception": false,
     "start_time": "2024-07-29T13:30:52.837871",
     "status": "completed"
    },
    "tags": []
   },
   "outputs": [
    {
     "name": "stdout",
     "output_type": "stream",
     "text": [
      "Val Score: 0.04147 ± 0.00130 | Train Score: 0.01554 ± 0.00019 | rf\n",
      "Val Score: 0.03486 ± 0.00035 | Train Score: 0.01952 ± 0.00028 | xgb\n",
      "[LightGBM] [Warning] Found whitespace in feature_names, replace with underlines\n",
      "[LightGBM] [Info] Auto-choosing row-wise multi-threading, the overhead of testing was 0.004262 seconds.\n",
      "You can set `force_row_wise=true` to remove the overhead.\n",
      "And if memory is not enough, you can set `force_col_wise=true`.\n",
      "[LightGBM] [Info] Total Bins 909\n",
      "[LightGBM] [Info] Number of data points in the train set: 5872, number of used features: 63\n",
      "[LightGBM] [Info] Start training from score 5537.641860\n",
      "[LightGBM] [Warning] Found whitespace in feature_names, replace with underlines\n",
      "[LightGBM] [Info] Auto-choosing col-wise multi-threading, the overhead of testing was 0.003645 seconds.\n",
      "You can set `force_col_wise=true` to remove the overhead.\n",
      "[LightGBM] [Info] Total Bins 904\n",
      "[LightGBM] [Info] Number of data points in the train set: 5872, number of used features: 63\n",
      "[LightGBM] [Info] Start training from score 5541.095027\n",
      "[LightGBM] [Warning] Found whitespace in feature_names, replace with underlines\n",
      "[LightGBM] [Info] Auto-choosing col-wise multi-threading, the overhead of testing was 0.003606 seconds.\n",
      "You can set `force_col_wise=true` to remove the overhead.\n",
      "[LightGBM] [Info] Total Bins 901\n",
      "[LightGBM] [Info] Number of data points in the train set: 5872, number of used features: 63\n",
      "[LightGBM] [Info] Start training from score 5530.900204\n",
      "[LightGBM] [Warning] Found whitespace in feature_names, replace with underlines\n",
      "[LightGBM] [Info] Auto-choosing col-wise multi-threading, the overhead of testing was 0.003822 seconds.\n",
      "You can set `force_col_wise=true` to remove the overhead.\n",
      "[LightGBM] [Info] Total Bins 897\n",
      "[LightGBM] [Info] Number of data points in the train set: 5872, number of used features: 63\n",
      "[LightGBM] [Info] Start training from score 5531.874659\n",
      "[LightGBM] [Warning] Found whitespace in feature_names, replace with underlines\n",
      "[LightGBM] [Info] Auto-choosing col-wise multi-threading, the overhead of testing was 0.003683 seconds.\n",
      "You can set `force_col_wise=true` to remove the overhead.\n",
      "[LightGBM] [Info] Total Bins 906\n",
      "[LightGBM] [Info] Number of data points in the train set: 5872, number of used features: 63\n",
      "[LightGBM] [Info] Start training from score 5535.707595\n",
      "Val Score: 0.03745 ± 0.00058 | Train Score: 0.03174 ± 0.00035 | lgb\n",
      "Val Score: 0.03372 ± 0.00054 | Train Score: 0.02579 ± 0.00040 | cb\n",
      "Val Score: 0.17195 ± 0.00358 | Train Score: 0.17082 ± 0.00576 | ad\n",
      "Val Score: 0.04251 ± 0.00121 | Train Score: 0.00000 ± 0.00000 | ex\n",
      "Val Score: 0.05429 ± 0.00102 | Train Score: 0.05210 ± 0.00050 | gb\n",
      "Val Score: 0.03743 ± 0.00082 | Train Score: 0.03164 ± 0.00042 | hgb\n",
      "Val Score: 0.09443 ± 0.00185 | Train Score: 0.09338 ± 0.00127 | lir\n"
     ]
    }
   ],
   "source": [
    "for (label, model) in models:\n",
    "    score_list[label] = cross_validation_score(estimator=model,\n",
    "                                                                cv=skf,\n",
    "                                                                label=label)"
   ]
  },
  {
   "cell_type": "code",
   "execution_count": 23,
   "id": "2c39d1b3",
   "metadata": {
    "execution": {
     "iopub.execute_input": "2024-07-29T13:32:22.880347Z",
     "iopub.status.busy": "2024-07-29T13:32:22.879612Z",
     "iopub.status.idle": "2024-07-29T13:32:23.689752Z",
     "shell.execute_reply": "2024-07-29T13:32:23.688293Z"
    },
    "papermill": {
     "duration": 0.864184,
     "end_time": "2024-07-29T13:32:23.692922",
     "exception": false,
     "start_time": "2024-07-29T13:32:22.828738",
     "status": "completed"
    },
    "tags": []
   },
   "outputs": [
    {
     "data": {
      "image/png": "[encoded data removed]",
      "text/plain": [
       "<Figure size 2400x1200 with 1 Axes>"
      ]
     },
     "metadata": {},
     "output_type": "display_data"
    }
   ],
   "source": [
    "plt.figure(figsize = (8, 4), dpi = 300)\n",
    "sns.barplot(data = score_list.reindex((-1 * score_list).mean().sort_values(ascending=False).index, axis = 1), orient = 'h')\n",
    "plt.title('Score Comparison', weight = 'bold', size = 18)\n",
    "plt.show()"
   ]
  },
  {
   "cell_type": "markdown",
   "id": "d3fe574f",
   "metadata": {
    "papermill": {
     "duration": 0.014314,
     "end_time": "2024-07-29T13:32:23.721663",
     "exception": false,
     "start_time": "2024-07-29T13:32:23.707349",
     "status": "completed"
    },
    "tags": []
   },
   "source": [
    "# Voting"
   ]
  },
  {
   "cell_type": "code",
   "execution_count": 24,
   "id": "d5c6194d",
   "metadata": {
    "execution": {
     "iopub.execute_input": "2024-07-29T13:32:23.753228Z",
     "iopub.status.busy": "2024-07-29T13:32:23.752741Z",
     "iopub.status.idle": "2024-07-29T13:32:23.759399Z",
     "shell.execute_reply": "2024-07-29T13:32:23.758227Z"
    },
    "papermill": {
     "duration": 0.02534,
     "end_time": "2024-07-29T13:32:23.761955",
     "exception": false,
     "start_time": "2024-07-29T13:32:23.736615",
     "status": "completed"
    },
    "tags": []
   },
   "outputs": [],
   "source": [
    "# We use the best three models\n",
    "voting = VotingRegressor(estimators=[\n",
    "    ('cb', CatBoostRegressor(random_state = seed, verbose = 0)),\n",
    "    ('xgb', XGBRegressor(random_state = seed)),\n",
    "    ('hgb', HistGradientBoostingRegressor(random_state = seed))\n",
    "])"
   ]
  },
  {
   "cell_type": "code",
   "execution_count": 25,
   "id": "a166eea4",
   "metadata": {
    "execution": {
     "iopub.execute_input": "2024-07-29T13:32:23.792775Z",
     "iopub.status.busy": "2024-07-29T13:32:23.792219Z",
     "iopub.status.idle": "2024-07-29T13:32:50.274287Z",
     "shell.execute_reply": "2024-07-29T13:32:50.272599Z"
    },
    "papermill": {
     "duration": 26.500802,
     "end_time": "2024-07-29T13:32:50.277028",
     "exception": false,
     "start_time": "2024-07-29T13:32:23.776226",
     "status": "completed"
    },
    "tags": []
   },
   "outputs": [
    {
     "name": "stdout",
     "output_type": "stream",
     "text": [
      "Val Score: 0.03293 ± 0.00054 | Train Score: 0.02394 ± 0.00014 | voter\n"
     ]
    }
   ],
   "source": [
    "_ = cross_validation_score(estimator=voting, cv=skf, label='voter')"
   ]
  },
  {
   "cell_type": "markdown",
   "id": "84bc3136",
   "metadata": {
    "papermill": {
     "duration": 0.013832,
     "end_time": "2024-07-29T13:32:50.305140",
     "exception": false,
     "start_time": "2024-07-29T13:32:50.291308",
     "status": "completed"
    },
    "tags": []
   },
   "source": [
    "# Prediction and Submission"
   ]
  },
  {
   "cell_type": "code",
   "execution_count": 26,
   "id": "bb73f0f4",
   "metadata": {
    "execution": {
     "iopub.execute_input": "2024-07-29T13:32:50.336600Z",
     "iopub.status.busy": "2024-07-29T13:32:50.336133Z",
     "iopub.status.idle": "2024-07-29T13:32:55.923504Z",
     "shell.execute_reply": "2024-07-29T13:32:55.922119Z"
    },
    "papermill": {
     "duration": 5.606632,
     "end_time": "2024-07-29T13:32:55.926228",
     "exception": false,
     "start_time": "2024-07-29T13:32:50.319596",
     "status": "completed"
    },
    "tags": []
   },
   "outputs": [
    {
     "data": {
      "text/html": [
       "<style>#sk-container-id-1 {color: black;background-color: white;}#sk-container-id-1 pre{padding: 0;}#sk-container-id-1 div.sk-toggleable {background-color: white;}#sk-container-id-1 label.sk-toggleable__label {cursor: pointer;display: block;width: 100%;margin-bottom: 0;padding: 0.3em;box-sizing: border-box;text-align: center;}#sk-container-id-1 label.sk-toggleable__label-arrow:before {content: \"▸\";float: left;margin-right: 0.25em;color: #696969;}#sk-container-id-1 label.sk-toggleable__label-arrow:hover:before {color: black;}#sk-container-id-1 div.sk-estimator:hover label.sk-toggleable__label-arrow:before {color: black;}#sk-container-id-1 div.sk-toggleable__content {max-height: 0;max-width: 0;overflow: hidden;text-align: left;background-color: #f0f8ff;}#sk-container-id-1 div.sk-toggleable__content pre {margin: 0.2em;color: black;border-radius: 0.25em;background-color: #f0f8ff;}#sk-container-id-1 input.sk-toggleable__control:checked~div.sk-toggleable__content {max-height: 200px;max-width: 100%;overflow: auto;}#sk-container-id-1 input.sk-toggleable__control:checked~label.sk-toggleable__label-arrow:before {content: \"▾\";}#sk-container-id-1 div.sk-estimator input.sk-toggleable__control:checked~label.sk-toggleable__label {background-color: #d4ebff;}#sk-container-id-1 div.sk-label input.sk-toggleable__control:checked~label.sk-toggleable__label {background-color: #d4ebff;}#sk-container-id-1 input.sk-hidden--visually {border: 0;clip: rect(1px 1px 1px 1px);clip: rect(1px, 1px, 1px, 1px);height: 1px;margin: -1px;overflow: hidden;padding: 0;position: absolute;width: 1px;}#sk-container-id-1 div.sk-estimator {font-family: monospace;background-color: #f0f8ff;border: 1px dotted black;border-radius: 0.25em;box-sizing: border-box;margin-bottom: 0.5em;}#sk-container-id-1 div.sk-estimator:hover {background-color: #d4ebff;}#sk-container-id-1 div.sk-parallel-item::after {content: \"\";width: 100%;border-bottom: 1px solid gray;flex-grow: 1;}#sk-container-id-1 div.sk-label:hover label.sk-toggleable__label {background-color: #d4ebff;}#sk-container-id-1 div.sk-serial::before {content: \"\";position: absolute;border-left: 1px solid gray;box-sizing: border-box;top: 0;bottom: 0;left: 50%;z-index: 0;}#sk-container-id-1 div.sk-serial {display: flex;flex-direction: column;align-items: center;background-color: white;padding-right: 0.2em;padding-left: 0.2em;position: relative;}#sk-container-id-1 div.sk-item {position: relative;z-index: 1;}#sk-container-id-1 div.sk-parallel {display: flex;align-items: stretch;justify-content: center;background-color: white;position: relative;}#sk-container-id-1 div.sk-item::before, #sk-container-id-1 div.sk-parallel-item::before {content: \"\";position: absolute;border-left: 1px solid gray;box-sizing: border-box;top: 0;bottom: 0;left: 50%;z-index: -1;}#sk-container-id-1 div.sk-parallel-item {display: flex;flex-direction: column;z-index: 1;position: relative;background-color: white;}#sk-container-id-1 div.sk-parallel-item:first-child::after {align-self: flex-end;width: 50%;}#sk-container-id-1 div.sk-parallel-item:last-child::after {align-self: flex-start;width: 50%;}#sk-container-id-1 div.sk-parallel-item:only-child::after {width: 0;}#sk-container-id-1 div.sk-dashed-wrapped {border: 1px dashed gray;margin: 0 0.4em 0.5em 0.4em;box-sizing: border-box;padding-bottom: 0.4em;background-color: white;}#sk-container-id-1 div.sk-label label {font-family: monospace;font-weight: bold;display: inline-block;line-height: 1.2em;}#sk-container-id-1 div.sk-label-container {text-align: center;}#sk-container-id-1 div.sk-container {/* jupyter's `normalize.less` sets `[hidden] { display: none; }` but bootstrap.min.css set `[hidden] { display: none !important; }` so we also need the `!important` here to be able to override the default hidden behavior on the sphinx rendered scikit-learn.org. See: https://github.com/scikit-learn/scikit-learn/issues/21755 */display: inline-block !important;position: relative;}#sk-container-id-1 div.sk-text-repr-fallback {display: none;}</style><div id=\"sk-container-id-1\" class=\"sk-top-container\"><div class=\"sk-text-repr-fallback\"><pre>VotingRegressor(estimators=[(&#x27;cb&#x27;,\n",
       "                             &lt;catboost.core.CatBoostRegressor object at 0x7cfb6688fca0&gt;),\n",
       "                            (&#x27;xgb&#x27;,\n",
       "                             XGBRegressor(base_score=None, booster=None,\n",
       "                                          callbacks=None,\n",
       "                                          colsample_bylevel=None,\n",
       "                                          colsample_bynode=None,\n",
       "                                          colsample_bytree=None, device=None,\n",
       "                                          early_stopping_rounds=None,\n",
       "                                          enable_categorical=False,\n",
       "                                          eval_metric=None, feature_types=None,\n",
       "                                          gamma=None, grow_policy=None,...\n",
       "                                          interaction_constraints=None,\n",
       "                                          learning_rate=None, max_bin=None,\n",
       "                                          max_cat_threshold=None,\n",
       "                                          max_cat_to_onehot=None,\n",
       "                                          max_delta_step=None, max_depth=None,\n",
       "                                          max_leaves=None,\n",
       "                                          min_child_weight=None, missing=nan,\n",
       "                                          monotone_constraints=None,\n",
       "                                          multi_strategy=None,\n",
       "                                          n_estimators=None, n_jobs=None,\n",
       "                                          num_parallel_tree=None,\n",
       "                                          random_state=1702, ...)),\n",
       "                            (&#x27;hgb&#x27;,\n",
       "                             HistGradientBoostingRegressor(random_state=1702))])</pre><b>In a Jupyter environment, please rerun this cell to show the HTML representation or trust the notebook. <br />On GitHub, the HTML representation is unable to render, please try loading this page with nbviewer.org.</b></div><div class=\"sk-container\" hidden><div class=\"sk-item sk-dashed-wrapped\"><div class=\"sk-label-container\"><div class=\"sk-label sk-toggleable\"><input class=\"sk-toggleable__control sk-hidden--visually\" id=\"sk-estimator-id-1\" type=\"checkbox\" ><label for=\"sk-estimator-id-1\" class=\"sk-toggleable__label sk-toggleable__label-arrow\">VotingRegressor</label><div class=\"sk-toggleable__content\"><pre>VotingRegressor(estimators=[(&#x27;cb&#x27;,\n",
       "                             &lt;catboost.core.CatBoostRegressor object at 0x7cfb6688fca0&gt;),\n",
       "                            (&#x27;xgb&#x27;,\n",
       "                             XGBRegressor(base_score=None, booster=None,\n",
       "                                          callbacks=None,\n",
       "                                          colsample_bylevel=None,\n",
       "                                          colsample_bynode=None,\n",
       "                                          colsample_bytree=None, device=None,\n",
       "                                          early_stopping_rounds=None,\n",
       "                                          enable_categorical=False,\n",
       "                                          eval_metric=None, feature_types=None,\n",
       "                                          gamma=None, grow_policy=None,...\n",
       "                                          interaction_constraints=None,\n",
       "                                          learning_rate=None, max_bin=None,\n",
       "                                          max_cat_threshold=None,\n",
       "                                          max_cat_to_onehot=None,\n",
       "                                          max_delta_step=None, max_depth=None,\n",
       "                                          max_leaves=None,\n",
       "                                          min_child_weight=None, missing=nan,\n",
       "                                          monotone_constraints=None,\n",
       "                                          multi_strategy=None,\n",
       "                                          n_estimators=None, n_jobs=None,\n",
       "                                          num_parallel_tree=None,\n",
       "                                          random_state=1702, ...)),\n",
       "                            (&#x27;hgb&#x27;,\n",
       "                             HistGradientBoostingRegressor(random_state=1702))])</pre></div></div></div><div class=\"sk-parallel\"><div class=\"sk-parallel-item\"><div class=\"sk-item\"><div class=\"sk-label-container\"><div class=\"sk-label sk-toggleable\"><label>cb</label></div></div><div class=\"sk-serial\"><div class=\"sk-item\"><div class=\"sk-estimator sk-toggleable\"><input class=\"sk-toggleable__control sk-hidden--visually\" id=\"sk-estimator-id-2\" type=\"checkbox\" ><label for=\"sk-estimator-id-2\" class=\"sk-toggleable__label sk-toggleable__label-arrow\">CatBoostRegressor</label><div class=\"sk-toggleable__content\"><pre>&lt;catboost.core.CatBoostRegressor object at 0x7cfb6688fca0&gt;</pre></div></div></div></div></div></div><div class=\"sk-parallel-item\"><div class=\"sk-item\"><div class=\"sk-label-container\"><div class=\"sk-label sk-toggleable\"><label>xgb</label></div></div><div class=\"sk-serial\"><div class=\"sk-item\"><div class=\"sk-estimator sk-toggleable\"><input class=\"sk-toggleable__control sk-hidden--visually\" id=\"sk-estimator-id-3\" type=\"checkbox\" ><label for=\"sk-estimator-id-3\" class=\"sk-toggleable__label sk-toggleable__label-arrow\">XGBRegressor</label><div class=\"sk-toggleable__content\"><pre>XGBRegressor(base_score=None, booster=None, callbacks=None,\n",
       "             colsample_bylevel=None, colsample_bynode=None,\n",
       "             colsample_bytree=None, device=None, early_stopping_rounds=None,\n",
       "             enable_categorical=False, eval_metric=None, feature_types=None,\n",
       "             gamma=None, grow_policy=None, importance_type=None,\n",
       "             interaction_constraints=None, learning_rate=None, max_bin=None,\n",
       "             max_cat_threshold=None, max_cat_to_onehot=None,\n",
       "             max_delta_step=None, max_depth=None, max_leaves=None,\n",
       "             min_child_weight=None, missing=nan, monotone_constraints=None,\n",
       "             multi_strategy=None, n_estimators=None, n_jobs=None,\n",
       "             num_parallel_tree=None, random_state=1702, ...)</pre></div></div></div></div></div></div><div class=\"sk-parallel-item\"><div class=\"sk-item\"><div class=\"sk-label-container\"><div class=\"sk-label sk-toggleable\"><label>hgb</label></div></div><div class=\"sk-serial\"><div class=\"sk-item\"><div class=\"sk-estimator sk-toggleable\"><input class=\"sk-toggleable__control sk-hidden--visually\" id=\"sk-estimator-id-4\" type=\"checkbox\" ><label for=\"sk-estimator-id-4\" class=\"sk-toggleable__label sk-toggleable__label-arrow\">HistGradientBoostingRegressor</label><div class=\"sk-toggleable__content\"><pre>HistGradientBoostingRegressor(random_state=1702)</pre></div></div></div></div></div></div></div></div></div></div>"
      ],
      "text/plain": [
       "VotingRegressor(estimators=[('cb',\n",
       "                             <catboost.core.CatBoostRegressor object at 0x7cfb6688fca0>),\n",
       "                            ('xgb',\n",
       "                             XGBRegressor(base_score=None, booster=None,\n",
       "                                          callbacks=None,\n",
       "                                          colsample_bylevel=None,\n",
       "                                          colsample_bynode=None,\n",
       "                                          colsample_bytree=None, device=None,\n",
       "                                          early_stopping_rounds=None,\n",
       "                                          enable_categorical=False,\n",
       "                                          eval_metric=None, feature_types=None,\n",
       "                                          gamma=None, grow_policy=None,...\n",
       "                                          interaction_constraints=None,\n",
       "                                          learning_rate=None, max_bin=None,\n",
       "                                          max_cat_threshold=None,\n",
       "                                          max_cat_to_onehot=None,\n",
       "                                          max_delta_step=None, max_depth=None,\n",
       "                                          max_leaves=None,\n",
       "                                          min_child_weight=None, missing=nan,\n",
       "                                          monotone_constraints=None,\n",
       "                                          multi_strategy=None,\n",
       "                                          n_estimators=None, n_jobs=None,\n",
       "                                          num_parallel_tree=None,\n",
       "                                          random_state=1702, ...)),\n",
       "                            ('hgb',\n",
       "                             HistGradientBoostingRegressor(random_state=1702))])"
      ]
     },
     "execution_count": 26,
     "metadata": {},
     "output_type": "execute_result"
    }
   ],
   "source": [
    "voting.fit(X,y)"
   ]
  },
  {
   "cell_type": "code",
   "execution_count": 27,
   "id": "0139fb25",
   "metadata": {
    "execution": {
     "iopub.execute_input": "2024-07-29T13:32:55.957719Z",
     "iopub.status.busy": "2024-07-29T13:32:55.957265Z",
     "iopub.status.idle": "2024-07-29T13:32:55.966499Z",
     "shell.execute_reply": "2024-07-29T13:32:55.965225Z"
    },
    "papermill": {
     "duration": 0.027976,
     "end_time": "2024-07-29T13:32:55.968964",
     "exception": false,
     "start_time": "2024-07-29T13:32:55.940988",
     "status": "completed"
    },
    "tags": []
   },
   "outputs": [],
   "source": [
    "submission = test.copy()"
   ]
  },
  {
   "cell_type": "code",
   "execution_count": 28,
   "id": "d0f7f157",
   "metadata": {
    "execution": {
     "iopub.execute_input": "2024-07-29T13:32:56.002066Z",
     "iopub.status.busy": "2024-07-29T13:32:56.000958Z",
     "iopub.status.idle": "2024-07-29T13:32:56.046521Z",
     "shell.execute_reply": "2024-07-29T13:32:56.045367Z"
    },
    "papermill": {
     "duration": 0.065004,
     "end_time": "2024-07-29T13:32:56.049375",
     "exception": false,
     "start_time": "2024-07-29T13:32:55.984371",
     "status": "completed"
    },
    "tags": []
   },
   "outputs": [],
   "source": [
    "preds = voting.predict(submission)"
   ]
  },
  {
   "cell_type": "code",
   "execution_count": 29,
   "id": "5d339f74",
   "metadata": {
    "execution": {
     "iopub.execute_input": "2024-07-29T13:32:56.081972Z",
     "iopub.status.busy": "2024-07-29T13:32:56.081476Z",
     "iopub.status.idle": "2024-07-29T13:32:56.088502Z",
     "shell.execute_reply": "2024-07-29T13:32:56.087209Z"
    },
    "papermill": {
     "duration": 0.026892,
     "end_time": "2024-07-29T13:32:56.091632",
     "exception": false,
     "start_time": "2024-07-29T13:32:56.064740",
     "status": "completed"
    },
    "tags": []
   },
   "outputs": [],
   "source": [
    "submission['orders'] = preds"
   ]
  },
  {
   "cell_type": "code",
   "execution_count": 30,
   "id": "7d6c46c4",
   "metadata": {
    "execution": {
     "iopub.execute_input": "2024-07-29T13:32:56.124257Z",
     "iopub.status.busy": "2024-07-29T13:32:56.123811Z",
     "iopub.status.idle": "2024-07-29T13:32:56.144486Z",
     "shell.execute_reply": "2024-07-29T13:32:56.143088Z"
    },
    "papermill": {
     "duration": 0.0401,
     "end_time": "2024-07-29T13:32:56.147093",
     "exception": false,
     "start_time": "2024-07-29T13:32:56.106993",
     "status": "completed"
    },
    "tags": []
   },
   "outputs": [
    {
     "data": {
      "text/html": [
       "<div>\n",
       "<style scoped>\n",
       "    .dataframe tbody tr th:only-of-type {\n",
       "        vertical-align: middle;\n",
       "    }\n",
       "\n",
       "    .dataframe tbody tr th {\n",
       "        vertical-align: top;\n",
       "    }\n",
       "\n",
       "    .dataframe thead th {\n",
       "        text-align: right;\n",
       "    }\n",
       "</style>\n",
       "<table border=\"1\" class=\"dataframe\">\n",
       "  <thead>\n",
       "    <tr style=\"text-align: right;\">\n",
       "      <th></th>\n",
       "      <th>orders</th>\n",
       "    </tr>\n",
       "    <tr>\n",
       "      <th>id</th>\n",
       "      <th></th>\n",
       "    </tr>\n",
       "  </thead>\n",
       "  <tbody>\n",
       "    <tr>\n",
       "      <th>Prague_1_2024-03-16</th>\n",
       "      <td>10465.090216</td>\n",
       "    </tr>\n",
       "    <tr>\n",
       "      <th>Prague_1_2024-03-17</th>\n",
       "      <td>10156.058332</td>\n",
       "    </tr>\n",
       "    <tr>\n",
       "      <th>Prague_1_2024-03-18</th>\n",
       "      <td>9905.335073</td>\n",
       "    </tr>\n",
       "    <tr>\n",
       "      <th>Prague_1_2024-03-19</th>\n",
       "      <td>9642.656961</td>\n",
       "    </tr>\n",
       "    <tr>\n",
       "      <th>Prague_1_2024-03-20</th>\n",
       "      <td>9664.049660</td>\n",
       "    </tr>\n",
       "    <tr>\n",
       "      <th>...</th>\n",
       "      <td>...</td>\n",
       "    </tr>\n",
       "    <tr>\n",
       "      <th>Budapest_1_2024-05-11</th>\n",
       "      <td>7371.787144</td>\n",
       "    </tr>\n",
       "    <tr>\n",
       "      <th>Budapest_1_2024-05-12</th>\n",
       "      <td>6846.783014</td>\n",
       "    </tr>\n",
       "    <tr>\n",
       "      <th>Budapest_1_2024-05-13</th>\n",
       "      <td>7107.026902</td>\n",
       "    </tr>\n",
       "    <tr>\n",
       "      <th>Budapest_1_2024-05-14</th>\n",
       "      <td>7154.501201</td>\n",
       "    </tr>\n",
       "    <tr>\n",
       "      <th>Budapest_1_2024-05-15</th>\n",
       "      <td>7059.823571</td>\n",
       "    </tr>\n",
       "  </tbody>\n",
       "</table>\n",
       "<p>397 rows × 1 columns</p>\n",
       "</div>"
      ],
      "text/plain": [
       "                             orders\n",
       "id                                 \n",
       "Prague_1_2024-03-16    10465.090216\n",
       "Prague_1_2024-03-17    10156.058332\n",
       "Prague_1_2024-03-18     9905.335073\n",
       "Prague_1_2024-03-19     9642.656961\n",
       "Prague_1_2024-03-20     9664.049660\n",
       "...                             ...\n",
       "Budapest_1_2024-05-11   7371.787144\n",
       "Budapest_1_2024-05-12   6846.783014\n",
       "Budapest_1_2024-05-13   7107.026902\n",
       "Budapest_1_2024-05-14   7154.501201\n",
       "Budapest_1_2024-05-15   7059.823571\n",
       "\n",
       "[397 rows x 1 columns]"
      ]
     },
     "execution_count": 30,
     "metadata": {},
     "output_type": "execute_result"
    }
   ],
   "source": [
    "sub = pd.read_csv('/kaggle/input/rohlik-orders-forecasting-challenge/solution_example.csv', index_col='id')\n",
    "sub['orders'] = preds\n",
    "sub"
   ]
  },
  {
   "cell_type": "code",
   "execution_count": 31,
   "id": "c66e7058",
   "metadata": {
    "execution": {
     "iopub.execute_input": "2024-07-29T13:32:56.179727Z",
     "iopub.status.busy": "2024-07-29T13:32:56.179245Z",
     "iopub.status.idle": "2024-07-29T13:32:56.192321Z",
     "shell.execute_reply": "2024-07-29T13:32:56.191050Z"
    },
    "papermill": {
     "duration": 0.032654,
     "end_time": "2024-07-29T13:32:56.195217",
     "exception": false,
     "start_time": "2024-07-29T13:32:56.162563",
     "status": "completed"
    },
    "tags": []
   },
   "outputs": [],
   "source": [
    "sub[['orders']].to_csv('submission.csv')"
   ]
  }
 ],
 "metadata": {
  "kaggle": {
   "accelerator": "none",
   "dataSources": [
    {
     "databundleVersionId": 8794587,
     "sourceId": 80874,
     "sourceType": "competition"
    }
   ],
   "dockerImageVersionId": 30746,
   "isGpuEnabled": false,
   "isInternetEnabled": true,
   "language": "python",
   "sourceType": "notebook"
  },
  "kernelspec": {
   "display_name": "Python 3",
   "language": "python",
   "name": "python3"
  },
  "language_info": {
   "codemirror_mode": {
    "name": "ipython",
    "version": 3
   },
   "file_extension": ".py",
   "mimetype": "text/x-python",
   "name": "python",
   "nbconvert_exporter": "python",
   "pygments_lexer": "ipython3",
   "version": "3.10.13"
  },
  "papermill": {
   "default_parameters": {},
   "duration": 134.607288,
   "end_time": "2024-07-29T13:32:57.336007",
   "environment_variables": {},
   "exception": null,
   "input_path": "__notebook__.ipynb",
   "output_path": "__notebook__.ipynb",
   "parameters": {},
   "start_time": "2024-07-29T13:30:42.728719",
   "version": "2.5.0"
  }
 },
 "nbformat": 4,
 "nbformat_minor": 5
}
