{
 "cells": [
  {
   "cell_type": "code",
   "execution_count": 1,
   "id": "23139ef2",
   "metadata": {
    "_cell_guid": "b1076dfc-b9ad-4769-8c92-a6c4dae69d19",
    "_kg_hide-input": true,
    "_uuid": "8f2839f25d086af736a60e9eeb907d3b93b6e0e5",
    "execution": {
     "iopub.execute_input": "2024-07-24T10:05:55.019714Z",
     "iopub.status.busy": "2024-07-24T10:05:55.019267Z",
     "iopub.status.idle": "2024-07-24T10:05:58.335716Z",
     "shell.execute_reply": "2024-07-24T10:05:58.334639Z"
    },
    "jupyter": {
     "source_hidden": true
    },
    "papermill": {
     "duration": 3.32876,
     "end_time": "2024-07-24T10:05:58.338263",
     "exception": false,
     "start_time": "2024-07-24T10:05:55.009503",
     "status": "completed"
    },
    "tags": []
   },
   "outputs": [],
   "source": [
    "import pandas as pd\n",
    "import numpy as np\n",
    "import matplotlib.pyplot as plt\n",
    "import seaborn as sns\n",
    "import plotly.graph_objects as go\n",
    "import networkx as nx"
   ]
  },
  {
   "cell_type": "markdown",
   "id": "5caf06c4",
   "metadata": {
    "papermill": {
     "duration": 0.007355,
     "end_time": "2024-07-24T10:05:58.353495",
     "exception": false,
     "start_time": "2024-07-24T10:05:58.346140",
     "status": "completed"
    },
    "tags": []
   },
   "source": [
    "# 🩸 Introduction\n",
    "\n",
    "The landscape of organized crime in Mexico is dominated by powerful and often violent cartels that have evolved over decades. These criminal organizations, primarily involved in drug trafficking, have created a complex web of alliances and rivalries that significantly impact the country's security and stability. Understanding these relationships is crucial for grasping the broader context of violence and power dynamics within the region.\n",
    "\n",
    "Mexican cartels are notorious for their involvement in a range of criminal activities, including drug trafficking, extortion, kidnapping, human trafficking, and money laundering. The most prominent cartels, such as the Sinaloa Cartel, the Jalisco New Generation Cartel (CJNG), and the Gulf Cartel, have established extensive networks that operate both domestically and internationally. These organizations are not only involved in the production and distribution of drugs like cocaine, heroin, methamphetamine, and marijuana but also engage in brutal tactics to maintain their dominance and control over lucrative trafficking routes.\n",
    "\n",
    "The relationships between these cartels are marked by a combination of strategic alliances and fierce rivalries. Alliances are often formed to consolidate power, expand territorial control, and increase operational efficiency. For example, smaller cartels may align with more powerful ones to gain protection and access to trafficking routes. On the other hand, rivalries between cartels are driven by competition for territory, resources, and influence, leading to violent clashes and sustained conflicts.\n",
    "\n",
    "In this notebook, we will visualize the intricate relationships between Mexican cartels. By employing network analysis and interactive visualizations, we aim to shed light on the complex and often hidden connections that shape the operations and strategies of these criminal organizations. Through this exploration, we seek to provide a deeper understanding of the factors driving the violence and instability associated with Mexican cartels."
   ]
  },
  {
   "cell_type": "code",
   "execution_count": 2,
   "id": "ff9114a9",
   "metadata": {
    "execution": {
     "iopub.execute_input": "2024-07-24T10:05:58.371368Z",
     "iopub.status.busy": "2024-07-24T10:05:58.370794Z",
     "iopub.status.idle": "2024-07-24T10:05:58.407828Z",
     "shell.execute_reply": "2024-07-24T10:05:58.406663Z"
    },
    "papermill": {
     "duration": 0.048808,
     "end_time": "2024-07-24T10:05:58.410544",
     "exception": false,
     "start_time": "2024-07-24T10:05:58.361736",
     "status": "completed"
    },
    "tags": []
   },
   "outputs": [],
   "source": [
    "trends = pd.read_csv('/kaggle/input/mexican-cartels-network/Trends2012_2021.csv')\n",
    "aliances =  pd.read_csv('/kaggle/input/mexican-cartels-network/BACRIM2020_Alliances.csv')\n",
    "rivals =  pd.read_csv('/kaggle/input/mexican-cartels-network/BACRIM2020_Rivals.csv')"
   ]
  },
  {
   "cell_type": "markdown",
   "id": "65039bc5",
   "metadata": {
    "papermill": {
     "duration": 0.007494,
     "end_time": "2024-07-24T10:05:58.426405",
     "exception": false,
     "start_time": "2024-07-24T10:05:58.418911",
     "status": "completed"
    },
    "tags": []
   },
   "source": [
    "# ⚙️ Preprocessing\n",
    "\n",
    "Before we start there is one small but important task to do. Look at the following extract from the dataframe. "
   ]
  },
  {
   "cell_type": "code",
   "execution_count": 3,
   "id": "7ad2d6ba",
   "metadata": {
    "execution": {
     "iopub.execute_input": "2024-07-24T10:05:58.443768Z",
     "iopub.status.busy": "2024-07-24T10:05:58.443344Z",
     "iopub.status.idle": "2024-07-24T10:05:58.469884Z",
     "shell.execute_reply": "2024-07-24T10:05:58.468702Z"
    },
    "papermill": {
     "duration": 0.038275,
     "end_time": "2024-07-24T10:05:58.472379",
     "exception": false,
     "start_time": "2024-07-24T10:05:58.434104",
     "status": "completed"
    },
    "tags": []
   },
   "outputs": [
    {
     "data": {
      "text/html": [
       "<div>\n",
       "<style scoped>\n",
       "    .dataframe tbody tr th:only-of-type {\n",
       "        vertical-align: middle;\n",
       "    }\n",
       "\n",
       "    .dataframe tbody tr th {\n",
       "        vertical-align: top;\n",
       "    }\n",
       "\n",
       "    .dataframe thead th {\n",
       "        text-align: right;\n",
       "    }\n",
       "</style>\n",
       "<table border=\"1\" class=\"dataframe\">\n",
       "  <thead>\n",
       "    <tr style=\"text-align: right;\">\n",
       "      <th></th>\n",
       "      <th>Edge</th>\n",
       "      <th>Node</th>\n",
       "      <th>Group</th>\n",
       "      <th>RNode</th>\n",
       "      <th>RGroup</th>\n",
       "      <th>weight</th>\n",
       "    </tr>\n",
       "  </thead>\n",
       "  <tbody>\n",
       "    <tr>\n",
       "      <th>11</th>\n",
       "      <td>R10107</td>\n",
       "      <td>N10116</td>\n",
       "      <td>Los Pelones</td>\n",
       "      <td>N10017</td>\n",
       "      <td>Cártel del Golfo</td>\n",
       "      <td>4</td>\n",
       "    </tr>\n",
       "    <tr>\n",
       "      <th>56</th>\n",
       "      <td>R10060</td>\n",
       "      <td>N10061</td>\n",
       "      <td>Grupo Sombra</td>\n",
       "      <td>N10017</td>\n",
       "      <td>Cártel del Golfo</td>\n",
       "      <td>2</td>\n",
       "    </tr>\n",
       "    <tr>\n",
       "      <th>121</th>\n",
       "      <td>R10114</td>\n",
       "      <td>N10127</td>\n",
       "      <td>Los Talibanes</td>\n",
       "      <td>N10017</td>\n",
       "      <td>Cártel del Golfo</td>\n",
       "      <td>1</td>\n",
       "    </tr>\n",
       "  </tbody>\n",
       "</table>\n",
       "</div>"
      ],
      "text/plain": [
       "       Edge    Node          Group   RNode            RGroup  weight\n",
       "11   R10107  N10116    Los Pelones  N10017  Cártel del Golfo       4\n",
       "56   R10060  N10061   Grupo Sombra  N10017  Cártel del Golfo       2\n",
       "121  R10114  N10127  Los Talibanes  N10017  Cártel del Golfo       1"
      ]
     },
     "execution_count": 3,
     "metadata": {},
     "output_type": "execute_result"
    }
   ],
   "source": [
    "aliances.loc[aliances['RGroup'] == 'Cártel del Golfo']"
   ]
  },
  {
   "cell_type": "code",
   "execution_count": 4,
   "id": "6d10a174",
   "metadata": {
    "execution": {
     "iopub.execute_input": "2024-07-24T10:05:58.490200Z",
     "iopub.status.busy": "2024-07-24T10:05:58.489279Z",
     "iopub.status.idle": "2024-07-24T10:05:58.501998Z",
     "shell.execute_reply": "2024-07-24T10:05:58.500914Z"
    },
    "papermill": {
     "duration": 0.023991,
     "end_time": "2024-07-24T10:05:58.504290",
     "exception": false,
     "start_time": "2024-07-24T10:05:58.480299",
     "status": "completed"
    },
    "tags": []
   },
   "outputs": [
    {
     "data": {
      "text/html": [
       "<div>\n",
       "<style scoped>\n",
       "    .dataframe tbody tr th:only-of-type {\n",
       "        vertical-align: middle;\n",
       "    }\n",
       "\n",
       "    .dataframe tbody tr th {\n",
       "        vertical-align: top;\n",
       "    }\n",
       "\n",
       "    .dataframe thead th {\n",
       "        text-align: right;\n",
       "    }\n",
       "</style>\n",
       "<table border=\"1\" class=\"dataframe\">\n",
       "  <thead>\n",
       "    <tr style=\"text-align: right;\">\n",
       "      <th></th>\n",
       "      <th>Edge</th>\n",
       "      <th>Node</th>\n",
       "      <th>Group</th>\n",
       "      <th>RNode</th>\n",
       "      <th>RGroup</th>\n",
       "      <th>weight</th>\n",
       "    </tr>\n",
       "  </thead>\n",
       "  <tbody>\n",
       "    <tr>\n",
       "      <th>7</th>\n",
       "      <td>R10020</td>\n",
       "      <td>N10017</td>\n",
       "      <td>Cártel del Golfo</td>\n",
       "      <td>N10116</td>\n",
       "      <td>Los Pelones</td>\n",
       "      <td>4</td>\n",
       "    </tr>\n",
       "    <tr>\n",
       "      <th>36</th>\n",
       "      <td>R10019</td>\n",
       "      <td>N10017</td>\n",
       "      <td>Cártel del Golfo</td>\n",
       "      <td>N10061</td>\n",
       "      <td>Grupo Sombra</td>\n",
       "      <td>2</td>\n",
       "    </tr>\n",
       "  </tbody>\n",
       "</table>\n",
       "</div>"
      ],
      "text/plain": [
       "      Edge    Node             Group   RNode        RGroup  weight\n",
       "7   R10020  N10017  Cártel del Golfo  N10116   Los Pelones       4\n",
       "36  R10019  N10017  Cártel del Golfo  N10061  Grupo Sombra       2"
      ]
     },
     "execution_count": 4,
     "metadata": {},
     "output_type": "execute_result"
    }
   ],
   "source": [
    "aliances.loc[aliances['Group'] == 'Cártel del Golfo']"
   ]
  },
  {
   "cell_type": "markdown",
   "id": "83210b55",
   "metadata": {
    "papermill": {
     "duration": 0.007683,
     "end_time": "2024-07-24T10:05:58.520280",
     "exception": false,
     "start_time": "2024-07-24T10:05:58.512597",
     "status": "completed"
    },
    "tags": []
   },
   "source": [
    "As you see we have redundant information in the dataset. The alliance between `Cártel del Golfo` and `Los Pelones` occurs two times. \n",
    "\n",
    "Although it does not cause any problems when generating the network, it does cause problems when aggregating values for the hover in the graphic. \n",
    "\n",
    "I create a sorted combination of the two columns `Node` and `RNode` and discard one of the duplicate entries. "
   ]
  },
  {
   "cell_type": "code",
   "execution_count": 5,
   "id": "22e50c4a",
   "metadata": {
    "execution": {
     "iopub.execute_input": "2024-07-24T10:05:58.538825Z",
     "iopub.status.busy": "2024-07-24T10:05:58.538439Z",
     "iopub.status.idle": "2024-07-24T10:05:58.554193Z",
     "shell.execute_reply": "2024-07-24T10:05:58.553167Z"
    },
    "papermill": {
     "duration": 0.027338,
     "end_time": "2024-07-24T10:05:58.556596",
     "exception": false,
     "start_time": "2024-07-24T10:05:58.529258",
     "status": "completed"
    },
    "tags": []
   },
   "outputs": [],
   "source": [
    "aliances['unique_pair'] = aliances.apply(lambda row: tuple(sorted([row['Node'], row['RNode']])), axis=1)\n",
    "aliances = aliances.drop_duplicates(subset=['unique_pair'], keep='first')\n",
    "aliances = aliances.drop(columns=['unique_pair'])"
   ]
  },
  {
   "cell_type": "markdown",
   "id": "0c8cc64f",
   "metadata": {
    "papermill": {
     "duration": 0.007815,
     "end_time": "2024-07-24T10:05:58.572536",
     "exception": false,
     "start_time": "2024-07-24T10:05:58.564721",
     "status": "completed"
    },
    "tags": []
   },
   "source": [
    "Let´s check again. "
   ]
  },
  {
   "cell_type": "code",
   "execution_count": 6,
   "id": "32713b0e",
   "metadata": {
    "execution": {
     "iopub.execute_input": "2024-07-24T10:05:58.589978Z",
     "iopub.status.busy": "2024-07-24T10:05:58.589613Z",
     "iopub.status.idle": "2024-07-24T10:05:58.602277Z",
     "shell.execute_reply": "2024-07-24T10:05:58.601207Z"
    },
    "papermill": {
     "duration": 0.024155,
     "end_time": "2024-07-24T10:05:58.604588",
     "exception": false,
     "start_time": "2024-07-24T10:05:58.580433",
     "status": "completed"
    },
    "tags": []
   },
   "outputs": [
    {
     "data": {
      "text/html": [
       "<div>\n",
       "<style scoped>\n",
       "    .dataframe tbody tr th:only-of-type {\n",
       "        vertical-align: middle;\n",
       "    }\n",
       "\n",
       "    .dataframe tbody tr th {\n",
       "        vertical-align: top;\n",
       "    }\n",
       "\n",
       "    .dataframe thead th {\n",
       "        text-align: right;\n",
       "    }\n",
       "</style>\n",
       "<table border=\"1\" class=\"dataframe\">\n",
       "  <thead>\n",
       "    <tr style=\"text-align: right;\">\n",
       "      <th></th>\n",
       "      <th>Edge</th>\n",
       "      <th>Node</th>\n",
       "      <th>Group</th>\n",
       "      <th>RNode</th>\n",
       "      <th>RGroup</th>\n",
       "      <th>weight</th>\n",
       "    </tr>\n",
       "  </thead>\n",
       "  <tbody>\n",
       "    <tr>\n",
       "      <th>121</th>\n",
       "      <td>R10114</td>\n",
       "      <td>N10127</td>\n",
       "      <td>Los Talibanes</td>\n",
       "      <td>N10017</td>\n",
       "      <td>Cártel del Golfo</td>\n",
       "      <td>1</td>\n",
       "    </tr>\n",
       "  </tbody>\n",
       "</table>\n",
       "</div>"
      ],
      "text/plain": [
       "       Edge    Node          Group   RNode            RGroup  weight\n",
       "121  R10114  N10127  Los Talibanes  N10017  Cártel del Golfo       1"
      ]
     },
     "execution_count": 6,
     "metadata": {},
     "output_type": "execute_result"
    }
   ],
   "source": [
    "aliances.loc[aliances['RGroup'] == 'Cártel del Golfo']"
   ]
  },
  {
   "cell_type": "code",
   "execution_count": 7,
   "id": "15b6104c",
   "metadata": {
    "execution": {
     "iopub.execute_input": "2024-07-24T10:05:58.622616Z",
     "iopub.status.busy": "2024-07-24T10:05:58.622216Z",
     "iopub.status.idle": "2024-07-24T10:05:58.634785Z",
     "shell.execute_reply": "2024-07-24T10:05:58.633680Z"
    },
    "papermill": {
     "duration": 0.02403,
     "end_time": "2024-07-24T10:05:58.636952",
     "exception": false,
     "start_time": "2024-07-24T10:05:58.612922",
     "status": "completed"
    },
    "tags": []
   },
   "outputs": [
    {
     "data": {
      "text/html": [
       "<div>\n",
       "<style scoped>\n",
       "    .dataframe tbody tr th:only-of-type {\n",
       "        vertical-align: middle;\n",
       "    }\n",
       "\n",
       "    .dataframe tbody tr th {\n",
       "        vertical-align: top;\n",
       "    }\n",
       "\n",
       "    .dataframe thead th {\n",
       "        text-align: right;\n",
       "    }\n",
       "</style>\n",
       "<table border=\"1\" class=\"dataframe\">\n",
       "  <thead>\n",
       "    <tr style=\"text-align: right;\">\n",
       "      <th></th>\n",
       "      <th>Edge</th>\n",
       "      <th>Node</th>\n",
       "      <th>Group</th>\n",
       "      <th>RNode</th>\n",
       "      <th>RGroup</th>\n",
       "      <th>weight</th>\n",
       "    </tr>\n",
       "  </thead>\n",
       "  <tbody>\n",
       "    <tr>\n",
       "      <th>7</th>\n",
       "      <td>R10020</td>\n",
       "      <td>N10017</td>\n",
       "      <td>Cártel del Golfo</td>\n",
       "      <td>N10116</td>\n",
       "      <td>Los Pelones</td>\n",
       "      <td>4</td>\n",
       "    </tr>\n",
       "    <tr>\n",
       "      <th>36</th>\n",
       "      <td>R10019</td>\n",
       "      <td>N10017</td>\n",
       "      <td>Cártel del Golfo</td>\n",
       "      <td>N10061</td>\n",
       "      <td>Grupo Sombra</td>\n",
       "      <td>2</td>\n",
       "    </tr>\n",
       "  </tbody>\n",
       "</table>\n",
       "</div>"
      ],
      "text/plain": [
       "      Edge    Node             Group   RNode        RGroup  weight\n",
       "7   R10020  N10017  Cártel del Golfo  N10116   Los Pelones       4\n",
       "36  R10019  N10017  Cártel del Golfo  N10061  Grupo Sombra       2"
      ]
     },
     "execution_count": 7,
     "metadata": {},
     "output_type": "execute_result"
    }
   ],
   "source": [
    "aliances.loc[aliances['Group'] == 'Cártel del Golfo']"
   ]
  },
  {
   "cell_type": "markdown",
   "id": "6bf2abfa",
   "metadata": {
    "papermill": {
     "duration": 0.008341,
     "end_time": "2024-07-24T10:05:58.653876",
     "exception": false,
     "start_time": "2024-07-24T10:05:58.645535",
     "status": "completed"
    },
    "tags": []
   },
   "source": [
    "Also apply to the rivals dataframe. "
   ]
  },
  {
   "cell_type": "code",
   "execution_count": 8,
   "id": "c546ae48",
   "metadata": {
    "execution": {
     "iopub.execute_input": "2024-07-24T10:05:58.672268Z",
     "iopub.status.busy": "2024-07-24T10:05:58.671910Z",
     "iopub.status.idle": "2024-07-24T10:05:58.682590Z",
     "shell.execute_reply": "2024-07-24T10:05:58.681416Z"
    },
    "papermill": {
     "duration": 0.022635,
     "end_time": "2024-07-24T10:05:58.684844",
     "exception": false,
     "start_time": "2024-07-24T10:05:58.662209",
     "status": "completed"
    },
    "tags": []
   },
   "outputs": [],
   "source": [
    "rivals['unique_pair'] = rivals.apply(lambda row: tuple(sorted([row['Node'], row['RNode']])), axis=1)\n",
    "rivals = rivals.drop_duplicates(subset=['unique_pair'], keep='first')\n",
    "rivals = rivals.drop(columns=['unique_pair'])"
   ]
  },
  {
   "cell_type": "markdown",
   "id": "db8e19eb",
   "metadata": {
    "papermill": {
     "duration": 0.009767,
     "end_time": "2024-07-24T10:05:58.703286",
     "exception": false,
     "start_time": "2024-07-24T10:05:58.693519",
     "status": "completed"
    },
    "tags": []
   },
   "source": [
    "Finally we create a new dataframe which holds aggregated relationships for aliances and rivals. The dataframe is not interesting for the network graph, I need it for separate bar charts. "
   ]
  },
  {
   "cell_type": "code",
   "execution_count": 9,
   "id": "8b5df7cb",
   "metadata": {
    "_kg_hide-input": true,
    "execution": {
     "iopub.execute_input": "2024-07-24T10:05:58.722155Z",
     "iopub.status.busy": "2024-07-24T10:05:58.721774Z",
     "iopub.status.idle": "2024-07-24T10:05:58.773891Z",
     "shell.execute_reply": "2024-07-24T10:05:58.772877Z"
    },
    "jupyter": {
     "source_hidden": true
    },
    "papermill": {
     "duration": 0.064577,
     "end_time": "2024-07-24T10:05:58.776463",
     "exception": false,
     "start_time": "2024-07-24T10:05:58.711886",
     "status": "completed"
    },
    "tags": []
   },
   "outputs": [],
   "source": [
    "alliance_group_df = aliances[['Group', 'RGroup', 'weight']]\n",
    "alliance_rgroup_df = aliances[['RGroup', 'Group', 'weight']]\n",
    "alliance_rgroup_df.columns = ['Group', 'RGroup', 'weight']\n",
    "combined_alliance_df = pd.concat([alliance_group_df, alliance_rgroup_df])\n",
    "\n",
    "alliance_grouped_df = combined_alliance_df.groupby('Group').agg(\n",
    "    alliances=('RGroup', 'count'),\n",
    "    total_alliance_weight=('weight', 'sum')\n",
    ").reset_index()\n",
    "\n",
    "rival_group_df = rivals[['Group', 'RGroup', 'weight']]\n",
    "rival_rgroup_df = rivals[['RGroup', 'Group', 'weight']]\n",
    "rival_rgroup_df.columns = ['Group', 'RGroup', 'weight']\n",
    "combined_rival_df = pd.concat([rival_group_df, rival_rgroup_df])\n",
    "\n",
    "rival_grouped_df = combined_rival_df.groupby('Group').agg(\n",
    "    rivals=('RGroup', 'count'),\n",
    "    total_rival_weight=('weight', 'sum')\n",
    ").reset_index()\n",
    "\n",
    "relationship_count_df = alliance_grouped_df.merge(rival_grouped_df, on='Group', how='outer').fillna(0)\n",
    "relationship_count_df[['alliances', 'total_alliance_weight', 'rivals', 'total_rival_weight']] = relationship_count_df[['alliances', 'total_alliance_weight', 'rivals', 'total_rival_weight']].astype(int)"
   ]
  },
  {
   "cell_type": "code",
   "execution_count": 10,
   "id": "88264bde",
   "metadata": {
    "execution": {
     "iopub.execute_input": "2024-07-24T10:05:58.795564Z",
     "iopub.status.busy": "2024-07-24T10:05:58.795151Z",
     "iopub.status.idle": "2024-07-24T10:05:58.808118Z",
     "shell.execute_reply": "2024-07-24T10:05:58.807123Z"
    },
    "papermill": {
     "duration": 0.025476,
     "end_time": "2024-07-24T10:05:58.810430",
     "exception": false,
     "start_time": "2024-07-24T10:05:58.784954",
     "status": "completed"
    },
    "tags": []
   },
   "outputs": [
    {
     "data": {
      "text/html": [
       "<div>\n",
       "<style scoped>\n",
       "    .dataframe tbody tr th:only-of-type {\n",
       "        vertical-align: middle;\n",
       "    }\n",
       "\n",
       "    .dataframe tbody tr th {\n",
       "        vertical-align: top;\n",
       "    }\n",
       "\n",
       "    .dataframe thead th {\n",
       "        text-align: right;\n",
       "    }\n",
       "</style>\n",
       "<table border=\"1\" class=\"dataframe\">\n",
       "  <thead>\n",
       "    <tr style=\"text-align: right;\">\n",
       "      <th></th>\n",
       "      <th>Group</th>\n",
       "      <th>alliances</th>\n",
       "      <th>total_alliance_weight</th>\n",
       "      <th>rivals</th>\n",
       "      <th>total_rival_weight</th>\n",
       "    </tr>\n",
       "  </thead>\n",
       "  <tbody>\n",
       "    <tr>\n",
       "      <th>0</th>\n",
       "      <td>ACME</td>\n",
       "      <td>3</td>\n",
       "      <td>5</td>\n",
       "      <td>0</td>\n",
       "      <td>0</td>\n",
       "    </tr>\n",
       "    <tr>\n",
       "      <th>1</th>\n",
       "      <td>CJNG Comando la Mancha</td>\n",
       "      <td>1</td>\n",
       "      <td>2</td>\n",
       "      <td>1</td>\n",
       "      <td>1</td>\n",
       "    </tr>\n",
       "    <tr>\n",
       "      <th>2</th>\n",
       "      <td>Caballeros Templarios</td>\n",
       "      <td>1</td>\n",
       "      <td>4</td>\n",
       "      <td>3</td>\n",
       "      <td>8</td>\n",
       "    </tr>\n",
       "    <tr>\n",
       "      <th>3</th>\n",
       "      <td>Cártel Jalisco Nueva Generación (CJNG)</td>\n",
       "      <td>28</td>\n",
       "      <td>55</td>\n",
       "      <td>27</td>\n",
       "      <td>77</td>\n",
       "    </tr>\n",
       "    <tr>\n",
       "      <th>4</th>\n",
       "      <td>Cártel Los Epitacio</td>\n",
       "      <td>1</td>\n",
       "      <td>1</td>\n",
       "      <td>0</td>\n",
       "      <td>0</td>\n",
       "    </tr>\n",
       "    <tr>\n",
       "      <th>...</th>\n",
       "      <td>...</td>\n",
       "      <td>...</td>\n",
       "      <td>...</td>\n",
       "      <td>...</td>\n",
       "      <td>...</td>\n",
       "    </tr>\n",
       "    <tr>\n",
       "      <th>109</th>\n",
       "      <td>Sindicato Libertad</td>\n",
       "      <td>1</td>\n",
       "      <td>2</td>\n",
       "      <td>0</td>\n",
       "      <td>0</td>\n",
       "    </tr>\n",
       "    <tr>\n",
       "      <th>110</th>\n",
       "      <td>Tercera Acción Destructiva (3AD)</td>\n",
       "      <td>1</td>\n",
       "      <td>1</td>\n",
       "      <td>0</td>\n",
       "      <td>0</td>\n",
       "    </tr>\n",
       "    <tr>\n",
       "      <th>111</th>\n",
       "      <td>Tropa del Infierno</td>\n",
       "      <td>1</td>\n",
       "      <td>3</td>\n",
       "      <td>3</td>\n",
       "      <td>3</td>\n",
       "    </tr>\n",
       "    <tr>\n",
       "      <th>112</th>\n",
       "      <td>U o la UVA</td>\n",
       "      <td>1</td>\n",
       "      <td>3</td>\n",
       "      <td>0</td>\n",
       "      <td>0</td>\n",
       "    </tr>\n",
       "    <tr>\n",
       "      <th>113</th>\n",
       "      <td>Zetas Vieja Escuela</td>\n",
       "      <td>3</td>\n",
       "      <td>4</td>\n",
       "      <td>6</td>\n",
       "      <td>9</td>\n",
       "    </tr>\n",
       "  </tbody>\n",
       "</table>\n",
       "<p>114 rows × 5 columns</p>\n",
       "</div>"
      ],
      "text/plain": [
       "                                      Group  alliances  total_alliance_weight  \\\n",
       "0                                      ACME          3                      5   \n",
       "1                    CJNG Comando la Mancha          1                      2   \n",
       "2                     Caballeros Templarios          1                      4   \n",
       "3    Cártel Jalisco Nueva Generación (CJNG)         28                     55   \n",
       "4                       Cártel Los Epitacio          1                      1   \n",
       "..                                      ...        ...                    ...   \n",
       "109                      Sindicato Libertad          1                      2   \n",
       "110        Tercera Acción Destructiva (3AD)          1                      1   \n",
       "111                      Tropa del Infierno          1                      3   \n",
       "112                              U o la UVA          1                      3   \n",
       "113                     Zetas Vieja Escuela          3                      4   \n",
       "\n",
       "     rivals  total_rival_weight  \n",
       "0         0                   0  \n",
       "1         1                   1  \n",
       "2         3                   8  \n",
       "3        27                  77  \n",
       "4         0                   0  \n",
       "..      ...                 ...  \n",
       "109       0                   0  \n",
       "110       0                   0  \n",
       "111       3                   3  \n",
       "112       0                   0  \n",
       "113       6                   9  \n",
       "\n",
       "[114 rows x 5 columns]"
      ]
     },
     "execution_count": 10,
     "metadata": {},
     "output_type": "execute_result"
    }
   ],
   "source": [
    "relationship_count_df"
   ]
  },
  {
   "cell_type": "markdown",
   "id": "8ad133ba",
   "metadata": {
    "papermill": {
     "duration": 0.008283,
     "end_time": "2024-07-24T10:05:58.827670",
     "exception": false,
     "start_time": "2024-07-24T10:05:58.819387",
     "status": "completed"
    },
    "tags": []
   },
   "source": [
    "# 📈 Violence in Numbers\n",
    "\n",
    "Mexican cartels lose many members due to conflict with other cartels or arrests. Yet, despite their losses cartels managed to increase violance for years. In 2021 around 177k persons where involved in either violance or arrests. According to the Fortune Global 500 ranking, which rankes the world´s largest companies  by annual revenue Pemex, América Móvil and Fomento Económico Mexicano are listed which are all Mexican companies. Pemex has approx. 120,000 employees, América Móvil employs 176,000 people. \n",
    "\n",
    "Although the trend data set only goes up to 2021, a significant increase in cartel memberships is very likely. It is no exaggeration to say that the Mexican cartels are among the top employers in Mexico. "
   ]
  },
  {
   "cell_type": "code",
   "execution_count": 11,
   "id": "dc91e559",
   "metadata": {
    "_kg_hide-input": true,
    "execution": {
     "iopub.execute_input": "2024-07-24T10:05:58.847586Z",
     "iopub.status.busy": "2024-07-24T10:05:58.846267Z",
     "iopub.status.idle": "2024-07-24T10:05:59.281766Z",
     "shell.execute_reply": "2024-07-24T10:05:59.280571Z"
    },
    "jupyter": {
     "source_hidden": true
    },
    "papermill": {
     "duration": 0.448072,
     "end_time": "2024-07-24T10:05:59.284314",
     "exception": false,
     "start_time": "2024-07-24T10:05:58.836242",
     "status": "completed"
    },
    "tags": []
   },
   "outputs": [
    {
     "data": {
      "text/html": [
       "        <script type=\"text/javascript\">\n",
       "        window.PlotlyConfig = {MathJaxConfig: 'local'};\n",
       "        if (window.MathJax && window.MathJax.Hub && window.MathJax.Hub.Config) {window.MathJax.Hub.Config({SVG: {font: \"STIX-Web\"}});}\n",
       "        if (typeof require !== 'undefined') {\n",
       "        require.undef(\"plotly\");\n",
       "        requirejs.config({\n",
       "            paths: {\n",
       "                'plotly': ['https://cdn.plot.ly/plotly-2.27.0.min']\n",
       "            }\n",
       "        });\n",
       "        require(['plotly'], function(Plotly) {\n",
       "            window._Plotly = Plotly;\n",
       "        });\n",
       "        }\n",
       "        </script>\n",
       "        "
      ]
     },
     "metadata": {},
     "output_type": "display_data"
    },
    {
     "data": {
      "text/html": [
       "<div>                            <div id=\"c26e4da0-afaf-48f0-9d82-a9986d201a84\" class=\"plotly-graph-div\" style=\"height:525px; width:100%;\"></div>            <script type=\"text/javascript\">                require([\"plotly\"], function(Plotly) {                    window.PLOTLYENV=window.PLOTLYENV || {};                                    if (document.getElementById(\"c26e4da0-afaf-48f0-9d82-a9986d201a84\")) {                    Plotly.newPlot(                        \"c26e4da0-afaf-48f0-9d82-a9986d201a84\",                        [{\"marker\":{\"color\":\"steelblue\"},\"name\":\"Homicide\",\"x\":[2012,2013,2014,2015,2016,2017,2018,2019,2020,2021],\"y\":[25967,23063,20013,20763,24560,32082,36687,36662,36773,35625],\"type\":\"bar\"},{\"marker\":{\"color\":\"mediumseagreen\"},\"name\":\"Missings\",\"x\":[2012,2013,2014,2015,2016,2017,2018,2019,2020,2021],\"y\":[10760,17614,17887,13442,14630,17335,17123,23272,22943,22470],\"type\":\"bar\"},{\"marker\":{\"color\":\"darkorange\"},\"name\":\"Arrests\",\"x\":[2012,2013,2014,2015,2016,2017,2018,2019,2020,2021],\"y\":[102535,110256,105581,106930,89232,105739,105636,122556,110351,119252],\"type\":\"bar\"}],                        {\"template\":{\"data\":{\"histogram2dcontour\":[{\"type\":\"histogram2dcontour\",\"colorbar\":{\"outlinewidth\":0,\"ticks\":\"\"},\"colorscale\":[[0.0,\"#0d0887\"],[0.1111111111111111,\"#46039f\"],[0.2222222222222222,\"#7201a8\"],[0.3333333333333333,\"#9c179e\"],[0.4444444444444444,\"#bd3786\"],[0.5555555555555556,\"#d8576b\"],[0.6666666666666666,\"#ed7953\"],[0.7777777777777778,\"#fb9f3a\"],[0.8888888888888888,\"#fdca26\"],[1.0,\"#f0f921\"]]}],\"choropleth\":[{\"type\":\"choropleth\",\"colorbar\":{\"outlinewidth\":0,\"ticks\":\"\"}}],\"histogram2d\":[{\"type\":\"histogram2d\",\"colorbar\":{\"outlinewidth\":0,\"ticks\":\"\"},\"colorscale\":[[0.0,\"#0d0887\"],[0.1111111111111111,\"#46039f\"],[0.2222222222222222,\"#7201a8\"],[0.3333333333333333,\"#9c179e\"],[0.4444444444444444,\"#bd3786\"],[0.5555555555555556,\"#d8576b\"],[0.6666666666666666,\"#ed7953\"],[0.7777777777777778,\"#fb9f3a\"],[0.8888888888888888,\"#fdca26\"],[1.0,\"#f0f921\"]]}],\"heatmap\":[{\"type\":\"heatmap\",\"colorbar\":{\"outlinewidth\":0,\"ticks\":\"\"},\"colorscale\":[[0.0,\"#0d0887\"],[0.1111111111111111,\"#46039f\"],[0.2222222222222222,\"#7201a8\"],[0.3333333333333333,\"#9c179e\"],[0.4444444444444444,\"#bd3786\"],[0.5555555555555556,\"#d8576b\"],[0.6666666666666666,\"#ed7953\"],[0.7777777777777778,\"#fb9f3a\"],[0.8888888888888888,\"#fdca26\"],[1.0,\"#f0f921\"]]}],\"heatmapgl\":[{\"type\":\"heatmapgl\",\"colorbar\":{\"outlinewidth\":0,\"ticks\":\"\"},\"colorscale\":[[0.0,\"#0d0887\"],[0.1111111111111111,\"#46039f\"],[0.2222222222222222,\"#7201a8\"],[0.3333333333333333,\"#9c179e\"],[0.4444444444444444,\"#bd3786\"],[0.5555555555555556,\"#d8576b\"],[0.6666666666666666,\"#ed7953\"],[0.7777777777777778,\"#fb9f3a\"],[0.8888888888888888,\"#fdca26\"],[1.0,\"#f0f921\"]]}],\"contourcarpet\":[{\"type\":\"contourcarpet\",\"colorbar\":{\"outlinewidth\":0,\"ticks\":\"\"}}],\"contour\":[{\"type\":\"contour\",\"colorbar\":{\"outlinewidth\":0,\"ticks\":\"\"},\"colorscale\":[[0.0,\"#0d0887\"],[0.1111111111111111,\"#46039f\"],[0.2222222222222222,\"#7201a8\"],[0.3333333333333333,\"#9c179e\"],[0.4444444444444444,\"#bd3786\"],[0.5555555555555556,\"#d8576b\"],[0.6666666666666666,\"#ed7953\"],[0.7777777777777778,\"#fb9f3a\"],[0.8888888888888888,\"#fdca26\"],[1.0,\"#f0f921\"]]}],\"surface\":[{\"type\":\"surface\",\"colorbar\":{\"outlinewidth\":0,\"ticks\":\"\"},\"colorscale\":[[0.0,\"#0d0887\"],[0.1111111111111111,\"#46039f\"],[0.2222222222222222,\"#7201a8\"],[0.3333333333333333,\"#9c179e\"],[0.4444444444444444,\"#bd3786\"],[0.5555555555555556,\"#d8576b\"],[0.6666666666666666,\"#ed7953\"],[0.7777777777777778,\"#fb9f3a\"],[0.8888888888888888,\"#fdca26\"],[1.0,\"#f0f921\"]]}],\"mesh3d\":[{\"type\":\"mesh3d\",\"colorbar\":{\"outlinewidth\":0,\"ticks\":\"\"}}],\"scatter\":[{\"fillpattern\":{\"fillmode\":\"overlay\",\"size\":10,\"solidity\":0.2},\"type\":\"scatter\"}],\"parcoords\":[{\"type\":\"parcoords\",\"line\":{\"colorbar\":{\"outlinewidth\":0,\"ticks\":\"\"}}}],\"scatterpolargl\":[{\"type\":\"scatterpolargl\",\"marker\":{\"colorbar\":{\"outlinewidth\":0,\"ticks\":\"\"}}}],\"bar\":[{\"error_x\":{\"color\":\"#2a3f5f\"},\"error_y\":{\"color\":\"#2a3f5f\"},\"marker\":{\"line\":{\"color\":\"#E5ECF6\",\"width\":0.5},\"pattern\":{\"fillmode\":\"overlay\",\"size\":10,\"solidity\":0.2}},\"type\":\"bar\"}],\"scattergeo\":[{\"type\":\"scattergeo\",\"marker\":{\"colorbar\":{\"outlinewidth\":0,\"ticks\":\"\"}}}],\"scatterpolar\":[{\"type\":\"scatterpolar\",\"marker\":{\"colorbar\":{\"outlinewidth\":0,\"ticks\":\"\"}}}],\"histogram\":[{\"marker\":{\"pattern\":{\"fillmode\":\"overlay\",\"size\":10,\"solidity\":0.2}},\"type\":\"histogram\"}],\"scattergl\":[{\"type\":\"scattergl\",\"marker\":{\"colorbar\":{\"outlinewidth\":0,\"ticks\":\"\"}}}],\"scatter3d\":[{\"type\":\"scatter3d\",\"line\":{\"colorbar\":{\"outlinewidth\":0,\"ticks\":\"\"}},\"marker\":{\"colorbar\":{\"outlinewidth\":0,\"ticks\":\"\"}}}],\"scattermapbox\":[{\"type\":\"scattermapbox\",\"marker\":{\"colorbar\":{\"outlinewidth\":0,\"ticks\":\"\"}}}],\"scatterternary\":[{\"type\":\"scatterternary\",\"marker\":{\"colorbar\":{\"outlinewidth\":0,\"ticks\":\"\"}}}],\"scattercarpet\":[{\"type\":\"scattercarpet\",\"marker\":{\"colorbar\":{\"outlinewidth\":0,\"ticks\":\"\"}}}],\"carpet\":[{\"aaxis\":{\"endlinecolor\":\"#2a3f5f\",\"gridcolor\":\"white\",\"linecolor\":\"white\",\"minorgridcolor\":\"white\",\"startlinecolor\":\"#2a3f5f\"},\"baxis\":{\"endlinecolor\":\"#2a3f5f\",\"gridcolor\":\"white\",\"linecolor\":\"white\",\"minorgridcolor\":\"white\",\"startlinecolor\":\"#2a3f5f\"},\"type\":\"carpet\"}],\"table\":[{\"cells\":{\"fill\":{\"color\":\"#EBF0F8\"},\"line\":{\"color\":\"white\"}},\"header\":{\"fill\":{\"color\":\"#C8D4E3\"},\"line\":{\"color\":\"white\"}},\"type\":\"table\"}],\"barpolar\":[{\"marker\":{\"line\":{\"color\":\"#E5ECF6\",\"width\":0.5},\"pattern\":{\"fillmode\":\"overlay\",\"size\":10,\"solidity\":0.2}},\"type\":\"barpolar\"}],\"pie\":[{\"automargin\":true,\"type\":\"pie\"}]},\"layout\":{\"autotypenumbers\":\"strict\",\"colorway\":[\"#636efa\",\"#EF553B\",\"#00cc96\",\"#ab63fa\",\"#FFA15A\",\"#19d3f3\",\"#FF6692\",\"#B6E880\",\"#FF97FF\",\"#FECB52\"],\"font\":{\"color\":\"#2a3f5f\"},\"hovermode\":\"closest\",\"hoverlabel\":{\"align\":\"left\"},\"paper_bgcolor\":\"white\",\"plot_bgcolor\":\"#E5ECF6\",\"polar\":{\"bgcolor\":\"#E5ECF6\",\"angularaxis\":{\"gridcolor\":\"white\",\"linecolor\":\"white\",\"ticks\":\"\"},\"radialaxis\":{\"gridcolor\":\"white\",\"linecolor\":\"white\",\"ticks\":\"\"}},\"ternary\":{\"bgcolor\":\"#E5ECF6\",\"aaxis\":{\"gridcolor\":\"white\",\"linecolor\":\"white\",\"ticks\":\"\"},\"baxis\":{\"gridcolor\":\"white\",\"linecolor\":\"white\",\"ticks\":\"\"},\"caxis\":{\"gridcolor\":\"white\",\"linecolor\":\"white\",\"ticks\":\"\"}},\"coloraxis\":{\"colorbar\":{\"outlinewidth\":0,\"ticks\":\"\"}},\"colorscale\":{\"sequential\":[[0.0,\"#0d0887\"],[0.1111111111111111,\"#46039f\"],[0.2222222222222222,\"#7201a8\"],[0.3333333333333333,\"#9c179e\"],[0.4444444444444444,\"#bd3786\"],[0.5555555555555556,\"#d8576b\"],[0.6666666666666666,\"#ed7953\"],[0.7777777777777778,\"#fb9f3a\"],[0.8888888888888888,\"#fdca26\"],[1.0,\"#f0f921\"]],\"sequentialminus\":[[0.0,\"#0d0887\"],[0.1111111111111111,\"#46039f\"],[0.2222222222222222,\"#7201a8\"],[0.3333333333333333,\"#9c179e\"],[0.4444444444444444,\"#bd3786\"],[0.5555555555555556,\"#d8576b\"],[0.6666666666666666,\"#ed7953\"],[0.7777777777777778,\"#fb9f3a\"],[0.8888888888888888,\"#fdca26\"],[1.0,\"#f0f921\"]],\"diverging\":[[0,\"#8e0152\"],[0.1,\"#c51b7d\"],[0.2,\"#de77ae\"],[0.3,\"#f1b6da\"],[0.4,\"#fde0ef\"],[0.5,\"#f7f7f7\"],[0.6,\"#e6f5d0\"],[0.7,\"#b8e186\"],[0.8,\"#7fbc41\"],[0.9,\"#4d9221\"],[1,\"#276419\"]]},\"xaxis\":{\"gridcolor\":\"white\",\"linecolor\":\"white\",\"ticks\":\"\",\"title\":{\"standoff\":15},\"zerolinecolor\":\"white\",\"automargin\":true,\"zerolinewidth\":2},\"yaxis\":{\"gridcolor\":\"white\",\"linecolor\":\"white\",\"ticks\":\"\",\"title\":{\"standoff\":15},\"zerolinecolor\":\"white\",\"automargin\":true,\"zerolinewidth\":2},\"scene\":{\"xaxis\":{\"backgroundcolor\":\"#E5ECF6\",\"gridcolor\":\"white\",\"linecolor\":\"white\",\"showbackground\":true,\"ticks\":\"\",\"zerolinecolor\":\"white\",\"gridwidth\":2},\"yaxis\":{\"backgroundcolor\":\"#E5ECF6\",\"gridcolor\":\"white\",\"linecolor\":\"white\",\"showbackground\":true,\"ticks\":\"\",\"zerolinecolor\":\"white\",\"gridwidth\":2},\"zaxis\":{\"backgroundcolor\":\"#E5ECF6\",\"gridcolor\":\"white\",\"linecolor\":\"white\",\"showbackground\":true,\"ticks\":\"\",\"zerolinecolor\":\"white\",\"gridwidth\":2}},\"shapedefaults\":{\"line\":{\"color\":\"#2a3f5f\"}},\"annotationdefaults\":{\"arrowcolor\":\"#2a3f5f\",\"arrowhead\":0,\"arrowwidth\":1},\"geo\":{\"bgcolor\":\"white\",\"landcolor\":\"#E5ECF6\",\"subunitcolor\":\"white\",\"showland\":true,\"showlakes\":true,\"lakecolor\":\"white\"},\"title\":{\"x\":0.05},\"mapbox\":{\"style\":\"light\"}}},\"xaxis\":{\"tickangle\":-45},\"barmode\":\"group\",\"title\":{\"text\":\"Crime Trend between 2012 and 2022\"}},                        {\"responsive\": true}                    ).then(function(){\n",
       "                            \n",
       "var gd = document.getElementById('c26e4da0-afaf-48f0-9d82-a9986d201a84');\n",
       "var x = new MutationObserver(function (mutations, observer) {{\n",
       "        var display = window.getComputedStyle(gd).display;\n",
       "        if (!display || display === 'none') {{\n",
       "            console.log([gd, 'removed!']);\n",
       "            Plotly.purge(gd);\n",
       "            observer.disconnect();\n",
       "        }}\n",
       "}});\n",
       "\n",
       "// Listen for the removal of the full notebook cells\n",
       "var notebookContainer = gd.closest('#notebook-container');\n",
       "if (notebookContainer) {{\n",
       "    x.observe(notebookContainer, {childList: true});\n",
       "}}\n",
       "\n",
       "// Listen for the clearing of the current output cell\n",
       "var outputEl = gd.closest('.output');\n",
       "if (outputEl) {{\n",
       "    x.observe(outputEl, {childList: true});\n",
       "}}\n",
       "\n",
       "                        })                };                });            </script>        </div>"
      ]
     },
     "metadata": {},
     "output_type": "display_data"
    }
   ],
   "source": [
    "fig = go.Figure()\n",
    "fig.add_trace(go.Bar(\n",
    "    x=trends['YEAR'],\n",
    "    y=trends['homicide'],\n",
    "    name='Homicide',\n",
    "    marker_color='steelblue'\n",
    "))\n",
    "fig.add_trace(go.Bar(\n",
    "    x=trends['YEAR'],\n",
    "    y=trends['missings'],\n",
    "    name='Missings',\n",
    "    marker_color='mediumseagreen'\n",
    "))\n",
    "fig.add_trace(go.Bar(\n",
    "    x=trends['YEAR'],\n",
    "    y=trends['arrests'],\n",
    "    name='Arrests',\n",
    "    marker_color='darkorange'\n",
    "))\n",
    "fig.update_layout(barmode='group', xaxis_tickangle=-45, title='Crime Trend between 2012 and 2022')\n",
    "fig.show();"
   ]
  },
  {
   "cell_type": "markdown",
   "id": "8a8bbd3f",
   "metadata": {
    "papermill": {
     "duration": 0.009022,
     "end_time": "2024-07-24T10:05:59.302710",
     "exception": false,
     "start_time": "2024-07-24T10:05:59.293688",
     "status": "completed"
    },
    "tags": []
   },
   "source": [
    "# 📝 (un)important theory\n",
    "\n",
    "Network graphs are powerful tools used to represent and analyze complex relationships and structures in various domains. At their core, network graphs consist of nodes (or vertices) and edges (or links) that connect pairs of nodes. This structure is used to model and visualize a wide range of systems, from social networks to biological systems and, in this case, the relationships between criminal organizations.\n",
    "\n",
    "**Nodes** represents entities or actors in the network. In our context, nodes would represend different cartels. \n",
    "\n",
    "**Edges** represent the relationship or interactions between nodes. In our context, edges represents the number of states in which two states are allied or fighting in 2020. \n",
    "\n",
    "We can distinguish between two types of networks:\n",
    "\n",
    "**Undirected Networks**: Edges have no direction, indicating a mutual relationship. For example, an alliance between two cartels. \n",
    "\n",
    "**Direct Networks**: Edges have a direction, indicating a one-way relationship. This can be useful for showing influence or dominance of one cartel over another. (*This is not part of this work*)\n",
    "\n",
    "There is another theory on the subject of network analysis. For example, communities and centralities play an important role in the graphs. However, this will not be discussed further in this notebook. "
   ]
  },
  {
   "cell_type": "markdown",
   "id": "96883f2c",
   "metadata": {
    "papermill": {
     "duration": 0.008818,
     "end_time": "2024-07-24T10:05:59.320749",
     "exception": false,
     "start_time": "2024-07-24T10:05:59.311931",
     "status": "completed"
    },
    "tags": []
   },
   "source": [
    "# 🕸️ Cartel Relationship\n"
   ]
  },
  {
   "cell_type": "code",
   "execution_count": 12,
   "id": "64ffeddc",
   "metadata": {
    "_kg_hide-input": true,
    "execution": {
     "iopub.execute_input": "2024-07-24T10:05:59.340337Z",
     "iopub.status.busy": "2024-07-24T10:05:59.339969Z",
     "iopub.status.idle": "2024-07-24T10:05:59.350535Z",
     "shell.execute_reply": "2024-07-24T10:05:59.349559Z"
    },
    "jupyter": {
     "source_hidden": true
    },
    "papermill": {
     "duration": 0.023493,
     "end_time": "2024-07-24T10:05:59.353242",
     "exception": false,
     "start_time": "2024-07-24T10:05:59.329749",
     "status": "completed"
    },
    "tags": []
   },
   "outputs": [],
   "source": [
    "def create_node_trace(G, pos, data, text, color):\n",
    "    node_x = []\n",
    "    node_y = []\n",
    "    node_text = []\n",
    "\n",
    "    for node in G.nodes():\n",
    "        x, y = pos[node]\n",
    "        node_x.append(x)\n",
    "        node_y.append(y)\n",
    "        total_relationships = len(list(G.neighbors(node)))\n",
    "        total_states = data[(data['Node'] == node) | (data['RNode'] == node)]['weight'].sum()\n",
    "        group = data[data['Node'] == node]['Group'].values[0] if node in data['Node'].values else data[data['RNode'] == node]['RGroup'].values[0]\n",
    "        node_info = f\"Node: {node}<br>Group: {group}<br>Total {text}: {total_relationships}<br>Total States: {total_states}\"\n",
    "        node_text.append(node_info)\n",
    "\n",
    "    node_adjacencies = [len(list(G.neighbors(node))) for node in G.nodes()]\n",
    "\n",
    "    node_trace = go.Scatter(\n",
    "        x=node_x, y=node_y,\n",
    "        mode='markers',\n",
    "        text=node_text,\n",
    "        hoverinfo='text',\n",
    "        marker=dict(\n",
    "            showscale=True,\n",
    "            colorscale=color,\n",
    "            color=node_adjacencies,\n",
    "            size=[10 + len(list(G.neighbors(node))) * 1.5 for node in G.nodes()],\n",
    "            colorbar=dict(\n",
    "                thickness=10,\n",
    "                title=f'Number of {text}',\n",
    "                xanchor='left',\n",
    "                titleside='right'\n",
    "            ),\n",
    "            line=dict(width=0)))\n",
    "\n",
    "    return node_trace"
   ]
  },
  {
   "cell_type": "code",
   "execution_count": 13,
   "id": "bb3a206f",
   "metadata": {
    "_kg_hide-input": true,
    "execution": {
     "iopub.execute_input": "2024-07-24T10:05:59.373317Z",
     "iopub.status.busy": "2024-07-24T10:05:59.372935Z",
     "iopub.status.idle": "2024-07-24T10:05:59.383084Z",
     "shell.execute_reply": "2024-07-24T10:05:59.381966Z"
    },
    "jupyter": {
     "source_hidden": true
    },
    "papermill": {
     "duration": 0.022981,
     "end_time": "2024-07-24T10:05:59.385413",
     "exception": false,
     "start_time": "2024-07-24T10:05:59.362432",
     "status": "completed"
    },
    "tags": []
   },
   "outputs": [],
   "source": [
    "def create_network_graph(data, title, text, color):\n",
    "    G = nx.from_pandas_edgelist(data, 'Node', 'RNode', ['weight', 'Group', 'RGroup', 'Edge'])\n",
    "    pos = nx.spring_layout(G, k=.2, seed=1702)\n",
    "\n",
    "    edge_trace = []\n",
    "    for edge in G.edges(data=True):\n",
    "        x0, y0 = pos[edge[0]]\n",
    "        x1, y1 = pos[edge[1]]\n",
    "        weight = edge[2]['weight']\n",
    "        edge_info = f\"Number of States: {weight}\"\n",
    "        edge_trace.append(go.Scatter(\n",
    "            x=[x0, x1, None], y=[y0, y1, None],\n",
    "            line=dict(width=0.8 * weight, color='black'),\n",
    "            hoverinfo='text',\n",
    "            text=edge_info,\n",
    "            mode='lines'))\n",
    "\n",
    "    node_trace = create_node_trace(G, pos, data, text, color)\n",
    "\n",
    "    fig = go.Figure(data=edge_trace + [node_trace],\n",
    "                    layout=go.Layout(\n",
    "                        title=title,\n",
    "                        titlefont_size=20,\n",
    "                        showlegend=False,\n",
    "                        hovermode='closest',\n",
    "                        margin=dict(b=20, l=5, r=5, t=40),\n",
    "                        annotations=[dict(\n",
    "                            text=\"\",\n",
    "                            showarrow=False,\n",
    "                            xref=\"paper\", yref=\"paper\")],\n",
    "                        xaxis=dict(showgrid=False, zeroline=False),\n",
    "                        yaxis=dict(showgrid=False, zeroline=False),\n",
    "                        height=800,\n",
    "                        ))\n",
    "\n",
    "    fig.show()"
   ]
  },
  {
   "cell_type": "markdown",
   "id": "3764383b",
   "metadata": {
    "papermill": {
     "duration": 0.008732,
     "end_time": "2024-07-24T10:05:59.403611",
     "exception": false,
     "start_time": "2024-07-24T10:05:59.394879",
     "status": "completed"
    },
    "tags": []
   },
   "source": [
    "## 🤝 Alliances"
   ]
  },
  {
   "cell_type": "code",
   "execution_count": 14,
   "id": "d9fe264f",
   "metadata": {
    "execution": {
     "iopub.execute_input": "2024-07-24T10:05:59.423566Z",
     "iopub.status.busy": "2024-07-24T10:05:59.423168Z",
     "iopub.status.idle": "2024-07-24T10:05:59.790029Z",
     "shell.execute_reply": "2024-07-24T10:05:59.789011Z"
    },
    "papermill": {
     "duration": 0.379629,
     "end_time": "2024-07-24T10:05:59.792514",
     "exception": false,
     "start_time": "2024-07-24T10:05:59.412885",
     "status": "completed"
    },
    "tags": []
   },
   "outputs": [
    {
     "data": {
      "text/html": [
       "<div>                            <div id=\"a0988473-9302-4d55-9d6c-7a7702a086bb\" class=\"plotly-graph-div\" style=\"height:800px; width:100%;\"></div>            <script type=\"text/javascript\">                require([\"plotly\"], function(Plotly) {                    window.PLOTLYENV=window.PLOTLYENV || {};                                    if (document.getElementById(\"a0988473-9302-4d55-9d6c-7a7702a086bb\")) {                    Plotly.newPlot(                        \"a0988473-9302-4d55-9d6c-7a7702a086bb\",                        [{\"hoverinfo\":\"text\",\"line\":{\"color\":\"black\",\"width\":4.800000000000001},\"mode\":\"lines\",\"text\":\"Number of States: 6\",\"x\":[0.22870596564446685,0.18544370208312477,null],\"y\":[0.5164473695348323,0.5147197918984727,null],\"type\":\"scatter\"},{\"hoverinfo\":\"text\",\"line\":{\"color\":\"black\",\"width\":4.0},\"mode\":\"lines\",\"text\":\"Number of States: 5\",\"x\":[0.22870596564446685,0.28649003034573467,null],\"y\":[0.5164473695348323,0.5312637369171385,null],\"type\":\"scatter\"},{\"hoverinfo\":\"text\",\"line\":{\"color\":\"black\",\"width\":2.4000000000000004},\"mode\":\"lines\",\"text\":\"Number of States: 3\",\"x\":[0.22870596564446685,0.2508018301516368,null],\"y\":[0.5164473695348323,0.4385710577393445,null],\"type\":\"scatter\"},{\"hoverinfo\":\"text\",\"line\":{\"color\":\"black\",\"width\":2.4000000000000004},\"mode\":\"lines\",\"text\":\"Number of States: 3\",\"x\":[0.22870596564446685,0.291207730773673,null],\"y\":[0.5164473695348323,0.47605516168745643,null],\"type\":\"scatter\"},{\"hoverinfo\":\"text\",\"line\":{\"color\":\"black\",\"width\":2.4000000000000004},\"mode\":\"lines\",\"text\":\"Number of States: 3\",\"x\":[0.22870596564446685,0.21149121538308374,null],\"y\":[0.5164473695348323,0.5850660073781596,null],\"type\":\"scatter\"},{\"hoverinfo\":\"text\",\"line\":{\"color\":\"black\",\"width\":2.4000000000000004},\"mode\":\"lines\",\"text\":\"Number of States: 3\",\"x\":[0.22870596564446685,0.2408099945630645,null],\"y\":[0.5164473695348323,0.34743793185615296,null],\"type\":\"scatter\"},{\"hoverinfo\":\"text\",\"line\":{\"color\":\"black\",\"width\":2.4000000000000004},\"mode\":\"lines\",\"text\":\"Number of States: 3\",\"x\":[0.22870596564446685,0.2745457033277513,null],\"y\":[0.5164473695348323,0.5832034478063919,null],\"type\":\"scatter\"},{\"hoverinfo\":\"text\",\"line\":{\"color\":\"black\",\"width\":1.6},\"mode\":\"lines\",\"text\":\"Number of States: 2\",\"x\":[0.22870596564446685,0.31987081373394094,null],\"y\":[0.5164473695348323,0.600319404949473,null],\"type\":\"scatter\"},{\"hoverinfo\":\"text\",\"line\":{\"color\":\"black\",\"width\":1.6},\"mode\":\"lines\",\"text\":\"Number of States: 2\",\"x\":[0.22870596564446685,0.12914185525310076,null],\"y\":[0.5164473695348323,0.4782656922150201,null],\"type\":\"scatter\"},{\"hoverinfo\":\"text\",\"line\":{\"color\":\"black\",\"width\":1.6},\"mode\":\"lines\",\"text\":\"Number of States: 2\",\"x\":[0.22870596564446685,0.11500281270418858,null],\"y\":[0.5164473695348323,0.5266764692584781,null],\"type\":\"scatter\"},{\"hoverinfo\":\"text\",\"line\":{\"color\":\"black\",\"width\":1.6},\"mode\":\"lines\",\"text\":\"Number of States: 2\",\"x\":[0.22870596564446685,0.1990027386050966,null],\"y\":[0.5164473695348323,0.6360789722701358,null],\"type\":\"scatter\"},{\"hoverinfo\":\"text\",\"line\":{\"color\":\"black\",\"width\":1.6},\"mode\":\"lines\",\"text\":\"Number of States: 2\",\"x\":[0.22870596564446685,0.15171640727374303,null],\"y\":[0.5164473695348323,0.6125975801256501,null],\"type\":\"scatter\"},{\"hoverinfo\":\"text\",\"line\":{\"color\":\"black\",\"width\":1.6},\"mode\":\"lines\",\"text\":\"Number of States: 2\",\"x\":[0.22870596564446685,0.13023556941333253,null],\"y\":[0.5164473695348323,0.5722318628434029,null],\"type\":\"scatter\"},{\"hoverinfo\":\"text\",\"line\":{\"color\":\"black\",\"width\":1.6},\"mode\":\"lines\",\"text\":\"Number of States: 2\",\"x\":[0.22870596564446685,0.1778041669554309,null],\"y\":[0.5164473695348323,0.44496325277286464,null],\"type\":\"scatter\"},{\"hoverinfo\":\"text\",\"line\":{\"color\":\"black\",\"width\":1.6},\"mode\":\"lines\",\"text\":\"Number of States: 2\",\"x\":[0.22870596564446685,0.260047022747701,null],\"y\":[0.5164473695348323,0.6377379736509584,null],\"type\":\"scatter\"},{\"hoverinfo\":\"text\",\"line\":{\"color\":\"black\",\"width\":0.8},\"mode\":\"lines\",\"text\":\"Number of States: 1\",\"x\":[0.22870596564446685,0.0418646750584173,null],\"y\":[0.5164473695348323,0.5035502697545478,null],\"type\":\"scatter\"},{\"hoverinfo\":\"text\",\"line\":{\"color\":\"black\",\"width\":0.8},\"mode\":\"lines\",\"text\":\"Number of States: 1\",\"x\":[0.22870596564446685,0.4314197296320839,null],\"y\":[0.5164473695348323,0.4703842376830114,null],\"type\":\"scatter\"},{\"hoverinfo\":\"text\",\"line\":{\"color\":\"black\",\"width\":0.8},\"mode\":\"lines\",\"text\":\"Number of States: 1\",\"x\":[0.22870596564446685,0.04879734488960023,null],\"y\":[0.5164473695348323,0.582373856266697,null],\"type\":\"scatter\"},{\"hoverinfo\":\"text\",\"line\":{\"color\":\"black\",\"width\":0.8},\"mode\":\"lines\",\"text\":\"Number of States: 1\",\"x\":[0.22870596564446685,0.25227614243414015,null],\"y\":[0.5164473695348323,0.7223630610710179,null],\"type\":\"scatter\"},{\"hoverinfo\":\"text\",\"line\":{\"color\":\"black\",\"width\":0.8},\"mode\":\"lines\",\"text\":\"Number of States: 1\",\"x\":[0.22870596564446685,0.06293030184371785,null],\"y\":[0.5164473695348323,0.6233915622316584,null],\"type\":\"scatter\"},{\"hoverinfo\":\"text\",\"line\":{\"color\":\"black\",\"width\":0.8},\"mode\":\"lines\",\"text\":\"Number of States: 1\",\"x\":[0.22870596564446685,0.3562084651128751,null],\"y\":[0.5164473695348323,0.678066021749022,null],\"type\":\"scatter\"},{\"hoverinfo\":\"text\",\"line\":{\"color\":\"black\",\"width\":0.8},\"mode\":\"lines\",\"text\":\"Number of States: 1\",\"x\":[0.22870596564446685,0.3984313909465288,null],\"y\":[0.5164473695348323,0.5644131152374796,null],\"type\":\"scatter\"},{\"hoverinfo\":\"text\",\"line\":{\"color\":\"black\",\"width\":0.8},\"mode\":\"lines\",\"text\":\"Number of States: 1\",\"x\":[0.22870596564446685,0.13374967727676204,null],\"y\":[0.5164473695348323,0.6958397774572039,null],\"type\":\"scatter\"},{\"hoverinfo\":\"text\",\"line\":{\"color\":\"black\",\"width\":0.8},\"mode\":\"lines\",\"text\":\"Number of States: 1\",\"x\":[0.22870596564446685,0.37600449602108754,null],\"y\":[0.5164473695348323,0.6102565089881474,null],\"type\":\"scatter\"},{\"hoverinfo\":\"text\",\"line\":{\"color\":\"black\",\"width\":0.8},\"mode\":\"lines\",\"text\":\"Number of States: 1\",\"x\":[0.22870596564446685,0.19430400825576247,null],\"y\":[0.5164473695348323,0.7192479795469899,null],\"type\":\"scatter\"},{\"hoverinfo\":\"text\",\"line\":{\"color\":\"black\",\"width\":0.8},\"mode\":\"lines\",\"text\":\"Number of States: 1\",\"x\":[0.22870596564446685,0.08534888373546352,null],\"y\":[0.5164473695348323,0.40770374360432704,null],\"type\":\"scatter\"},{\"hoverinfo\":\"text\",\"line\":{\"color\":\"black\",\"width\":0.8},\"mode\":\"lines\",\"text\":\"Number of States: 1\",\"x\":[0.22870596564446685,0.4169388854889613,null],\"y\":[0.5164473695348323,0.11879513400624758,null],\"type\":\"scatter\"},{\"hoverinfo\":\"text\",\"line\":{\"color\":\"black\",\"width\":0.8},\"mode\":\"lines\",\"text\":\"Number of States: 1\",\"x\":[0.22870596564446685,0.3066053861405853,null],\"y\":[0.5164473695348323,0.7080069417935961,null],\"type\":\"scatter\"},{\"hoverinfo\":\"text\",\"line\":{\"color\":\"black\",\"width\":3.2},\"mode\":\"lines\",\"text\":\"Number of States: 4\",\"x\":[0.6013140393538579,0.535040828093478,null],\"y\":[0.23658704826196103,0.25642246439243793,null],\"type\":\"scatter\"},{\"hoverinfo\":\"text\",\"line\":{\"color\":\"black\",\"width\":2.4000000000000004},\"mode\":\"lines\",\"text\":\"Number of States: 3\",\"x\":[0.535040828093478,0.44774581145455483,null],\"y\":[0.25642246439243793,0.22693975185852014,null],\"type\":\"scatter\"},{\"hoverinfo\":\"text\",\"line\":{\"color\":\"black\",\"width\":2.4000000000000004},\"mode\":\"lines\",\"text\":\"Number of States: 3\",\"x\":[0.535040828093478,0.6103792840413622,null],\"y\":[0.25642246439243793,0.28675348369990056,null],\"type\":\"scatter\"},{\"hoverinfo\":\"text\",\"line\":{\"color\":\"black\",\"width\":1.6},\"mode\":\"lines\",\"text\":\"Number of States: 2\",\"x\":[0.535040828093478,0.5384495631137639,null],\"y\":[0.25642246439243793,0.36480853753754966,null],\"type\":\"scatter\"},{\"hoverinfo\":\"text\",\"line\":{\"color\":\"black\",\"width\":0.8},\"mode\":\"lines\",\"text\":\"Number of States: 1\",\"x\":[0.535040828093478,0.46182569603892,null],\"y\":[0.25642246439243793,0.15095590889768903,null],\"type\":\"scatter\"},{\"hoverinfo\":\"text\",\"line\":{\"color\":\"black\",\"width\":3.2},\"mode\":\"lines\",\"text\":\"Number of States: 4\",\"x\":[-0.6176051056123871,-0.691263953567871,null],\"y\":[-0.4004034056168103,-0.38738506729138916,null],\"type\":\"scatter\"},{\"hoverinfo\":\"text\",\"line\":{\"color\":\"black\",\"width\":3.2},\"mode\":\"lines\",\"text\":\"Number of States: 4\",\"x\":[-0.6176051056123871,-0.6759350512895987,null],\"y\":[-0.4004034056168103,-0.44189385032821454,null],\"type\":\"scatter\"},{\"hoverinfo\":\"text\",\"line\":{\"color\":\"black\",\"width\":2.4000000000000004},\"mode\":\"lines\",\"text\":\"Number of States: 3\",\"x\":[-0.6176051056123871,-0.5366726136549448,null],\"y\":[-0.4004034056168103,-0.42212528804548843,null],\"type\":\"scatter\"},{\"hoverinfo\":\"text\",\"line\":{\"color\":\"black\",\"width\":1.6},\"mode\":\"lines\",\"text\":\"Number of States: 2\",\"x\":[-0.6176051056123871,-0.6341549245283341,null],\"y\":[-0.4004034056168103,-0.2957555348745675,null],\"type\":\"scatter\"},{\"hoverinfo\":\"text\",\"line\":{\"color\":\"black\",\"width\":1.6},\"mode\":\"lines\",\"text\":\"Number of States: 2\",\"x\":[-0.6176051056123871,-0.6356548798437447,null],\"y\":[-0.4004034056168103,-0.49342526662309505,null],\"type\":\"scatter\"},{\"hoverinfo\":\"text\",\"line\":{\"color\":\"black\",\"width\":1.6},\"mode\":\"lines\",\"text\":\"Number of States: 2\",\"x\":[-0.6176051056123871,-0.547452446249821,null],\"y\":[-0.4004034056168103,-0.30678047234028,null],\"type\":\"scatter\"},{\"hoverinfo\":\"text\",\"line\":{\"color\":\"black\",\"width\":1.6},\"mode\":\"lines\",\"text\":\"Number of States: 2\",\"x\":[-0.6176051056123871,-0.7245334300397087,null],\"y\":[-0.4004034056168103,-0.45779831712780655,null],\"type\":\"scatter\"},{\"hoverinfo\":\"text\",\"line\":{\"color\":\"black\",\"width\":1.6},\"mode\":\"lines\",\"text\":\"Number of States: 2\",\"x\":[-0.6176051056123871,-0.44984391169549903,null],\"y\":[-0.4004034056168103,-0.5142257432598671,null],\"type\":\"scatter\"},{\"hoverinfo\":\"text\",\"line\":{\"color\":\"black\",\"width\":0.8},\"mode\":\"lines\",\"text\":\"Number of States: 1\",\"x\":[-0.6176051056123871,-0.7854182244983514,null],\"y\":[-0.4004034056168103,-0.496582478097394,null],\"type\":\"scatter\"},{\"hoverinfo\":\"text\",\"line\":{\"color\":\"black\",\"width\":0.8},\"mode\":\"lines\",\"text\":\"Number of States: 1\",\"x\":[-0.6176051056123871,-0.8007564973144418,null],\"y\":[-0.4004034056168103,-0.43229671007547116,null],\"type\":\"scatter\"},{\"hoverinfo\":\"text\",\"line\":{\"color\":\"black\",\"width\":0.8},\"mode\":\"lines\",\"text\":\"Number of States: 1\",\"x\":[-0.6176051056123871,-0.7891190340283541,null],\"y\":[-0.4004034056168103,-0.37156309534615706,null],\"type\":\"scatter\"},{\"hoverinfo\":\"text\",\"line\":{\"color\":\"black\",\"width\":0.8},\"mode\":\"lines\",\"text\":\"Number of States: 1\",\"x\":[-0.6176051056123871,-0.598881717034891,null],\"y\":[-0.4004034056168103,-0.23536594921683088,null],\"type\":\"scatter\"},{\"hoverinfo\":\"text\",\"line\":{\"color\":\"black\",\"width\":0.8},\"mode\":\"lines\",\"text\":\"Number of States: 1\",\"x\":[-0.6176051056123871,-0.563599371111471,null],\"y\":[-0.4004034056168103,-0.5258551039469526,null],\"type\":\"scatter\"},{\"hoverinfo\":\"text\",\"line\":{\"color\":\"black\",\"width\":0.8},\"mode\":\"lines\",\"text\":\"Number of States: 1\",\"x\":[-0.6176051056123871,-0.433273420449954,null],\"y\":[-0.4004034056168103,-0.3036745228672775,null],\"type\":\"scatter\"},{\"hoverinfo\":\"text\",\"line\":{\"color\":\"black\",\"width\":0.8},\"mode\":\"lines\",\"text\":\"Number of States: 1\",\"x\":[-0.6176051056123871,-0.5555016504329583,null],\"y\":[-0.4004034056168103,-0.4005291134905827,null],\"type\":\"scatter\"},{\"hoverinfo\":\"text\",\"line\":{\"color\":\"black\",\"width\":0.8},\"mode\":\"lines\",\"text\":\"Number of States: 1\",\"x\":[-0.6176051056123871,-0.5431032874951509,null],\"y\":[-0.4004034056168103,-0.4584936845127805,null],\"type\":\"scatter\"},{\"hoverinfo\":\"text\",\"line\":{\"color\":\"black\",\"width\":0.8},\"mode\":\"lines\",\"text\":\"Number of States: 1\",\"x\":[-0.6176051056123871,-0.47476078278330386,null],\"y\":[-0.4004034056168103,-0.356505724902208,null],\"type\":\"scatter\"},{\"hoverinfo\":\"text\",\"line\":{\"color\":\"black\",\"width\":0.8},\"mode\":\"lines\",\"text\":\"Number of States: 1\",\"x\":[-0.6176051056123871,-0.7365911887570734,null],\"y\":[-0.4004034056168103,-0.544294048307852,null],\"type\":\"scatter\"},{\"hoverinfo\":\"text\",\"line\":{\"color\":\"black\",\"width\":0.8},\"mode\":\"lines\",\"text\":\"Number of States: 1\",\"x\":[-0.6176051056123871,-0.6333373569680355,null],\"y\":[-0.4004034056168103,-0.3559355635377944,null],\"type\":\"scatter\"},{\"hoverinfo\":\"text\",\"line\":{\"color\":\"black\",\"width\":0.8},\"mode\":\"lines\",\"text\":\"Number of States: 1\",\"x\":[-0.6176051056123871,-0.7651965735840218,null],\"y\":[-0.4004034056168103,-0.3174399378733958,null],\"type\":\"scatter\"},{\"hoverinfo\":\"text\",\"line\":{\"color\":\"black\",\"width\":0.8},\"mode\":\"lines\",\"text\":\"Number of States: 1\",\"x\":[-0.6176051056123871,-0.7238289230567029,null],\"y\":[-0.4004034056168103,-0.2732431031411079,null],\"type\":\"scatter\"},{\"hoverinfo\":\"text\",\"line\":{\"color\":\"black\",\"width\":3.2},\"mode\":\"lines\",\"text\":\"Number of States: 4\",\"x\":[0.597035220383469,0.574402166046151,null],\"y\":[0.017281683062294315,-0.03824970343946588,null],\"type\":\"scatter\"},{\"hoverinfo\":\"text\",\"line\":{\"color\":\"black\",\"width\":1.6},\"mode\":\"lines\",\"text\":\"Number of States: 2\",\"x\":[0.597035220383469,0.7100672758487981,null],\"y\":[0.017281683062294315,0.0029965780896388837,null],\"type\":\"scatter\"},{\"hoverinfo\":\"text\",\"line\":{\"color\":\"black\",\"width\":0.8},\"mode\":\"lines\",\"text\":\"Number of States: 1\",\"x\":[0.597035220383469,0.4169388854889613,null],\"y\":[0.017281683062294315,0.11879513400624758,null],\"type\":\"scatter\"},{\"hoverinfo\":\"text\",\"line\":{\"color\":\"black\",\"width\":0.8},\"mode\":\"lines\",\"text\":\"Number of States: 1\",\"x\":[0.574402166046151,0.43890272119118884,null],\"y\":[-0.03824970343946588,-0.05966373791430029,null],\"type\":\"scatter\"},{\"hoverinfo\":\"text\",\"line\":{\"color\":\"black\",\"width\":3.2},\"mode\":\"lines\",\"text\":\"Number of States: 4\",\"x\":[0.5416577284754107,0.6156623908539548,null],\"y\":[-0.18876354910245322,-0.28010478618055296,null],\"type\":\"scatter\"},{\"hoverinfo\":\"text\",\"line\":{\"color\":\"black\",\"width\":2.4000000000000004},\"mode\":\"lines\",\"text\":\"Number of States: 3\",\"x\":[0.5416577284754107,0.5683166440777644,null],\"y\":[-0.18876354910245322,-0.2573069635788507,null],\"type\":\"scatter\"},{\"hoverinfo\":\"text\",\"line\":{\"color\":\"black\",\"width\":1.6},\"mode\":\"lines\",\"text\":\"Number of States: 2\",\"x\":[0.5416577284754107,0.5500635122228075,null],\"y\":[-0.18876354910245322,-0.30398924602504157,null],\"type\":\"scatter\"},{\"hoverinfo\":\"text\",\"line\":{\"color\":\"black\",\"width\":0.8},\"mode\":\"lines\",\"text\":\"Number of States: 1\",\"x\":[0.5416577284754107,0.4169388854889613,null],\"y\":[-0.18876354910245322,0.11879513400624758,null],\"type\":\"scatter\"},{\"hoverinfo\":\"text\",\"line\":{\"color\":\"black\",\"width\":1.6},\"mode\":\"lines\",\"text\":\"Number of States: 2\",\"x\":[0.6156623908539548,0.687731318850647,null],\"y\":[-0.28010478618055296,-0.3734048094693043,null],\"type\":\"scatter\"},{\"hoverinfo\":\"text\",\"line\":{\"color\":\"black\",\"width\":0.8},\"mode\":\"lines\",\"text\":\"Number of States: 1\",\"x\":[0.2508018301516368,0.291207730773673,null],\"y\":[0.4385710577393445,0.47605516168745643,null],\"type\":\"scatter\"},{\"hoverinfo\":\"text\",\"line\":{\"color\":\"black\",\"width\":0.8},\"mode\":\"lines\",\"text\":\"Number of States: 1\",\"x\":[0.2508018301516368,0.2408099945630645,null],\"y\":[0.4385710577393445,0.34743793185615296,null],\"type\":\"scatter\"},{\"hoverinfo\":\"text\",\"line\":{\"color\":\"black\",\"width\":1.6},\"mode\":\"lines\",\"text\":\"Number of States: 2\",\"x\":[-0.5366726136549448,-0.5555016504329583,null],\"y\":[-0.42212528804548843,-0.4005291134905827,null],\"type\":\"scatter\"},{\"hoverinfo\":\"text\",\"line\":{\"color\":\"black\",\"width\":1.6},\"mode\":\"lines\",\"text\":\"Number of States: 2\",\"x\":[-0.5366726136549448,-0.5431032874951509,null],\"y\":[-0.42212528804548843,-0.4584936845127805,null],\"type\":\"scatter\"},{\"hoverinfo\":\"text\",\"line\":{\"color\":\"black\",\"width\":0.8},\"mode\":\"lines\",\"text\":\"Number of States: 1\",\"x\":[-0.5366726136549448,-0.6333373569680355,null],\"y\":[-0.42212528804548843,-0.3559355635377944,null],\"type\":\"scatter\"},{\"hoverinfo\":\"text\",\"line\":{\"color\":\"black\",\"width\":0.8},\"mode\":\"lines\",\"text\":\"Number of States: 1\",\"x\":[-0.5366726136549448,-0.44984391169549903,null],\"y\":[-0.42212528804548843,-0.5142257432598671,null],\"type\":\"scatter\"},{\"hoverinfo\":\"text\",\"line\":{\"color\":\"black\",\"width\":1.6},\"mode\":\"lines\",\"text\":\"Number of States: 2\",\"x\":[0.2408099945630645,0.20290969611995846,null],\"y\":[0.34743793185615296,0.18984038656499844,null],\"type\":\"scatter\"},{\"hoverinfo\":\"text\",\"line\":{\"color\":\"black\",\"width\":0.8},\"mode\":\"lines\",\"text\":\"Number of States: 1\",\"x\":[0.2408099945630645,0.35252375521188595,null],\"y\":[0.34743793185615296,0.3103720328731757,null],\"type\":\"scatter\"},{\"hoverinfo\":\"text\",\"line\":{\"color\":\"black\",\"width\":0.8},\"mode\":\"lines\",\"text\":\"Number of States: 1\",\"x\":[0.2408099945630645,0.2936089775711154,null],\"y\":[0.34743793185615296,0.24421377164995584,null],\"type\":\"scatter\"},{\"hoverinfo\":\"text\",\"line\":{\"color\":\"black\",\"width\":0.8},\"mode\":\"lines\",\"text\":\"Number of States: 1\",\"x\":[0.2408099945630645,0.23605274202977924,null],\"y\":[0.34743793185615296,0.21661358913981382,null],\"type\":\"scatter\"},{\"hoverinfo\":\"text\",\"line\":{\"color\":\"black\",\"width\":1.6},\"mode\":\"lines\",\"text\":\"Number of States: 2\",\"x\":[0.17306766146940056,0.15103097825771794,null],\"y\":[-0.876289429717733,-0.9315697212629049,null],\"type\":\"scatter\"},{\"hoverinfo\":\"text\",\"line\":{\"color\":\"black\",\"width\":1.6},\"mode\":\"lines\",\"text\":\"Number of States: 2\",\"x\":[0.17306766146940056,0.2102212774862207,null],\"y\":[-0.876289429717733,-0.8324091095286419,null],\"type\":\"scatter\"},{\"hoverinfo\":\"text\",\"line\":{\"color\":\"black\",\"width\":1.6},\"mode\":\"lines\",\"text\":\"Number of States: 2\",\"x\":[0.36800821965032676,0.43890272119118884,null],\"y\":[-0.15580852763397576,-0.05966373791430029,null],\"type\":\"scatter\"},{\"hoverinfo\":\"text\",\"line\":{\"color\":\"black\",\"width\":0.8},\"mode\":\"lines\",\"text\":\"Number of States: 1\",\"x\":[0.43890272119118884,0.4169388854889613,null],\"y\":[-0.05966373791430029,0.11879513400624758,null],\"type\":\"scatter\"},{\"hoverinfo\":\"text\",\"line\":{\"color\":\"black\",\"width\":1.6},\"mode\":\"lines\",\"text\":\"Number of States: 2\",\"x\":[-0.14199168042901292,-0.09789195435471701,null],\"y\":[-0.9735441968755295,-0.9292137387935662,null],\"type\":\"scatter\"},{\"hoverinfo\":\"text\",\"line\":{\"color\":\"black\",\"width\":1.6},\"mode\":\"lines\",\"text\":\"Number of States: 2\",\"x\":[-0.14199168042901292,-0.1960069493911594,null],\"y\":[-0.9735441968755295,-1.0,null],\"type\":\"scatter\"},{\"hoverinfo\":\"text\",\"line\":{\"color\":\"black\",\"width\":1.6},\"mode\":\"lines\",\"text\":\"Number of States: 2\",\"x\":[-0.41023309505827427,-0.44984391169549903,null],\"y\":[-0.6043543078411266,-0.5142257432598671,null],\"type\":\"scatter\"},{\"hoverinfo\":\"text\",\"line\":{\"color\":\"black\",\"width\":1.6},\"mode\":\"lines\",\"text\":\"Number of States: 2\",\"x\":[-0.44984391169549903,-0.3393794993487213,null],\"y\":[-0.5142257432598671,-0.5271356509039581,null],\"type\":\"scatter\"},{\"hoverinfo\":\"text\",\"line\":{\"color\":\"black\",\"width\":1.6},\"mode\":\"lines\",\"text\":\"Number of States: 2\",\"x\":[-0.44984391169549903,-0.4592213231168974,null],\"y\":[-0.5142257432598671,-0.6138474934386271,null],\"type\":\"scatter\"},{\"hoverinfo\":\"text\",\"line\":{\"color\":\"black\",\"width\":0.8},\"mode\":\"lines\",\"text\":\"Number of States: 1\",\"x\":[-0.44984391169549903,-0.3390893988816118,null],\"y\":[-0.5142257432598671,-0.624296617062015,null],\"type\":\"scatter\"},{\"hoverinfo\":\"text\",\"line\":{\"color\":\"black\",\"width\":1.6},\"mode\":\"lines\",\"text\":\"Number of States: 2\",\"x\":[-0.5555016504329583,-0.5431032874951509,null],\"y\":[-0.4005291134905827,-0.4584936845127805,null],\"type\":\"scatter\"},{\"hoverinfo\":\"text\",\"line\":{\"color\":\"black\",\"width\":0.8},\"mode\":\"lines\",\"text\":\"Number of States: 1\",\"x\":[0.5384495631137639,0.4314197296320839,null],\"y\":[0.36480853753754966,0.4703842376830114,null],\"type\":\"scatter\"},{\"hoverinfo\":\"text\",\"line\":{\"color\":\"black\",\"width\":1.6},\"mode\":\"lines\",\"text\":\"Number of States: 2\",\"x\":[0.20290969611995846,0.20081014775369754,null],\"y\":[0.18984038656499844,0.06019667168219958,null],\"type\":\"scatter\"},{\"hoverinfo\":\"text\",\"line\":{\"color\":\"black\",\"width\":0.8},\"mode\":\"lines\",\"text\":\"Number of States: 1\",\"x\":[-0.7000564418704175,-0.5894097952629154,null],\"y\":[0.4023447580874636,0.3431452015130644,null],\"type\":\"scatter\"},{\"hoverinfo\":\"text\",\"line\":{\"color\":\"black\",\"width\":0.8},\"mode\":\"lines\",\"text\":\"Number of States: 1\",\"x\":[0.7636820473282006,0.6085518781669627,null],\"y\":[-0.22908111251825053,-0.19863004136376652,null],\"type\":\"scatter\"},{\"hoverinfo\":\"text\",\"line\":{\"color\":\"black\",\"width\":0.8},\"mode\":\"lines\",\"text\":\"Number of States: 1\",\"x\":[0.6085518781669627,0.7377240627587479,null],\"y\":[-0.19863004136376652,-0.28520979892536424,null],\"type\":\"scatter\"},{\"hoverinfo\":\"text\",\"line\":{\"color\":\"black\",\"width\":0.8},\"mode\":\"lines\",\"text\":\"Number of States: 1\",\"x\":[-0.5885324671318806,-0.5422126284035663,null],\"y\":[0.6627257358023243,0.7085490749149149,null],\"type\":\"scatter\"},{\"hoverinfo\":\"text\",\"line\":{\"color\":\"black\",\"width\":0.8},\"mode\":\"lines\",\"text\":\"Number of States: 1\",\"x\":[-0.5332146079543043,-0.48025840444509776,null],\"y\":[-0.8309016136383836,-0.6814284642846423,null],\"type\":\"scatter\"},{\"hoverinfo\":\"text\",\"marker\":{\"color\":[28,1,1,1,5,21,1,1,3,2,4,2,3,5,2,1,1,6,1,1,1,2,1,1,1,3,1,1,1,1,1,1,1,1,1,1,1,1,1,1,2,1,1,1,6,1,3,3,1,2,1,2,1,1,1,1,2,4,1,1,1,1,1,1,1,1,2,1,1,2,1,1,1,1,1,1,1,1,1,1,1,1,1,1,1,1,1,1,1,1,1],\"colorbar\":{\"thickness\":10,\"title\":{\"side\":\"right\",\"text\":\"Number of Alliances\"},\"xanchor\":\"left\"},\"colorscale\":[[0.0,\"rgb(165,0,38)\"],[0.1,\"rgb(215,48,39)\"],[0.2,\"rgb(244,109,67)\"],[0.3,\"rgb(253,174,97)\"],[0.4,\"rgb(254,224,139)\"],[0.5,\"rgb(255,255,191)\"],[0.6,\"rgb(217,239,139)\"],[0.7,\"rgb(166,217,106)\"],[0.8,\"rgb(102,189,99)\"],[0.9,\"rgb(26,152,80)\"],[1.0,\"rgb(0,104,55)\"]],\"line\":{\"width\":0},\"showscale\":true,\"size\":[52.0,11.5,11.5,11.5,17.5,41.5,11.5,11.5,14.5,13.0,16.0,13.0,14.5,17.5,13.0,11.5,11.5,19.0,11.5,11.5,11.5,13.0,11.5,11.5,11.5,14.5,11.5,11.5,11.5,11.5,11.5,11.5,11.5,11.5,11.5,11.5,11.5,11.5,11.5,11.5,13.0,11.5,11.5,11.5,19.0,11.5,14.5,14.5,11.5,13.0,11.5,13.0,11.5,11.5,11.5,11.5,13.0,16.0,11.5,11.5,11.5,11.5,11.5,11.5,11.5,11.5,13.0,11.5,11.5,13.0,11.5,11.5,11.5,11.5,11.5,11.5,11.5,11.5,11.5,11.5,11.5,11.5,11.5,11.5,11.5,11.5,11.5,11.5,11.5,11.5,11.5]},\"mode\":\"markers\",\"text\":[\"Node: N10025\\u003cbr\\u003eGroup: Cártel Jalisco Nueva Generación (CJNG)\\u003cbr\\u003eTotal Alliances: 28\\u003cbr\\u003eTotal States: 55\",\"Node: N10096\\u003cbr\\u003eGroup: Los Cuinis\\u003cbr\\u003eTotal Alliances: 1\\u003cbr\\u003eTotal States: 6\",\"Node: N10057\\u003cbr\\u003eGroup: Fuerza Anti-Unión Tepito\\u003cbr\\u003eTotal Alliances: 1\\u003cbr\\u003eTotal States: 5\",\"Node: N10003\\u003cbr\\u003eGroup: Caballeros Templarios\\u003cbr\\u003eTotal Alliances: 1\\u003cbr\\u003eTotal States: 4\",\"Node: N10076\\u003cbr\\u003eGroup: La Nueva Familia Michoacana\\u003cbr\\u003eTotal Alliances: 5\\u003cbr\\u003eTotal States: 13\",\"Node: N10013\\u003cbr\\u003eGroup: Cártel de Sinaloa\\u003cbr\\u003eTotal Alliances: 21\\u003cbr\\u003eTotal States: 34\",\"Node: N10089\\u003cbr\\u003eGroup: Los Cabrera\\u003cbr\\u003eTotal Alliances: 1\\u003cbr\\u003eTotal States: 4\",\"Node: N10123\\u003cbr\\u003eGroup: Los Salazares\\u003cbr\\u003eTotal Alliances: 1\\u003cbr\\u003eTotal States: 4\",\"Node: N10017\\u003cbr\\u003eGroup: Cártel del Golfo\\u003cbr\\u003eTotal Alliances: 3\\u003cbr\\u003eTotal States: 7\",\"Node: N10116\\u003cbr\\u003eGroup: Los Pelones\\u003cbr\\u003eTotal Alliances: 2\\u003cbr\\u003eTotal States: 5\",\"Node: N10019\\u003cbr\\u003eGroup: Cártel del Noreste\\u003cbr\\u003eTotal Alliances: 4\\u003cbr\\u003eTotal States: 10\",\"Node: N10134\\u003cbr\\u003eGroup: Los Zetas\\u003cbr\\u003eTotal Alliances: 2\\u003cbr\\u003eTotal States: 6\",\"Node: N10001\\u003cbr\\u003eGroup: ACME\\u003cbr\\u003eTotal Alliances: 3\\u003cbr\\u003eTotal States: 5\",\"Node: N10058\\u003cbr\\u003eGroup: Gente Nueva\\u003cbr\\u003eTotal Alliances: 5\\u003cbr\\u003eTotal States: 9\",\"Node: N10015\\u003cbr\\u003eGroup: Cártel de Tláhuac\\u003cbr\\u003eTotal Alliances: 2\\u003cbr\\u003eTotal States: 4\",\"Node: N10147\\u003cbr\\u003eGroup: Tropa del Infierno\\u003cbr\\u003eTotal Alliances: 1\\u003cbr\\u003eTotal States: 3\",\"Node: N10066\\u003cbr\\u003eGroup: La Anti-Unión o La Rosa Nueva\\u003cbr\\u003eTotal Alliances: 1\\u003cbr\\u003eTotal States: 3\",\"Node: N10081\\u003cbr\\u003eGroup: La Unión Tepito\\u003cbr\\u003eTotal Alliances: 6\\u003cbr\\u003eTotal States: 9\",\"Node: N10148\\u003cbr\\u003eGroup: U o la UVA\\u003cbr\\u003eTotal Alliances: 1\\u003cbr\\u003eTotal States: 3\",\"Node: N10087\\u003cbr\\u003eGroup: Los Blancos de Troya\\u003cbr\\u003eTotal Alliances: 1\\u003cbr\\u003eTotal States: 3\",\"Node: N10107\\u003cbr\\u003eGroup: Los Mayas\\u003cbr\\u003eTotal Alliances: 1\\u003cbr\\u003eTotal States: 3\",\"Node: N10004\\u003cbr\\u003eGroup: Cártel de Caborca\\u003cbr\\u003eTotal Alliances: 2\\u003cbr\\u003eTotal States: 4\",\"Node: N10070\\u003cbr\\u003eGroup: La Barredora 24\\u002f7\\u003cbr\\u003eTotal Alliances: 1\\u003cbr\\u003eTotal States: 2\",\"Node: N10114\\u003cbr\\u003eGroup: Los Páez\\u003cbr\\u003eTotal Alliances: 1\\u003cbr\\u003eTotal States: 2\",\"Node: N10006\\u003cbr\\u003eGroup: Cártel de Los Alemanes\\u003cbr\\u003eTotal Alliances: 1\\u003cbr\\u003eTotal States: 2\",\"Node: N10150\\u003cbr\\u003eGroup: Zetas Vieja Escuela\\u003cbr\\u003eTotal Alliances: 3\\u003cbr\\u003eTotal States: 4\",\"Node: N10067\\u003cbr\\u003eGroup: La banda de El Tigre\\u003cbr\\u003eTotal Alliances: 1\\u003cbr\\u003eTotal States: 2\",\"Node: N10099\\u003cbr\\u003eGroup: Los Erres\\u003cbr\\u003eTotal Alliances: 1\\u003cbr\\u003eTotal States: 2\",\"Node: N10061\\u003cbr\\u003eGroup: Grupo Sombra\\u003cbr\\u003eTotal Alliances: 1\\u003cbr\\u003eTotal States: 2\",\"Node: N10132\\u003cbr\\u003eGroup: Los Treviño\\u003cbr\\u003eTotal Alliances: 1\\u003cbr\\u003eTotal States: 2\",\"Node: N10020\\u003cbr\\u003eGroup: Cártel del Poniente o La Laguna\\u003cbr\\u003eTotal Alliances: 1\\u003cbr\\u003eTotal States: 2\",\"Node: N10031\\u003cbr\\u003eGroup: Cártel Zicuirán Nueva Generación\\u003cbr\\u003eTotal Alliances: 1\\u003cbr\\u003eTotal States: 2\",\"Node: N10035\\u003cbr\\u003eGroup: CJNG Comando la Mancha\\u003cbr\\u003eTotal Alliances: 1\\u003cbr\\u003eTotal States: 2\",\"Node: N10080\\u003cbr\\u003eGroup: La Unión León\\u003cbr\\u003eTotal Alliances: 1\\u003cbr\\u003eTotal States: 2\",\"Node: N10088\\u003cbr\\u003eGroup: Los Cabos\\u003cbr\\u003eTotal Alliances: 1\\u003cbr\\u003eTotal States: 2\",\"Node: N10095\\u003cbr\\u003eGroup: Los Colombianos\\u003cbr\\u003eTotal Alliances: 1\\u003cbr\\u003eTotal States: 2\",\"Node: N10108\\u003cbr\\u003eGroup: Los Metros\\u003cbr\\u003eTotal Alliances: 1\\u003cbr\\u003eTotal States: 2\",\"Node: N10117\\u003cbr\\u003eGroup: Los Piña\\u003cbr\\u003eTotal Alliances: 1\\u003cbr\\u003eTotal States: 2\",\"Node: N10027\\u003cbr\\u003eGroup: Cártel Nueva Plaza\\u003cbr\\u003eTotal Alliances: 1\\u003cbr\\u003eTotal States: 2\",\"Node: N10028\\u003cbr\\u003eGroup: Cártel Pura Gente Nueva\\u003cbr\\u003eTotal Alliances: 1\\u003cbr\\u003eTotal States: 2\",\"Node: N10032\\u003cbr\\u003eGroup: Cárteles Unidos\\u003cbr\\u003eTotal Alliances: 2\\u003cbr\\u003eTotal States: 4\",\"Node: N10083\\u003cbr\\u003eGroup: Los Ántrax\\u003cbr\\u003eTotal Alliances: 1\\u003cbr\\u003eTotal States: 2\",\"Node: N10136\\u003cbr\\u003eGroup: Mando Sur Gente Nueva\\u003cbr\\u003eTotal Alliances: 1\\u003cbr\\u003eTotal States: 2\",\"Node: N10033\\u003cbr\\u003eGroup: Célula liderada por Alfonso Arzate García, El Aquiles\\u003cbr\\u003eTotal Alliances: 1\\u003cbr\\u003eTotal States: 2\",\"Node: N10091\\u003cbr\\u003eGroup: Los Chapitos\\u003cbr\\u003eTotal Alliances: 6\\u003cbr\\u003eTotal States: 10\",\"Node: N10037\\u003cbr\\u003eGroup: Durangos\\u002fCazadores\\u003cbr\\u003eTotal Alliances: 1\\u003cbr\\u003eTotal States: 2\",\"Node: N10102\\u003cbr\\u003eGroup: Los Jaguares\\u003cbr\\u003eTotal Alliances: 3\\u003cbr\\u003eTotal States: 5\",\"Node: N10104\\u003cbr\\u003eGroup: Los Lobos\\u003cbr\\u003eTotal Alliances: 3\\u003cbr\\u003eTotal States: 5\",\"Node: N10063\\u003cbr\\u003eGroup: Guerreros Unidos\\u003cbr\\u003eTotal Alliances: 1\\u003cbr\\u003eTotal States: 2\",\"Node: N10133\\u003cbr\\u003eGroup: Los Viagras\\u003cbr\\u003eTotal Alliances: 2\\u003cbr\\u003eTotal States: 3\",\"Node: N10093\\u003cbr\\u003eGroup: Los Chimales\\u003cbr\\u003eTotal Alliances: 1\\u003cbr\\u003eTotal States: 2\",\"Node: N10110\\u003cbr\\u003eGroup: Los Mojarras\\u003cbr\\u003eTotal Alliances: 2\\u003cbr\\u003eTotal States: 4\",\"Node: N10144\\u003cbr\\u003eGroup: Sindicato Libertad\\u003cbr\\u003eTotal Alliances: 1\\u003cbr\\u003eTotal States: 2\",\"Node: N10010\\u003cbr\\u003eGroup: Cártel de Los Tequileros\\u003cbr\\u003eTotal Alliances: 1\\u003cbr\\u003eTotal States: 1\",\"Node: N10012\\u003cbr\\u003eGroup: Cártel de Santa Rosa de Lima\\u003cbr\\u003eTotal Alliances: 1\\u003cbr\\u003eTotal States: 1\",\"Node: N10118\\u003cbr\\u003eGroup: Los R4\\u003cbr\\u003eTotal Alliances: 1\\u003cbr\\u003eTotal States: 1\",\"Node: N10016\\u003cbr\\u003eGroup: Cártel del Abuelo\\u003cbr\\u003eTotal Alliances: 2\\u003cbr\\u003eTotal States: 2\",\"Node: N10127\\u003cbr\\u003eGroup: Los Talibanes\\u003cbr\\u003eTotal Alliances: 4\\u003cbr\\u003eTotal States: 4\",\"Node: N10130\\u003cbr\\u003eGroup: Los Tlacos (Cartel de la Sierra)\\u003cbr\\u003eTotal Alliances: 1\\u003cbr\\u003eTotal States: 1\",\"Node: N10026\\u003cbr\\u003eGroup: Cártel Los Epitacio\\u003cbr\\u003eTotal Alliances: 1\\u003cbr\\u003eTotal States: 1\",\"Node: N10011\\u003cbr\\u003eGroup: Cártel de Oaxaca\\u003cbr\\u003eTotal Alliances: 1\\u003cbr\\u003eTotal States: 1\",\"Node: N10034\\u003cbr\\u003eGroup: Célula liderada por El Balín\\u003cbr\\u003eTotal Alliances: 1\\u003cbr\\u003eTotal States: 1\",\"Node: N10044\\u003cbr\\u003eGroup: El Jardinero\\u003cbr\\u003eTotal Alliances: 1\\u003cbr\\u003eTotal States: 1\",\"Node: N10048\\u003cbr\\u003eGroup: El Pechugas\\u003cbr\\u003eTotal Alliances: 1\\u003cbr\\u003eTotal States: 1\",\"Node: N10050\\u003cbr\\u003eGroup: El Robert\\u003cbr\\u003eTotal Alliances: 1\\u003cbr\\u003eTotal States: 1\",\"Node: N10056\\u003cbr\\u003eGroup: Francisco Javier Arvizo Márquez, El Jaguar\\u003cbr\\u003eTotal Alliances: 1\\u003cbr\\u003eTotal States: 1\",\"Node: N10124\\u003cbr\\u003eGroup: Los Salgueiro\\u003cbr\\u003eTotal Alliances: 2\\u003cbr\\u003eTotal States: 2\",\"Node: N10062\\u003cbr\\u003eGroup: Güero Fresa\\u003cbr\\u003eTotal Alliances: 1\\u003cbr\\u003eTotal States: 1\",\"Node: N10065\\u003cbr\\u003eGroup: Juan L. (El Moco), líder huachicolero\\u003cbr\\u003eTotal Alliances: 1\\u003cbr\\u003eTotal States: 1\",\"Node: N10045\\u003cbr\\u003eGroup: El Loco Téllez\\u003cbr\\u003eTotal Alliances: 2\\u003cbr\\u003eTotal States: 2\",\"Node: N10068\\u003cbr\\u003eGroup: La Banda del Bucanas\\u003cbr\\u003eTotal Alliances: 1\\u003cbr\\u003eTotal States: 1\",\"Node: N10071\\u003cbr\\u003eGroup: La Emperatriz\\u003cbr\\u003eTotal Alliances: 1\\u003cbr\\u003eTotal States: 1\",\"Node: N10074\\u003cbr\\u003eGroup: La Guera\\u003cbr\\u003eTotal Alliances: 1\\u003cbr\\u003eTotal States: 1\",\"Node: N10075\\u003cbr\\u003eGroup: La Línea\\u003cbr\\u003eTotal Alliances: 1\\u003cbr\\u003eTotal States: 1\",\"Node: N10005\\u003cbr\\u003eGroup: Cártel de Juárez\\u003cbr\\u003eTotal Alliances: 1\\u003cbr\\u003eTotal States: 1\",\"Node: N10077\\u003cbr\\u003eGroup: La Reina del Sur, Cecilia “V\\\"\\u003cbr\\u003eTotal Alliances: 1\\u003cbr\\u003eTotal States: 1\",\"Node: N10085\\u003cbr\\u003eGroup: Los Artistas Asesinos o Doble A\\u003cbr\\u003eTotal Alliances: 1\\u003cbr\\u003eTotal States: 1\",\"Node: N10097\\u003cbr\\u003eGroup: Los Dámasos\\u002fFuerzas especiales Dámaso\\u003cbr\\u003eTotal Alliances: 1\\u003cbr\\u003eTotal States: 1\",\"Node: N10098\\u003cbr\\u003eGroup: Los Durangos\\u003cbr\\u003eTotal Alliances: 1\\u003cbr\\u003eTotal States: 1\",\"Node: N10101\\u003cbr\\u003eGroup: Los Guerreros\\u003cbr\\u003eTotal Alliances: 1\\u003cbr\\u003eTotal States: 1\",\"Node: N10109\\u003cbr\\u003eGroup: Los Mexicles\\u003cbr\\u003eTotal Alliances: 1\\u003cbr\\u003eTotal States: 1\",\"Node: N10113\\u003cbr\\u003eGroup: Los Ninis\\u003cbr\\u003eTotal Alliances: 1\\u003cbr\\u003eTotal States: 1\",\"Node: N10119\\u003cbr\\u003eGroup: Los Rodolfos\\u003cbr\\u003eTotal Alliances: 1\\u003cbr\\u003eTotal States: 1\",\"Node: N10122\\u003cbr\\u003eGroup: Los Rusos\\u003cbr\\u003eTotal Alliances: 1\\u003cbr\\u003eTotal States: 1\",\"Node: N10125\\u003cbr\\u003eGroup: Los Siete Demonios\\u003cbr\\u003eTotal Alliances: 1\\u003cbr\\u003eTotal States: 1\",\"Node: N10137\\u003cbr\\u003eGroup: Mazatlecos\\u003cbr\\u003eTotal Alliances: 1\\u003cbr\\u003eTotal States: 1\",\"Node: N10008\\u003cbr\\u003eGroup: Cártel de los Beltrán Leyva\\u003cbr\\u003eTotal Alliances: 1\\u003cbr\\u003eTotal States: 1\",\"Node: N10138\\u003cbr\\u003eGroup: MZ\\u003cbr\\u003eTotal Alliances: 1\\u003cbr\\u003eTotal States: 1\",\"Node: N10139\\u003cbr\\u003eGroup: Nuevo Cártel de Juárez\\u003cbr\\u003eTotal Alliances: 1\\u003cbr\\u003eTotal States: 1\",\"Node: N10140\\u003cbr\\u003eGroup: Paco Pacas\\u003cbr\\u003eTotal Alliances: 1\\u003cbr\\u003eTotal States: 1\",\"Node: N10145\\u003cbr\\u003eGroup: Tercera Acción Destructiva (3AD)\\u003cbr\\u003eTotal Alliances: 1\\u003cbr\\u003eTotal States: 1\"],\"x\":[0.22870596564446685,0.18544370208312477,0.28649003034573467,0.6013140393538579,0.535040828093478,-0.6176051056123871,-0.691263953567871,-0.6759350512895987,0.597035220383469,0.574402166046151,0.5416577284754107,0.6156623908539548,0.2508018301516368,-0.5366726136549448,0.291207730773673,0.5683166440777644,0.21149121538308374,0.2408099945630645,0.2745457033277513,0.44774581145455483,0.6103792840413622,0.17306766146940056,0.15103097825771794,0.2102212774862207,0.36800821965032676,0.43890272119118884,-0.6341549245283341,-0.6356548798437447,0.7100672758487981,0.5500635122228075,-0.547452446249821,0.31987081373394094,0.12914185525310076,0.11500281270418858,0.1990027386050966,0.15171640727374303,0.13023556941333253,0.1778041669554309,-0.7245334300397087,0.687731318850647,-0.14199168042901292,-0.09789195435471701,-0.1960069493911594,-0.41023309505827427,-0.44984391169549903,-0.3393794993487213,-0.5555016504329583,-0.5431032874951509,0.260047022747701,0.5384495631137639,-0.4592213231168974,0.20290969611995846,0.20081014775369754,0.0418646750584173,-0.7854182244983514,-0.8007564973144418,0.4314197296320839,0.4169388854889613,0.04879734488960023,-0.7000564418704175,-0.5894097952629154,0.25227614243414015,0.06293030184371785,0.35252375521188595,0.2936089775711154,-0.7891190340283541,-0.6333373569680355,0.3562084651128751,0.7636820473282006,0.6085518781669627,0.3984313909465288,-0.598881717034891,-0.563599371111471,-0.5885324671318806,-0.5422126284035663,0.7377240627587479,-0.433273420449954,0.13374967727676204,0.37600449602108754,0.19430400825576247,-0.47476078278330386,-0.3390893988816118,0.08534888373546352,-0.7365911887570734,-0.7651965735840218,-0.5332146079543043,-0.48025840444509776,-0.7238289230567029,0.3066053861405853,0.46182569603892,0.23605274202977924],\"y\":[0.5164473695348323,0.5147197918984727,0.5312637369171385,0.23658704826196103,0.25642246439243793,-0.4004034056168103,-0.38738506729138916,-0.44189385032821454,0.017281683062294315,-0.03824970343946588,-0.18876354910245322,-0.28010478618055296,0.4385710577393445,-0.42212528804548843,0.47605516168745643,-0.2573069635788507,0.5850660073781596,0.34743793185615296,0.5832034478063919,0.22693975185852014,0.28675348369990056,-0.876289429717733,-0.9315697212629049,-0.8324091095286419,-0.15580852763397576,-0.05966373791430029,-0.2957555348745675,-0.49342526662309505,0.0029965780896388837,-0.30398924602504157,-0.30678047234028,0.600319404949473,0.4782656922150201,0.5266764692584781,0.6360789722701358,0.6125975801256501,0.5722318628434029,0.44496325277286464,-0.45779831712780655,-0.3734048094693043,-0.9735441968755295,-0.9292137387935662,-1.0,-0.6043543078411266,-0.5142257432598671,-0.5271356509039581,-0.4005291134905827,-0.4584936845127805,0.6377379736509584,0.36480853753754966,-0.6138474934386271,0.18984038656499844,0.06019667168219958,0.5035502697545478,-0.496582478097394,-0.43229671007547116,0.4703842376830114,0.11879513400624758,0.582373856266697,0.4023447580874636,0.3431452015130644,0.7223630610710179,0.6233915622316584,0.3103720328731757,0.24421377164995584,-0.37156309534615706,-0.3559355635377944,0.678066021749022,-0.22908111251825053,-0.19863004136376652,0.5644131152374796,-0.23536594921683088,-0.5258551039469526,0.6627257358023243,0.7085490749149149,-0.28520979892536424,-0.3036745228672775,0.6958397774572039,0.6102565089881474,0.7192479795469899,-0.356505724902208,-0.624296617062015,0.40770374360432704,-0.544294048307852,-0.3174399378733958,-0.8309016136383836,-0.6814284642846423,-0.2732431031411079,0.7080069417935961,0.15095590889768903,0.21661358913981382],\"type\":\"scatter\"}],                        {\"annotations\":[{\"showarrow\":false,\"text\":\"\",\"xref\":\"paper\",\"yref\":\"paper\"}],\"height\":800,\"hovermode\":\"closest\",\"margin\":{\"b\":20,\"l\":5,\"r\":5,\"t\":40},\"showlegend\":false,\"title\":{\"font\":{\"size\":20},\"text\":\"Cartel Alliances Network\"},\"xaxis\":{\"showgrid\":false,\"zeroline\":false},\"yaxis\":{\"showgrid\":false,\"zeroline\":false},\"template\":{\"data\":{\"histogram2dcontour\":[{\"type\":\"histogram2dcontour\",\"colorbar\":{\"outlinewidth\":0,\"ticks\":\"\"},\"colorscale\":[[0.0,\"#0d0887\"],[0.1111111111111111,\"#46039f\"],[0.2222222222222222,\"#7201a8\"],[0.3333333333333333,\"#9c179e\"],[0.4444444444444444,\"#bd3786\"],[0.5555555555555556,\"#d8576b\"],[0.6666666666666666,\"#ed7953\"],[0.7777777777777778,\"#fb9f3a\"],[0.8888888888888888,\"#fdca26\"],[1.0,\"#f0f921\"]]}],\"choropleth\":[{\"type\":\"choropleth\",\"colorbar\":{\"outlinewidth\":0,\"ticks\":\"\"}}],\"histogram2d\":[{\"type\":\"histogram2d\",\"colorbar\":{\"outlinewidth\":0,\"ticks\":\"\"},\"colorscale\":[[0.0,\"#0d0887\"],[0.1111111111111111,\"#46039f\"],[0.2222222222222222,\"#7201a8\"],[0.3333333333333333,\"#9c179e\"],[0.4444444444444444,\"#bd3786\"],[0.5555555555555556,\"#d8576b\"],[0.6666666666666666,\"#ed7953\"],[0.7777777777777778,\"#fb9f3a\"],[0.8888888888888888,\"#fdca26\"],[1.0,\"#f0f921\"]]}],\"heatmap\":[{\"type\":\"heatmap\",\"colorbar\":{\"outlinewidth\":0,\"ticks\":\"\"},\"colorscale\":[[0.0,\"#0d0887\"],[0.1111111111111111,\"#46039f\"],[0.2222222222222222,\"#7201a8\"],[0.3333333333333333,\"#9c179e\"],[0.4444444444444444,\"#bd3786\"],[0.5555555555555556,\"#d8576b\"],[0.6666666666666666,\"#ed7953\"],[0.7777777777777778,\"#fb9f3a\"],[0.8888888888888888,\"#fdca26\"],[1.0,\"#f0f921\"]]}],\"heatmapgl\":[{\"type\":\"heatmapgl\",\"colorbar\":{\"outlinewidth\":0,\"ticks\":\"\"},\"colorscale\":[[0.0,\"#0d0887\"],[0.1111111111111111,\"#46039f\"],[0.2222222222222222,\"#7201a8\"],[0.3333333333333333,\"#9c179e\"],[0.4444444444444444,\"#bd3786\"],[0.5555555555555556,\"#d8576b\"],[0.6666666666666666,\"#ed7953\"],[0.7777777777777778,\"#fb9f3a\"],[0.8888888888888888,\"#fdca26\"],[1.0,\"#f0f921\"]]}],\"contourcarpet\":[{\"type\":\"contourcarpet\",\"colorbar\":{\"outlinewidth\":0,\"ticks\":\"\"}}],\"contour\":[{\"type\":\"contour\",\"colorbar\":{\"outlinewidth\":0,\"ticks\":\"\"},\"colorscale\":[[0.0,\"#0d0887\"],[0.1111111111111111,\"#46039f\"],[0.2222222222222222,\"#7201a8\"],[0.3333333333333333,\"#9c179e\"],[0.4444444444444444,\"#bd3786\"],[0.5555555555555556,\"#d8576b\"],[0.6666666666666666,\"#ed7953\"],[0.7777777777777778,\"#fb9f3a\"],[0.8888888888888888,\"#fdca26\"],[1.0,\"#f0f921\"]]}],\"surface\":[{\"type\":\"surface\",\"colorbar\":{\"outlinewidth\":0,\"ticks\":\"\"},\"colorscale\":[[0.0,\"#0d0887\"],[0.1111111111111111,\"#46039f\"],[0.2222222222222222,\"#7201a8\"],[0.3333333333333333,\"#9c179e\"],[0.4444444444444444,\"#bd3786\"],[0.5555555555555556,\"#d8576b\"],[0.6666666666666666,\"#ed7953\"],[0.7777777777777778,\"#fb9f3a\"],[0.8888888888888888,\"#fdca26\"],[1.0,\"#f0f921\"]]}],\"mesh3d\":[{\"type\":\"mesh3d\",\"colorbar\":{\"outlinewidth\":0,\"ticks\":\"\"}}],\"scatter\":[{\"fillpattern\":{\"fillmode\":\"overlay\",\"size\":10,\"solidity\":0.2},\"type\":\"scatter\"}],\"parcoords\":[{\"type\":\"parcoords\",\"line\":{\"colorbar\":{\"outlinewidth\":0,\"ticks\":\"\"}}}],\"scatterpolargl\":[{\"type\":\"scatterpolargl\",\"marker\":{\"colorbar\":{\"outlinewidth\":0,\"ticks\":\"\"}}}],\"bar\":[{\"error_x\":{\"color\":\"#2a3f5f\"},\"error_y\":{\"color\":\"#2a3f5f\"},\"marker\":{\"line\":{\"color\":\"#E5ECF6\",\"width\":0.5},\"pattern\":{\"fillmode\":\"overlay\",\"size\":10,\"solidity\":0.2}},\"type\":\"bar\"}],\"scattergeo\":[{\"type\":\"scattergeo\",\"marker\":{\"colorbar\":{\"outlinewidth\":0,\"ticks\":\"\"}}}],\"scatterpolar\":[{\"type\":\"scatterpolar\",\"marker\":{\"colorbar\":{\"outlinewidth\":0,\"ticks\":\"\"}}}],\"histogram\":[{\"marker\":{\"pattern\":{\"fillmode\":\"overlay\",\"size\":10,\"solidity\":0.2}},\"type\":\"histogram\"}],\"scattergl\":[{\"type\":\"scattergl\",\"marker\":{\"colorbar\":{\"outlinewidth\":0,\"ticks\":\"\"}}}],\"scatter3d\":[{\"type\":\"scatter3d\",\"line\":{\"colorbar\":{\"outlinewidth\":0,\"ticks\":\"\"}},\"marker\":{\"colorbar\":{\"outlinewidth\":0,\"ticks\":\"\"}}}],\"scattermapbox\":[{\"type\":\"scattermapbox\",\"marker\":{\"colorbar\":{\"outlinewidth\":0,\"ticks\":\"\"}}}],\"scatterternary\":[{\"type\":\"scatterternary\",\"marker\":{\"colorbar\":{\"outlinewidth\":0,\"ticks\":\"\"}}}],\"scattercarpet\":[{\"type\":\"scattercarpet\",\"marker\":{\"colorbar\":{\"outlinewidth\":0,\"ticks\":\"\"}}}],\"carpet\":[{\"aaxis\":{\"endlinecolor\":\"#2a3f5f\",\"gridcolor\":\"white\",\"linecolor\":\"white\",\"minorgridcolor\":\"white\",\"startlinecolor\":\"#2a3f5f\"},\"baxis\":{\"endlinecolor\":\"#2a3f5f\",\"gridcolor\":\"white\",\"linecolor\":\"white\",\"minorgridcolor\":\"white\",\"startlinecolor\":\"#2a3f5f\"},\"type\":\"carpet\"}],\"table\":[{\"cells\":{\"fill\":{\"color\":\"#EBF0F8\"},\"line\":{\"color\":\"white\"}},\"header\":{\"fill\":{\"color\":\"#C8D4E3\"},\"line\":{\"color\":\"white\"}},\"type\":\"table\"}],\"barpolar\":[{\"marker\":{\"line\":{\"color\":\"#E5ECF6\",\"width\":0.5},\"pattern\":{\"fillmode\":\"overlay\",\"size\":10,\"solidity\":0.2}},\"type\":\"barpolar\"}],\"pie\":[{\"automargin\":true,\"type\":\"pie\"}]},\"layout\":{\"autotypenumbers\":\"strict\",\"colorway\":[\"#636efa\",\"#EF553B\",\"#00cc96\",\"#ab63fa\",\"#FFA15A\",\"#19d3f3\",\"#FF6692\",\"#B6E880\",\"#FF97FF\",\"#FECB52\"],\"font\":{\"color\":\"#2a3f5f\"},\"hovermode\":\"closest\",\"hoverlabel\":{\"align\":\"left\"},\"paper_bgcolor\":\"white\",\"plot_bgcolor\":\"#E5ECF6\",\"polar\":{\"bgcolor\":\"#E5ECF6\",\"angularaxis\":{\"gridcolor\":\"white\",\"linecolor\":\"white\",\"ticks\":\"\"},\"radialaxis\":{\"gridcolor\":\"white\",\"linecolor\":\"white\",\"ticks\":\"\"}},\"ternary\":{\"bgcolor\":\"#E5ECF6\",\"aaxis\":{\"gridcolor\":\"white\",\"linecolor\":\"white\",\"ticks\":\"\"},\"baxis\":{\"gridcolor\":\"white\",\"linecolor\":\"white\",\"ticks\":\"\"},\"caxis\":{\"gridcolor\":\"white\",\"linecolor\":\"white\",\"ticks\":\"\"}},\"coloraxis\":{\"colorbar\":{\"outlinewidth\":0,\"ticks\":\"\"}},\"colorscale\":{\"sequential\":[[0.0,\"#0d0887\"],[0.1111111111111111,\"#46039f\"],[0.2222222222222222,\"#7201a8\"],[0.3333333333333333,\"#9c179e\"],[0.4444444444444444,\"#bd3786\"],[0.5555555555555556,\"#d8576b\"],[0.6666666666666666,\"#ed7953\"],[0.7777777777777778,\"#fb9f3a\"],[0.8888888888888888,\"#fdca26\"],[1.0,\"#f0f921\"]],\"sequentialminus\":[[0.0,\"#0d0887\"],[0.1111111111111111,\"#46039f\"],[0.2222222222222222,\"#7201a8\"],[0.3333333333333333,\"#9c179e\"],[0.4444444444444444,\"#bd3786\"],[0.5555555555555556,\"#d8576b\"],[0.6666666666666666,\"#ed7953\"],[0.7777777777777778,\"#fb9f3a\"],[0.8888888888888888,\"#fdca26\"],[1.0,\"#f0f921\"]],\"diverging\":[[0,\"#8e0152\"],[0.1,\"#c51b7d\"],[0.2,\"#de77ae\"],[0.3,\"#f1b6da\"],[0.4,\"#fde0ef\"],[0.5,\"#f7f7f7\"],[0.6,\"#e6f5d0\"],[0.7,\"#b8e186\"],[0.8,\"#7fbc41\"],[0.9,\"#4d9221\"],[1,\"#276419\"]]},\"xaxis\":{\"gridcolor\":\"white\",\"linecolor\":\"white\",\"ticks\":\"\",\"title\":{\"standoff\":15},\"zerolinecolor\":\"white\",\"automargin\":true,\"zerolinewidth\":2},\"yaxis\":{\"gridcolor\":\"white\",\"linecolor\":\"white\",\"ticks\":\"\",\"title\":{\"standoff\":15},\"zerolinecolor\":\"white\",\"automargin\":true,\"zerolinewidth\":2},\"scene\":{\"xaxis\":{\"backgroundcolor\":\"#E5ECF6\",\"gridcolor\":\"white\",\"linecolor\":\"white\",\"showbackground\":true,\"ticks\":\"\",\"zerolinecolor\":\"white\",\"gridwidth\":2},\"yaxis\":{\"backgroundcolor\":\"#E5ECF6\",\"gridcolor\":\"white\",\"linecolor\":\"white\",\"showbackground\":true,\"ticks\":\"\",\"zerolinecolor\":\"white\",\"gridwidth\":2},\"zaxis\":{\"backgroundcolor\":\"#E5ECF6\",\"gridcolor\":\"white\",\"linecolor\":\"white\",\"showbackground\":true,\"ticks\":\"\",\"zerolinecolor\":\"white\",\"gridwidth\":2}},\"shapedefaults\":{\"line\":{\"color\":\"#2a3f5f\"}},\"annotationdefaults\":{\"arrowcolor\":\"#2a3f5f\",\"arrowhead\":0,\"arrowwidth\":1},\"geo\":{\"bgcolor\":\"white\",\"landcolor\":\"#E5ECF6\",\"subunitcolor\":\"white\",\"showland\":true,\"showlakes\":true,\"lakecolor\":\"white\"},\"title\":{\"x\":0.05},\"mapbox\":{\"style\":\"light\"}}}},                        {\"responsive\": true}                    ).then(function(){\n",
       "                            \n",
       "var gd = document.getElementById('a0988473-9302-4d55-9d6c-7a7702a086bb');\n",
       "var x = new MutationObserver(function (mutations, observer) {{\n",
       "        var display = window.getComputedStyle(gd).display;\n",
       "        if (!display || display === 'none') {{\n",
       "            console.log([gd, 'removed!']);\n",
       "            Plotly.purge(gd);\n",
       "            observer.disconnect();\n",
       "        }}\n",
       "}});\n",
       "\n",
       "// Listen for the removal of the full notebook cells\n",
       "var notebookContainer = gd.closest('#notebook-container');\n",
       "if (notebookContainer) {{\n",
       "    x.observe(notebookContainer, {childList: true});\n",
       "}}\n",
       "\n",
       "// Listen for the clearing of the current output cell\n",
       "var outputEl = gd.closest('.output');\n",
       "if (outputEl) {{\n",
       "    x.observe(outputEl, {childList: true});\n",
       "}}\n",
       "\n",
       "                        })                };                });            </script>        </div>"
      ]
     },
     "metadata": {},
     "output_type": "display_data"
    }
   ],
   "source": [
    "create_network_graph(aliances, title='Cartel Alliances Network', text='Alliances', color='RdYlGn')"
   ]
  },
  {
   "cell_type": "markdown",
   "id": "7681422c",
   "metadata": {
    "papermill": {
     "duration": 0.009433,
     "end_time": "2024-07-24T10:05:59.811808",
     "exception": false,
     "start_time": "2024-07-24T10:05:59.802375",
     "status": "completed"
    },
    "tags": []
   },
   "source": [
    "This diagram gives a very good overview of the alliances within the cartels. The small splinter groups alongside the two large cartels Sinaloa and CJNG can be ignored. It is obvious that mainly small groups join the powerful organizations. CJNG has 3-4 somewhat larger splinter groups, whereas Sinaloa has only two. \n",
    "\n",
    "What can also be clearly seen in this diagram is that the smaller groups do not appear to have any relationships with other smaller groups. My random online search for small cartels did not reveal any real links to other cartels. \n",
    "\n",
    "As it is very common for these groups to have no relationships with smaller groups apart from an alliance with a large cartel, this could be the key to combating the cartels. With any luck, the main cartel will not care too much about a single individual and will not support the war against the state power. \n",
    "\n",
    "This would make it possible to fight evil from the outside in. However, this topic is more than just complex and is probably only partially reversible in theory. \n",
    "\n",
    "However, the number of allies is almost balanced. Let's take a look at the top 10 cartels with the most alliances in general and aggregated to states in the next diagram. "
   ]
  },
  {
   "cell_type": "code",
   "execution_count": 15,
   "id": "7a884d47",
   "metadata": {
    "_kg_hide-input": true,
    "execution": {
     "iopub.execute_input": "2024-07-24T10:05:59.833213Z",
     "iopub.status.busy": "2024-07-24T10:05:59.832843Z",
     "iopub.status.idle": "2024-07-24T10:05:59.873416Z",
     "shell.execute_reply": "2024-07-24T10:05:59.872409Z"
    },
    "jupyter": {
     "source_hidden": true
    },
    "papermill": {
     "duration": 0.054011,
     "end_time": "2024-07-24T10:05:59.875791",
     "exception": false,
     "start_time": "2024-07-24T10:05:59.821780",
     "status": "completed"
    },
    "tags": []
   },
   "outputs": [
    {
     "data": {
      "text/html": [
       "<div>                            <div id=\"6a8f22b0-4d10-4d97-bb1b-d486e90ba96f\" class=\"plotly-graph-div\" style=\"height:1000px; width:100%;\"></div>            <script type=\"text/javascript\">                require([\"plotly\"], function(Plotly) {                    window.PLOTLYENV=window.PLOTLYENV || {};                                    if (document.getElementById(\"6a8f22b0-4d10-4d97-bb1b-d486e90ba96f\")) {                    Plotly.newPlot(                        \"6a8f22b0-4d10-4d97-bb1b-d486e90ba96f\",                        [{\"hoverinfo\":\"none\",\"name\":\"Unique Alliances\",\"orientation\":\"h\",\"x\":[1,2,3,5,6,4,6,5,21,28],\"y\":[\"Los Cuinis\",\"Los Zetas\",\"Cártel del Golfo\",\"Gente Nueva\",\"La Unión Tepito\",\"Cártel del Noreste\",\"Los Chapitos\",\"La Nueva Familia Michoacana\",\"Cártel de Sinaloa\",\"Cártel Jalisco Nueva Generación (CJNG)\"],\"type\":\"bar\"},{\"hoverinfo\":\"none\",\"name\":\"Total Alliances\",\"orientation\":\"h\",\"x\":[6,6,7,9,9,10,10,13,34,55],\"y\":[\"Los Cuinis\",\"Los Zetas\",\"Cártel del Golfo\",\"Gente Nueva\",\"La Unión Tepito\",\"Cártel del Noreste\",\"Los Chapitos\",\"La Nueva Familia Michoacana\",\"Cártel de Sinaloa\",\"Cártel Jalisco Nueva Generación (CJNG)\"],\"type\":\"bar\"}],                        {\"template\":{\"data\":{\"histogram2dcontour\":[{\"type\":\"histogram2dcontour\",\"colorbar\":{\"outlinewidth\":0,\"ticks\":\"\"},\"colorscale\":[[0.0,\"#0d0887\"],[0.1111111111111111,\"#46039f\"],[0.2222222222222222,\"#7201a8\"],[0.3333333333333333,\"#9c179e\"],[0.4444444444444444,\"#bd3786\"],[0.5555555555555556,\"#d8576b\"],[0.6666666666666666,\"#ed7953\"],[0.7777777777777778,\"#fb9f3a\"],[0.8888888888888888,\"#fdca26\"],[1.0,\"#f0f921\"]]}],\"choropleth\":[{\"type\":\"choropleth\",\"colorbar\":{\"outlinewidth\":0,\"ticks\":\"\"}}],\"histogram2d\":[{\"type\":\"histogram2d\",\"colorbar\":{\"outlinewidth\":0,\"ticks\":\"\"},\"colorscale\":[[0.0,\"#0d0887\"],[0.1111111111111111,\"#46039f\"],[0.2222222222222222,\"#7201a8\"],[0.3333333333333333,\"#9c179e\"],[0.4444444444444444,\"#bd3786\"],[0.5555555555555556,\"#d8576b\"],[0.6666666666666666,\"#ed7953\"],[0.7777777777777778,\"#fb9f3a\"],[0.8888888888888888,\"#fdca26\"],[1.0,\"#f0f921\"]]}],\"heatmap\":[{\"type\":\"heatmap\",\"colorbar\":{\"outlinewidth\":0,\"ticks\":\"\"},\"colorscale\":[[0.0,\"#0d0887\"],[0.1111111111111111,\"#46039f\"],[0.2222222222222222,\"#7201a8\"],[0.3333333333333333,\"#9c179e\"],[0.4444444444444444,\"#bd3786\"],[0.5555555555555556,\"#d8576b\"],[0.6666666666666666,\"#ed7953\"],[0.7777777777777778,\"#fb9f3a\"],[0.8888888888888888,\"#fdca26\"],[1.0,\"#f0f921\"]]}],\"heatmapgl\":[{\"type\":\"heatmapgl\",\"colorbar\":{\"outlinewidth\":0,\"ticks\":\"\"},\"colorscale\":[[0.0,\"#0d0887\"],[0.1111111111111111,\"#46039f\"],[0.2222222222222222,\"#7201a8\"],[0.3333333333333333,\"#9c179e\"],[0.4444444444444444,\"#bd3786\"],[0.5555555555555556,\"#d8576b\"],[0.6666666666666666,\"#ed7953\"],[0.7777777777777778,\"#fb9f3a\"],[0.8888888888888888,\"#fdca26\"],[1.0,\"#f0f921\"]]}],\"contourcarpet\":[{\"type\":\"contourcarpet\",\"colorbar\":{\"outlinewidth\":0,\"ticks\":\"\"}}],\"contour\":[{\"type\":\"contour\",\"colorbar\":{\"outlinewidth\":0,\"ticks\":\"\"},\"colorscale\":[[0.0,\"#0d0887\"],[0.1111111111111111,\"#46039f\"],[0.2222222222222222,\"#7201a8\"],[0.3333333333333333,\"#9c179e\"],[0.4444444444444444,\"#bd3786\"],[0.5555555555555556,\"#d8576b\"],[0.6666666666666666,\"#ed7953\"],[0.7777777777777778,\"#fb9f3a\"],[0.8888888888888888,\"#fdca26\"],[1.0,\"#f0f921\"]]}],\"surface\":[{\"type\":\"surface\",\"colorbar\":{\"outlinewidth\":0,\"ticks\":\"\"},\"colorscale\":[[0.0,\"#0d0887\"],[0.1111111111111111,\"#46039f\"],[0.2222222222222222,\"#7201a8\"],[0.3333333333333333,\"#9c179e\"],[0.4444444444444444,\"#bd3786\"],[0.5555555555555556,\"#d8576b\"],[0.6666666666666666,\"#ed7953\"],[0.7777777777777778,\"#fb9f3a\"],[0.8888888888888888,\"#fdca26\"],[1.0,\"#f0f921\"]]}],\"mesh3d\":[{\"type\":\"mesh3d\",\"colorbar\":{\"outlinewidth\":0,\"ticks\":\"\"}}],\"scatter\":[{\"fillpattern\":{\"fillmode\":\"overlay\",\"size\":10,\"solidity\":0.2},\"type\":\"scatter\"}],\"parcoords\":[{\"type\":\"parcoords\",\"line\":{\"colorbar\":{\"outlinewidth\":0,\"ticks\":\"\"}}}],\"scatterpolargl\":[{\"type\":\"scatterpolargl\",\"marker\":{\"colorbar\":{\"outlinewidth\":0,\"ticks\":\"\"}}}],\"bar\":[{\"error_x\":{\"color\":\"#2a3f5f\"},\"error_y\":{\"color\":\"#2a3f5f\"},\"marker\":{\"line\":{\"color\":\"#E5ECF6\",\"width\":0.5},\"pattern\":{\"fillmode\":\"overlay\",\"size\":10,\"solidity\":0.2}},\"type\":\"bar\"}],\"scattergeo\":[{\"type\":\"scattergeo\",\"marker\":{\"colorbar\":{\"outlinewidth\":0,\"ticks\":\"\"}}}],\"scatterpolar\":[{\"type\":\"scatterpolar\",\"marker\":{\"colorbar\":{\"outlinewidth\":0,\"ticks\":\"\"}}}],\"histogram\":[{\"marker\":{\"pattern\":{\"fillmode\":\"overlay\",\"size\":10,\"solidity\":0.2}},\"type\":\"histogram\"}],\"scattergl\":[{\"type\":\"scattergl\",\"marker\":{\"colorbar\":{\"outlinewidth\":0,\"ticks\":\"\"}}}],\"scatter3d\":[{\"type\":\"scatter3d\",\"line\":{\"colorbar\":{\"outlinewidth\":0,\"ticks\":\"\"}},\"marker\":{\"colorbar\":{\"outlinewidth\":0,\"ticks\":\"\"}}}],\"scattermapbox\":[{\"type\":\"scattermapbox\",\"marker\":{\"colorbar\":{\"outlinewidth\":0,\"ticks\":\"\"}}}],\"scatterternary\":[{\"type\":\"scatterternary\",\"marker\":{\"colorbar\":{\"outlinewidth\":0,\"ticks\":\"\"}}}],\"scattercarpet\":[{\"type\":\"scattercarpet\",\"marker\":{\"colorbar\":{\"outlinewidth\":0,\"ticks\":\"\"}}}],\"carpet\":[{\"aaxis\":{\"endlinecolor\":\"#2a3f5f\",\"gridcolor\":\"white\",\"linecolor\":\"white\",\"minorgridcolor\":\"white\",\"startlinecolor\":\"#2a3f5f\"},\"baxis\":{\"endlinecolor\":\"#2a3f5f\",\"gridcolor\":\"white\",\"linecolor\":\"white\",\"minorgridcolor\":\"white\",\"startlinecolor\":\"#2a3f5f\"},\"type\":\"carpet\"}],\"table\":[{\"cells\":{\"fill\":{\"color\":\"#EBF0F8\"},\"line\":{\"color\":\"white\"}},\"header\":{\"fill\":{\"color\":\"#C8D4E3\"},\"line\":{\"color\":\"white\"}},\"type\":\"table\"}],\"barpolar\":[{\"marker\":{\"line\":{\"color\":\"#E5ECF6\",\"width\":0.5},\"pattern\":{\"fillmode\":\"overlay\",\"size\":10,\"solidity\":0.2}},\"type\":\"barpolar\"}],\"pie\":[{\"automargin\":true,\"type\":\"pie\"}]},\"layout\":{\"autotypenumbers\":\"strict\",\"colorway\":[\"#636efa\",\"#EF553B\",\"#00cc96\",\"#ab63fa\",\"#FFA15A\",\"#19d3f3\",\"#FF6692\",\"#B6E880\",\"#FF97FF\",\"#FECB52\"],\"font\":{\"color\":\"#2a3f5f\"},\"hovermode\":\"closest\",\"hoverlabel\":{\"align\":\"left\"},\"paper_bgcolor\":\"white\",\"plot_bgcolor\":\"#E5ECF6\",\"polar\":{\"bgcolor\":\"#E5ECF6\",\"angularaxis\":{\"gridcolor\":\"white\",\"linecolor\":\"white\",\"ticks\":\"\"},\"radialaxis\":{\"gridcolor\":\"white\",\"linecolor\":\"white\",\"ticks\":\"\"}},\"ternary\":{\"bgcolor\":\"#E5ECF6\",\"aaxis\":{\"gridcolor\":\"white\",\"linecolor\":\"white\",\"ticks\":\"\"},\"baxis\":{\"gridcolor\":\"white\",\"linecolor\":\"white\",\"ticks\":\"\"},\"caxis\":{\"gridcolor\":\"white\",\"linecolor\":\"white\",\"ticks\":\"\"}},\"coloraxis\":{\"colorbar\":{\"outlinewidth\":0,\"ticks\":\"\"}},\"colorscale\":{\"sequential\":[[0.0,\"#0d0887\"],[0.1111111111111111,\"#46039f\"],[0.2222222222222222,\"#7201a8\"],[0.3333333333333333,\"#9c179e\"],[0.4444444444444444,\"#bd3786\"],[0.5555555555555556,\"#d8576b\"],[0.6666666666666666,\"#ed7953\"],[0.7777777777777778,\"#fb9f3a\"],[0.8888888888888888,\"#fdca26\"],[1.0,\"#f0f921\"]],\"sequentialminus\":[[0.0,\"#0d0887\"],[0.1111111111111111,\"#46039f\"],[0.2222222222222222,\"#7201a8\"],[0.3333333333333333,\"#9c179e\"],[0.4444444444444444,\"#bd3786\"],[0.5555555555555556,\"#d8576b\"],[0.6666666666666666,\"#ed7953\"],[0.7777777777777778,\"#fb9f3a\"],[0.8888888888888888,\"#fdca26\"],[1.0,\"#f0f921\"]],\"diverging\":[[0,\"#8e0152\"],[0.1,\"#c51b7d\"],[0.2,\"#de77ae\"],[0.3,\"#f1b6da\"],[0.4,\"#fde0ef\"],[0.5,\"#f7f7f7\"],[0.6,\"#e6f5d0\"],[0.7,\"#b8e186\"],[0.8,\"#7fbc41\"],[0.9,\"#4d9221\"],[1,\"#276419\"]]},\"xaxis\":{\"gridcolor\":\"white\",\"linecolor\":\"white\",\"ticks\":\"\",\"title\":{\"standoff\":15},\"zerolinecolor\":\"white\",\"automargin\":true,\"zerolinewidth\":2},\"yaxis\":{\"gridcolor\":\"white\",\"linecolor\":\"white\",\"ticks\":\"\",\"title\":{\"standoff\":15},\"zerolinecolor\":\"white\",\"automargin\":true,\"zerolinewidth\":2},\"scene\":{\"xaxis\":{\"backgroundcolor\":\"#E5ECF6\",\"gridcolor\":\"white\",\"linecolor\":\"white\",\"showbackground\":true,\"ticks\":\"\",\"zerolinecolor\":\"white\",\"gridwidth\":2},\"yaxis\":{\"backgroundcolor\":\"#E5ECF6\",\"gridcolor\":\"white\",\"linecolor\":\"white\",\"showbackground\":true,\"ticks\":\"\",\"zerolinecolor\":\"white\",\"gridwidth\":2},\"zaxis\":{\"backgroundcolor\":\"#E5ECF6\",\"gridcolor\":\"white\",\"linecolor\":\"white\",\"showbackground\":true,\"ticks\":\"\",\"zerolinecolor\":\"white\",\"gridwidth\":2}},\"shapedefaults\":{\"line\":{\"color\":\"#2a3f5f\"}},\"annotationdefaults\":{\"arrowcolor\":\"#2a3f5f\",\"arrowhead\":0,\"arrowwidth\":1},\"geo\":{\"bgcolor\":\"white\",\"landcolor\":\"#E5ECF6\",\"subunitcolor\":\"white\",\"showland\":true,\"showlakes\":true,\"lakecolor\":\"white\"},\"title\":{\"x\":0.05},\"mapbox\":{\"style\":\"light\"}}},\"barmode\":\"group\",\"title\":{\"text\":\"Top 10 Cartels with most Alliances\"},\"xaxis\":{\"title\":{\"text\":\"Number of Alliances\"}},\"yaxis\":{\"title\":{\"text\":\"Cartel Name\"}},\"height\":1000},                        {\"responsive\": true}                    ).then(function(){\n",
       "                            \n",
       "var gd = document.getElementById('6a8f22b0-4d10-4d97-bb1b-d486e90ba96f');\n",
       "var x = new MutationObserver(function (mutations, observer) {{\n",
       "        var display = window.getComputedStyle(gd).display;\n",
       "        if (!display || display === 'none') {{\n",
       "            console.log([gd, 'removed!']);\n",
       "            Plotly.purge(gd);\n",
       "            observer.disconnect();\n",
       "        }}\n",
       "}});\n",
       "\n",
       "// Listen for the removal of the full notebook cells\n",
       "var notebookContainer = gd.closest('#notebook-container');\n",
       "if (notebookContainer) {{\n",
       "    x.observe(notebookContainer, {childList: true});\n",
       "}}\n",
       "\n",
       "// Listen for the clearing of the current output cell\n",
       "var outputEl = gd.closest('.output');\n",
       "if (outputEl) {{\n",
       "    x.observe(outputEl, {childList: true});\n",
       "}}\n",
       "\n",
       "                        })                };                });            </script>        </div>"
      ]
     },
     "metadata": {},
     "output_type": "display_data"
    }
   ],
   "source": [
    "sorted_aliances = relationship_count_df.sort_values(by=['total_alliance_weight', 'alliances'], ascending=[True, True])\n",
    "sorted_aliances = sorted_aliances.tail(10)\n",
    "fig = go.Figure()\n",
    "\n",
    "fig.add_trace(go.Bar(\n",
    "    x=sorted_aliances['alliances'],\n",
    "    y=sorted_aliances['Group'],\n",
    "    orientation='h',\n",
    "    name='Unique Alliances',\n",
    "    hoverinfo='none'\n",
    "))\n",
    "\n",
    "fig.add_trace(go.Bar(\n",
    "    y=sorted_aliances['Group'],\n",
    "    x=sorted_aliances['total_alliance_weight'],\n",
    "    orientation='h',\n",
    "    name='Total Alliances',\n",
    "    hoverinfo='none'\n",
    "))\n",
    "\n",
    "fig.update_layout(\n",
    "    barmode='group',\n",
    "    title='Top 10 Cartels with most Alliances',\n",
    "    xaxis_title='Number of Alliances',\n",
    "    yaxis_title='Cartel Name',\n",
    "    height=1000\n",
    ")\n",
    "\n",
    "fig.show()"
   ]
  },
  {
   "cell_type": "markdown",
   "id": "f43fc12c",
   "metadata": {
    "papermill": {
     "duration": 0.009686,
     "end_time": "2024-07-24T10:05:59.895673",
     "exception": false,
     "start_time": "2024-07-24T10:05:59.885987",
     "status": "completed"
    },
    "tags": []
   },
   "source": [
    "## ⚔️ Rivals"
   ]
  },
  {
   "cell_type": "code",
   "execution_count": 16,
   "id": "b2e31e9c",
   "metadata": {
    "execution": {
     "iopub.execute_input": "2024-07-24T10:05:59.917983Z",
     "iopub.status.busy": "2024-07-24T10:05:59.916997Z",
     "iopub.status.idle": "2024-07-24T10:06:00.077323Z",
     "shell.execute_reply": "2024-07-24T10:06:00.076370Z"
    },
    "papermill": {
     "duration": 0.174282,
     "end_time": "2024-07-24T10:06:00.079948",
     "exception": false,
     "start_time": "2024-07-24T10:05:59.905666",
     "status": "completed"
    },
    "tags": []
   },
   "outputs": [
    {
     "data": {
      "text/html": [
       "<div>                            <div id=\"4e825b4f-f23b-43f5-8de7-e47de8223bb1\" class=\"plotly-graph-div\" style=\"height:800px; width:100%;\"></div>            <script type=\"text/javascript\">                require([\"plotly\"], function(Plotly) {                    window.PLOTLYENV=window.PLOTLYENV || {};                                    if (document.getElementById(\"4e825b4f-f23b-43f5-8de7-e47de8223bb1\")) {                    Plotly.newPlot(                        \"4e825b4f-f23b-43f5-8de7-e47de8223bb1\",                        [{\"hoverinfo\":\"text\",\"line\":{\"color\":\"black\",\"width\":10.4},\"mode\":\"lines\",\"text\":\"Number of States: 13\",\"x\":[0.006185864130874613,-0.053213282877537495,null],\"y\":[-0.04066552815237029,-0.034390712023104515,null],\"type\":\"scatter\"},{\"hoverinfo\":\"text\",\"line\":{\"color\":\"black\",\"width\":5.6000000000000005},\"mode\":\"lines\",\"text\":\"Number of States: 7\",\"x\":[0.006185864130874613,-0.11491081266171566,null],\"y\":[-0.04066552815237029,0.16009297163515268,null],\"type\":\"scatter\"},{\"hoverinfo\":\"text\",\"line\":{\"color\":\"black\",\"width\":4.800000000000001},\"mode\":\"lines\",\"text\":\"Number of States: 6\",\"x\":[0.006185864130874613,0.1261692400675196,null],\"y\":[-0.04066552815237029,-0.11762562614520888,null],\"type\":\"scatter\"},{\"hoverinfo\":\"text\",\"line\":{\"color\":\"black\",\"width\":4.800000000000001},\"mode\":\"lines\",\"text\":\"Number of States: 6\",\"x\":[0.006185864130874613,0.05723054444340632,null],\"y\":[-0.04066552815237029,-0.03965367446263003,null],\"type\":\"scatter\"},{\"hoverinfo\":\"text\",\"line\":{\"color\":\"black\",\"width\":3.2},\"mode\":\"lines\",\"text\":\"Number of States: 4\",\"x\":[0.006185864130874613,-0.0882442042102008,null],\"y\":[-0.04066552815237029,-0.17832728639890794,null],\"type\":\"scatter\"},{\"hoverinfo\":\"text\",\"line\":{\"color\":\"black\",\"width\":2.4000000000000004},\"mode\":\"lines\",\"text\":\"Number of States: 3\",\"x\":[0.006185864130874613,0.0235889508607947,null],\"y\":[-0.04066552815237029,0.03500477904914733,null],\"type\":\"scatter\"},{\"hoverinfo\":\"text\",\"line\":{\"color\":\"black\",\"width\":2.4000000000000004},\"mode\":\"lines\",\"text\":\"Number of States: 3\",\"x\":[0.006185864130874613,-0.10102050593336277,null],\"y\":[-0.04066552815237029,-0.10514815392339727,null],\"type\":\"scatter\"},{\"hoverinfo\":\"text\",\"line\":{\"color\":\"black\",\"width\":2.4000000000000004},\"mode\":\"lines\",\"text\":\"Number of States: 3\",\"x\":[0.006185864130874613,0.07474408065162236,null],\"y\":[-0.04066552815237029,0.030462089519077903,null],\"type\":\"scatter\"},{\"hoverinfo\":\"text\",\"line\":{\"color\":\"black\",\"width\":2.4000000000000004},\"mode\":\"lines\",\"text\":\"Number of States: 3\",\"x\":[0.006185864130874613,-0.06849929341904451,null],\"y\":[-0.04066552815237029,0.020899053738545472,null],\"type\":\"scatter\"},{\"hoverinfo\":\"text\",\"line\":{\"color\":\"black\",\"width\":2.4000000000000004},\"mode\":\"lines\",\"text\":\"Number of States: 3\",\"x\":[0.006185864130874613,0.23305445357124652,null],\"y\":[-0.04066552815237029,-0.029643988163291165,null],\"type\":\"scatter\"},{\"hoverinfo\":\"text\",\"line\":{\"color\":\"black\",\"width\":2.4000000000000004},\"mode\":\"lines\",\"text\":\"Number of States: 3\",\"x\":[0.006185864130874613,0.1153210879551114,null],\"y\":[-0.04066552815237029,-0.17139811863172877,null],\"type\":\"scatter\"},{\"hoverinfo\":\"text\",\"line\":{\"color\":\"black\",\"width\":1.6},\"mode\":\"lines\",\"text\":\"Number of States: 2\",\"x\":[0.006185864130874613,-0.06985943277621208,null],\"y\":[-0.04066552815237029,0.11972305307009687,null],\"type\":\"scatter\"},{\"hoverinfo\":\"text\",\"line\":{\"color\":\"black\",\"width\":1.6},\"mode\":\"lines\",\"text\":\"Number of States: 2\",\"x\":[0.006185864130874613,-0.005218963254325411,null],\"y\":[-0.04066552815237029,-0.1518383578965582,null],\"type\":\"scatter\"},{\"hoverinfo\":\"text\",\"line\":{\"color\":\"black\",\"width\":1.6},\"mode\":\"lines\",\"text\":\"Number of States: 2\",\"x\":[0.006185864130874613,0.14022787506751191,null],\"y\":[-0.04066552815237029,0.047484695147890534,null],\"type\":\"scatter\"},{\"hoverinfo\":\"text\",\"line\":{\"color\":\"black\",\"width\":1.6},\"mode\":\"lines\",\"text\":\"Number of States: 2\",\"x\":[0.006185864130874613,0.040942965993372944,null],\"y\":[-0.04066552815237029,0.09797482533034813,null],\"type\":\"scatter\"},{\"hoverinfo\":\"text\",\"line\":{\"color\":\"black\",\"width\":1.6},\"mode\":\"lines\",\"text\":\"Number of States: 2\",\"x\":[0.006185864130874613,0.10405646817523563,null],\"y\":[-0.04066552815237029,0.09123976325799459,null],\"type\":\"scatter\"},{\"hoverinfo\":\"text\",\"line\":{\"color\":\"black\",\"width\":1.6},\"mode\":\"lines\",\"text\":\"Number of States: 2\",\"x\":[0.006185864130874613,-0.11709483799926275,null],\"y\":[-0.04066552815237029,-0.026648911944793918,null],\"type\":\"scatter\"},{\"hoverinfo\":\"text\",\"line\":{\"color\":\"black\",\"width\":1.6},\"mode\":\"lines\",\"text\":\"Number of States: 2\",\"x\":[0.006185864130874613,0.18402299176953824,null],\"y\":[-0.04066552815237029,-0.1686083692898348,null],\"type\":\"scatter\"},{\"hoverinfo\":\"text\",\"line\":{\"color\":\"black\",\"width\":0.8},\"mode\":\"lines\",\"text\":\"Number of States: 1\",\"x\":[0.006185864130874613,0.1842154566983703,null],\"y\":[-0.04066552815237029,-0.048935011242232644,null],\"type\":\"scatter\"},{\"hoverinfo\":\"text\",\"line\":{\"color\":\"black\",\"width\":0.8},\"mode\":\"lines\",\"text\":\"Number of States: 1\",\"x\":[0.006185864130874613,-0.00925817478218465,null],\"y\":[-0.04066552815237029,0.18116666865409306,null],\"type\":\"scatter\"},{\"hoverinfo\":\"text\",\"line\":{\"color\":\"black\",\"width\":0.8},\"mode\":\"lines\",\"text\":\"Number of States: 1\",\"x\":[0.006185864130874613,0.16229859406090608,null],\"y\":[-0.04066552815237029,-0.2577605323957155,null],\"type\":\"scatter\"},{\"hoverinfo\":\"text\",\"line\":{\"color\":\"black\",\"width\":0.8},\"mode\":\"lines\",\"text\":\"Number of States: 1\",\"x\":[0.006185864130874613,-0.14520219203479448,null],\"y\":[-0.04066552815237029,-0.16811249490631078,null],\"type\":\"scatter\"},{\"hoverinfo\":\"text\",\"line\":{\"color\":\"black\",\"width\":0.8},\"mode\":\"lines\",\"text\":\"Number of States: 1\",\"x\":[0.006185864130874613,-0.18363507281354982,null],\"y\":[-0.04066552815237029,-0.3080198321545898,null],\"type\":\"scatter\"},{\"hoverinfo\":\"text\",\"line\":{\"color\":\"black\",\"width\":0.8},\"mode\":\"lines\",\"text\":\"Number of States: 1\",\"x\":[0.006185864130874613,-0.057952020366628644,null],\"y\":[-0.04066552815237029,-0.24785240841022202,null],\"type\":\"scatter\"},{\"hoverinfo\":\"text\",\"line\":{\"color\":\"black\",\"width\":0.8},\"mode\":\"lines\",\"text\":\"Number of States: 1\",\"x\":[0.006185864130874613,0.011259585933215362,null],\"y\":[-0.04066552815237029,-0.25399370041110264,null],\"type\":\"scatter\"},{\"hoverinfo\":\"text\",\"line\":{\"color\":\"black\",\"width\":0.8},\"mode\":\"lines\",\"text\":\"Number of States: 1\",\"x\":[0.006185864130874613,-0.29332333709106895,null],\"y\":[-0.04066552815237029,-0.06858763102008246,null],\"type\":\"scatter\"},{\"hoverinfo\":\"text\",\"line\":{\"color\":\"black\",\"width\":0.8},\"mode\":\"lines\",\"text\":\"Number of States: 1\",\"x\":[0.006185864130874613,0.13482558863613003,null],\"y\":[-0.04066552815237029,-0.1969442208519351,null],\"type\":\"scatter\"},{\"hoverinfo\":\"text\",\"line\":{\"color\":\"black\",\"width\":2.4000000000000004},\"mode\":\"lines\",\"text\":\"Number of States: 3\",\"x\":[-0.053213282877537495,-0.14520219203479448,null],\"y\":[-0.034390712023104515,-0.16811249490631078,null],\"type\":\"scatter\"},{\"hoverinfo\":\"text\",\"line\":{\"color\":\"black\",\"width\":1.6},\"mode\":\"lines\",\"text\":\"Number of States: 2\",\"x\":[-0.053213282877537495,-0.11491081266171566,null],\"y\":[-0.034390712023104515,0.16009297163515268,null],\"type\":\"scatter\"},{\"hoverinfo\":\"text\",\"line\":{\"color\":\"black\",\"width\":1.6},\"mode\":\"lines\",\"text\":\"Number of States: 2\",\"x\":[-0.053213282877537495,0.13920932819280024,null],\"y\":[-0.034390712023104515,-0.023253021163522323,null],\"type\":\"scatter\"},{\"hoverinfo\":\"text\",\"line\":{\"color\":\"black\",\"width\":0.8},\"mode\":\"lines\",\"text\":\"Number of States: 1\",\"x\":[-0.053213282877537495,-0.2410113981721757,null],\"y\":[-0.034390712023104515,-0.0916319335772609,null],\"type\":\"scatter\"},{\"hoverinfo\":\"text\",\"line\":{\"color\":\"black\",\"width\":1.6},\"mode\":\"lines\",\"text\":\"Number of States: 2\",\"x\":[-0.11491081266171566,-0.2815165703659202,null],\"y\":[0.16009297163515268,0.31962650695890155,null],\"type\":\"scatter\"},{\"hoverinfo\":\"text\",\"line\":{\"color\":\"black\",\"width\":0.8},\"mode\":\"lines\",\"text\":\"Number of States: 1\",\"x\":[-0.11491081266171566,-0.09631184759764538,null],\"y\":[0.16009297163515268,0.3922841015528087,null],\"type\":\"scatter\"},{\"hoverinfo\":\"text\",\"line\":{\"color\":\"black\",\"width\":0.8},\"mode\":\"lines\",\"text\":\"Number of States: 1\",\"x\":[-0.11491081266171566,-0.00925817478218465,null],\"y\":[0.16009297163515268,0.18116666865409306,null],\"type\":\"scatter\"},{\"hoverinfo\":\"text\",\"line\":{\"color\":\"black\",\"width\":0.8},\"mode\":\"lines\",\"text\":\"Number of States: 1\",\"x\":[-0.11491081266171566,-0.4488992250957216,null],\"y\":[0.16009297163515268,0.16829429203209334,null],\"type\":\"scatter\"},{\"hoverinfo\":\"text\",\"line\":{\"color\":\"black\",\"width\":0.8},\"mode\":\"lines\",\"text\":\"Number of States: 1\",\"x\":[-0.11491081266171566,-0.03500477211839038,null],\"y\":[0.16009297163515268,0.3538043610830789,null],\"type\":\"scatter\"},{\"hoverinfo\":\"text\",\"line\":{\"color\":\"black\",\"width\":0.8},\"mode\":\"lines\",\"text\":\"Number of States: 1\",\"x\":[-0.11491081266171566,-0.04709226170616191,null],\"y\":[0.16009297163515268,0.45197546722672827,null],\"type\":\"scatter\"},{\"hoverinfo\":\"text\",\"line\":{\"color\":\"black\",\"width\":0.8},\"mode\":\"lines\",\"text\":\"Number of States: 1\",\"x\":[-0.11491081266171566,-0.1986532442794985,null],\"y\":[0.16009297163515268,0.333730296894509,null],\"type\":\"scatter\"},{\"hoverinfo\":\"text\",\"line\":{\"color\":\"black\",\"width\":0.8},\"mode\":\"lines\",\"text\":\"Number of States: 1\",\"x\":[-0.11491081266171566,-0.3295430138869064,null],\"y\":[0.16009297163515268,0.3633688816630983,null],\"type\":\"scatter\"},{\"hoverinfo\":\"text\",\"line\":{\"color\":\"black\",\"width\":0.8},\"mode\":\"lines\",\"text\":\"Number of States: 1\",\"x\":[-0.11491081266171566,-0.03421592546047472,null],\"y\":[0.16009297163515268,0.28985061795416506,null],\"type\":\"scatter\"},{\"hoverinfo\":\"text\",\"line\":{\"color\":\"black\",\"width\":2.4000000000000004},\"mode\":\"lines\",\"text\":\"Number of States: 3\",\"x\":[0.1261692400675196,0.16229859406090608,null],\"y\":[-0.11762562614520888,-0.2577605323957155,null],\"type\":\"scatter\"},{\"hoverinfo\":\"text\",\"line\":{\"color\":\"black\",\"width\":1.6},\"mode\":\"lines\",\"text\":\"Number of States: 2\",\"x\":[0.1261692400675196,0.1842154566983703,null],\"y\":[-0.11762562614520888,-0.048935011242232644,null],\"type\":\"scatter\"},{\"hoverinfo\":\"text\",\"line\":{\"color\":\"black\",\"width\":1.6},\"mode\":\"lines\",\"text\":\"Number of States: 2\",\"x\":[0.1261692400675196,0.18402299176953824,null],\"y\":[-0.11762562614520888,-0.1686083692898348,null],\"type\":\"scatter\"},{\"hoverinfo\":\"text\",\"line\":{\"color\":\"black\",\"width\":1.6},\"mode\":\"lines\",\"text\":\"Number of States: 2\",\"x\":[0.1261692400675196,0.1153210879551114,null],\"y\":[-0.11762562614520888,-0.17139811863172877,null],\"type\":\"scatter\"},{\"hoverinfo\":\"text\",\"line\":{\"color\":\"black\",\"width\":0.8},\"mode\":\"lines\",\"text\":\"Number of States: 1\",\"x\":[0.1261692400675196,0.34319366280856906,null],\"y\":[-0.11762562614520888,-0.12944462103067972,null],\"type\":\"scatter\"},{\"hoverinfo\":\"text\",\"line\":{\"color\":\"black\",\"width\":4.0},\"mode\":\"lines\",\"text\":\"Number of States: 5\",\"x\":[0.13920932819280024,0.23305445357124652,null],\"y\":[-0.023253021163522323,-0.029643988163291165,null],\"type\":\"scatter\"},{\"hoverinfo\":\"text\",\"line\":{\"color\":\"black\",\"width\":0.8},\"mode\":\"lines\",\"text\":\"Number of States: 1\",\"x\":[0.23305445357124652,0.0235889508607947,null],\"y\":[-0.029643988163291165,0.03500477904914733,null],\"type\":\"scatter\"},{\"hoverinfo\":\"text\",\"line\":{\"color\":\"black\",\"width\":0.8},\"mode\":\"lines\",\"text\":\"Number of States: 1\",\"x\":[0.23305445357124652,0.4445699738916043,null],\"y\":[-0.029643988163291165,0.03351180246126446,null],\"type\":\"scatter\"},{\"hoverinfo\":\"text\",\"line\":{\"color\":\"black\",\"width\":0.8},\"mode\":\"lines\",\"text\":\"Number of States: 1\",\"x\":[0.23305445357124652,0.4129435118938466,null],\"y\":[-0.029643988163291165,0.09243238399038693,null],\"type\":\"scatter\"},{\"hoverinfo\":\"text\",\"line\":{\"color\":\"black\",\"width\":0.8},\"mode\":\"lines\",\"text\":\"Number of States: 1\",\"x\":[0.23305445357124652,0.45360082720032036,null],\"y\":[-0.029643988163291165,-0.03212168798480308,null],\"type\":\"scatter\"},{\"hoverinfo\":\"text\",\"line\":{\"color\":\"black\",\"width\":0.8},\"mode\":\"lines\",\"text\":\"Number of States: 1\",\"x\":[0.23305445357124652,0.4447512503983557,null],\"y\":[-0.029643988163291165,-0.23778523073711444,null],\"type\":\"scatter\"},{\"hoverinfo\":\"text\",\"line\":{\"color\":\"black\",\"width\":3.2},\"mode\":\"lines\",\"text\":\"Number of States: 4\",\"x\":[-0.10102050593336277,-0.14520219203479448,null],\"y\":[-0.10514815392339727,-0.16811249490631078,null],\"type\":\"scatter\"},{\"hoverinfo\":\"text\",\"line\":{\"color\":\"black\",\"width\":0.8},\"mode\":\"lines\",\"text\":\"Number of States: 1\",\"x\":[-0.10102050593336277,-0.11709483799926275,null],\"y\":[-0.10514815392339727,-0.026648911944793918,null],\"type\":\"scatter\"},{\"hoverinfo\":\"text\",\"line\":{\"color\":\"black\",\"width\":2.4000000000000004},\"mode\":\"lines\",\"text\":\"Number of States: 3\",\"x\":[-0.14520219203479448,-0.18363507281354982,null],\"y\":[-0.16811249490631078,-0.3080198321545898,null],\"type\":\"scatter\"},{\"hoverinfo\":\"text\",\"line\":{\"color\":\"black\",\"width\":1.6},\"mode\":\"lines\",\"text\":\"Number of States: 2\",\"x\":[-0.14520219203479448,-0.2709912918564985,null],\"y\":[-0.16811249490631078,-0.2481574853269188,null],\"type\":\"scatter\"},{\"hoverinfo\":\"text\",\"line\":{\"color\":\"black\",\"width\":2.4000000000000004},\"mode\":\"lines\",\"text\":\"Number of States: 3\",\"x\":[-0.0882442042102008,-0.18363507281354982,null],\"y\":[-0.17832728639890794,-0.3080198321545898,null],\"type\":\"scatter\"},{\"hoverinfo\":\"text\",\"line\":{\"color\":\"black\",\"width\":3.2},\"mode\":\"lines\",\"text\":\"Number of States: 4\",\"x\":[0.2590827301506611,0.18402299176953824,null],\"y\":[-0.24789403976232907,-0.1686083692898348,null],\"type\":\"scatter\"},{\"hoverinfo\":\"text\",\"line\":{\"color\":\"black\",\"width\":0.8},\"mode\":\"lines\",\"text\":\"Number of States: 1\",\"x\":[0.18402299176953824,0.16229859406090608,null],\"y\":[-0.1686083692898348,-0.2577605323957155,null],\"type\":\"scatter\"},{\"hoverinfo\":\"text\",\"line\":{\"color\":\"black\",\"width\":0.8},\"mode\":\"lines\",\"text\":\"Number of States: 1\",\"x\":[0.18402299176953824,0.2963330237992133,null],\"y\":[-0.1686083692898348,-0.22356190324371322,null],\"type\":\"scatter\"},{\"hoverinfo\":\"text\",\"line\":{\"color\":\"black\",\"width\":2.4000000000000004},\"mode\":\"lines\",\"text\":\"Number of States: 3\",\"x\":[-0.09631184759764538,-0.04709226170616191,null],\"y\":[0.3922841015528087,0.45197546722672827,null],\"type\":\"scatter\"},{\"hoverinfo\":\"text\",\"line\":{\"color\":\"black\",\"width\":2.4000000000000004},\"mode\":\"lines\",\"text\":\"Number of States: 3\",\"x\":[-0.04709226170616191,0.07183159323938633,null],\"y\":[0.45197546722672827,0.4974000649187352,null],\"type\":\"scatter\"},{\"hoverinfo\":\"text\",\"line\":{\"color\":\"black\",\"width\":1.6},\"mode\":\"lines\",\"text\":\"Number of States: 2\",\"x\":[-0.04709226170616191,-0.12179462369500428,null],\"y\":[0.45197546722672827,0.579872464836473,null],\"type\":\"scatter\"},{\"hoverinfo\":\"text\",\"line\":{\"color\":\"black\",\"width\":0.8},\"mode\":\"lines\",\"text\":\"Number of States: 1\",\"x\":[0.0235889508607947,-0.17231529087325473,null],\"y\":[0.03500477904914733,0.09632276683957969,null],\"type\":\"scatter\"},{\"hoverinfo\":\"text\",\"line\":{\"color\":\"black\",\"width\":0.8},\"mode\":\"lines\",\"text\":\"Number of States: 1\",\"x\":[0.16229859406090608,0.29105090821888596,null],\"y\":[-0.2577605323957155,-0.43636213434097804,null],\"type\":\"scatter\"},{\"hoverinfo\":\"text\",\"line\":{\"color\":\"black\",\"width\":0.8},\"mode\":\"lines\",\"text\":\"Number of States: 1\",\"x\":[0.16229859406090608,0.2173825740330011,null],\"y\":[-0.2577605323957155,-0.47257742177461776,null],\"type\":\"scatter\"},{\"hoverinfo\":\"text\",\"line\":{\"color\":\"black\",\"width\":0.8},\"mode\":\"lines\",\"text\":\"Number of States: 1\",\"x\":[0.16229859406090608,0.1802118222298429,null],\"y\":[-0.2577605323957155,-0.3550844374571383,null],\"type\":\"scatter\"},{\"hoverinfo\":\"text\",\"line\":{\"color\":\"black\",\"width\":0.8},\"mode\":\"lines\",\"text\":\"Number of States: 1\",\"x\":[0.16229859406090608,0.13482558863613003,null],\"y\":[-0.2577605323957155,-0.1969442208519351,null],\"type\":\"scatter\"},{\"hoverinfo\":\"text\",\"line\":{\"color\":\"black\",\"width\":0.8},\"mode\":\"lines\",\"text\":\"Number of States: 1\",\"x\":[0.16229859406090608,0.1153210879551114,null],\"y\":[-0.2577605323957155,-0.17139811863172877,null],\"type\":\"scatter\"},{\"hoverinfo\":\"text\",\"line\":{\"color\":\"black\",\"width\":2.4000000000000004},\"mode\":\"lines\",\"text\":\"Number of States: 3\",\"x\":[0.902109235494434,0.8983988582079581,null],\"y\":[-0.38089995848175284,-0.4461882724741068,null],\"type\":\"scatter\"},{\"hoverinfo\":\"text\",\"line\":{\"color\":\"black\",\"width\":1.6},\"mode\":\"lines\",\"text\":\"Number of States: 2\",\"x\":[0.8983988582079581,0.8810762140094229,null],\"y\":[-0.4461882724741068,-0.5206041605818529,null],\"type\":\"scatter\"},{\"hoverinfo\":\"text\",\"line\":{\"color\":\"black\",\"width\":0.8},\"mode\":\"lines\",\"text\":\"Number of States: 1\",\"x\":[0.1153210879551114,0.1802118222298429,null],\"y\":[-0.17139811863172877,-0.3550844374571383,null],\"type\":\"scatter\"},{\"hoverinfo\":\"text\",\"line\":{\"color\":\"black\",\"width\":0.8},\"mode\":\"lines\",\"text\":\"Number of States: 1\",\"x\":[0.1153210879551114,0.13482558863613003,null],\"y\":[-0.17139811863172877,-0.1969442208519351,null],\"type\":\"scatter\"},{\"hoverinfo\":\"text\",\"line\":{\"color\":\"black\",\"width\":0.8},\"mode\":\"lines\",\"text\":\"Number of States: 1\",\"x\":[0.1153210879551114,0.2963330237992133,null],\"y\":[-0.17139811863172877,-0.22356190324371322,null],\"type\":\"scatter\"},{\"hoverinfo\":\"text\",\"line\":{\"color\":\"black\",\"width\":0.8},\"mode\":\"lines\",\"text\":\"Number of States: 1\",\"x\":[-0.18363507281354982,-0.3692009297354452,null],\"y\":[-0.3080198321545898,-0.4068304663166099,null],\"type\":\"scatter\"},{\"hoverinfo\":\"text\",\"line\":{\"color\":\"black\",\"width\":0.8},\"mode\":\"lines\",\"text\":\"Number of States: 1\",\"x\":[-0.18363507281354982,-0.2936190353828009,null],\"y\":[-0.3080198321545898,-0.4933394822802206,null],\"type\":\"scatter\"},{\"hoverinfo\":\"text\",\"line\":{\"color\":\"black\",\"width\":0.8},\"mode\":\"lines\",\"text\":\"Number of States: 1\",\"x\":[-0.18363507281354982,-0.3346725570202017,null],\"y\":[-0.3080198321545898,-0.456147965868448,null],\"type\":\"scatter\"},{\"hoverinfo\":\"text\",\"line\":{\"color\":\"black\",\"width\":0.8},\"mode\":\"lines\",\"text\":\"Number of States: 1\",\"x\":[-0.18363507281354982,-0.18150925578594673,null],\"y\":[-0.3080198321545898,-0.5130925832047977,null],\"type\":\"scatter\"},{\"hoverinfo\":\"text\",\"line\":{\"color\":\"black\",\"width\":0.8},\"mode\":\"lines\",\"text\":\"Number of States: 1\",\"x\":[-0.18363507281354982,-0.24132268227728318,null],\"y\":[-0.3080198321545898,-0.5120691221037265,null],\"type\":\"scatter\"},{\"hoverinfo\":\"text\",\"line\":{\"color\":\"black\",\"width\":0.8},\"mode\":\"lines\",\"text\":\"Number of States: 1\",\"x\":[-0.2815165703659202,-0.41230368581099974,null],\"y\":[0.31962650695890155,0.4784704330221895,null],\"type\":\"scatter\"},{\"hoverinfo\":\"text\",\"line\":{\"color\":\"black\",\"width\":0.8},\"mode\":\"lines\",\"text\":\"Number of States: 1\",\"x\":[-0.2815165703659202,-0.4243779267988362,null],\"y\":[0.31962650695890155,0.4345734095237477,null],\"type\":\"scatter\"},{\"hoverinfo\":\"text\",\"line\":{\"color\":\"black\",\"width\":1.6},\"mode\":\"lines\",\"text\":\"Number of States: 2\",\"x\":[-0.06985943277621208,-0.13598209121257715,null],\"y\":[0.11972305307009687,0.2373700852040746,null],\"type\":\"scatter\"},{\"hoverinfo\":\"text\",\"line\":{\"color\":\"black\",\"width\":1.6},\"mode\":\"lines\",\"text\":\"Number of States: 2\",\"x\":[-0.43914631992477327,-0.29332333709106895,null],\"y\":[-0.09533520119011105,-0.06858763102008246,null],\"type\":\"scatter\"},{\"hoverinfo\":\"text\",\"line\":{\"color\":\"black\",\"width\":1.6},\"mode\":\"lines\",\"text\":\"Number of States: 2\",\"x\":[-0.4243779267988362,-0.3295430138869064,null],\"y\":[0.4345734095237477,0.3633688816630983,null],\"type\":\"scatter\"},{\"hoverinfo\":\"text\",\"line\":{\"color\":\"black\",\"width\":0.8},\"mode\":\"lines\",\"text\":\"Number of States: 1\",\"x\":[-0.4243779267988362,-0.519710411519674,null],\"y\":[0.4345734095237477,0.5581479414737457,null],\"type\":\"scatter\"},{\"hoverinfo\":\"text\",\"line\":{\"color\":\"black\",\"width\":0.8},\"mode\":\"lines\",\"text\":\"Number of States: 1\",\"x\":[-0.3295430138869064,-0.41230368581099974,null],\"y\":[0.3633688816630983,0.4784704330221895,null],\"type\":\"scatter\"},{\"hoverinfo\":\"text\",\"line\":{\"color\":\"black\",\"width\":1.6},\"mode\":\"lines\",\"text\":\"Number of States: 2\",\"x\":[0.5122011648197499,0.4447512503983557,null],\"y\":[-0.3746245969878834,-0.23778523073711444,null],\"type\":\"scatter\"},{\"hoverinfo\":\"text\",\"line\":{\"color\":\"black\",\"width\":0.8},\"mode\":\"lines\",\"text\":\"Number of States: 1\",\"x\":[-0.12179462369500428,-0.2622981398151925,null],\"y\":[0.579872464836473,0.6144848839828632,null],\"type\":\"scatter\"},{\"hoverinfo\":\"text\",\"line\":{\"color\":\"black\",\"width\":0.8},\"mode\":\"lines\",\"text\":\"Number of States: 1\",\"x\":[-0.00925817478218465,-0.03421592546047472,null],\"y\":[0.18116666865409306,0.28985061795416506,null],\"type\":\"scatter\"},{\"hoverinfo\":\"text\",\"line\":{\"color\":\"black\",\"width\":0.8},\"mode\":\"lines\",\"text\":\"Number of States: 1\",\"x\":[-0.4488992250957216,-0.6362860497901641,null],\"y\":[0.16829429203209334,0.1160060844696615,null],\"type\":\"scatter\"},{\"hoverinfo\":\"text\",\"line\":{\"color\":\"black\",\"width\":0.8},\"mode\":\"lines\",\"text\":\"Number of States: 1\",\"x\":[-0.4488992250957216,-0.6427717817601126,null],\"y\":[0.16829429203209334,0.19425125376614394,null],\"type\":\"scatter\"},{\"hoverinfo\":\"text\",\"line\":{\"color\":\"black\",\"width\":0.8},\"mode\":\"lines\",\"text\":\"Number of States: 1\",\"x\":[-0.41230368581099974,-0.519710411519674,null],\"y\":[0.4784704330221895,0.5581479414737457,null],\"type\":\"scatter\"},{\"hoverinfo\":\"text\",\"line\":{\"color\":\"black\",\"width\":0.8},\"mode\":\"lines\",\"text\":\"Number of States: 1\",\"x\":[0.04236907780275733,0.08952295775588623,null],\"y\":[0.9213342850560046,1.0,null],\"type\":\"scatter\"},{\"hoverinfo\":\"text\",\"marker\":{\"color\":[27,5,11,6,1,2,7,3,5,2,1,5,2,4,3,8,1,2,1,1,6,8,1,3,2,2,1,1,1,1,1,2,1,1,2,3,3,1,1,2,2,1,1,3,3,1,1,1,2,1,1,1,1,1,3,1,1,1,1,1,1,2,1,1,1,1,1,1,2,2,3],\"colorbar\":{\"thickness\":10,\"title\":{\"side\":\"right\",\"text\":\"Number of Rivals\"},\"xanchor\":\"left\"},\"colorscale\":[[0.0,\"rgb(0,104,55)\"],[0.1,\"rgb(26,152,80)\"],[0.2,\"rgb(102,189,99)\"],[0.3,\"rgb(166,217,106)\"],[0.4,\"rgb(217,239,139)\"],[0.5,\"rgb(255,255,191)\"],[0.6,\"rgb(254,224,139)\"],[0.7,\"rgb(253,174,97)\"],[0.8,\"rgb(244,109,67)\"],[0.9,\"rgb(215,48,39)\"],[1.0,\"rgb(165,0,38)\"]],\"line\":{\"width\":0},\"showscale\":true,\"size\":[50.5,17.5,26.5,19.0,11.5,13.0,20.5,14.5,17.5,13.0,11.5,17.5,13.0,16.0,14.5,22.0,11.5,13.0,11.5,11.5,19.0,22.0,11.5,14.5,13.0,13.0,11.5,11.5,11.5,11.5,11.5,13.0,11.5,11.5,13.0,14.5,14.5,11.5,11.5,13.0,13.0,11.5,11.5,14.5,14.5,11.5,11.5,11.5,13.0,11.5,11.5,11.5,11.5,11.5,14.5,11.5,11.5,11.5,11.5,11.5,11.5,13.0,11.5,11.5,11.5,11.5,11.5,11.5,13.0,13.0,14.5]},\"mode\":\"markers\",\"text\":[\"Node: N10025\\u003cbr\\u003eGroup: Cártel Jalisco Nueva Generación (CJNG)\\u003cbr\\u003eTotal Rivals: 27\\u003cbr\\u003eTotal States: 77\",\"Node: N10076\\u003cbr\\u003eGroup: La Nueva Familia Michoacana\\u003cbr\\u003eTotal Rivals: 5\\u003cbr\\u003eTotal States: 21\",\"Node: N10013\\u003cbr\\u003eGroup: Cártel de Sinaloa\\u003cbr\\u003eTotal Rivals: 11\\u003cbr\\u003eTotal States: 19\",\"Node: N10019\\u003cbr\\u003eGroup: Cártel del Noreste\\u003cbr\\u003eTotal Rivals: 6\\u003cbr\\u003eTotal States: 16\",\"Node: N10032\\u003cbr\\u003eGroup: Cárteles Unidos\\u003cbr\\u003eTotal Rivals: 1\\u003cbr\\u003eTotal States: 6\",\"Node: N10057\\u003cbr\\u003eGroup: Fuerza Anti-Unión Tepito\\u003cbr\\u003eTotal Rivals: 2\\u003cbr\\u003eTotal States: 7\",\"Node: N10081\\u003cbr\\u003eGroup: La Unión Tepito\\u003cbr\\u003eTotal Rivals: 7\\u003cbr\\u003eTotal States: 13\",\"Node: N10003\\u003cbr\\u003eGroup: Caballeros Templarios\\u003cbr\\u003eTotal Rivals: 3\\u003cbr\\u003eTotal States: 8\",\"Node: N10063\\u003cbr\\u003eGroup: Guerreros Unidos\\u003cbr\\u003eTotal Rivals: 5\\u003cbr\\u003eTotal States: 13\",\"Node: N10107\\u003cbr\\u003eGroup: Los Mayas\\u003cbr\\u003eTotal Rivals: 2\\u003cbr\\u003eTotal States: 7\",\"Node: N10143\\u003cbr\\u003eGroup: Sangre Nueva Zeta\\u003cbr\\u003eTotal Rivals: 1\\u003cbr\\u003eTotal States: 4\",\"Node: N10134\\u003cbr\\u003eGroup: Los Zetas\\u003cbr\\u003eTotal Rivals: 5\\u003cbr\\u003eTotal States: 10\",\"Node: N10004\\u003cbr\\u003eGroup: Cártel de Caborca\\u003cbr\\u003eTotal Rivals: 2\\u003cbr\\u003eTotal States: 4\",\"Node: N10091\\u003cbr\\u003eGroup: Los Chapitos\\u003cbr\\u003eTotal Rivals: 4\\u003cbr\\u003eTotal States: 9\",\"Node: N10015\\u003cbr\\u003eGroup: Cártel de Tláhuac\\u003cbr\\u003eTotal Rivals: 3\\u003cbr\\u003eTotal States: 5\",\"Node: N10017\\u003cbr\\u003eGroup: Cártel del Golfo\\u003cbr\\u003eTotal Rivals: 8\\u003cbr\\u003eTotal States: 10\",\"Node: N10022\\u003cbr\\u003eGroup: Cártel del Sur\\u003cbr\\u003eTotal Rivals: 1\\u003cbr\\u003eTotal States: 3\",\"Node: N10130\\u003cbr\\u003eGroup: Los Tlacos (Cartel de la Sierra)\\u003cbr\\u003eTotal Rivals: 2\\u003cbr\\u003eTotal States: 5\",\"Node: N10027\\u003cbr\\u003eGroup: Cártel Nueva Plaza\\u003cbr\\u003eTotal Rivals: 1\\u003cbr\\u003eTotal States: 3\",\"Node: N10040\\u003cbr\\u003eGroup: El Cano\\u003cbr\\u003eTotal Rivals: 1\\u003cbr\\u003eTotal States: 3\",\"Node: N10150\\u003cbr\\u003eGroup: Zetas Vieja Escuela\\u003cbr\\u003eTotal Rivals: 6\\u003cbr\\u003eTotal States: 9\",\"Node: N10120\\u003cbr\\u003eGroup: Los Rojos\\u003cbr\\u003eTotal Rivals: 8\\u003cbr\\u003eTotal States: 12\",\"Node: N10097\\u003cbr\\u003eGroup: Los Dámasos\\u002fFuerzas especiales Dámaso\\u003cbr\\u003eTotal Rivals: 1\\u003cbr\\u003eTotal States: 3\",\"Node: N10005\\u003cbr\\u003eGroup: Cártel de Juárez\\u003cbr\\u003eTotal Rivals: 3\\u003cbr\\u003eTotal States: 4\",\"Node: N10008\\u003cbr\\u003eGroup: Cártel de los Beltrán Leyva\\u003cbr\\u003eTotal Rivals: 2\\u003cbr\\u003eTotal States: 3\",\"Node: N10012\\u003cbr\\u003eGroup: Cártel de Santa Rosa de Lima\\u003cbr\\u003eTotal Rivals: 2\\u003cbr\\u003eTotal States: 4\",\"Node: N10080\\u003cbr\\u003eGroup: La Unión León\\u003cbr\\u003eTotal Rivals: 1\\u003cbr\\u003eTotal States: 2\",\"Node: N10014\\u003cbr\\u003eGroup: Cártel de Telpacatepec\\u003cbr\\u003eTotal Rivals: 1\\u003cbr\\u003eTotal States: 2\",\"Node: N10070\\u003cbr\\u003eGroup: La Barredora 24\\u002f7\\u003cbr\\u003eTotal Rivals: 1\\u003cbr\\u003eTotal States: 2\",\"Node: N10087\\u003cbr\\u003eGroup: Los Blancos de Troya\\u003cbr\\u003eTotal Rivals: 1\\u003cbr\\u003eTotal States: 2\",\"Node: N10131\\u003cbr\\u003eGroup: Los Tlahuicas\\u003cbr\\u003eTotal Rivals: 1\\u003cbr\\u003eTotal States: 2\",\"Node: N10133\\u003cbr\\u003eGroup: Los Viagras\\u003cbr\\u003eTotal Rivals: 2\\u003cbr\\u003eTotal States: 3\",\"Node: N10038\\u003cbr\\u003eGroup: Ejército Revolucionario del Pueblo Insurgente (ERPI)\\u003cbr\\u003eTotal Rivals: 1\\u003cbr\\u003eTotal States: 2\",\"Node: N10044\\u003cbr\\u003eGroup: El Jardinero\\u003cbr\\u003eTotal Rivals: 1\\u003cbr\\u003eTotal States: 2\",\"Node: N10089\\u003cbr\\u003eGroup: Los Cabrera\\u003cbr\\u003eTotal Rivals: 2\\u003cbr\\u003eTotal States: 3\",\"Node: N10058\\u003cbr\\u003eGroup: Gente Nueva\\u003cbr\\u003eTotal Rivals: 3\\u003cbr\\u003eTotal States: 4\",\"Node: N10075\\u003cbr\\u003eGroup: La Línea\\u003cbr\\u003eTotal Rivals: 3\\u003cbr\\u003eTotal States: 4\",\"Node: N10069\\u003cbr\\u003eGroup: La Bandera\\u003cbr\\u003eTotal Rivals: 1\\u003cbr\\u003eTotal States: 2\",\"Node: N10082\\u003cbr\\u003eGroup: Lenin Canchola\\u003cbr\\u003eTotal Rivals: 1\\u003cbr\\u003eTotal States: 2\",\"Node: N10135\\u003cbr\\u003eGroup: Maestrin\\u003cbr\\u003eTotal Rivals: 2\\u003cbr\\u003eTotal States: 3\",\"Node: N10122\\u003cbr\\u003eGroup: Los Rusos\\u003cbr\\u003eTotal Rivals: 2\\u003cbr\\u003eTotal States: 3\",\"Node: N10006\\u003cbr\\u003eGroup: Cártel de Los Alemanes\\u003cbr\\u003eTotal Rivals: 1\\u003cbr\\u003eTotal States: 1\",\"Node: N10010\\u003cbr\\u003eGroup: Cártel de Los Tequileros\\u003cbr\\u003eTotal Rivals: 1\\u003cbr\\u003eTotal States: 1\",\"Node: N10007\\u003cbr\\u003eGroup: Cártel de Los Arellano Félix\\u003cbr\\u003eTotal Rivals: 3\\u003cbr\\u003eTotal States: 3\",\"Node: N10030\\u003cbr\\u003eGroup: Cártel Tijuana Nueva Generación\\u003cbr\\u003eTotal Rivals: 3\\u003cbr\\u003eTotal States: 3\",\"Node: N10033\\u003cbr\\u003eGroup: Célula liderada por Alfonso Arzate García, El Aquiles\\u003cbr\\u003eTotal Rivals: 1\\u003cbr\\u003eTotal States: 1\",\"Node: N10018\\u003cbr\\u003eGroup: Cártel del Golfo Nueva Era\\u003cbr\\u003eTotal Rivals: 1\\u003cbr\\u003eTotal States: 1\",\"Node: N10108\\u003cbr\\u003eGroup: Los Metros\\u003cbr\\u003eTotal Rivals: 1\\u003cbr\\u003eTotal States: 1\",\"Node: N10029\\u003cbr\\u003eGroup: Cártel San Luis Potosí Nueva Generación (CSLPNG)\\u003cbr\\u003eTotal Rivals: 2\\u003cbr\\u003eTotal States: 2\",\"Node: N10035\\u003cbr\\u003eGroup: CJNG Comando la Mancha\\u003cbr\\u003eTotal Rivals: 1\\u003cbr\\u003eTotal States: 1\",\"Node: N10050\\u003cbr\\u003eGroup: El Robert\\u003cbr\\u003eTotal Rivals: 1\\u003cbr\\u003eTotal States: 1\",\"Node: N10051\\u003cbr\\u003eGroup: El Señor de la V\\u003cbr\\u003eTotal Rivals: 1\\u003cbr\\u003eTotal States: 1\",\"Node: N10053\\u003cbr\\u003eGroup: El Señorón\\u003cbr\\u003eTotal Rivals: 1\\u003cbr\\u003eTotal States: 1\",\"Node: N10054\\u003cbr\\u003eGroup: El Temerario\\u003cbr\\u003eTotal Rivals: 1\\u003cbr\\u003eTotal States: 1\",\"Node: N10056\\u003cbr\\u003eGroup: Francisco Javier Arvizo Márquez, El Jaguar\\u003cbr\\u003eTotal Rivals: 3\\u003cbr\\u003eTotal States: 3\",\"Node: N10062\\u003cbr\\u003eGroup: Güero Fresa\\u003cbr\\u003eTotal Rivals: 1\\u003cbr\\u003eTotal States: 1\",\"Node: N10064\\u003cbr\\u003eGroup: Juan Balta\\u003cbr\\u003eTotal Rivals: 1\\u003cbr\\u003eTotal States: 1\",\"Node: N10066\\u003cbr\\u003eGroup: La Anti-Unión o La Rosa Nueva\\u003cbr\\u003eTotal Rivals: 1\\u003cbr\\u003eTotal States: 1\",\"Node: N10067\\u003cbr\\u003eGroup: La banda de El Tigre\\u003cbr\\u003eTotal Rivals: 1\\u003cbr\\u003eTotal States: 1\",\"Node: N10079\\u003cbr\\u003eGroup: La Tripa\\u003cbr\\u003eTotal Rivals: 1\\u003cbr\\u003eTotal States: 1\",\"Node: N10084\\u003cbr\\u003eGroup: Los Ardillos\\u003cbr\\u003eTotal Rivals: 1\\u003cbr\\u003eTotal States: 1\",\"Node: N10088\\u003cbr\\u003eGroup: Los Cabos\\u003cbr\\u003eTotal Rivals: 2\\u003cbr\\u003eTotal States: 2\",\"Node: N10100\\u003cbr\\u003eGroup: Los Estúpidos\\u003cbr\\u003eTotal Rivals: 1\\u003cbr\\u003eTotal States: 1\",\"Node: N10119\\u003cbr\\u003eGroup: Los Rodolfos\\u003cbr\\u003eTotal Rivals: 1\\u003cbr\\u003eTotal States: 1\",\"Node: N10103\\u003cbr\\u003eGroup: Los Linos\\u003cbr\\u003eTotal Rivals: 1\\u003cbr\\u003eTotal States: 1\",\"Node: N10118\\u003cbr\\u003eGroup: Los R4\\u003cbr\\u003eTotal Rivals: 1\\u003cbr\\u003eTotal States: 1\",\"Node: N10113\\u003cbr\\u003eGroup: Los Ninis\\u003cbr\\u003eTotal Rivals: 1\\u003cbr\\u003eTotal States: 1\",\"Node: N10126\\u003cbr\\u003eGroup: Los Sinaloas\\u003cbr\\u003eTotal Rivals: 1\\u003cbr\\u003eTotal States: 1\",\"Node: N10061\\u003cbr\\u003eGroup: Grupo Sombra\\u003cbr\\u003eTotal Rivals: 2\\u003cbr\\u003eTotal States: 2\",\"Node: N10139\\u003cbr\\u003eGroup: Nuevo Cártel de Juárez\\u003cbr\\u003eTotal Rivals: 2\\u003cbr\\u003eTotal States: 2\",\"Node: N10147\\u003cbr\\u003eGroup: Tropa del Infierno\\u003cbr\\u003eTotal Rivals: 3\\u003cbr\\u003eTotal States: 3\"],\"x\":[0.006185864130874613,-0.053213282877537495,-0.11491081266171566,0.1261692400675196,0.05723054444340632,0.13920932819280024,0.23305445357124652,-0.10102050593336277,-0.14520219203479448,-0.0882442042102008,0.2590827301506611,0.18402299176953824,-0.09631184759764538,-0.04709226170616191,0.0235889508607947,0.16229859406090608,0.902109235494434,0.8983988582079581,0.07474408065162236,-0.06849929341904451,0.1153210879551114,-0.18363507281354982,0.07183159323938633,-0.2815165703659202,0.1842154566983703,-0.06985943277621208,-0.13598209121257715,-0.005218963254325411,0.14022787506751191,0.040942965993372944,0.10405646817523563,-0.11709483799926275,-0.2709912918564985,-0.43914631992477327,-0.29332333709106895,-0.4243779267988362,-0.3295430138869064,0.8810762140094229,0.5122011648197499,0.4447512503983557,-0.12179462369500428,0.29105090821888596,-0.2410113981721757,-0.00925817478218465,-0.4488992250957216,-0.03500477211839038,0.2173825740330011,0.34319366280856906,0.1802118222298429,-0.1986532442794985,-0.057952020366628644,-0.3692009297354452,0.011259585933215362,-0.2936190353828009,-0.41230368581099974,-0.17231529087325473,0.4445699738916043,0.4129435118938466,-0.6362860497901641,-0.3346725570202017,-0.18150925578594673,-0.03421592546047472,0.04236907780275733,0.08952295775588623,-0.24132268227728318,-0.6427717817601126,-0.2622981398151925,0.45360082720032036,0.2963330237992133,-0.519710411519674,0.13482558863613003],\"y\":[-0.04066552815237029,-0.034390712023104515,0.16009297163515268,-0.11762562614520888,-0.03965367446263003,-0.023253021163522323,-0.029643988163291165,-0.10514815392339727,-0.16811249490631078,-0.17832728639890794,-0.24789403976232907,-0.1686083692898348,0.3922841015528087,0.45197546722672827,0.03500477904914733,-0.2577605323957155,-0.38089995848175284,-0.4461882724741068,0.030462089519077903,0.020899053738545472,-0.17139811863172877,-0.3080198321545898,0.4974000649187352,0.31962650695890155,-0.048935011242232644,0.11972305307009687,0.2373700852040746,-0.1518383578965582,0.047484695147890534,0.09797482533034813,0.09123976325799459,-0.026648911944793918,-0.2481574853269188,-0.09533520119011105,-0.06858763102008246,0.4345734095237477,0.3633688816630983,-0.5206041605818529,-0.3746245969878834,-0.23778523073711444,0.579872464836473,-0.43636213434097804,-0.0916319335772609,0.18116666865409306,0.16829429203209334,0.3538043610830789,-0.47257742177461776,-0.12944462103067972,-0.3550844374571383,0.333730296894509,-0.24785240841022202,-0.4068304663166099,-0.25399370041110264,-0.4933394822802206,0.4784704330221895,0.09632276683957969,0.03351180246126446,0.09243238399038693,0.1160060844696615,-0.456147965868448,-0.5130925832047977,0.28985061795416506,0.9213342850560046,1.0,-0.5120691221037265,0.19425125376614394,0.6144848839828632,-0.03212168798480308,-0.22356190324371322,0.5581479414737457,-0.1969442208519351],\"type\":\"scatter\"}],                        {\"annotations\":[{\"showarrow\":false,\"text\":\"\",\"xref\":\"paper\",\"yref\":\"paper\"}],\"height\":800,\"hovermode\":\"closest\",\"margin\":{\"b\":20,\"l\":5,\"r\":5,\"t\":40},\"showlegend\":false,\"title\":{\"font\":{\"size\":20},\"text\":\"Cartel Rivals Network\"},\"xaxis\":{\"showgrid\":false,\"zeroline\":false},\"yaxis\":{\"showgrid\":false,\"zeroline\":false},\"template\":{\"data\":{\"histogram2dcontour\":[{\"type\":\"histogram2dcontour\",\"colorbar\":{\"outlinewidth\":0,\"ticks\":\"\"},\"colorscale\":[[0.0,\"#0d0887\"],[0.1111111111111111,\"#46039f\"],[0.2222222222222222,\"#7201a8\"],[0.3333333333333333,\"#9c179e\"],[0.4444444444444444,\"#bd3786\"],[0.5555555555555556,\"#d8576b\"],[0.6666666666666666,\"#ed7953\"],[0.7777777777777778,\"#fb9f3a\"],[0.8888888888888888,\"#fdca26\"],[1.0,\"#f0f921\"]]}],\"choropleth\":[{\"type\":\"choropleth\",\"colorbar\":{\"outlinewidth\":0,\"ticks\":\"\"}}],\"histogram2d\":[{\"type\":\"histogram2d\",\"colorbar\":{\"outlinewidth\":0,\"ticks\":\"\"},\"colorscale\":[[0.0,\"#0d0887\"],[0.1111111111111111,\"#46039f\"],[0.2222222222222222,\"#7201a8\"],[0.3333333333333333,\"#9c179e\"],[0.4444444444444444,\"#bd3786\"],[0.5555555555555556,\"#d8576b\"],[0.6666666666666666,\"#ed7953\"],[0.7777777777777778,\"#fb9f3a\"],[0.8888888888888888,\"#fdca26\"],[1.0,\"#f0f921\"]]}],\"heatmap\":[{\"type\":\"heatmap\",\"colorbar\":{\"outlinewidth\":0,\"ticks\":\"\"},\"colorscale\":[[0.0,\"#0d0887\"],[0.1111111111111111,\"#46039f\"],[0.2222222222222222,\"#7201a8\"],[0.3333333333333333,\"#9c179e\"],[0.4444444444444444,\"#bd3786\"],[0.5555555555555556,\"#d8576b\"],[0.6666666666666666,\"#ed7953\"],[0.7777777777777778,\"#fb9f3a\"],[0.8888888888888888,\"#fdca26\"],[1.0,\"#f0f921\"]]}],\"heatmapgl\":[{\"type\":\"heatmapgl\",\"colorbar\":{\"outlinewidth\":0,\"ticks\":\"\"},\"colorscale\":[[0.0,\"#0d0887\"],[0.1111111111111111,\"#46039f\"],[0.2222222222222222,\"#7201a8\"],[0.3333333333333333,\"#9c179e\"],[0.4444444444444444,\"#bd3786\"],[0.5555555555555556,\"#d8576b\"],[0.6666666666666666,\"#ed7953\"],[0.7777777777777778,\"#fb9f3a\"],[0.8888888888888888,\"#fdca26\"],[1.0,\"#f0f921\"]]}],\"contourcarpet\":[{\"type\":\"contourcarpet\",\"colorbar\":{\"outlinewidth\":0,\"ticks\":\"\"}}],\"contour\":[{\"type\":\"contour\",\"colorbar\":{\"outlinewidth\":0,\"ticks\":\"\"},\"colorscale\":[[0.0,\"#0d0887\"],[0.1111111111111111,\"#46039f\"],[0.2222222222222222,\"#7201a8\"],[0.3333333333333333,\"#9c179e\"],[0.4444444444444444,\"#bd3786\"],[0.5555555555555556,\"#d8576b\"],[0.6666666666666666,\"#ed7953\"],[0.7777777777777778,\"#fb9f3a\"],[0.8888888888888888,\"#fdca26\"],[1.0,\"#f0f921\"]]}],\"surface\":[{\"type\":\"surface\",\"colorbar\":{\"outlinewidth\":0,\"ticks\":\"\"},\"colorscale\":[[0.0,\"#0d0887\"],[0.1111111111111111,\"#46039f\"],[0.2222222222222222,\"#7201a8\"],[0.3333333333333333,\"#9c179e\"],[0.4444444444444444,\"#bd3786\"],[0.5555555555555556,\"#d8576b\"],[0.6666666666666666,\"#ed7953\"],[0.7777777777777778,\"#fb9f3a\"],[0.8888888888888888,\"#fdca26\"],[1.0,\"#f0f921\"]]}],\"mesh3d\":[{\"type\":\"mesh3d\",\"colorbar\":{\"outlinewidth\":0,\"ticks\":\"\"}}],\"scatter\":[{\"fillpattern\":{\"fillmode\":\"overlay\",\"size\":10,\"solidity\":0.2},\"type\":\"scatter\"}],\"parcoords\":[{\"type\":\"parcoords\",\"line\":{\"colorbar\":{\"outlinewidth\":0,\"ticks\":\"\"}}}],\"scatterpolargl\":[{\"type\":\"scatterpolargl\",\"marker\":{\"colorbar\":{\"outlinewidth\":0,\"ticks\":\"\"}}}],\"bar\":[{\"error_x\":{\"color\":\"#2a3f5f\"},\"error_y\":{\"color\":\"#2a3f5f\"},\"marker\":{\"line\":{\"color\":\"#E5ECF6\",\"width\":0.5},\"pattern\":{\"fillmode\":\"overlay\",\"size\":10,\"solidity\":0.2}},\"type\":\"bar\"}],\"scattergeo\":[{\"type\":\"scattergeo\",\"marker\":{\"colorbar\":{\"outlinewidth\":0,\"ticks\":\"\"}}}],\"scatterpolar\":[{\"type\":\"scatterpolar\",\"marker\":{\"colorbar\":{\"outlinewidth\":0,\"ticks\":\"\"}}}],\"histogram\":[{\"marker\":{\"pattern\":{\"fillmode\":\"overlay\",\"size\":10,\"solidity\":0.2}},\"type\":\"histogram\"}],\"scattergl\":[{\"type\":\"scattergl\",\"marker\":{\"colorbar\":{\"outlinewidth\":0,\"ticks\":\"\"}}}],\"scatter3d\":[{\"type\":\"scatter3d\",\"line\":{\"colorbar\":{\"outlinewidth\":0,\"ticks\":\"\"}},\"marker\":{\"colorbar\":{\"outlinewidth\":0,\"ticks\":\"\"}}}],\"scattermapbox\":[{\"type\":\"scattermapbox\",\"marker\":{\"colorbar\":{\"outlinewidth\":0,\"ticks\":\"\"}}}],\"scatterternary\":[{\"type\":\"scatterternary\",\"marker\":{\"colorbar\":{\"outlinewidth\":0,\"ticks\":\"\"}}}],\"scattercarpet\":[{\"type\":\"scattercarpet\",\"marker\":{\"colorbar\":{\"outlinewidth\":0,\"ticks\":\"\"}}}],\"carpet\":[{\"aaxis\":{\"endlinecolor\":\"#2a3f5f\",\"gridcolor\":\"white\",\"linecolor\":\"white\",\"minorgridcolor\":\"white\",\"startlinecolor\":\"#2a3f5f\"},\"baxis\":{\"endlinecolor\":\"#2a3f5f\",\"gridcolor\":\"white\",\"linecolor\":\"white\",\"minorgridcolor\":\"white\",\"startlinecolor\":\"#2a3f5f\"},\"type\":\"carpet\"}],\"table\":[{\"cells\":{\"fill\":{\"color\":\"#EBF0F8\"},\"line\":{\"color\":\"white\"}},\"header\":{\"fill\":{\"color\":\"#C8D4E3\"},\"line\":{\"color\":\"white\"}},\"type\":\"table\"}],\"barpolar\":[{\"marker\":{\"line\":{\"color\":\"#E5ECF6\",\"width\":0.5},\"pattern\":{\"fillmode\":\"overlay\",\"size\":10,\"solidity\":0.2}},\"type\":\"barpolar\"}],\"pie\":[{\"automargin\":true,\"type\":\"pie\"}]},\"layout\":{\"autotypenumbers\":\"strict\",\"colorway\":[\"#636efa\",\"#EF553B\",\"#00cc96\",\"#ab63fa\",\"#FFA15A\",\"#19d3f3\",\"#FF6692\",\"#B6E880\",\"#FF97FF\",\"#FECB52\"],\"font\":{\"color\":\"#2a3f5f\"},\"hovermode\":\"closest\",\"hoverlabel\":{\"align\":\"left\"},\"paper_bgcolor\":\"white\",\"plot_bgcolor\":\"#E5ECF6\",\"polar\":{\"bgcolor\":\"#E5ECF6\",\"angularaxis\":{\"gridcolor\":\"white\",\"linecolor\":\"white\",\"ticks\":\"\"},\"radialaxis\":{\"gridcolor\":\"white\",\"linecolor\":\"white\",\"ticks\":\"\"}},\"ternary\":{\"bgcolor\":\"#E5ECF6\",\"aaxis\":{\"gridcolor\":\"white\",\"linecolor\":\"white\",\"ticks\":\"\"},\"baxis\":{\"gridcolor\":\"white\",\"linecolor\":\"white\",\"ticks\":\"\"},\"caxis\":{\"gridcolor\":\"white\",\"linecolor\":\"white\",\"ticks\":\"\"}},\"coloraxis\":{\"colorbar\":{\"outlinewidth\":0,\"ticks\":\"\"}},\"colorscale\":{\"sequential\":[[0.0,\"#0d0887\"],[0.1111111111111111,\"#46039f\"],[0.2222222222222222,\"#7201a8\"],[0.3333333333333333,\"#9c179e\"],[0.4444444444444444,\"#bd3786\"],[0.5555555555555556,\"#d8576b\"],[0.6666666666666666,\"#ed7953\"],[0.7777777777777778,\"#fb9f3a\"],[0.8888888888888888,\"#fdca26\"],[1.0,\"#f0f921\"]],\"sequentialminus\":[[0.0,\"#0d0887\"],[0.1111111111111111,\"#46039f\"],[0.2222222222222222,\"#7201a8\"],[0.3333333333333333,\"#9c179e\"],[0.4444444444444444,\"#bd3786\"],[0.5555555555555556,\"#d8576b\"],[0.6666666666666666,\"#ed7953\"],[0.7777777777777778,\"#fb9f3a\"],[0.8888888888888888,\"#fdca26\"],[1.0,\"#f0f921\"]],\"diverging\":[[0,\"#8e0152\"],[0.1,\"#c51b7d\"],[0.2,\"#de77ae\"],[0.3,\"#f1b6da\"],[0.4,\"#fde0ef\"],[0.5,\"#f7f7f7\"],[0.6,\"#e6f5d0\"],[0.7,\"#b8e186\"],[0.8,\"#7fbc41\"],[0.9,\"#4d9221\"],[1,\"#276419\"]]},\"xaxis\":{\"gridcolor\":\"white\",\"linecolor\":\"white\",\"ticks\":\"\",\"title\":{\"standoff\":15},\"zerolinecolor\":\"white\",\"automargin\":true,\"zerolinewidth\":2},\"yaxis\":{\"gridcolor\":\"white\",\"linecolor\":\"white\",\"ticks\":\"\",\"title\":{\"standoff\":15},\"zerolinecolor\":\"white\",\"automargin\":true,\"zerolinewidth\":2},\"scene\":{\"xaxis\":{\"backgroundcolor\":\"#E5ECF6\",\"gridcolor\":\"white\",\"linecolor\":\"white\",\"showbackground\":true,\"ticks\":\"\",\"zerolinecolor\":\"white\",\"gridwidth\":2},\"yaxis\":{\"backgroundcolor\":\"#E5ECF6\",\"gridcolor\":\"white\",\"linecolor\":\"white\",\"showbackground\":true,\"ticks\":\"\",\"zerolinecolor\":\"white\",\"gridwidth\":2},\"zaxis\":{\"backgroundcolor\":\"#E5ECF6\",\"gridcolor\":\"white\",\"linecolor\":\"white\",\"showbackground\":true,\"ticks\":\"\",\"zerolinecolor\":\"white\",\"gridwidth\":2}},\"shapedefaults\":{\"line\":{\"color\":\"#2a3f5f\"}},\"annotationdefaults\":{\"arrowcolor\":\"#2a3f5f\",\"arrowhead\":0,\"arrowwidth\":1},\"geo\":{\"bgcolor\":\"white\",\"landcolor\":\"#E5ECF6\",\"subunitcolor\":\"white\",\"showland\":true,\"showlakes\":true,\"lakecolor\":\"white\"},\"title\":{\"x\":0.05},\"mapbox\":{\"style\":\"light\"}}}},                        {\"responsive\": true}                    ).then(function(){\n",
       "                            \n",
       "var gd = document.getElementById('4e825b4f-f23b-43f5-8de7-e47de8223bb1');\n",
       "var x = new MutationObserver(function (mutations, observer) {{\n",
       "        var display = window.getComputedStyle(gd).display;\n",
       "        if (!display || display === 'none') {{\n",
       "            console.log([gd, 'removed!']);\n",
       "            Plotly.purge(gd);\n",
       "            observer.disconnect();\n",
       "        }}\n",
       "}});\n",
       "\n",
       "// Listen for the removal of the full notebook cells\n",
       "var notebookContainer = gd.closest('#notebook-container');\n",
       "if (notebookContainer) {{\n",
       "    x.observe(notebookContainer, {childList: true});\n",
       "}}\n",
       "\n",
       "// Listen for the clearing of the current output cell\n",
       "var outputEl = gd.closest('.output');\n",
       "if (outputEl) {{\n",
       "    x.observe(outputEl, {childList: true});\n",
       "}}\n",
       "\n",
       "                        })                };                });            </script>        </div>"
      ]
     },
     "metadata": {},
     "output_type": "display_data"
    }
   ],
   "source": [
    "create_network_graph(rivals, title='Cartel Rivals Network', text='Rivals', color='RdYlGn_r')"
   ]
  },
  {
   "cell_type": "markdown",
   "id": "a88bc077",
   "metadata": {
    "papermill": {
     "duration": 0.010837,
     "end_time": "2024-07-24T10:06:00.101773",
     "exception": false,
     "start_time": "2024-07-24T10:06:00.090936",
     "status": "completed"
    },
    "tags": []
   },
   "source": [
    "In contrast to the friendly relations, when it comes to rivalries it can be said that almost every cartel is somehow at enmity with all the others. At the center of this is the powerful CNJG cartel, which maintains the most alliances. \n",
    "\n",
    "The thickness of the edges illustrates the intensity of the rivalry. The greatest rivalry is therefore between CNJG and Sinaloa. "
   ]
  },
  {
   "cell_type": "code",
   "execution_count": 17,
   "id": "d1051e67",
   "metadata": {
    "_kg_hide-input": true,
    "execution": {
     "iopub.execute_input": "2024-07-24T10:06:00.125507Z",
     "iopub.status.busy": "2024-07-24T10:06:00.125129Z",
     "iopub.status.idle": "2024-07-24T10:06:00.143254Z",
     "shell.execute_reply": "2024-07-24T10:06:00.142246Z"
    },
    "jupyter": {
     "source_hidden": true
    },
    "papermill": {
     "duration": 0.032675,
     "end_time": "2024-07-24T10:06:00.145747",
     "exception": false,
     "start_time": "2024-07-24T10:06:00.113072",
     "status": "completed"
    },
    "tags": []
   },
   "outputs": [
    {
     "data": {
      "text/html": [
       "<div>                            <div id=\"1f3be32d-909f-49e6-91d3-17650938bc4e\" class=\"plotly-graph-div\" style=\"height:1000px; width:100%;\"></div>            <script type=\"text/javascript\">                require([\"plotly\"], function(Plotly) {                    window.PLOTLYENV=window.PLOTLYENV || {};                                    if (document.getElementById(\"1f3be32d-909f-49e6-91d3-17650938bc4e\")) {                    Plotly.newPlot(                        \"1f3be32d-909f-49e6-91d3-17650938bc4e\",                        [{\"hoverinfo\":\"none\",\"name\":\"Unique Rivals\",\"orientation\":\"h\",\"x\":[6,5,8,8,5,7,6,11,5,27],\"y\":[\"Zetas Vieja Escuela\",\"Los Zetas\",\"Cártel del Golfo\",\"Los Rojos\",\"Guerreros Unidos\",\"La Unión Tepito\",\"Cártel del Noreste\",\"Cártel de Sinaloa\",\"La Nueva Familia Michoacana\",\"Cártel Jalisco Nueva Generación (CJNG)\"],\"type\":\"bar\"},{\"hoverinfo\":\"none\",\"name\":\"Total Rivals\",\"orientation\":\"h\",\"x\":[9,10,10,12,13,13,16,19,21,77],\"y\":[\"Zetas Vieja Escuela\",\"Los Zetas\",\"Cártel del Golfo\",\"Los Rojos\",\"Guerreros Unidos\",\"La Unión Tepito\",\"Cártel del Noreste\",\"Cártel de Sinaloa\",\"La Nueva Familia Michoacana\",\"Cártel Jalisco Nueva Generación (CJNG)\"],\"type\":\"bar\"}],                        {\"template\":{\"data\":{\"histogram2dcontour\":[{\"type\":\"histogram2dcontour\",\"colorbar\":{\"outlinewidth\":0,\"ticks\":\"\"},\"colorscale\":[[0.0,\"#0d0887\"],[0.1111111111111111,\"#46039f\"],[0.2222222222222222,\"#7201a8\"],[0.3333333333333333,\"#9c179e\"],[0.4444444444444444,\"#bd3786\"],[0.5555555555555556,\"#d8576b\"],[0.6666666666666666,\"#ed7953\"],[0.7777777777777778,\"#fb9f3a\"],[0.8888888888888888,\"#fdca26\"],[1.0,\"#f0f921\"]]}],\"choropleth\":[{\"type\":\"choropleth\",\"colorbar\":{\"outlinewidth\":0,\"ticks\":\"\"}}],\"histogram2d\":[{\"type\":\"histogram2d\",\"colorbar\":{\"outlinewidth\":0,\"ticks\":\"\"},\"colorscale\":[[0.0,\"#0d0887\"],[0.1111111111111111,\"#46039f\"],[0.2222222222222222,\"#7201a8\"],[0.3333333333333333,\"#9c179e\"],[0.4444444444444444,\"#bd3786\"],[0.5555555555555556,\"#d8576b\"],[0.6666666666666666,\"#ed7953\"],[0.7777777777777778,\"#fb9f3a\"],[0.8888888888888888,\"#fdca26\"],[1.0,\"#f0f921\"]]}],\"heatmap\":[{\"type\":\"heatmap\",\"colorbar\":{\"outlinewidth\":0,\"ticks\":\"\"},\"colorscale\":[[0.0,\"#0d0887\"],[0.1111111111111111,\"#46039f\"],[0.2222222222222222,\"#7201a8\"],[0.3333333333333333,\"#9c179e\"],[0.4444444444444444,\"#bd3786\"],[0.5555555555555556,\"#d8576b\"],[0.6666666666666666,\"#ed7953\"],[0.7777777777777778,\"#fb9f3a\"],[0.8888888888888888,\"#fdca26\"],[1.0,\"#f0f921\"]]}],\"heatmapgl\":[{\"type\":\"heatmapgl\",\"colorbar\":{\"outlinewidth\":0,\"ticks\":\"\"},\"colorscale\":[[0.0,\"#0d0887\"],[0.1111111111111111,\"#46039f\"],[0.2222222222222222,\"#7201a8\"],[0.3333333333333333,\"#9c179e\"],[0.4444444444444444,\"#bd3786\"],[0.5555555555555556,\"#d8576b\"],[0.6666666666666666,\"#ed7953\"],[0.7777777777777778,\"#fb9f3a\"],[0.8888888888888888,\"#fdca26\"],[1.0,\"#f0f921\"]]}],\"contourcarpet\":[{\"type\":\"contourcarpet\",\"colorbar\":{\"outlinewidth\":0,\"ticks\":\"\"}}],\"contour\":[{\"type\":\"contour\",\"colorbar\":{\"outlinewidth\":0,\"ticks\":\"\"},\"colorscale\":[[0.0,\"#0d0887\"],[0.1111111111111111,\"#46039f\"],[0.2222222222222222,\"#7201a8\"],[0.3333333333333333,\"#9c179e\"],[0.4444444444444444,\"#bd3786\"],[0.5555555555555556,\"#d8576b\"],[0.6666666666666666,\"#ed7953\"],[0.7777777777777778,\"#fb9f3a\"],[0.8888888888888888,\"#fdca26\"],[1.0,\"#f0f921\"]]}],\"surface\":[{\"type\":\"surface\",\"colorbar\":{\"outlinewidth\":0,\"ticks\":\"\"},\"colorscale\":[[0.0,\"#0d0887\"],[0.1111111111111111,\"#46039f\"],[0.2222222222222222,\"#7201a8\"],[0.3333333333333333,\"#9c179e\"],[0.4444444444444444,\"#bd3786\"],[0.5555555555555556,\"#d8576b\"],[0.6666666666666666,\"#ed7953\"],[0.7777777777777778,\"#fb9f3a\"],[0.8888888888888888,\"#fdca26\"],[1.0,\"#f0f921\"]]}],\"mesh3d\":[{\"type\":\"mesh3d\",\"colorbar\":{\"outlinewidth\":0,\"ticks\":\"\"}}],\"scatter\":[{\"fillpattern\":{\"fillmode\":\"overlay\",\"size\":10,\"solidity\":0.2},\"type\":\"scatter\"}],\"parcoords\":[{\"type\":\"parcoords\",\"line\":{\"colorbar\":{\"outlinewidth\":0,\"ticks\":\"\"}}}],\"scatterpolargl\":[{\"type\":\"scatterpolargl\",\"marker\":{\"colorbar\":{\"outlinewidth\":0,\"ticks\":\"\"}}}],\"bar\":[{\"error_x\":{\"color\":\"#2a3f5f\"},\"error_y\":{\"color\":\"#2a3f5f\"},\"marker\":{\"line\":{\"color\":\"#E5ECF6\",\"width\":0.5},\"pattern\":{\"fillmode\":\"overlay\",\"size\":10,\"solidity\":0.2}},\"type\":\"bar\"}],\"scattergeo\":[{\"type\":\"scattergeo\",\"marker\":{\"colorbar\":{\"outlinewidth\":0,\"ticks\":\"\"}}}],\"scatterpolar\":[{\"type\":\"scatterpolar\",\"marker\":{\"colorbar\":{\"outlinewidth\":0,\"ticks\":\"\"}}}],\"histogram\":[{\"marker\":{\"pattern\":{\"fillmode\":\"overlay\",\"size\":10,\"solidity\":0.2}},\"type\":\"histogram\"}],\"scattergl\":[{\"type\":\"scattergl\",\"marker\":{\"colorbar\":{\"outlinewidth\":0,\"ticks\":\"\"}}}],\"scatter3d\":[{\"type\":\"scatter3d\",\"line\":{\"colorbar\":{\"outlinewidth\":0,\"ticks\":\"\"}},\"marker\":{\"colorbar\":{\"outlinewidth\":0,\"ticks\":\"\"}}}],\"scattermapbox\":[{\"type\":\"scattermapbox\",\"marker\":{\"colorbar\":{\"outlinewidth\":0,\"ticks\":\"\"}}}],\"scatterternary\":[{\"type\":\"scatterternary\",\"marker\":{\"colorbar\":{\"outlinewidth\":0,\"ticks\":\"\"}}}],\"scattercarpet\":[{\"type\":\"scattercarpet\",\"marker\":{\"colorbar\":{\"outlinewidth\":0,\"ticks\":\"\"}}}],\"carpet\":[{\"aaxis\":{\"endlinecolor\":\"#2a3f5f\",\"gridcolor\":\"white\",\"linecolor\":\"white\",\"minorgridcolor\":\"white\",\"startlinecolor\":\"#2a3f5f\"},\"baxis\":{\"endlinecolor\":\"#2a3f5f\",\"gridcolor\":\"white\",\"linecolor\":\"white\",\"minorgridcolor\":\"white\",\"startlinecolor\":\"#2a3f5f\"},\"type\":\"carpet\"}],\"table\":[{\"cells\":{\"fill\":{\"color\":\"#EBF0F8\"},\"line\":{\"color\":\"white\"}},\"header\":{\"fill\":{\"color\":\"#C8D4E3\"},\"line\":{\"color\":\"white\"}},\"type\":\"table\"}],\"barpolar\":[{\"marker\":{\"line\":{\"color\":\"#E5ECF6\",\"width\":0.5},\"pattern\":{\"fillmode\":\"overlay\",\"size\":10,\"solidity\":0.2}},\"type\":\"barpolar\"}],\"pie\":[{\"automargin\":true,\"type\":\"pie\"}]},\"layout\":{\"autotypenumbers\":\"strict\",\"colorway\":[\"#636efa\",\"#EF553B\",\"#00cc96\",\"#ab63fa\",\"#FFA15A\",\"#19d3f3\",\"#FF6692\",\"#B6E880\",\"#FF97FF\",\"#FECB52\"],\"font\":{\"color\":\"#2a3f5f\"},\"hovermode\":\"closest\",\"hoverlabel\":{\"align\":\"left\"},\"paper_bgcolor\":\"white\",\"plot_bgcolor\":\"#E5ECF6\",\"polar\":{\"bgcolor\":\"#E5ECF6\",\"angularaxis\":{\"gridcolor\":\"white\",\"linecolor\":\"white\",\"ticks\":\"\"},\"radialaxis\":{\"gridcolor\":\"white\",\"linecolor\":\"white\",\"ticks\":\"\"}},\"ternary\":{\"bgcolor\":\"#E5ECF6\",\"aaxis\":{\"gridcolor\":\"white\",\"linecolor\":\"white\",\"ticks\":\"\"},\"baxis\":{\"gridcolor\":\"white\",\"linecolor\":\"white\",\"ticks\":\"\"},\"caxis\":{\"gridcolor\":\"white\",\"linecolor\":\"white\",\"ticks\":\"\"}},\"coloraxis\":{\"colorbar\":{\"outlinewidth\":0,\"ticks\":\"\"}},\"colorscale\":{\"sequential\":[[0.0,\"#0d0887\"],[0.1111111111111111,\"#46039f\"],[0.2222222222222222,\"#7201a8\"],[0.3333333333333333,\"#9c179e\"],[0.4444444444444444,\"#bd3786\"],[0.5555555555555556,\"#d8576b\"],[0.6666666666666666,\"#ed7953\"],[0.7777777777777778,\"#fb9f3a\"],[0.8888888888888888,\"#fdca26\"],[1.0,\"#f0f921\"]],\"sequentialminus\":[[0.0,\"#0d0887\"],[0.1111111111111111,\"#46039f\"],[0.2222222222222222,\"#7201a8\"],[0.3333333333333333,\"#9c179e\"],[0.4444444444444444,\"#bd3786\"],[0.5555555555555556,\"#d8576b\"],[0.6666666666666666,\"#ed7953\"],[0.7777777777777778,\"#fb9f3a\"],[0.8888888888888888,\"#fdca26\"],[1.0,\"#f0f921\"]],\"diverging\":[[0,\"#8e0152\"],[0.1,\"#c51b7d\"],[0.2,\"#de77ae\"],[0.3,\"#f1b6da\"],[0.4,\"#fde0ef\"],[0.5,\"#f7f7f7\"],[0.6,\"#e6f5d0\"],[0.7,\"#b8e186\"],[0.8,\"#7fbc41\"],[0.9,\"#4d9221\"],[1,\"#276419\"]]},\"xaxis\":{\"gridcolor\":\"white\",\"linecolor\":\"white\",\"ticks\":\"\",\"title\":{\"standoff\":15},\"zerolinecolor\":\"white\",\"automargin\":true,\"zerolinewidth\":2},\"yaxis\":{\"gridcolor\":\"white\",\"linecolor\":\"white\",\"ticks\":\"\",\"title\":{\"standoff\":15},\"zerolinecolor\":\"white\",\"automargin\":true,\"zerolinewidth\":2},\"scene\":{\"xaxis\":{\"backgroundcolor\":\"#E5ECF6\",\"gridcolor\":\"white\",\"linecolor\":\"white\",\"showbackground\":true,\"ticks\":\"\",\"zerolinecolor\":\"white\",\"gridwidth\":2},\"yaxis\":{\"backgroundcolor\":\"#E5ECF6\",\"gridcolor\":\"white\",\"linecolor\":\"white\",\"showbackground\":true,\"ticks\":\"\",\"zerolinecolor\":\"white\",\"gridwidth\":2},\"zaxis\":{\"backgroundcolor\":\"#E5ECF6\",\"gridcolor\":\"white\",\"linecolor\":\"white\",\"showbackground\":true,\"ticks\":\"\",\"zerolinecolor\":\"white\",\"gridwidth\":2}},\"shapedefaults\":{\"line\":{\"color\":\"#2a3f5f\"}},\"annotationdefaults\":{\"arrowcolor\":\"#2a3f5f\",\"arrowhead\":0,\"arrowwidth\":1},\"geo\":{\"bgcolor\":\"white\",\"landcolor\":\"#E5ECF6\",\"subunitcolor\":\"white\",\"showland\":true,\"showlakes\":true,\"lakecolor\":\"white\"},\"title\":{\"x\":0.05},\"mapbox\":{\"style\":\"light\"}}},\"barmode\":\"group\",\"title\":{\"text\":\"Top 10 Cartels with most Rivals\"},\"xaxis\":{\"title\":{\"text\":\"Number of Rivals\"}},\"yaxis\":{\"title\":{\"text\":\"Cartel Name\"}},\"height\":1000},                        {\"responsive\": true}                    ).then(function(){\n",
       "                            \n",
       "var gd = document.getElementById('1f3be32d-909f-49e6-91d3-17650938bc4e');\n",
       "var x = new MutationObserver(function (mutations, observer) {{\n",
       "        var display = window.getComputedStyle(gd).display;\n",
       "        if (!display || display === 'none') {{\n",
       "            console.log([gd, 'removed!']);\n",
       "            Plotly.purge(gd);\n",
       "            observer.disconnect();\n",
       "        }}\n",
       "}});\n",
       "\n",
       "// Listen for the removal of the full notebook cells\n",
       "var notebookContainer = gd.closest('#notebook-container');\n",
       "if (notebookContainer) {{\n",
       "    x.observe(notebookContainer, {childList: true});\n",
       "}}\n",
       "\n",
       "// Listen for the clearing of the current output cell\n",
       "var outputEl = gd.closest('.output');\n",
       "if (outputEl) {{\n",
       "    x.observe(outputEl, {childList: true});\n",
       "}}\n",
       "\n",
       "                        })                };                });            </script>        </div>"
      ]
     },
     "metadata": {},
     "output_type": "display_data"
    }
   ],
   "source": [
    "sorted_rivals = relationship_count_df.sort_values(by=['total_rival_weight', 'rivals'], ascending=[True, True])\n",
    "sorted_rivals = sorted_rivals.tail(10)\n",
    "fig = go.Figure()\n",
    "\n",
    "fig.add_trace(go.Bar(\n",
    "    x=sorted_rivals['rivals'],\n",
    "    y=sorted_rivals['Group'],\n",
    "    orientation='h',\n",
    "    name='Unique Rivals',\n",
    "    hoverinfo='none'\n",
    "))\n",
    "\n",
    "fig.add_trace(go.Bar(\n",
    "    y=sorted_rivals['Group'],\n",
    "    x=sorted_rivals['total_rival_weight'],\n",
    "    orientation='h',\n",
    "    name='Total Rivals',\n",
    "    hoverinfo='none'\n",
    "))\n",
    "\n",
    "fig.update_layout(\n",
    "    barmode='group',\n",
    "    title='Top 10 Cartels with most Rivals',\n",
    "    xaxis_title='Number of Rivals',\n",
    "    yaxis_title='Cartel Name',\n",
    "    height=1000\n",
    ")\n",
    "\n",
    "fig.show()"
   ]
  },
  {
   "cell_type": "markdown",
   "id": "44a80cc1",
   "metadata": {
    "papermill": {
     "duration": 0.010759,
     "end_time": "2024-07-24T10:06:00.167779",
     "exception": false,
     "start_time": "2024-07-24T10:06:00.157020",
     "status": "completed"
    },
    "tags": []
   },
   "source": [
    "# ☯️ Correlations"
   ]
  },
  {
   "cell_type": "code",
   "execution_count": 18,
   "id": "70c329d4",
   "metadata": {
    "_kg_hide-input": true,
    "execution": {
     "iopub.execute_input": "2024-07-24T10:06:00.191442Z",
     "iopub.status.busy": "2024-07-24T10:06:00.191052Z",
     "iopub.status.idle": "2024-07-24T10:06:00.648413Z",
     "shell.execute_reply": "2024-07-24T10:06:00.647312Z"
    },
    "jupyter": {
     "source_hidden": true
    },
    "papermill": {
     "duration": 0.472348,
     "end_time": "2024-07-24T10:06:00.651200",
     "exception": false,
     "start_time": "2024-07-24T10:06:00.178852",
     "status": "completed"
    },
    "tags": []
   },
   "outputs": [
    {
     "data": {
      "image/png": "[encoded data removed]",
      "text/plain": [
       "<Figure size 800x800 with 2 Axes>"
      ]
     },
     "metadata": {},
     "output_type": "display_data"
    }
   ],
   "source": [
    "corr = relationship_count_df.drop(columns=['Group']).corr().round(2)\n",
    "mask = np.zeros_like(corr, dtype=np.bool_)\n",
    "mask[np.triu_indices_from(mask)] = True\n",
    "f, ax = plt.subplots(figsize=(8, 8))\n",
    "cmap = sns.diverging_palette(220, 10, as_cmap=True)\n",
    "sns.heatmap(corr, mask=mask, cmap=cmap, vmin=-1, vmax=1, center=0,\n",
    "            square=True, linewidths=.5, cbar_kws={\"shrink\": .5}, annot=True)\n",
    "plt.tight_layout()"
   ]
  },
  {
   "cell_type": "markdown",
   "id": "27e7af03",
   "metadata": {
    "papermill": {
     "duration": 0.011485,
     "end_time": "2024-07-24T10:06:00.676962",
     "exception": false,
     "start_time": "2024-07-24T10:06:00.665477",
     "status": "completed"
    },
    "tags": []
   },
   "source": [
    "- The extremely high positive correlation between alliances and total_alliances_weight indicates that cartels with more alliances also tend to hhave a presence in a greater number of states through these alliances. This suggests that the more alliances a cartel forms, the wider their influence or operational presence across different states.\n",
    "- There is a strong positive correlation between the number of alliances and the number of rivals. This implies that cartels forming more alliances are also likely to have more rivals. It suggests a competitive environment where increased networking (alliances) also leads to more conflicts or competitive relationships (rivals).\n",
    "- The strong positive correlation between alliances and total_rival_weight  indicates that cartels with more alliances tend to have rivals across more states. This could mean that as cartels grow their network of alliances, they attract or provoke rivalry from adversaries across a broader geographic area.\n",
    "- A high positive correlation between the total number of states with alliances and the number of rivals suggests that cartels with a presence in more states (through alliances) tend to have more rivals. This might indicate that a wider geographic presence leads to increased competition and rivalry.\n",
    "- The very high positive correlation between total_rival_weight and total_alliance_weight signifies that cartels with a presence in more states (through alliances) also face rivals in a greater number of states. It suggests a balance of power where influential cartels attract equally widespread rivalries, maintaining a kind of equilibrium in terms of geographic influence.\n",
    "- The near-perfect positive correlation between rivals and total_rival_weight shows that cartels with more rivals face rivals in a greater number of states. This indicates that the sheer number of rivalries correlates very closely with the geographic spread of these rivalries."
   ]
  },
  {
   "cell_type": "markdown",
   "id": "34bf365e",
   "metadata": {
    "papermill": {
     "duration": 0.011308,
     "end_time": "2024-07-24T10:06:00.700021",
     "exception": false,
     "start_time": "2024-07-24T10:06:00.688713",
     "status": "completed"
    },
    "tags": []
   },
   "source": [
    "# 🗒️ Summary\n",
    "\n",
    "The data suggests a tightly interconnected network of cartels where the formation of alliances and rivalries are closely linked. Cartels that are more active in forming alliances tend to also face significant rivalries. This can be interpreted as an indication of the competitive and often antagonistic nature of cartel relationships, where building alliances to gain influence across states also simultaneously attracts competition and conflict with other powerful entities.\n",
    "\n",
    "For law enforcement and policymakers, understanding these dynamics can help in predicting the behavior of cartels based on their network activities. Targeting influential alliances could potentially disrupt the balance and weaken both the alliances and the rivalries simultaneously."
   ]
  },
  {
   "cell_type": "markdown",
   "id": "b6f0082c",
   "metadata": {
    "papermill": {
     "duration": 0.011567,
     "end_time": "2024-07-24T10:06:00.724461",
     "exception": false,
     "start_time": "2024-07-24T10:06:00.712894",
     "status": "completed"
    },
    "tags": []
   },
   "source": [
    "# 🔚 The End\n",
    "I hope you enjoyed this short network analysis notebook where I analysed relationships between cartels. If it was helpful, I would appreciate an upvote and a comment. ❤️"
   ]
  }
 ],
 "metadata": {
  "kaggle": {
   "accelerator": "none",
   "dataSources": [
    {
     "datasetId": 5398457,
     "sourceId": 8967739,
     "sourceType": "datasetVersion"
    }
   ],
   "dockerImageVersionId": 30746,
   "isGpuEnabled": false,
   "isInternetEnabled": true,
   "language": "python",
   "sourceType": "notebook"
  },
  "kernelspec": {
   "display_name": "Python 3",
   "language": "python",
   "name": "python3"
  },
  "language_info": {
   "codemirror_mode": {
    "name": "ipython",
    "version": 3
   },
   "file_extension": ".py",
   "mimetype": "text/x-python",
   "name": "python",
   "nbconvert_exporter": "python",
   "pygments_lexer": "ipython3",
   "version": "3.10.13"
  },
  "papermill": {
   "default_parameters": {},
   "duration": 9.162559,
   "end_time": "2024-07-24T10:06:01.357796",
   "environment_variables": {},
   "exception": null,
   "input_path": "__notebook__.ipynb",
   "output_path": "__notebook__.ipynb",
   "parameters": {},
   "start_time": "2024-07-24T10:05:52.195237",
   "version": "2.5.0"
  }
 },
 "nbformat": 4,
 "nbformat_minor": 5
}
